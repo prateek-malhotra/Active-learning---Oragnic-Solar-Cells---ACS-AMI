{
 "cells": [
  {
   "cell_type": "markdown",
   "metadata": {},
   "source": [
    "<p float=\"left\">\n",
    "  <img src='Active learning workflow.png', width=\"500px\" height='200px' align=\"center\" /> \n",
    "</p>"
   ]
  },
  {
   "cell_type": "markdown",
   "metadata": {},
   "source": [
    "# Active discovery of donor acceptor combination for organic solar cells #\n",
    "\n",
    "<b> nanoHUB tools by: <br>\n",
    "</b>  <i>Prateek Malhotra</i>, <i>Prof. Subhayan Biswas</i>, and <i>Prof. G.D. Sharma</i>, Department of Physics, LNMIIT <br>\n",
    "</b>  <i>Juan Carlos Verduzco Gastelum</i>, Purdue University <br>\n",
    "\n",
    "\n",
    "## Overview\n",
    "Reducing the time and cost associated with the discovery of new materials with unprecedented properties is expected to have significant societal impact. New materials are needed in the fields of energy, transportation, aerospace, and medicine, among others. This challenge will use machine learning tools to reduce the number of experiments to achieve a design goal. Active learning is a subset of machine learning where the information available at a given time is used to determine the next experiment to carry out in order to achieve a design goal. \n",
    "\n",
    "**Outline:**\n",
    "\n",
    "1. Reading and parsing the collected dataset for PCE <br>\n",
    "2. Obtaining features/descriptors through elemental properties and phase <br>\n",
    "3. Processing and Organizing Data <br>\n",
    "4. Regression Models with Random Forests (Citrination's Lolopy) <br>\n",
    "5. Active Learning Approach <br>\n",
    "\n"
   ]
  },
  {
   "cell_type": "markdown",
   "metadata": {},
   "source": [
    "# Import libraries"
   ]
  },
  {
   "cell_type": "code",
   "execution_count": 1,
   "metadata": {},
   "outputs": [],
   "source": [
    "#Graphing software\n",
    "import matplotlib.animation as animation\n",
    "from IPython.display import HTML\n",
    "import matplotlib.pyplot as plt\n",
    "import plotly\n",
    "import plotly.graph_objs as go\n",
    "from plotly.offline import iplot\n",
    "\n",
    "\n",
    "#Data manipulation libraries\n",
    "import pandas as pd\n",
    "import numpy as np"
   ]
  },
  {
   "cell_type": "markdown",
   "metadata": {},
   "source": [
    "## 1. Reading the dataset along wirth their corresponding PCE. \n"
   ]
  },
  {
   "cell_type": "markdown",
   "metadata": {},
   "source": [
    "## 3. Processing and Organizing Data \n",
    "\n"
   ]
  },
  {
   "cell_type": "code",
   "execution_count": 2,
   "metadata": {
    "scrolled": true
   },
   "outputs": [
    {
     "data": {
      "text/html": [
       "<div>\n",
       "<style scoped>\n",
       "    .dataframe tbody tr th:only-of-type {\n",
       "        vertical-align: middle;\n",
       "    }\n",
       "\n",
       "    .dataframe tbody tr th {\n",
       "        vertical-align: top;\n",
       "    }\n",
       "\n",
       "    .dataframe thead th {\n",
       "        text-align: right;\n",
       "    }\n",
       "</style>\n",
       "<table border=\"1\" class=\"dataframe\">\n",
       "  <thead>\n",
       "    <tr style=\"text-align: right;\">\n",
       "      <th></th>\n",
       "      <th>Unnamed: 0</th>\n",
       "      <th>Donor</th>\n",
       "      <th>Acceptor</th>\n",
       "      <th>Donor_can_smiles</th>\n",
       "      <th>Acceptor_can_smiles</th>\n",
       "      <th>PCE</th>\n",
       "      <th>D:A</th>\n",
       "      <th>Donor_MaxEStateIndex</th>\n",
       "      <th>Donor_MinEStateIndex</th>\n",
       "      <th>Donor_MaxAbsEStateIndex</th>\n",
       "      <th>...</th>\n",
       "      <th>Acceptor_fr_sulfide</th>\n",
       "      <th>Acceptor_fr_sulfonamd</th>\n",
       "      <th>Acceptor_fr_sulfone</th>\n",
       "      <th>Acceptor_fr_term_acetylene</th>\n",
       "      <th>Acceptor_fr_tetrazole</th>\n",
       "      <th>Acceptor_fr_thiazole</th>\n",
       "      <th>Acceptor_fr_thiocyan</th>\n",
       "      <th>Acceptor_fr_thiophene</th>\n",
       "      <th>Acceptor_fr_unbrch_alkane</th>\n",
       "      <th>Acceptor_fr_urea</th>\n",
       "    </tr>\n",
       "  </thead>\n",
       "  <tbody>\n",
       "    <tr>\n",
       "      <th>0</th>\n",
       "      <td>0</td>\n",
       "      <td>D-0F</td>\n",
       "      <td>C8-ITIC</td>\n",
       "      <td>CCCCC(Cc1ccc(s1)c1c2cc(sc2c(c2c1scc2)c1ccc(s1)...</td>\n",
       "      <td>CCCCCCCCC1(CCCCCCCC)c2cc3c4sc5c(c4C(c3cc2c2c1c...</td>\n",
       "      <td>11.60</td>\n",
       "      <td>D-0F:C8-ITIC</td>\n",
       "      <td>15.826616</td>\n",
       "      <td>0.070509</td>\n",
       "      <td>15.826616</td>\n",
       "      <td>...</td>\n",
       "      <td>0</td>\n",
       "      <td>0</td>\n",
       "      <td>0</td>\n",
       "      <td>0</td>\n",
       "      <td>0</td>\n",
       "      <td>0</td>\n",
       "      <td>0</td>\n",
       "      <td>4</td>\n",
       "      <td>16</td>\n",
       "      <td>0</td>\n",
       "    </tr>\n",
       "    <tr>\n",
       "      <th>1</th>\n",
       "      <td>1</td>\n",
       "      <td>D-2F</td>\n",
       "      <td>C8-ITIC</td>\n",
       "      <td>CCCCC(Cc1ccc(s1)c1c2cc(sc2c(c2c1scc2)c1ccc(s1)...</td>\n",
       "      <td>CCCCCCCCC1(CCCCCCCC)c2cc3c4sc5c(c4C(c3cc2c2c1c...</td>\n",
       "      <td>12.20</td>\n",
       "      <td>D-2F:C8-ITIC</td>\n",
       "      <td>17.472290</td>\n",
       "      <td>-0.373608</td>\n",
       "      <td>17.472290</td>\n",
       "      <td>...</td>\n",
       "      <td>0</td>\n",
       "      <td>0</td>\n",
       "      <td>0</td>\n",
       "      <td>0</td>\n",
       "      <td>0</td>\n",
       "      <td>0</td>\n",
       "      <td>0</td>\n",
       "      <td>4</td>\n",
       "      <td>16</td>\n",
       "      <td>0</td>\n",
       "    </tr>\n",
       "    <tr>\n",
       "      <th>2</th>\n",
       "      <td>2</td>\n",
       "      <td>D-4F</td>\n",
       "      <td>C8-ITIC</td>\n",
       "      <td>CCCCC(Cc1ccc(s1)c1c2sc(c(c2c(c2c1c(F)cs2)c1ccc...</td>\n",
       "      <td>CCCCCCCCC1(CCCCCCCC)c2cc3c4sc5c(c4C(c3cc2c2c1c...</td>\n",
       "      <td>8.80</td>\n",
       "      <td>D-4F:C8-ITIC</td>\n",
       "      <td>18.497612</td>\n",
       "      <td>-0.645564</td>\n",
       "      <td>18.497612</td>\n",
       "      <td>...</td>\n",
       "      <td>0</td>\n",
       "      <td>0</td>\n",
       "      <td>0</td>\n",
       "      <td>0</td>\n",
       "      <td>0</td>\n",
       "      <td>0</td>\n",
       "      <td>0</td>\n",
       "      <td>4</td>\n",
       "      <td>16</td>\n",
       "      <td>0</td>\n",
       "    </tr>\n",
       "    <tr>\n",
       "      <th>3</th>\n",
       "      <td>3</td>\n",
       "      <td>D-0F</td>\n",
       "      <td>ITIC</td>\n",
       "      <td>CCCCC(Cc1ccc(s1)c1c2cc(sc2c(c2c1scc2)c1ccc(s1)...</td>\n",
       "      <td>CCCCCCc1ccc(cc1)C1(c2ccc(cc2)CCCCCC)c2cc3c4sc5...</td>\n",
       "      <td>8.00</td>\n",
       "      <td>D-0F:ITIC</td>\n",
       "      <td>15.826616</td>\n",
       "      <td>0.070509</td>\n",
       "      <td>15.826616</td>\n",
       "      <td>...</td>\n",
       "      <td>0</td>\n",
       "      <td>0</td>\n",
       "      <td>0</td>\n",
       "      <td>0</td>\n",
       "      <td>0</td>\n",
       "      <td>0</td>\n",
       "      <td>0</td>\n",
       "      <td>4</td>\n",
       "      <td>8</td>\n",
       "      <td>0</td>\n",
       "    </tr>\n",
       "    <tr>\n",
       "      <th>4</th>\n",
       "      <td>4</td>\n",
       "      <td>D-2F</td>\n",
       "      <td>ITIC</td>\n",
       "      <td>CCCCC(Cc1ccc(s1)c1c2cc(sc2c(c2c1scc2)c1ccc(s1)...</td>\n",
       "      <td>CCCCCCc1ccc(cc1)C1(c2ccc(cc2)CCCCCC)c2cc3c4sc5...</td>\n",
       "      <td>8.90</td>\n",
       "      <td>D-2F:ITIC</td>\n",
       "      <td>17.472290</td>\n",
       "      <td>-0.373608</td>\n",
       "      <td>17.472290</td>\n",
       "      <td>...</td>\n",
       "      <td>0</td>\n",
       "      <td>0</td>\n",
       "      <td>0</td>\n",
       "      <td>0</td>\n",
       "      <td>0</td>\n",
       "      <td>0</td>\n",
       "      <td>0</td>\n",
       "      <td>4</td>\n",
       "      <td>8</td>\n",
       "      <td>0</td>\n",
       "    </tr>\n",
       "    <tr>\n",
       "      <th>5</th>\n",
       "      <td>5</td>\n",
       "      <td>D-4F</td>\n",
       "      <td>ITIC</td>\n",
       "      <td>CCCCC(Cc1ccc(s1)c1c2sc(c(c2c(c2c1c(F)cs2)c1ccc...</td>\n",
       "      <td>CCCCCCc1ccc(cc1)C1(c2ccc(cc2)CCCCCC)c2cc3c4sc5...</td>\n",
       "      <td>4.40</td>\n",
       "      <td>D-4F:ITIC</td>\n",
       "      <td>18.497612</td>\n",
       "      <td>-0.645564</td>\n",
       "      <td>18.497612</td>\n",
       "      <td>...</td>\n",
       "      <td>0</td>\n",
       "      <td>0</td>\n",
       "      <td>0</td>\n",
       "      <td>0</td>\n",
       "      <td>0</td>\n",
       "      <td>0</td>\n",
       "      <td>0</td>\n",
       "      <td>4</td>\n",
       "      <td>8</td>\n",
       "      <td>0</td>\n",
       "    </tr>\n",
       "    <tr>\n",
       "      <th>6</th>\n",
       "      <td>6</td>\n",
       "      <td>D-0F</td>\n",
       "      <td>IT-4F</td>\n",
       "      <td>CCCCC(Cc1ccc(s1)c1c2cc(sc2c(c2c1scc2)c1ccc(s1)...</td>\n",
       "      <td>CCCCCCc1ccc(cc1)C1(c2ccc(cc2)CCCCCC)c2cc3c4sc5...</td>\n",
       "      <td>7.80</td>\n",
       "      <td>D-0F:IT-4F</td>\n",
       "      <td>15.826616</td>\n",
       "      <td>0.070509</td>\n",
       "      <td>15.826616</td>\n",
       "      <td>...</td>\n",
       "      <td>0</td>\n",
       "      <td>0</td>\n",
       "      <td>0</td>\n",
       "      <td>0</td>\n",
       "      <td>0</td>\n",
       "      <td>0</td>\n",
       "      <td>0</td>\n",
       "      <td>4</td>\n",
       "      <td>8</td>\n",
       "      <td>0</td>\n",
       "    </tr>\n",
       "    <tr>\n",
       "      <th>7</th>\n",
       "      <td>7</td>\n",
       "      <td>D-2F</td>\n",
       "      <td>IT-4F</td>\n",
       "      <td>CCCCC(Cc1ccc(s1)c1c2cc(sc2c(c2c1scc2)c1ccc(s1)...</td>\n",
       "      <td>CCCCCCc1ccc(cc1)C1(c2ccc(cc2)CCCCCC)c2cc3c4sc5...</td>\n",
       "      <td>10.90</td>\n",
       "      <td>D-2F:IT-4F</td>\n",
       "      <td>17.472290</td>\n",
       "      <td>-0.373608</td>\n",
       "      <td>17.472290</td>\n",
       "      <td>...</td>\n",
       "      <td>0</td>\n",
       "      <td>0</td>\n",
       "      <td>0</td>\n",
       "      <td>0</td>\n",
       "      <td>0</td>\n",
       "      <td>0</td>\n",
       "      <td>0</td>\n",
       "      <td>4</td>\n",
       "      <td>8</td>\n",
       "      <td>0</td>\n",
       "    </tr>\n",
       "    <tr>\n",
       "      <th>8</th>\n",
       "      <td>8</td>\n",
       "      <td>D-4F</td>\n",
       "      <td>IT-4F</td>\n",
       "      <td>CCCCC(Cc1ccc(s1)c1c2sc(c(c2c(c2c1c(F)cs2)c1ccc...</td>\n",
       "      <td>CCCCCCc1ccc(cc1)C1(c2ccc(cc2)CCCCCC)c2cc3c4sc5...</td>\n",
       "      <td>9.90</td>\n",
       "      <td>D-4F:IT-4F</td>\n",
       "      <td>18.497612</td>\n",
       "      <td>-0.645564</td>\n",
       "      <td>18.497612</td>\n",
       "      <td>...</td>\n",
       "      <td>0</td>\n",
       "      <td>0</td>\n",
       "      <td>0</td>\n",
       "      <td>0</td>\n",
       "      <td>0</td>\n",
       "      <td>0</td>\n",
       "      <td>0</td>\n",
       "      <td>4</td>\n",
       "      <td>8</td>\n",
       "      <td>0</td>\n",
       "    </tr>\n",
       "    <tr>\n",
       "      <th>9</th>\n",
       "      <td>9</td>\n",
       "      <td>PffBT4T-2DT</td>\n",
       "      <td>FBR</td>\n",
       "      <td>CCCCCCCCCCCCC(Cc1cc(sc1C)c1c(F)c(F)c(c2c1nsn2)...</td>\n",
       "      <td>CCCCCCCCCC1(CCCCCCCCC)c2cc(ccc2c2c1cc(cc2)c1cc...</td>\n",
       "      <td>7.80</td>\n",
       "      <td>PffBT4T-2DT:FBR</td>\n",
       "      <td>17.421622</td>\n",
       "      <td>-0.778406</td>\n",
       "      <td>17.421622</td>\n",
       "      <td>...</td>\n",
       "      <td>2</td>\n",
       "      <td>0</td>\n",
       "      <td>0</td>\n",
       "      <td>0</td>\n",
       "      <td>0</td>\n",
       "      <td>0</td>\n",
       "      <td>0</td>\n",
       "      <td>0</td>\n",
       "      <td>10</td>\n",
       "      <td>0</td>\n",
       "    </tr>\n",
       "    <tr>\n",
       "      <th>10</th>\n",
       "      <td>10</td>\n",
       "      <td>PffBT4T-2DT</td>\n",
       "      <td>IDTBR</td>\n",
       "      <td>CCCCCCCCCCCCC(Cc1cc(sc1C)c1c(F)c(F)c(c2c1nsn2)...</td>\n",
       "      <td>CCCCCCCCCC1(CCCCCCCCC)c2cc3c4sc(cc4C(c3cc2c2c1...</td>\n",
       "      <td>9.95</td>\n",
       "      <td>PffBT4T-2DT:IDTBR</td>\n",
       "      <td>17.421622</td>\n",
       "      <td>-0.778406</td>\n",
       "      <td>17.421622</td>\n",
       "      <td>...</td>\n",
       "      <td>2</td>\n",
       "      <td>0</td>\n",
       "      <td>0</td>\n",
       "      <td>0</td>\n",
       "      <td>0</td>\n",
       "      <td>0</td>\n",
       "      <td>0</td>\n",
       "      <td>2</td>\n",
       "      <td>20</td>\n",
       "      <td>0</td>\n",
       "    </tr>\n",
       "    <tr>\n",
       "      <th>11</th>\n",
       "      <td>11</td>\n",
       "      <td>PBDB-T</td>\n",
       "      <td>Y1</td>\n",
       "      <td>CCCCC(Cc1ccc(s1)c1c2cc(sc2c(c2c1sc(c2)C)c1ccc(...</td>\n",
       "      <td>CCCCC(Cn1c2c(c3c1c1sc(cc1s3)/C=C/1\\C(=O)c3c(C1...</td>\n",
       "      <td>13.42</td>\n",
       "      <td>PBDB-T:Y1</td>\n",
       "      <td>15.917476</td>\n",
       "      <td>0.072375</td>\n",
       "      <td>15.917476</td>\n",
       "      <td>...</td>\n",
       "      <td>0</td>\n",
       "      <td>0</td>\n",
       "      <td>0</td>\n",
       "      <td>0</td>\n",
       "      <td>0</td>\n",
       "      <td>0</td>\n",
       "      <td>0</td>\n",
       "      <td>4</td>\n",
       "      <td>0</td>\n",
       "      <td>0</td>\n",
       "    </tr>\n",
       "    <tr>\n",
       "      <th>12</th>\n",
       "      <td>12</td>\n",
       "      <td>PBDB-T</td>\n",
       "      <td>Y2</td>\n",
       "      <td>CCCCC(Cc1ccc(s1)c1c2cc(sc2c(c2c1sc(c2)C)c1ccc(...</td>\n",
       "      <td>CCCCC(Cn1c2c(c3c1c1c(c4c3nn(n4)CC(CCCC)CC)c3c(...</td>\n",
       "      <td>13.40</td>\n",
       "      <td>PBDB-T:Y2</td>\n",
       "      <td>15.917476</td>\n",
       "      <td>0.072375</td>\n",
       "      <td>15.917476</td>\n",
       "      <td>...</td>\n",
       "      <td>0</td>\n",
       "      <td>0</td>\n",
       "      <td>0</td>\n",
       "      <td>0</td>\n",
       "      <td>0</td>\n",
       "      <td>0</td>\n",
       "      <td>0</td>\n",
       "      <td>6</td>\n",
       "      <td>0</td>\n",
       "      <td>0</td>\n",
       "    </tr>\n",
       "    <tr>\n",
       "      <th>13</th>\n",
       "      <td>13</td>\n",
       "      <td>P3TEA</td>\n",
       "      <td>SF-PDI2</td>\n",
       "      <td>CCCCCCCCCCC(OC(=O)c1cc(sc1c1cc(c(s1)c1ccc(s1)c...</td>\n",
       "      <td>CCCCCCC(n1c(=O)c2cc(c3ccc4c(c3)C3(c5c4ccc(c5)c...</td>\n",
       "      <td>9.50</td>\n",
       "      <td>P3TEA:SF-PDI2</td>\n",
       "      <td>18.888897</td>\n",
       "      <td>-1.114240</td>\n",
       "      <td>18.888897</td>\n",
       "      <td>...</td>\n",
       "      <td>0</td>\n",
       "      <td>0</td>\n",
       "      <td>0</td>\n",
       "      <td>0</td>\n",
       "      <td>0</td>\n",
       "      <td>0</td>\n",
       "      <td>0</td>\n",
       "      <td>0</td>\n",
       "      <td>16</td>\n",
       "      <td>0</td>\n",
       "    </tr>\n",
       "    <tr>\n",
       "      <th>14</th>\n",
       "      <td>14</td>\n",
       "      <td>PM6</td>\n",
       "      <td>Y11</td>\n",
       "      <td>CCCCC(Cc1sc(c2c1C(=O)c1c(sc(c1C2=O)c1ccc(s1)C)...</td>\n",
       "      <td>CCCCC(Cn1c2c(c3c1c1c(c4c3nn(n4)CC(CCCC)CC)c3c(...</td>\n",
       "      <td>13.80</td>\n",
       "      <td>PM6:Y11</td>\n",
       "      <td>16.502447</td>\n",
       "      <td>-0.118906</td>\n",
       "      <td>16.502447</td>\n",
       "      <td>...</td>\n",
       "      <td>0</td>\n",
       "      <td>0</td>\n",
       "      <td>0</td>\n",
       "      <td>0</td>\n",
       "      <td>0</td>\n",
       "      <td>0</td>\n",
       "      <td>0</td>\n",
       "      <td>4</td>\n",
       "      <td>0</td>\n",
       "      <td>0</td>\n",
       "    </tr>\n",
       "    <tr>\n",
       "      <th>15</th>\n",
       "      <td>15</td>\n",
       "      <td>PM6</td>\n",
       "      <td>IDST-4F</td>\n",
       "      <td>CCCCC(Cc1sc(c2c1C(=O)c1c(sc(c1C2=O)c1ccc(s1)C)...</td>\n",
       "      <td>CCCCCCC1(CCCCCC)c2cc3c4sc(cc4C(c3cc2c2c1cc(s2)...</td>\n",
       "      <td>14.30</td>\n",
       "      <td>PM6:IDST-4F</td>\n",
       "      <td>16.502447</td>\n",
       "      <td>-0.118906</td>\n",
       "      <td>16.502447</td>\n",
       "      <td>...</td>\n",
       "      <td>1</td>\n",
       "      <td>0</td>\n",
       "      <td>0</td>\n",
       "      <td>0</td>\n",
       "      <td>0</td>\n",
       "      <td>0</td>\n",
       "      <td>0</td>\n",
       "      <td>3</td>\n",
       "      <td>8</td>\n",
       "      <td>0</td>\n",
       "    </tr>\n",
       "    <tr>\n",
       "      <th>16</th>\n",
       "      <td>16</td>\n",
       "      <td>PM6</td>\n",
       "      <td>ID-4F</td>\n",
       "      <td>CCCCC(Cc1sc(c2c1C(=O)c1c(sc(c1C2=O)c1ccc(s1)C)...</td>\n",
       "      <td>CCCCCCC1(CCCCCC)c2cc3c4sc(cc4C(c3cc2c2c1cc(s2)...</td>\n",
       "      <td>6.40</td>\n",
       "      <td>PM6:ID-4F</td>\n",
       "      <td>16.502447</td>\n",
       "      <td>-0.118906</td>\n",
       "      <td>16.502447</td>\n",
       "      <td>...</td>\n",
       "      <td>0</td>\n",
       "      <td>0</td>\n",
       "      <td>0</td>\n",
       "      <td>0</td>\n",
       "      <td>0</td>\n",
       "      <td>0</td>\n",
       "      <td>0</td>\n",
       "      <td>2</td>\n",
       "      <td>8</td>\n",
       "      <td>0</td>\n",
       "    </tr>\n",
       "    <tr>\n",
       "      <th>17</th>\n",
       "      <td>17</td>\n",
       "      <td>BDT-ffBX-DT</td>\n",
       "      <td>SFPDI</td>\n",
       "      <td>CCCCCCCCCCCCC(Cc1csc(c1)c1c(F)c(F)c(c2c1non2)c...</td>\n",
       "      <td>CCCCCC(n1c(=O)c2cc(c3ccc4c(c3)C3(c5c4ccc(c5)c4...</td>\n",
       "      <td>6.20</td>\n",
       "      <td>BDT-ffBX-DT:SFPDI</td>\n",
       "      <td>17.436360</td>\n",
       "      <td>-0.852937</td>\n",
       "      <td>17.436360</td>\n",
       "      <td>...</td>\n",
       "      <td>0</td>\n",
       "      <td>0</td>\n",
       "      <td>0</td>\n",
       "      <td>0</td>\n",
       "      <td>0</td>\n",
       "      <td>0</td>\n",
       "      <td>0</td>\n",
       "      <td>0</td>\n",
       "      <td>8</td>\n",
       "      <td>0</td>\n",
       "    </tr>\n",
       "    <tr>\n",
       "      <th>18</th>\n",
       "      <td>18</td>\n",
       "      <td>PM6</td>\n",
       "      <td>a-IT</td>\n",
       "      <td>CCCCC(Cc1sc(c2c1C(=O)c1c(sc(c1C2=O)c1ccc(s1)C)...</td>\n",
       "      <td>CCCCCCc1ccc(cc1)C1(c2ccc(cc2)CCCCCC)c2cc3c4sc(...</td>\n",
       "      <td>11.46</td>\n",
       "      <td>PM6:a-IT</td>\n",
       "      <td>16.502447</td>\n",
       "      <td>-0.118906</td>\n",
       "      <td>16.502447</td>\n",
       "      <td>...</td>\n",
       "      <td>0</td>\n",
       "      <td>0</td>\n",
       "      <td>0</td>\n",
       "      <td>0</td>\n",
       "      <td>0</td>\n",
       "      <td>0</td>\n",
       "      <td>0</td>\n",
       "      <td>4</td>\n",
       "      <td>8</td>\n",
       "      <td>0</td>\n",
       "    </tr>\n",
       "    <tr>\n",
       "      <th>19</th>\n",
       "      <td>19</td>\n",
       "      <td>PM6</td>\n",
       "      <td>N7IT</td>\n",
       "      <td>CCCCC(Cc1sc(c2c1C(=O)c1c(sc(c1C2=O)c1ccc(s1)C)...</td>\n",
       "      <td>CCCCCCCCn1c2cc(sc2c2c1c1c(s2)c2c(C1(c1ccc(cc1)...</td>\n",
       "      <td>13.82</td>\n",
       "      <td>PM6:N7IT</td>\n",
       "      <td>16.502447</td>\n",
       "      <td>-0.118906</td>\n",
       "      <td>16.502447</td>\n",
       "      <td>...</td>\n",
       "      <td>0</td>\n",
       "      <td>0</td>\n",
       "      <td>0</td>\n",
       "      <td>0</td>\n",
       "      <td>0</td>\n",
       "      <td>0</td>\n",
       "      <td>0</td>\n",
       "      <td>4</td>\n",
       "      <td>12</td>\n",
       "      <td>0</td>\n",
       "    </tr>\n",
       "    <tr>\n",
       "      <th>20</th>\n",
       "      <td>20</td>\n",
       "      <td>PM6</td>\n",
       "      <td>ITCPTC</td>\n",
       "      <td>CCCCC(Cc1sc(c2c1C(=O)c1c(sc(c1C2=O)c1ccc(s1)C)...</td>\n",
       "      <td>CCCCCCc1ccc(cc1)C1(c2ccc(cc2)CCCCCC)c2cc3c4sc5...</td>\n",
       "      <td>12.30</td>\n",
       "      <td>PM6:ITCPTC</td>\n",
       "      <td>16.502447</td>\n",
       "      <td>-0.118906</td>\n",
       "      <td>16.502447</td>\n",
       "      <td>...</td>\n",
       "      <td>0</td>\n",
       "      <td>0</td>\n",
       "      <td>0</td>\n",
       "      <td>0</td>\n",
       "      <td>0</td>\n",
       "      <td>0</td>\n",
       "      <td>0</td>\n",
       "      <td>6</td>\n",
       "      <td>8</td>\n",
       "      <td>0</td>\n",
       "    </tr>\n",
       "    <tr>\n",
       "      <th>21</th>\n",
       "      <td>21</td>\n",
       "      <td>PM6</td>\n",
       "      <td>ITC-2Cl</td>\n",
       "      <td>CCCCC(Cc1sc(c2c1C(=O)c1c(sc(c1C2=O)c1ccc(s1)C)...</td>\n",
       "      <td>CCCCCCc1ccc(cc1)C1(c2ccc(cc2)CCCCCC)c2cc3c4sc5...</td>\n",
       "      <td>13.60</td>\n",
       "      <td>PM6:ITC-2Cl</td>\n",
       "      <td>16.502447</td>\n",
       "      <td>-0.118906</td>\n",
       "      <td>16.502447</td>\n",
       "      <td>...</td>\n",
       "      <td>0</td>\n",
       "      <td>0</td>\n",
       "      <td>0</td>\n",
       "      <td>0</td>\n",
       "      <td>0</td>\n",
       "      <td>0</td>\n",
       "      <td>0</td>\n",
       "      <td>6</td>\n",
       "      <td>8</td>\n",
       "      <td>0</td>\n",
       "    </tr>\n",
       "    <tr>\n",
       "      <th>22</th>\n",
       "      <td>22</td>\n",
       "      <td>PM6</td>\n",
       "      <td>IT-4F</td>\n",
       "      <td>CCCCC(Cc1sc(c2c1C(=O)c1c(sc(c1C2=O)c1ccc(s1)C)...</td>\n",
       "      <td>CCCCCCc1ccc(cc1)C1(c2ccc(cc2)CCCCCC)c2cc3c4sc5...</td>\n",
       "      <td>12.90</td>\n",
       "      <td>PM6:IT-4F</td>\n",
       "      <td>16.502447</td>\n",
       "      <td>-0.118906</td>\n",
       "      <td>16.502447</td>\n",
       "      <td>...</td>\n",
       "      <td>0</td>\n",
       "      <td>0</td>\n",
       "      <td>0</td>\n",
       "      <td>0</td>\n",
       "      <td>0</td>\n",
       "      <td>0</td>\n",
       "      <td>0</td>\n",
       "      <td>4</td>\n",
       "      <td>8</td>\n",
       "      <td>0</td>\n",
       "    </tr>\n",
       "    <tr>\n",
       "      <th>23</th>\n",
       "      <td>23</td>\n",
       "      <td>PM6</td>\n",
       "      <td>IT-4Cl</td>\n",
       "      <td>CCCCC(Cc1sc(c2c1C(=O)c1c(sc(c1C2=O)c1ccc(s1)C)...</td>\n",
       "      <td>CCCCCCc1ccc(cc1)C1(c2ccc(cc2)CCCCCC)c2cc3c4sc5...</td>\n",
       "      <td>12.70</td>\n",
       "      <td>PM6:IT-4Cl</td>\n",
       "      <td>16.502447</td>\n",
       "      <td>-0.118906</td>\n",
       "      <td>16.502447</td>\n",
       "      <td>...</td>\n",
       "      <td>0</td>\n",
       "      <td>0</td>\n",
       "      <td>0</td>\n",
       "      <td>0</td>\n",
       "      <td>0</td>\n",
       "      <td>0</td>\n",
       "      <td>0</td>\n",
       "      <td>4</td>\n",
       "      <td>8</td>\n",
       "      <td>0</td>\n",
       "    </tr>\n",
       "    <tr>\n",
       "      <th>24</th>\n",
       "      <td>24</td>\n",
       "      <td>PTB7-Th</td>\n",
       "      <td>FOIC</td>\n",
       "      <td>CCCCC(COC(=O)c1sc2c(c1F)c(sc2c1sc2c(c1)c(c1ccc...</td>\n",
       "      <td>CCCCCCc1cccc(c1)C1(c2ccc(cc2)CCCCCC)c2c3sc4c(c...</td>\n",
       "      <td>11.70</td>\n",
       "      <td>PTB7-Th:FOIC</td>\n",
       "      <td>16.336769</td>\n",
       "      <td>-0.530065</td>\n",
       "      <td>16.336769</td>\n",
       "      <td>...</td>\n",
       "      <td>0</td>\n",
       "      <td>0</td>\n",
       "      <td>0</td>\n",
       "      <td>0</td>\n",
       "      <td>0</td>\n",
       "      <td>0</td>\n",
       "      <td>0</td>\n",
       "      <td>6</td>\n",
       "      <td>8</td>\n",
       "      <td>0</td>\n",
       "    </tr>\n",
       "    <tr>\n",
       "      <th>25</th>\n",
       "      <td>25</td>\n",
       "      <td>PBDB-TF</td>\n",
       "      <td>BTP-4Cl (Y7)</td>\n",
       "      <td>CCCCC(Cc1sc(c2c1C(=O)c1c(sc(c1C2=O)c1ccc(s1)C)...</td>\n",
       "      <td>CCCCCCCCCCCc1c(/C=C\\2/C(=C(C#N)C#N)c3c(C2=O)cc...</td>\n",
       "      <td>16.50</td>\n",
       "      <td>PBDB-TF:BTP-4Cl (Y7)</td>\n",
       "      <td>16.502447</td>\n",
       "      <td>-0.118906</td>\n",
       "      <td>16.502447</td>\n",
       "      <td>...</td>\n",
       "      <td>0</td>\n",
       "      <td>0</td>\n",
       "      <td>0</td>\n",
       "      <td>0</td>\n",
       "      <td>0</td>\n",
       "      <td>0</td>\n",
       "      <td>0</td>\n",
       "      <td>4</td>\n",
       "      <td>14</td>\n",
       "      <td>0</td>\n",
       "    </tr>\n",
       "    <tr>\n",
       "      <th>26</th>\n",
       "      <td>26</td>\n",
       "      <td>PBDB-T</td>\n",
       "      <td>IT-4F</td>\n",
       "      <td>CCCCC(Cc1ccc(s1)c1c2cc(sc2c(c2c1sc(c2)C)c1ccc(...</td>\n",
       "      <td>CCCCCCc1ccc(cc1)C1(c2ccc(cc2)CCCCCC)c2cc3c4sc5...</td>\n",
       "      <td>9.30</td>\n",
       "      <td>PBDB-T:IT-4F</td>\n",
       "      <td>15.917476</td>\n",
       "      <td>0.072375</td>\n",
       "      <td>15.917476</td>\n",
       "      <td>...</td>\n",
       "      <td>0</td>\n",
       "      <td>0</td>\n",
       "      <td>0</td>\n",
       "      <td>0</td>\n",
       "      <td>0</td>\n",
       "      <td>0</td>\n",
       "      <td>0</td>\n",
       "      <td>4</td>\n",
       "      <td>8</td>\n",
       "      <td>0</td>\n",
       "    </tr>\n",
       "    <tr>\n",
       "      <th>27</th>\n",
       "      <td>27</td>\n",
       "      <td>PBDBTz-2</td>\n",
       "      <td>IT-4F</td>\n",
       "      <td>CCCCC(Cc1ccc(s1)c1c2cc(sc2c(c2c1c(C)cs2)c1ccc(...</td>\n",
       "      <td>CCCCCCc1ccc(cc1)C1(c2ccc(cc2)CCCCCC)c2cc3c4sc5...</td>\n",
       "      <td>10.40</td>\n",
       "      <td>PBDBTz-2:IT-4F</td>\n",
       "      <td>15.872849</td>\n",
       "      <td>0.004668</td>\n",
       "      <td>15.872849</td>\n",
       "      <td>...</td>\n",
       "      <td>0</td>\n",
       "      <td>0</td>\n",
       "      <td>0</td>\n",
       "      <td>0</td>\n",
       "      <td>0</td>\n",
       "      <td>0</td>\n",
       "      <td>0</td>\n",
       "      <td>4</td>\n",
       "      <td>8</td>\n",
       "      <td>0</td>\n",
       "    </tr>\n",
       "    <tr>\n",
       "      <th>28</th>\n",
       "      <td>28</td>\n",
       "      <td>PBDBTz-5</td>\n",
       "      <td>IT-4F</td>\n",
       "      <td>CCCCC(Cc1ccc(s1)c1c2cc(sc2c(c2c1c(C)cs2)c1ccc(...</td>\n",
       "      <td>CCCCCCc1ccc(cc1)C1(c2ccc(cc2)CCCCCC)c2cc3c4sc5...</td>\n",
       "      <td>9.60</td>\n",
       "      <td>PBDBTz-5:IT-4F</td>\n",
       "      <td>15.885002</td>\n",
       "      <td>0.024260</td>\n",
       "      <td>15.885002</td>\n",
       "      <td>...</td>\n",
       "      <td>0</td>\n",
       "      <td>0</td>\n",
       "      <td>0</td>\n",
       "      <td>0</td>\n",
       "      <td>0</td>\n",
       "      <td>0</td>\n",
       "      <td>0</td>\n",
       "      <td>4</td>\n",
       "      <td>8</td>\n",
       "      <td>0</td>\n",
       "    </tr>\n",
       "    <tr>\n",
       "      <th>29</th>\n",
       "      <td>29</td>\n",
       "      <td>J52</td>\n",
       "      <td>ITCCM-O</td>\n",
       "      <td>CCCCCCCCC(Cn1nc2c(n1)c(c1ccc(s1)c1sc3c(c1)c(c1...</td>\n",
       "      <td>CCCCCCc1ccc(cc1)C1(c2ccc(cc2)CCCCCC)c2cc3c4sc5...</td>\n",
       "      <td>5.50</td>\n",
       "      <td>J52:ITCCM-O</td>\n",
       "      <td>17.287492</td>\n",
       "      <td>-0.846547</td>\n",
       "      <td>17.287492</td>\n",
       "      <td>...</td>\n",
       "      <td>0</td>\n",
       "      <td>0</td>\n",
       "      <td>0</td>\n",
       "      <td>0</td>\n",
       "      <td>0</td>\n",
       "      <td>0</td>\n",
       "      <td>0</td>\n",
       "      <td>6</td>\n",
       "      <td>8</td>\n",
       "      <td>0</td>\n",
       "    </tr>\n",
       "    <tr>\n",
       "      <th>...</th>\n",
       "      <td>...</td>\n",
       "      <td>...</td>\n",
       "      <td>...</td>\n",
       "      <td>...</td>\n",
       "      <td>...</td>\n",
       "      <td>...</td>\n",
       "      <td>...</td>\n",
       "      <td>...</td>\n",
       "      <td>...</td>\n",
       "      <td>...</td>\n",
       "      <td>...</td>\n",
       "      <td>...</td>\n",
       "      <td>...</td>\n",
       "      <td>...</td>\n",
       "      <td>...</td>\n",
       "      <td>...</td>\n",
       "      <td>...</td>\n",
       "      <td>...</td>\n",
       "      <td>...</td>\n",
       "      <td>...</td>\n",
       "      <td>...</td>\n",
       "    </tr>\n",
       "    <tr>\n",
       "      <th>170</th>\n",
       "      <td>170</td>\n",
       "      <td>P2</td>\n",
       "      <td>ITIC-m</td>\n",
       "      <td>CCCCCCCCCCC(Cn1c2cc3c4CC(Sc4c4c(c3cc2n(c1=O)CC...</td>\n",
       "      <td>CCCCCCc1ccc(cc1)C1(c2ccc(cc2)CCCCCC)c2cc3c4sc5...</td>\n",
       "      <td>12.84</td>\n",
       "      <td>P2:ITIC-m</td>\n",
       "      <td>16.017441</td>\n",
       "      <td>0.290256</td>\n",
       "      <td>16.017441</td>\n",
       "      <td>...</td>\n",
       "      <td>0</td>\n",
       "      <td>0</td>\n",
       "      <td>0</td>\n",
       "      <td>0</td>\n",
       "      <td>0</td>\n",
       "      <td>0</td>\n",
       "      <td>0</td>\n",
       "      <td>4</td>\n",
       "      <td>8</td>\n",
       "      <td>0</td>\n",
       "    </tr>\n",
       "    <tr>\n",
       "      <th>171</th>\n",
       "      <td>171</td>\n",
       "      <td>PM6</td>\n",
       "      <td>L8-BO</td>\n",
       "      <td>CCCCC(Cc1sc(c2c1C(=O)c1c(sc(c1C2=O)c1ccc(s1)C)...</td>\n",
       "      <td>CCCCCCC(Cc1c(/C=C\\2/C(=C(C#N)C#N)c3c(C2=O)cc(c...</td>\n",
       "      <td>18.32</td>\n",
       "      <td>PM6:L8-BO</td>\n",
       "      <td>16.502447</td>\n",
       "      <td>-0.118906</td>\n",
       "      <td>16.502447</td>\n",
       "      <td>...</td>\n",
       "      <td>0</td>\n",
       "      <td>0</td>\n",
       "      <td>0</td>\n",
       "      <td>0</td>\n",
       "      <td>0</td>\n",
       "      <td>0</td>\n",
       "      <td>0</td>\n",
       "      <td>4</td>\n",
       "      <td>4</td>\n",
       "      <td>0</td>\n",
       "    </tr>\n",
       "    <tr>\n",
       "      <th>172</th>\n",
       "      <td>172</td>\n",
       "      <td>PBDTT-DPP</td>\n",
       "      <td>IEICO-4F</td>\n",
       "      <td>CCCCCCC(Cn1c(=O)c2c(c1c1ccc(s1)c1sc3c(c1)c(c1c...</td>\n",
       "      <td>CCCCCCc1cccc(c1)C1(c2ccc(cc2)CCCCCC)c2cc3c4sc5...</td>\n",
       "      <td>8.14</td>\n",
       "      <td>PBDTT-DPP:IEICO-4F</td>\n",
       "      <td>15.901873</td>\n",
       "      <td>0.026249</td>\n",
       "      <td>15.901873</td>\n",
       "      <td>...</td>\n",
       "      <td>0</td>\n",
       "      <td>0</td>\n",
       "      <td>0</td>\n",
       "      <td>0</td>\n",
       "      <td>0</td>\n",
       "      <td>0</td>\n",
       "      <td>0</td>\n",
       "      <td>4</td>\n",
       "      <td>8</td>\n",
       "      <td>0</td>\n",
       "    </tr>\n",
       "    <tr>\n",
       "      <th>173</th>\n",
       "      <td>173</td>\n",
       "      <td>D18</td>\n",
       "      <td>Y6</td>\n",
       "      <td>CCCCCCC(Cc1cc(sc1c1sc2c(c1)c(c1cc(c(s1)CC(CCCC...</td>\n",
       "      <td>CCCCCCCCCCCc1c(/C=C\\2/C(=C(C#N)C#N)c3c(C2=O)cc...</td>\n",
       "      <td>18.22</td>\n",
       "      <td>D18:Y6</td>\n",
       "      <td>16.767269</td>\n",
       "      <td>-0.069142</td>\n",
       "      <td>16.767269</td>\n",
       "      <td>...</td>\n",
       "      <td>0</td>\n",
       "      <td>0</td>\n",
       "      <td>0</td>\n",
       "      <td>0</td>\n",
       "      <td>0</td>\n",
       "      <td>0</td>\n",
       "      <td>0</td>\n",
       "      <td>4</td>\n",
       "      <td>14</td>\n",
       "      <td>0</td>\n",
       "    </tr>\n",
       "    <tr>\n",
       "      <th>174</th>\n",
       "      <td>174</td>\n",
       "      <td>PBDB-T-SF</td>\n",
       "      <td>IT-4F</td>\n",
       "      <td>CCCCC(CSc1sc(cc1F)c1c2sc(cc2c(c2c1cc(s2)C)c1sc...</td>\n",
       "      <td>CCCCCCc1ccc(cc1)C1(c2ccc(cc2)CCCCCC)c2cc3c4sc5...</td>\n",
       "      <td>13.10</td>\n",
       "      <td>PBDB-T-SF:IT-4F</td>\n",
       "      <td>16.479443</td>\n",
       "      <td>-0.157619</td>\n",
       "      <td>16.479443</td>\n",
       "      <td>...</td>\n",
       "      <td>0</td>\n",
       "      <td>0</td>\n",
       "      <td>0</td>\n",
       "      <td>0</td>\n",
       "      <td>0</td>\n",
       "      <td>0</td>\n",
       "      <td>0</td>\n",
       "      <td>4</td>\n",
       "      <td>8</td>\n",
       "      <td>0</td>\n",
       "    </tr>\n",
       "    <tr>\n",
       "      <th>175</th>\n",
       "      <td>175</td>\n",
       "      <td>PTQ10</td>\n",
       "      <td>IDTCN</td>\n",
       "      <td>CCCCCCCCC(COc1cnc2c(n1)c(C)c(c(c2c1ccc(s1)C)F)...</td>\n",
       "      <td>CCCCCCc1ccc(cc1)C1(c2ccc(cc2)CCCCCC)c2cc3c4sc(...</td>\n",
       "      <td>7.40</td>\n",
       "      <td>PTQ10:IDTCN</td>\n",
       "      <td>14.963897</td>\n",
       "      <td>-0.868633</td>\n",
       "      <td>14.963897</td>\n",
       "      <td>...</td>\n",
       "      <td>0</td>\n",
       "      <td>0</td>\n",
       "      <td>0</td>\n",
       "      <td>0</td>\n",
       "      <td>0</td>\n",
       "      <td>0</td>\n",
       "      <td>0</td>\n",
       "      <td>4</td>\n",
       "      <td>8</td>\n",
       "      <td>0</td>\n",
       "    </tr>\n",
       "    <tr>\n",
       "      <th>176</th>\n",
       "      <td>176</td>\n",
       "      <td>PTQ10</td>\n",
       "      <td>IDTPC</td>\n",
       "      <td>CCCCCCCCC(COc1cnc2c(n1)c(C)c(c(c2c1ccc(s1)C)F)...</td>\n",
       "      <td>CCCCCCC1(CCCCCC)c2cc3c4sc(cc4C(c3cc2c2c1cc(s2)...</td>\n",
       "      <td>12.20</td>\n",
       "      <td>PTQ10:IDTPC</td>\n",
       "      <td>14.963897</td>\n",
       "      <td>-0.868633</td>\n",
       "      <td>14.963897</td>\n",
       "      <td>...</td>\n",
       "      <td>0</td>\n",
       "      <td>0</td>\n",
       "      <td>0</td>\n",
       "      <td>0</td>\n",
       "      <td>0</td>\n",
       "      <td>0</td>\n",
       "      <td>0</td>\n",
       "      <td>4</td>\n",
       "      <td>8</td>\n",
       "      <td>0</td>\n",
       "    </tr>\n",
       "    <tr>\n",
       "      <th>177</th>\n",
       "      <td>177</td>\n",
       "      <td>J51</td>\n",
       "      <td>ITIC</td>\n",
       "      <td>CCCCCCCCC(Cc1ccc(s1)c1c2cc(sc2c(c2c1sc(c2)C)c1...</td>\n",
       "      <td>CCCCCCc1ccc(cc1)C1(c2ccc(cc2)CCCCCC)c2cc3c4sc5...</td>\n",
       "      <td>7.03</td>\n",
       "      <td>J51:ITIC</td>\n",
       "      <td>17.170430</td>\n",
       "      <td>-0.849599</td>\n",
       "      <td>17.170430</td>\n",
       "      <td>...</td>\n",
       "      <td>0</td>\n",
       "      <td>0</td>\n",
       "      <td>0</td>\n",
       "      <td>0</td>\n",
       "      <td>0</td>\n",
       "      <td>0</td>\n",
       "      <td>0</td>\n",
       "      <td>4</td>\n",
       "      <td>8</td>\n",
       "      <td>0</td>\n",
       "    </tr>\n",
       "    <tr>\n",
       "      <th>178</th>\n",
       "      <td>178</td>\n",
       "      <td>J50</td>\n",
       "      <td>ITIC</td>\n",
       "      <td>CCCCCCCCC(Cc1ccc(s1)c1c2cc(sc2c(c2c1sc(c2)C)c1...</td>\n",
       "      <td>CCCCCCc1ccc(cc1)C1(c2ccc(cc2)CCCCCC)c2cc3c4sc5...</td>\n",
       "      <td>4.80</td>\n",
       "      <td>J50:ITIC</td>\n",
       "      <td>5.317942</td>\n",
       "      <td>0.771898</td>\n",
       "      <td>5.317942</td>\n",
       "      <td>...</td>\n",
       "      <td>0</td>\n",
       "      <td>0</td>\n",
       "      <td>0</td>\n",
       "      <td>0</td>\n",
       "      <td>0</td>\n",
       "      <td>0</td>\n",
       "      <td>0</td>\n",
       "      <td>4</td>\n",
       "      <td>8</td>\n",
       "      <td>0</td>\n",
       "    </tr>\n",
       "    <tr>\n",
       "      <th>179</th>\n",
       "      <td>179</td>\n",
       "      <td>PTB7-Th</td>\n",
       "      <td>DICTF</td>\n",
       "      <td>CCCCC(COC(=O)c1sc2c(c1F)c(sc2c1sc2c(c1)c(c1ccc...</td>\n",
       "      <td>CCCCCCCCC1(CCCCCCCC)c2cc(ccc2c2c1cc(cc2)c1ccc(...</td>\n",
       "      <td>6.54</td>\n",
       "      <td>PTB7-Th:DICTF</td>\n",
       "      <td>16.336769</td>\n",
       "      <td>-0.530065</td>\n",
       "      <td>16.336769</td>\n",
       "      <td>...</td>\n",
       "      <td>0</td>\n",
       "      <td>0</td>\n",
       "      <td>0</td>\n",
       "      <td>0</td>\n",
       "      <td>0</td>\n",
       "      <td>0</td>\n",
       "      <td>0</td>\n",
       "      <td>2</td>\n",
       "      <td>8</td>\n",
       "      <td>0</td>\n",
       "    </tr>\n",
       "    <tr>\n",
       "      <th>180</th>\n",
       "      <td>180</td>\n",
       "      <td>PBDB-T</td>\n",
       "      <td>DICTF</td>\n",
       "      <td>CCCCC(Cc1ccc(s1)c1c2cc(sc2c(c2c1sc(c2)C)c1ccc(...</td>\n",
       "      <td>CCCCCCCCC1(CCCCCCCC)c2cc(ccc2c2c1cc(cc2)c1ccc(...</td>\n",
       "      <td>5.65</td>\n",
       "      <td>PBDB-T:DICTF</td>\n",
       "      <td>15.917476</td>\n",
       "      <td>0.072375</td>\n",
       "      <td>15.917476</td>\n",
       "      <td>...</td>\n",
       "      <td>0</td>\n",
       "      <td>0</td>\n",
       "      <td>0</td>\n",
       "      <td>0</td>\n",
       "      <td>0</td>\n",
       "      <td>0</td>\n",
       "      <td>0</td>\n",
       "      <td>2</td>\n",
       "      <td>8</td>\n",
       "      <td>0</td>\n",
       "    </tr>\n",
       "    <tr>\n",
       "      <th>181</th>\n",
       "      <td>181</td>\n",
       "      <td>PBDB-T</td>\n",
       "      <td>FDICTF</td>\n",
       "      <td>CCCCC(Cc1ccc(s1)c1c2cc(sc2c(c2c1sc(c2)C)c1ccc(...</td>\n",
       "      <td>CCCCCCCCC1(CCCCCCCC)c2cc3c4sc(cc4C(c3cc2c2c1cc...</td>\n",
       "      <td>9.81</td>\n",
       "      <td>PBDB-T:FDICTF</td>\n",
       "      <td>15.917476</td>\n",
       "      <td>0.072375</td>\n",
       "      <td>15.917476</td>\n",
       "      <td>...</td>\n",
       "      <td>0</td>\n",
       "      <td>0</td>\n",
       "      <td>0</td>\n",
       "      <td>0</td>\n",
       "      <td>0</td>\n",
       "      <td>0</td>\n",
       "      <td>0</td>\n",
       "      <td>2</td>\n",
       "      <td>24</td>\n",
       "      <td>0</td>\n",
       "    </tr>\n",
       "    <tr>\n",
       "      <th>182</th>\n",
       "      <td>182</td>\n",
       "      <td>PBDB-T</td>\n",
       "      <td>NFBDT</td>\n",
       "      <td>CCCCC(Cc1ccc(s1)c1c2cc(sc2c(c2c1sc(c2)C)c1ccc(...</td>\n",
       "      <td>CCCCCCc1ccc(cc1)C1(c2ccc(cc2)CCCCCC)c2cc(sc2c2...</td>\n",
       "      <td>8.99</td>\n",
       "      <td>PBDB-T:NFBDT</td>\n",
       "      <td>15.917476</td>\n",
       "      <td>0.072375</td>\n",
       "      <td>15.917476</td>\n",
       "      <td>...</td>\n",
       "      <td>0</td>\n",
       "      <td>0</td>\n",
       "      <td>0</td>\n",
       "      <td>0</td>\n",
       "      <td>0</td>\n",
       "      <td>0</td>\n",
       "      <td>0</td>\n",
       "      <td>4</td>\n",
       "      <td>8</td>\n",
       "      <td>0</td>\n",
       "    </tr>\n",
       "    <tr>\n",
       "      <th>183</th>\n",
       "      <td>183</td>\n",
       "      <td>PBDB-T</td>\n",
       "      <td>FDNCTF</td>\n",
       "      <td>CCCCC(Cc1ccc(s1)c1c2cc(sc2c(c2c1sc(c2)C)c1ccc(...</td>\n",
       "      <td>CCCCCCCCC1(CCCCCCCC)c2cc3c4sc(cc4C(c3cc2c2c1cc...</td>\n",
       "      <td>11.20</td>\n",
       "      <td>PBDB-T:FDNCTF</td>\n",
       "      <td>15.917476</td>\n",
       "      <td>0.072375</td>\n",
       "      <td>15.917476</td>\n",
       "      <td>...</td>\n",
       "      <td>0</td>\n",
       "      <td>0</td>\n",
       "      <td>0</td>\n",
       "      <td>0</td>\n",
       "      <td>0</td>\n",
       "      <td>0</td>\n",
       "      <td>0</td>\n",
       "      <td>2</td>\n",
       "      <td>24</td>\n",
       "      <td>0</td>\n",
       "    </tr>\n",
       "    <tr>\n",
       "      <th>184</th>\n",
       "      <td>184</td>\n",
       "      <td>PTB7-Th</td>\n",
       "      <td>IDT-N</td>\n",
       "      <td>CCCCC(COC(=O)c1sc2c(c1F)c(sc2c1sc2c(c1)c(c1ccc...</td>\n",
       "      <td>CCCCCCc1ccc(cc1)C1(c2ccc(cc2)CCCCCC)c2cc(sc2c2...</td>\n",
       "      <td>5.50</td>\n",
       "      <td>PTB7-Th:IDT-N</td>\n",
       "      <td>16.336769</td>\n",
       "      <td>-0.530065</td>\n",
       "      <td>16.336769</td>\n",
       "      <td>...</td>\n",
       "      <td>0</td>\n",
       "      <td>0</td>\n",
       "      <td>0</td>\n",
       "      <td>0</td>\n",
       "      <td>0</td>\n",
       "      <td>0</td>\n",
       "      <td>0</td>\n",
       "      <td>2</td>\n",
       "      <td>8</td>\n",
       "      <td>0</td>\n",
       "    </tr>\n",
       "    <tr>\n",
       "      <th>185</th>\n",
       "      <td>185</td>\n",
       "      <td>PBDB-T</td>\n",
       "      <td>IDT-N</td>\n",
       "      <td>CCCCC(Cc1ccc(s1)c1c2cc(sc2c(c2c1sc(c2)C)c1ccc(...</td>\n",
       "      <td>CCCCCCc1ccc(cc1)C1(c2ccc(cc2)CCCCCC)c2cc(sc2c2...</td>\n",
       "      <td>6.90</td>\n",
       "      <td>PBDB-T:IDT-N</td>\n",
       "      <td>15.917476</td>\n",
       "      <td>0.072375</td>\n",
       "      <td>15.917476</td>\n",
       "      <td>...</td>\n",
       "      <td>0</td>\n",
       "      <td>0</td>\n",
       "      <td>0</td>\n",
       "      <td>0</td>\n",
       "      <td>0</td>\n",
       "      <td>0</td>\n",
       "      <td>0</td>\n",
       "      <td>2</td>\n",
       "      <td>8</td>\n",
       "      <td>0</td>\n",
       "    </tr>\n",
       "    <tr>\n",
       "      <th>186</th>\n",
       "      <td>186</td>\n",
       "      <td>PBDB-T</td>\n",
       "      <td>IDT-T-N</td>\n",
       "      <td>CCCCC(Cc1ccc(s1)c1c2cc(sc2c(c2c1sc(c2)C)c1ccc(...</td>\n",
       "      <td>CCCCCCc1ccc(cc1)C1(c2ccc(cc2)CCCCCC)c2cc(sc2c2...</td>\n",
       "      <td>5.40</td>\n",
       "      <td>PBDB-T:IDT-T-N</td>\n",
       "      <td>15.917476</td>\n",
       "      <td>0.072375</td>\n",
       "      <td>15.917476</td>\n",
       "      <td>...</td>\n",
       "      <td>0</td>\n",
       "      <td>0</td>\n",
       "      <td>0</td>\n",
       "      <td>0</td>\n",
       "      <td>0</td>\n",
       "      <td>0</td>\n",
       "      <td>0</td>\n",
       "      <td>4</td>\n",
       "      <td>8</td>\n",
       "      <td>0</td>\n",
       "    </tr>\n",
       "    <tr>\n",
       "      <th>187</th>\n",
       "      <td>187</td>\n",
       "      <td>PTB7-Th</td>\n",
       "      <td>IDIC</td>\n",
       "      <td>CCCCC(COC(=O)c1sc2c(c1F)c(sc2c1sc2c(c1)c(c1ccc...</td>\n",
       "      <td>CCCCCCC1(CCCCCC)c2cc(sc2c2c1cc1c3sc(cc3C(c1c2)...</td>\n",
       "      <td>5.24</td>\n",
       "      <td>PTB7-Th:IDIC</td>\n",
       "      <td>16.336769</td>\n",
       "      <td>-0.530065</td>\n",
       "      <td>16.336769</td>\n",
       "      <td>...</td>\n",
       "      <td>0</td>\n",
       "      <td>0</td>\n",
       "      <td>0</td>\n",
       "      <td>0</td>\n",
       "      <td>0</td>\n",
       "      <td>0</td>\n",
       "      <td>0</td>\n",
       "      <td>2</td>\n",
       "      <td>8</td>\n",
       "      <td>0</td>\n",
       "    </tr>\n",
       "    <tr>\n",
       "      <th>188</th>\n",
       "      <td>188</td>\n",
       "      <td>PDCBT</td>\n",
       "      <td>IDIC</td>\n",
       "      <td>CCCCCCC(COC(=O)c1cc(sc1c1ccc(s1)C)c1cc(c(s1)c1...</td>\n",
       "      <td>CCCCCCC1(CCCCCC)c2cc(sc2c2c1cc1c3sc(cc3C(c1c2)...</td>\n",
       "      <td>6.28</td>\n",
       "      <td>PDCBT:IDIC</td>\n",
       "      <td>13.904846</td>\n",
       "      <td>-0.249109</td>\n",
       "      <td>13.904846</td>\n",
       "      <td>...</td>\n",
       "      <td>0</td>\n",
       "      <td>0</td>\n",
       "      <td>0</td>\n",
       "      <td>0</td>\n",
       "      <td>0</td>\n",
       "      <td>0</td>\n",
       "      <td>0</td>\n",
       "      <td>2</td>\n",
       "      <td>8</td>\n",
       "      <td>0</td>\n",
       "    </tr>\n",
       "    <tr>\n",
       "      <th>189</th>\n",
       "      <td>189</td>\n",
       "      <td>J51</td>\n",
       "      <td>IDIC</td>\n",
       "      <td>CCCCCCCCC(Cc1ccc(s1)c1c2cc(sc2c(c2c1sc(c2)C)c1...</td>\n",
       "      <td>CCCCCCC1(CCCCCC)c2cc(sc2c2c1cc1c3sc(cc3C(c1c2)...</td>\n",
       "      <td>6.94</td>\n",
       "      <td>J51:IDIC</td>\n",
       "      <td>17.170430</td>\n",
       "      <td>-0.849599</td>\n",
       "      <td>17.170430</td>\n",
       "      <td>...</td>\n",
       "      <td>0</td>\n",
       "      <td>0</td>\n",
       "      <td>0</td>\n",
       "      <td>0</td>\n",
       "      <td>0</td>\n",
       "      <td>0</td>\n",
       "      <td>0</td>\n",
       "      <td>2</td>\n",
       "      <td>8</td>\n",
       "      <td>0</td>\n",
       "    </tr>\n",
       "    <tr>\n",
       "      <th>190</th>\n",
       "      <td>190</td>\n",
       "      <td>PDBT-T1</td>\n",
       "      <td>IDIC</td>\n",
       "      <td>CCCCCCCCc1ccc(s1)c1c2c3sc(cc3sc2c(c2c1sc1c2sc(...</td>\n",
       "      <td>CCCCCCC1(CCCCCC)c2cc(sc2c2c1cc1c3sc(cc3C(c1c2)...</td>\n",
       "      <td>9.20</td>\n",
       "      <td>PDBT-T1:IDIC</td>\n",
       "      <td>15.924584</td>\n",
       "      <td>0.074183</td>\n",
       "      <td>15.924584</td>\n",
       "      <td>...</td>\n",
       "      <td>0</td>\n",
       "      <td>0</td>\n",
       "      <td>0</td>\n",
       "      <td>0</td>\n",
       "      <td>0</td>\n",
       "      <td>0</td>\n",
       "      <td>0</td>\n",
       "      <td>2</td>\n",
       "      <td>8</td>\n",
       "      <td>0</td>\n",
       "    </tr>\n",
       "    <tr>\n",
       "      <th>191</th>\n",
       "      <td>191</td>\n",
       "      <td>PTFBDT-BZS</td>\n",
       "      <td>IDIC</td>\n",
       "      <td>CCCCCCCCCCCCOc1c(OCCCCCCCCCCCC)c(c2ccc(s2)C)c2...</td>\n",
       "      <td>CCCCCCC1(CCCCCC)c2cc(sc2c2c1cc1c3sc(cc3C(c1c2)...</td>\n",
       "      <td>8.06</td>\n",
       "      <td>PTFBDT-BZS:IDIC</td>\n",
       "      <td>16.827528</td>\n",
       "      <td>-0.548965</td>\n",
       "      <td>16.827528</td>\n",
       "      <td>...</td>\n",
       "      <td>0</td>\n",
       "      <td>0</td>\n",
       "      <td>0</td>\n",
       "      <td>0</td>\n",
       "      <td>0</td>\n",
       "      <td>0</td>\n",
       "      <td>0</td>\n",
       "      <td>2</td>\n",
       "      <td>8</td>\n",
       "      <td>0</td>\n",
       "    </tr>\n",
       "    <tr>\n",
       "      <th>192</th>\n",
       "      <td>192</td>\n",
       "      <td>J70</td>\n",
       "      <td>m-ITIC</td>\n",
       "      <td>CCCCCCCCC(Cn1nc2c(n1)c(c1ccc(s1)C)c(c(c2c1ccc(...</td>\n",
       "      <td>CCCCCCc1cccc(c1)C1(c2cccc(c2)CCCCCC)c2cc3c4sc5...</td>\n",
       "      <td>11.62</td>\n",
       "      <td>J70:m-ITIC</td>\n",
       "      <td>17.288979</td>\n",
       "      <td>-1.615348</td>\n",
       "      <td>17.288979</td>\n",
       "      <td>...</td>\n",
       "      <td>0</td>\n",
       "      <td>0</td>\n",
       "      <td>0</td>\n",
       "      <td>0</td>\n",
       "      <td>0</td>\n",
       "      <td>0</td>\n",
       "      <td>0</td>\n",
       "      <td>4</td>\n",
       "      <td>8</td>\n",
       "      <td>0</td>\n",
       "    </tr>\n",
       "    <tr>\n",
       "      <th>193</th>\n",
       "      <td>193</td>\n",
       "      <td>J71</td>\n",
       "      <td>m-ITIC</td>\n",
       "      <td>CCCCCCCCC(Cn1nc2c(n1)c(c1ccc(s1)c1sc3c(c1)c(c1...</td>\n",
       "      <td>CCCCCCc1cccc(c1)C1(c2cccc(c2)CCCCCC)c2cc3c4sc5...</td>\n",
       "      <td>12.05</td>\n",
       "      <td>J71:m-ITIC</td>\n",
       "      <td>17.425265</td>\n",
       "      <td>-1.703228</td>\n",
       "      <td>17.425265</td>\n",
       "      <td>...</td>\n",
       "      <td>0</td>\n",
       "      <td>0</td>\n",
       "      <td>0</td>\n",
       "      <td>0</td>\n",
       "      <td>0</td>\n",
       "      <td>0</td>\n",
       "      <td>0</td>\n",
       "      <td>4</td>\n",
       "      <td>8</td>\n",
       "      <td>0</td>\n",
       "    </tr>\n",
       "    <tr>\n",
       "      <th>194</th>\n",
       "      <td>194</td>\n",
       "      <td>J72</td>\n",
       "      <td>m-ITIC</td>\n",
       "      <td>CCCCCCCCC(Cn1nc2c(n1)c(c1ccc(s1)C)c(c(c2c1ccc(...</td>\n",
       "      <td>CCCCCCc1cccc(c1)C1(c2cccc(c2)CCCCCC)c2cc3c4sc5...</td>\n",
       "      <td>10.23</td>\n",
       "      <td>J72:m-ITIC</td>\n",
       "      <td>17.434048</td>\n",
       "      <td>-1.942558</td>\n",
       "      <td>17.434048</td>\n",
       "      <td>...</td>\n",
       "      <td>0</td>\n",
       "      <td>0</td>\n",
       "      <td>0</td>\n",
       "      <td>0</td>\n",
       "      <td>0</td>\n",
       "      <td>0</td>\n",
       "      <td>0</td>\n",
       "      <td>4</td>\n",
       "      <td>8</td>\n",
       "      <td>0</td>\n",
       "    </tr>\n",
       "    <tr>\n",
       "      <th>195</th>\n",
       "      <td>195</td>\n",
       "      <td>J73</td>\n",
       "      <td>m-ITIC</td>\n",
       "      <td>CCCCCCCCC(Cn1nc2c(n1)c(c1ccc(s1)C)c(c(c2c1ccc(...</td>\n",
       "      <td>CCCCCCc1cccc(c1)C1(c2cccc(c2)CCCCCC)c2cc3c4sc5...</td>\n",
       "      <td>10.71</td>\n",
       "      <td>J73:m-ITIC</td>\n",
       "      <td>17.546757</td>\n",
       "      <td>-1.774777</td>\n",
       "      <td>17.546757</td>\n",
       "      <td>...</td>\n",
       "      <td>0</td>\n",
       "      <td>0</td>\n",
       "      <td>0</td>\n",
       "      <td>0</td>\n",
       "      <td>0</td>\n",
       "      <td>0</td>\n",
       "      <td>0</td>\n",
       "      <td>4</td>\n",
       "      <td>8</td>\n",
       "      <td>0</td>\n",
       "    </tr>\n",
       "    <tr>\n",
       "      <th>196</th>\n",
       "      <td>196</td>\n",
       "      <td>J74</td>\n",
       "      <td>m-ITIC</td>\n",
       "      <td>CCCCCCCCC(Cn1nc2c(n1)c(c1ccc(s1)C)c(c(c2c1ccc(...</td>\n",
       "      <td>CCCCCCc1cccc(c1)C1(c2cccc(c2)CCCCCC)c2cc3c4sc5...</td>\n",
       "      <td>9.63</td>\n",
       "      <td>J74:m-ITIC</td>\n",
       "      <td>17.398135</td>\n",
       "      <td>-1.677300</td>\n",
       "      <td>17.398135</td>\n",
       "      <td>...</td>\n",
       "      <td>0</td>\n",
       "      <td>0</td>\n",
       "      <td>0</td>\n",
       "      <td>0</td>\n",
       "      <td>0</td>\n",
       "      <td>0</td>\n",
       "      <td>0</td>\n",
       "      <td>4</td>\n",
       "      <td>8</td>\n",
       "      <td>0</td>\n",
       "    </tr>\n",
       "    <tr>\n",
       "      <th>197</th>\n",
       "      <td>197</td>\n",
       "      <td>J81</td>\n",
       "      <td>ITIC</td>\n",
       "      <td>Cc1oc2c(c1)c(c1c(c2c2ccc([Si](CCC)(CCC)CCC)s2)...</td>\n",
       "      <td>CCCCCCc1ccc(cc1)C1(c2ccc(cc2)CCCCCC)c2cc3c4sc5...</td>\n",
       "      <td>8.03</td>\n",
       "      <td>J81:ITIC</td>\n",
       "      <td>17.387649</td>\n",
       "      <td>-1.763283</td>\n",
       "      <td>17.387649</td>\n",
       "      <td>...</td>\n",
       "      <td>0</td>\n",
       "      <td>0</td>\n",
       "      <td>0</td>\n",
       "      <td>0</td>\n",
       "      <td>0</td>\n",
       "      <td>0</td>\n",
       "      <td>0</td>\n",
       "      <td>4</td>\n",
       "      <td>8</td>\n",
       "      <td>0</td>\n",
       "    </tr>\n",
       "    <tr>\n",
       "      <th>198</th>\n",
       "      <td>198</td>\n",
       "      <td>J81</td>\n",
       "      <td>m-ITIC</td>\n",
       "      <td>Cc1oc2c(c1)c(c1c(c2c2ccc([Si](CCC)(CCC)CCC)s2)...</td>\n",
       "      <td>CCCCCCc1cccc(c1)C1(c2cccc(c2)CCCCCC)c2cc3c4sc5...</td>\n",
       "      <td>7.21</td>\n",
       "      <td>J81:m-ITIC</td>\n",
       "      <td>17.387649</td>\n",
       "      <td>-1.763283</td>\n",
       "      <td>17.387649</td>\n",
       "      <td>...</td>\n",
       "      <td>0</td>\n",
       "      <td>0</td>\n",
       "      <td>0</td>\n",
       "      <td>0</td>\n",
       "      <td>0</td>\n",
       "      <td>0</td>\n",
       "      <td>0</td>\n",
       "      <td>4</td>\n",
       "      <td>8</td>\n",
       "      <td>0</td>\n",
       "    </tr>\n",
       "    <tr>\n",
       "      <th>199</th>\n",
       "      <td>199</td>\n",
       "      <td>PM6</td>\n",
       "      <td>DTC-4F</td>\n",
       "      <td>CCCCC(Cc1sc(c2c1C(=O)c1c(sc(c1C2=O)c1ccc(s1)C)...</td>\n",
       "      <td>CCCCCCCCC(n1c2cc3c4sc(cc4C(c3cc2c2c1cc1c3sc(cc...</td>\n",
       "      <td>13.37</td>\n",
       "      <td>PM6:DTC-4F</td>\n",
       "      <td>16.502447</td>\n",
       "      <td>-0.118906</td>\n",
       "      <td>16.502447</td>\n",
       "      <td>...</td>\n",
       "      <td>0</td>\n",
       "      <td>0</td>\n",
       "      <td>0</td>\n",
       "      <td>0</td>\n",
       "      <td>0</td>\n",
       "      <td>0</td>\n",
       "      <td>0</td>\n",
       "      <td>2</td>\n",
       "      <td>24</td>\n",
       "      <td>0</td>\n",
       "    </tr>\n",
       "  </tbody>\n",
       "</table>\n",
       "<p>200 rows × 423 columns</p>\n",
       "</div>"
      ],
      "text/plain": [
       "     Unnamed: 0        Donor      Acceptor  \\\n",
       "0             0         D-0F       C8-ITIC   \n",
       "1             1         D-2F       C8-ITIC   \n",
       "2             2         D-4F       C8-ITIC   \n",
       "3             3         D-0F          ITIC   \n",
       "4             4         D-2F          ITIC   \n",
       "5             5         D-4F          ITIC   \n",
       "6             6         D-0F         IT-4F   \n",
       "7             7         D-2F         IT-4F   \n",
       "8             8         D-4F         IT-4F   \n",
       "9             9  PffBT4T-2DT           FBR   \n",
       "10           10  PffBT4T-2DT         IDTBR   \n",
       "11           11       PBDB-T            Y1   \n",
       "12           12       PBDB-T            Y2   \n",
       "13           13        P3TEA       SF-PDI2   \n",
       "14           14          PM6           Y11   \n",
       "15           15          PM6       IDST-4F   \n",
       "16           16          PM6         ID-4F   \n",
       "17           17  BDT-ffBX-DT         SFPDI   \n",
       "18           18          PM6          a-IT   \n",
       "19           19          PM6          N7IT   \n",
       "20           20          PM6        ITCPTC   \n",
       "21           21          PM6       ITC-2Cl   \n",
       "22           22          PM6         IT-4F   \n",
       "23           23          PM6        IT-4Cl   \n",
       "24           24      PTB7-Th          FOIC   \n",
       "25           25      PBDB-TF  BTP-4Cl (Y7)   \n",
       "26           26       PBDB-T         IT-4F   \n",
       "27           27     PBDBTz-2         IT-4F   \n",
       "28           28     PBDBTz-5         IT-4F   \n",
       "29           29          J52       ITCCM-O   \n",
       "..          ...          ...           ...   \n",
       "170         170           P2        ITIC-m   \n",
       "171         171          PM6         L8-BO   \n",
       "172         172    PBDTT-DPP      IEICO-4F   \n",
       "173         173          D18            Y6   \n",
       "174         174    PBDB-T-SF         IT-4F   \n",
       "175         175        PTQ10         IDTCN   \n",
       "176         176        PTQ10         IDTPC   \n",
       "177         177          J51          ITIC   \n",
       "178         178          J50          ITIC   \n",
       "179         179      PTB7-Th         DICTF   \n",
       "180         180       PBDB-T         DICTF   \n",
       "181         181       PBDB-T        FDICTF   \n",
       "182         182       PBDB-T         NFBDT   \n",
       "183         183       PBDB-T        FDNCTF   \n",
       "184         184      PTB7-Th         IDT-N   \n",
       "185         185       PBDB-T         IDT-N   \n",
       "186         186       PBDB-T       IDT-T-N   \n",
       "187         187      PTB7-Th          IDIC   \n",
       "188         188        PDCBT          IDIC   \n",
       "189         189          J51          IDIC   \n",
       "190         190      PDBT-T1          IDIC   \n",
       "191         191   PTFBDT-BZS          IDIC   \n",
       "192         192          J70        m-ITIC   \n",
       "193         193          J71        m-ITIC   \n",
       "194         194          J72        m-ITIC   \n",
       "195         195          J73        m-ITIC   \n",
       "196         196          J74        m-ITIC   \n",
       "197         197          J81          ITIC   \n",
       "198         198          J81        m-ITIC   \n",
       "199         199          PM6        DTC-4F   \n",
       "\n",
       "                                      Donor_can_smiles  \\\n",
       "0    CCCCC(Cc1ccc(s1)c1c2cc(sc2c(c2c1scc2)c1ccc(s1)...   \n",
       "1    CCCCC(Cc1ccc(s1)c1c2cc(sc2c(c2c1scc2)c1ccc(s1)...   \n",
       "2    CCCCC(Cc1ccc(s1)c1c2sc(c(c2c(c2c1c(F)cs2)c1ccc...   \n",
       "3    CCCCC(Cc1ccc(s1)c1c2cc(sc2c(c2c1scc2)c1ccc(s1)...   \n",
       "4    CCCCC(Cc1ccc(s1)c1c2cc(sc2c(c2c1scc2)c1ccc(s1)...   \n",
       "5    CCCCC(Cc1ccc(s1)c1c2sc(c(c2c(c2c1c(F)cs2)c1ccc...   \n",
       "6    CCCCC(Cc1ccc(s1)c1c2cc(sc2c(c2c1scc2)c1ccc(s1)...   \n",
       "7    CCCCC(Cc1ccc(s1)c1c2cc(sc2c(c2c1scc2)c1ccc(s1)...   \n",
       "8    CCCCC(Cc1ccc(s1)c1c2sc(c(c2c(c2c1c(F)cs2)c1ccc...   \n",
       "9    CCCCCCCCCCCCC(Cc1cc(sc1C)c1c(F)c(F)c(c2c1nsn2)...   \n",
       "10   CCCCCCCCCCCCC(Cc1cc(sc1C)c1c(F)c(F)c(c2c1nsn2)...   \n",
       "11   CCCCC(Cc1ccc(s1)c1c2cc(sc2c(c2c1sc(c2)C)c1ccc(...   \n",
       "12   CCCCC(Cc1ccc(s1)c1c2cc(sc2c(c2c1sc(c2)C)c1ccc(...   \n",
       "13   CCCCCCCCCCC(OC(=O)c1cc(sc1c1cc(c(s1)c1ccc(s1)c...   \n",
       "14   CCCCC(Cc1sc(c2c1C(=O)c1c(sc(c1C2=O)c1ccc(s1)C)...   \n",
       "15   CCCCC(Cc1sc(c2c1C(=O)c1c(sc(c1C2=O)c1ccc(s1)C)...   \n",
       "16   CCCCC(Cc1sc(c2c1C(=O)c1c(sc(c1C2=O)c1ccc(s1)C)...   \n",
       "17   CCCCCCCCCCCCC(Cc1csc(c1)c1c(F)c(F)c(c2c1non2)c...   \n",
       "18   CCCCC(Cc1sc(c2c1C(=O)c1c(sc(c1C2=O)c1ccc(s1)C)...   \n",
       "19   CCCCC(Cc1sc(c2c1C(=O)c1c(sc(c1C2=O)c1ccc(s1)C)...   \n",
       "20   CCCCC(Cc1sc(c2c1C(=O)c1c(sc(c1C2=O)c1ccc(s1)C)...   \n",
       "21   CCCCC(Cc1sc(c2c1C(=O)c1c(sc(c1C2=O)c1ccc(s1)C)...   \n",
       "22   CCCCC(Cc1sc(c2c1C(=O)c1c(sc(c1C2=O)c1ccc(s1)C)...   \n",
       "23   CCCCC(Cc1sc(c2c1C(=O)c1c(sc(c1C2=O)c1ccc(s1)C)...   \n",
       "24   CCCCC(COC(=O)c1sc2c(c1F)c(sc2c1sc2c(c1)c(c1ccc...   \n",
       "25   CCCCC(Cc1sc(c2c1C(=O)c1c(sc(c1C2=O)c1ccc(s1)C)...   \n",
       "26   CCCCC(Cc1ccc(s1)c1c2cc(sc2c(c2c1sc(c2)C)c1ccc(...   \n",
       "27   CCCCC(Cc1ccc(s1)c1c2cc(sc2c(c2c1c(C)cs2)c1ccc(...   \n",
       "28   CCCCC(Cc1ccc(s1)c1c2cc(sc2c(c2c1c(C)cs2)c1ccc(...   \n",
       "29   CCCCCCCCC(Cn1nc2c(n1)c(c1ccc(s1)c1sc3c(c1)c(c1...   \n",
       "..                                                 ...   \n",
       "170  CCCCCCCCCCC(Cn1c2cc3c4CC(Sc4c4c(c3cc2n(c1=O)CC...   \n",
       "171  CCCCC(Cc1sc(c2c1C(=O)c1c(sc(c1C2=O)c1ccc(s1)C)...   \n",
       "172  CCCCCCC(Cn1c(=O)c2c(c1c1ccc(s1)c1sc3c(c1)c(c1c...   \n",
       "173  CCCCCCC(Cc1cc(sc1c1sc2c(c1)c(c1cc(c(s1)CC(CCCC...   \n",
       "174  CCCCC(CSc1sc(cc1F)c1c2sc(cc2c(c2c1cc(s2)C)c1sc...   \n",
       "175  CCCCCCCCC(COc1cnc2c(n1)c(C)c(c(c2c1ccc(s1)C)F)...   \n",
       "176  CCCCCCCCC(COc1cnc2c(n1)c(C)c(c(c2c1ccc(s1)C)F)...   \n",
       "177  CCCCCCCCC(Cc1ccc(s1)c1c2cc(sc2c(c2c1sc(c2)C)c1...   \n",
       "178  CCCCCCCCC(Cc1ccc(s1)c1c2cc(sc2c(c2c1sc(c2)C)c1...   \n",
       "179  CCCCC(COC(=O)c1sc2c(c1F)c(sc2c1sc2c(c1)c(c1ccc...   \n",
       "180  CCCCC(Cc1ccc(s1)c1c2cc(sc2c(c2c1sc(c2)C)c1ccc(...   \n",
       "181  CCCCC(Cc1ccc(s1)c1c2cc(sc2c(c2c1sc(c2)C)c1ccc(...   \n",
       "182  CCCCC(Cc1ccc(s1)c1c2cc(sc2c(c2c1sc(c2)C)c1ccc(...   \n",
       "183  CCCCC(Cc1ccc(s1)c1c2cc(sc2c(c2c1sc(c2)C)c1ccc(...   \n",
       "184  CCCCC(COC(=O)c1sc2c(c1F)c(sc2c1sc2c(c1)c(c1ccc...   \n",
       "185  CCCCC(Cc1ccc(s1)c1c2cc(sc2c(c2c1sc(c2)C)c1ccc(...   \n",
       "186  CCCCC(Cc1ccc(s1)c1c2cc(sc2c(c2c1sc(c2)C)c1ccc(...   \n",
       "187  CCCCC(COC(=O)c1sc2c(c1F)c(sc2c1sc2c(c1)c(c1ccc...   \n",
       "188  CCCCCCC(COC(=O)c1cc(sc1c1ccc(s1)C)c1cc(c(s1)c1...   \n",
       "189  CCCCCCCCC(Cc1ccc(s1)c1c2cc(sc2c(c2c1sc(c2)C)c1...   \n",
       "190  CCCCCCCCc1ccc(s1)c1c2c3sc(cc3sc2c(c2c1sc1c2sc(...   \n",
       "191  CCCCCCCCCCCCOc1c(OCCCCCCCCCCCC)c(c2ccc(s2)C)c2...   \n",
       "192  CCCCCCCCC(Cn1nc2c(n1)c(c1ccc(s1)C)c(c(c2c1ccc(...   \n",
       "193  CCCCCCCCC(Cn1nc2c(n1)c(c1ccc(s1)c1sc3c(c1)c(c1...   \n",
       "194  CCCCCCCCC(Cn1nc2c(n1)c(c1ccc(s1)C)c(c(c2c1ccc(...   \n",
       "195  CCCCCCCCC(Cn1nc2c(n1)c(c1ccc(s1)C)c(c(c2c1ccc(...   \n",
       "196  CCCCCCCCC(Cn1nc2c(n1)c(c1ccc(s1)C)c(c(c2c1ccc(...   \n",
       "197  Cc1oc2c(c1)c(c1c(c2c2ccc([Si](CCC)(CCC)CCC)s2)...   \n",
       "198  Cc1oc2c(c1)c(c1c(c2c2ccc([Si](CCC)(CCC)CCC)s2)...   \n",
       "199  CCCCC(Cc1sc(c2c1C(=O)c1c(sc(c1C2=O)c1ccc(s1)C)...   \n",
       "\n",
       "                                   Acceptor_can_smiles    PCE  \\\n",
       "0    CCCCCCCCC1(CCCCCCCC)c2cc3c4sc5c(c4C(c3cc2c2c1c...  11.60   \n",
       "1    CCCCCCCCC1(CCCCCCCC)c2cc3c4sc5c(c4C(c3cc2c2c1c...  12.20   \n",
       "2    CCCCCCCCC1(CCCCCCCC)c2cc3c4sc5c(c4C(c3cc2c2c1c...   8.80   \n",
       "3    CCCCCCc1ccc(cc1)C1(c2ccc(cc2)CCCCCC)c2cc3c4sc5...   8.00   \n",
       "4    CCCCCCc1ccc(cc1)C1(c2ccc(cc2)CCCCCC)c2cc3c4sc5...   8.90   \n",
       "5    CCCCCCc1ccc(cc1)C1(c2ccc(cc2)CCCCCC)c2cc3c4sc5...   4.40   \n",
       "6    CCCCCCc1ccc(cc1)C1(c2ccc(cc2)CCCCCC)c2cc3c4sc5...   7.80   \n",
       "7    CCCCCCc1ccc(cc1)C1(c2ccc(cc2)CCCCCC)c2cc3c4sc5...  10.90   \n",
       "8    CCCCCCc1ccc(cc1)C1(c2ccc(cc2)CCCCCC)c2cc3c4sc5...   9.90   \n",
       "9    CCCCCCCCCC1(CCCCCCCCC)c2cc(ccc2c2c1cc(cc2)c1cc...   7.80   \n",
       "10   CCCCCCCCCC1(CCCCCCCCC)c2cc3c4sc(cc4C(c3cc2c2c1...   9.95   \n",
       "11   CCCCC(Cn1c2c(c3c1c1sc(cc1s3)/C=C/1\\C(=O)c3c(C1...  13.42   \n",
       "12   CCCCC(Cn1c2c(c3c1c1c(c4c3nn(n4)CC(CCCC)CC)c3c(...  13.40   \n",
       "13   CCCCCCC(n1c(=O)c2cc(c3ccc4c(c3)C3(c5c4ccc(c5)c...   9.50   \n",
       "14   CCCCC(Cn1c2c(c3c1c1c(c4c3nn(n4)CC(CCCC)CC)c3c(...  13.80   \n",
       "15   CCCCCCC1(CCCCCC)c2cc3c4sc(cc4C(c3cc2c2c1cc(s2)...  14.30   \n",
       "16   CCCCCCC1(CCCCCC)c2cc3c4sc(cc4C(c3cc2c2c1cc(s2)...   6.40   \n",
       "17   CCCCCC(n1c(=O)c2cc(c3ccc4c(c3)C3(c5c4ccc(c5)c4...   6.20   \n",
       "18   CCCCCCc1ccc(cc1)C1(c2ccc(cc2)CCCCCC)c2cc3c4sc(...  11.46   \n",
       "19   CCCCCCCCn1c2cc(sc2c2c1c1c(s2)c2c(C1(c1ccc(cc1)...  13.82   \n",
       "20   CCCCCCc1ccc(cc1)C1(c2ccc(cc2)CCCCCC)c2cc3c4sc5...  12.30   \n",
       "21   CCCCCCc1ccc(cc1)C1(c2ccc(cc2)CCCCCC)c2cc3c4sc5...  13.60   \n",
       "22   CCCCCCc1ccc(cc1)C1(c2ccc(cc2)CCCCCC)c2cc3c4sc5...  12.90   \n",
       "23   CCCCCCc1ccc(cc1)C1(c2ccc(cc2)CCCCCC)c2cc3c4sc5...  12.70   \n",
       "24   CCCCCCc1cccc(c1)C1(c2ccc(cc2)CCCCCC)c2c3sc4c(c...  11.70   \n",
       "25   CCCCCCCCCCCc1c(/C=C\\2/C(=C(C#N)C#N)c3c(C2=O)cc...  16.50   \n",
       "26   CCCCCCc1ccc(cc1)C1(c2ccc(cc2)CCCCCC)c2cc3c4sc5...   9.30   \n",
       "27   CCCCCCc1ccc(cc1)C1(c2ccc(cc2)CCCCCC)c2cc3c4sc5...  10.40   \n",
       "28   CCCCCCc1ccc(cc1)C1(c2ccc(cc2)CCCCCC)c2cc3c4sc5...   9.60   \n",
       "29   CCCCCCc1ccc(cc1)C1(c2ccc(cc2)CCCCCC)c2cc3c4sc5...   5.50   \n",
       "..                                                 ...    ...   \n",
       "170  CCCCCCc1ccc(cc1)C1(c2ccc(cc2)CCCCCC)c2cc3c4sc5...  12.84   \n",
       "171  CCCCCCC(Cc1c(/C=C\\2/C(=C(C#N)C#N)c3c(C2=O)cc(c...  18.32   \n",
       "172  CCCCCCc1cccc(c1)C1(c2ccc(cc2)CCCCCC)c2cc3c4sc5...   8.14   \n",
       "173  CCCCCCCCCCCc1c(/C=C\\2/C(=C(C#N)C#N)c3c(C2=O)cc...  18.22   \n",
       "174  CCCCCCc1ccc(cc1)C1(c2ccc(cc2)CCCCCC)c2cc3c4sc5...  13.10   \n",
       "175  CCCCCCc1ccc(cc1)C1(c2ccc(cc2)CCCCCC)c2cc3c4sc(...   7.40   \n",
       "176  CCCCCCC1(CCCCCC)c2cc3c4sc(cc4C(c3cc2c2c1cc(s2)...  12.20   \n",
       "177  CCCCCCc1ccc(cc1)C1(c2ccc(cc2)CCCCCC)c2cc3c4sc5...   7.03   \n",
       "178  CCCCCCc1ccc(cc1)C1(c2ccc(cc2)CCCCCC)c2cc3c4sc5...   4.80   \n",
       "179  CCCCCCCCC1(CCCCCCCC)c2cc(ccc2c2c1cc(cc2)c1ccc(...   6.54   \n",
       "180  CCCCCCCCC1(CCCCCCCC)c2cc(ccc2c2c1cc(cc2)c1ccc(...   5.65   \n",
       "181  CCCCCCCCC1(CCCCCCCC)c2cc3c4sc(cc4C(c3cc2c2c1cc...   9.81   \n",
       "182  CCCCCCc1ccc(cc1)C1(c2ccc(cc2)CCCCCC)c2cc(sc2c2...   8.99   \n",
       "183  CCCCCCCCC1(CCCCCCCC)c2cc3c4sc(cc4C(c3cc2c2c1cc...  11.20   \n",
       "184  CCCCCCc1ccc(cc1)C1(c2ccc(cc2)CCCCCC)c2cc(sc2c2...   5.50   \n",
       "185  CCCCCCc1ccc(cc1)C1(c2ccc(cc2)CCCCCC)c2cc(sc2c2...   6.90   \n",
       "186  CCCCCCc1ccc(cc1)C1(c2ccc(cc2)CCCCCC)c2cc(sc2c2...   5.40   \n",
       "187  CCCCCCC1(CCCCCC)c2cc(sc2c2c1cc1c3sc(cc3C(c1c2)...   5.24   \n",
       "188  CCCCCCC1(CCCCCC)c2cc(sc2c2c1cc1c3sc(cc3C(c1c2)...   6.28   \n",
       "189  CCCCCCC1(CCCCCC)c2cc(sc2c2c1cc1c3sc(cc3C(c1c2)...   6.94   \n",
       "190  CCCCCCC1(CCCCCC)c2cc(sc2c2c1cc1c3sc(cc3C(c1c2)...   9.20   \n",
       "191  CCCCCCC1(CCCCCC)c2cc(sc2c2c1cc1c3sc(cc3C(c1c2)...   8.06   \n",
       "192  CCCCCCc1cccc(c1)C1(c2cccc(c2)CCCCCC)c2cc3c4sc5...  11.62   \n",
       "193  CCCCCCc1cccc(c1)C1(c2cccc(c2)CCCCCC)c2cc3c4sc5...  12.05   \n",
       "194  CCCCCCc1cccc(c1)C1(c2cccc(c2)CCCCCC)c2cc3c4sc5...  10.23   \n",
       "195  CCCCCCc1cccc(c1)C1(c2cccc(c2)CCCCCC)c2cc3c4sc5...  10.71   \n",
       "196  CCCCCCc1cccc(c1)C1(c2cccc(c2)CCCCCC)c2cc3c4sc5...   9.63   \n",
       "197  CCCCCCc1ccc(cc1)C1(c2ccc(cc2)CCCCCC)c2cc3c4sc5...   8.03   \n",
       "198  CCCCCCc1cccc(c1)C1(c2cccc(c2)CCCCCC)c2cc3c4sc5...   7.21   \n",
       "199  CCCCCCCCC(n1c2cc3c4sc(cc4C(c3cc2c2c1cc1c3sc(cc...  13.37   \n",
       "\n",
       "                      D:A  Donor_MaxEStateIndex  Donor_MinEStateIndex  \\\n",
       "0            D-0F:C8-ITIC             15.826616              0.070509   \n",
       "1            D-2F:C8-ITIC             17.472290             -0.373608   \n",
       "2            D-4F:C8-ITIC             18.497612             -0.645564   \n",
       "3               D-0F:ITIC             15.826616              0.070509   \n",
       "4               D-2F:ITIC             17.472290             -0.373608   \n",
       "5               D-4F:ITIC             18.497612             -0.645564   \n",
       "6              D-0F:IT-4F             15.826616              0.070509   \n",
       "7              D-2F:IT-4F             17.472290             -0.373608   \n",
       "8              D-4F:IT-4F             18.497612             -0.645564   \n",
       "9         PffBT4T-2DT:FBR             17.421622             -0.778406   \n",
       "10      PffBT4T-2DT:IDTBR             17.421622             -0.778406   \n",
       "11              PBDB-T:Y1             15.917476              0.072375   \n",
       "12              PBDB-T:Y2             15.917476              0.072375   \n",
       "13          P3TEA:SF-PDI2             18.888897             -1.114240   \n",
       "14                PM6:Y11             16.502447             -0.118906   \n",
       "15            PM6:IDST-4F             16.502447             -0.118906   \n",
       "16              PM6:ID-4F             16.502447             -0.118906   \n",
       "17      BDT-ffBX-DT:SFPDI             17.436360             -0.852937   \n",
       "18               PM6:a-IT             16.502447             -0.118906   \n",
       "19               PM6:N7IT             16.502447             -0.118906   \n",
       "20             PM6:ITCPTC             16.502447             -0.118906   \n",
       "21            PM6:ITC-2Cl             16.502447             -0.118906   \n",
       "22              PM6:IT-4F             16.502447             -0.118906   \n",
       "23             PM6:IT-4Cl             16.502447             -0.118906   \n",
       "24           PTB7-Th:FOIC             16.336769             -0.530065   \n",
       "25   PBDB-TF:BTP-4Cl (Y7)             16.502447             -0.118906   \n",
       "26           PBDB-T:IT-4F             15.917476              0.072375   \n",
       "27         PBDBTz-2:IT-4F             15.872849              0.004668   \n",
       "28         PBDBTz-5:IT-4F             15.885002              0.024260   \n",
       "29            J52:ITCCM-O             17.287492             -0.846547   \n",
       "..                    ...                   ...                   ...   \n",
       "170             P2:ITIC-m             16.017441              0.290256   \n",
       "171             PM6:L8-BO             16.502447             -0.118906   \n",
       "172    PBDTT-DPP:IEICO-4F             15.901873              0.026249   \n",
       "173                D18:Y6             16.767269             -0.069142   \n",
       "174       PBDB-T-SF:IT-4F             16.479443             -0.157619   \n",
       "175           PTQ10:IDTCN             14.963897             -0.868633   \n",
       "176           PTQ10:IDTPC             14.963897             -0.868633   \n",
       "177              J51:ITIC             17.170430             -0.849599   \n",
       "178              J50:ITIC              5.317942              0.771898   \n",
       "179         PTB7-Th:DICTF             16.336769             -0.530065   \n",
       "180          PBDB-T:DICTF             15.917476              0.072375   \n",
       "181         PBDB-T:FDICTF             15.917476              0.072375   \n",
       "182          PBDB-T:NFBDT             15.917476              0.072375   \n",
       "183         PBDB-T:FDNCTF             15.917476              0.072375   \n",
       "184         PTB7-Th:IDT-N             16.336769             -0.530065   \n",
       "185          PBDB-T:IDT-N             15.917476              0.072375   \n",
       "186        PBDB-T:IDT-T-N             15.917476              0.072375   \n",
       "187          PTB7-Th:IDIC             16.336769             -0.530065   \n",
       "188            PDCBT:IDIC             13.904846             -0.249109   \n",
       "189              J51:IDIC             17.170430             -0.849599   \n",
       "190          PDBT-T1:IDIC             15.924584              0.074183   \n",
       "191       PTFBDT-BZS:IDIC             16.827528             -0.548965   \n",
       "192            J70:m-ITIC             17.288979             -1.615348   \n",
       "193            J71:m-ITIC             17.425265             -1.703228   \n",
       "194            J72:m-ITIC             17.434048             -1.942558   \n",
       "195            J73:m-ITIC             17.546757             -1.774777   \n",
       "196            J74:m-ITIC             17.398135             -1.677300   \n",
       "197              J81:ITIC             17.387649             -1.763283   \n",
       "198            J81:m-ITIC             17.387649             -1.763283   \n",
       "199            PM6:DTC-4F             16.502447             -0.118906   \n",
       "\n",
       "     Donor_MaxAbsEStateIndex  ...  Acceptor_fr_sulfide  Acceptor_fr_sulfonamd  \\\n",
       "0                  15.826616  ...                    0                      0   \n",
       "1                  17.472290  ...                    0                      0   \n",
       "2                  18.497612  ...                    0                      0   \n",
       "3                  15.826616  ...                    0                      0   \n",
       "4                  17.472290  ...                    0                      0   \n",
       "5                  18.497612  ...                    0                      0   \n",
       "6                  15.826616  ...                    0                      0   \n",
       "7                  17.472290  ...                    0                      0   \n",
       "8                  18.497612  ...                    0                      0   \n",
       "9                  17.421622  ...                    2                      0   \n",
       "10                 17.421622  ...                    2                      0   \n",
       "11                 15.917476  ...                    0                      0   \n",
       "12                 15.917476  ...                    0                      0   \n",
       "13                 18.888897  ...                    0                      0   \n",
       "14                 16.502447  ...                    0                      0   \n",
       "15                 16.502447  ...                    1                      0   \n",
       "16                 16.502447  ...                    0                      0   \n",
       "17                 17.436360  ...                    0                      0   \n",
       "18                 16.502447  ...                    0                      0   \n",
       "19                 16.502447  ...                    0                      0   \n",
       "20                 16.502447  ...                    0                      0   \n",
       "21                 16.502447  ...                    0                      0   \n",
       "22                 16.502447  ...                    0                      0   \n",
       "23                 16.502447  ...                    0                      0   \n",
       "24                 16.336769  ...                    0                      0   \n",
       "25                 16.502447  ...                    0                      0   \n",
       "26                 15.917476  ...                    0                      0   \n",
       "27                 15.872849  ...                    0                      0   \n",
       "28                 15.885002  ...                    0                      0   \n",
       "29                 17.287492  ...                    0                      0   \n",
       "..                       ...  ...                  ...                    ...   \n",
       "170                16.017441  ...                    0                      0   \n",
       "171                16.502447  ...                    0                      0   \n",
       "172                15.901873  ...                    0                      0   \n",
       "173                16.767269  ...                    0                      0   \n",
       "174                16.479443  ...                    0                      0   \n",
       "175                14.963897  ...                    0                      0   \n",
       "176                14.963897  ...                    0                      0   \n",
       "177                17.170430  ...                    0                      0   \n",
       "178                 5.317942  ...                    0                      0   \n",
       "179                16.336769  ...                    0                      0   \n",
       "180                15.917476  ...                    0                      0   \n",
       "181                15.917476  ...                    0                      0   \n",
       "182                15.917476  ...                    0                      0   \n",
       "183                15.917476  ...                    0                      0   \n",
       "184                16.336769  ...                    0                      0   \n",
       "185                15.917476  ...                    0                      0   \n",
       "186                15.917476  ...                    0                      0   \n",
       "187                16.336769  ...                    0                      0   \n",
       "188                13.904846  ...                    0                      0   \n",
       "189                17.170430  ...                    0                      0   \n",
       "190                15.924584  ...                    0                      0   \n",
       "191                16.827528  ...                    0                      0   \n",
       "192                17.288979  ...                    0                      0   \n",
       "193                17.425265  ...                    0                      0   \n",
       "194                17.434048  ...                    0                      0   \n",
       "195                17.546757  ...                    0                      0   \n",
       "196                17.398135  ...                    0                      0   \n",
       "197                17.387649  ...                    0                      0   \n",
       "198                17.387649  ...                    0                      0   \n",
       "199                16.502447  ...                    0                      0   \n",
       "\n",
       "     Acceptor_fr_sulfone  Acceptor_fr_term_acetylene  Acceptor_fr_tetrazole  \\\n",
       "0                      0                           0                      0   \n",
       "1                      0                           0                      0   \n",
       "2                      0                           0                      0   \n",
       "3                      0                           0                      0   \n",
       "4                      0                           0                      0   \n",
       "5                      0                           0                      0   \n",
       "6                      0                           0                      0   \n",
       "7                      0                           0                      0   \n",
       "8                      0                           0                      0   \n",
       "9                      0                           0                      0   \n",
       "10                     0                           0                      0   \n",
       "11                     0                           0                      0   \n",
       "12                     0                           0                      0   \n",
       "13                     0                           0                      0   \n",
       "14                     0                           0                      0   \n",
       "15                     0                           0                      0   \n",
       "16                     0                           0                      0   \n",
       "17                     0                           0                      0   \n",
       "18                     0                           0                      0   \n",
       "19                     0                           0                      0   \n",
       "20                     0                           0                      0   \n",
       "21                     0                           0                      0   \n",
       "22                     0                           0                      0   \n",
       "23                     0                           0                      0   \n",
       "24                     0                           0                      0   \n",
       "25                     0                           0                      0   \n",
       "26                     0                           0                      0   \n",
       "27                     0                           0                      0   \n",
       "28                     0                           0                      0   \n",
       "29                     0                           0                      0   \n",
       "..                   ...                         ...                    ...   \n",
       "170                    0                           0                      0   \n",
       "171                    0                           0                      0   \n",
       "172                    0                           0                      0   \n",
       "173                    0                           0                      0   \n",
       "174                    0                           0                      0   \n",
       "175                    0                           0                      0   \n",
       "176                    0                           0                      0   \n",
       "177                    0                           0                      0   \n",
       "178                    0                           0                      0   \n",
       "179                    0                           0                      0   \n",
       "180                    0                           0                      0   \n",
       "181                    0                           0                      0   \n",
       "182                    0                           0                      0   \n",
       "183                    0                           0                      0   \n",
       "184                    0                           0                      0   \n",
       "185                    0                           0                      0   \n",
       "186                    0                           0                      0   \n",
       "187                    0                           0                      0   \n",
       "188                    0                           0                      0   \n",
       "189                    0                           0                      0   \n",
       "190                    0                           0                      0   \n",
       "191                    0                           0                      0   \n",
       "192                    0                           0                      0   \n",
       "193                    0                           0                      0   \n",
       "194                    0                           0                      0   \n",
       "195                    0                           0                      0   \n",
       "196                    0                           0                      0   \n",
       "197                    0                           0                      0   \n",
       "198                    0                           0                      0   \n",
       "199                    0                           0                      0   \n",
       "\n",
       "     Acceptor_fr_thiazole  Acceptor_fr_thiocyan  Acceptor_fr_thiophene  \\\n",
       "0                       0                     0                      4   \n",
       "1                       0                     0                      4   \n",
       "2                       0                     0                      4   \n",
       "3                       0                     0                      4   \n",
       "4                       0                     0                      4   \n",
       "5                       0                     0                      4   \n",
       "6                       0                     0                      4   \n",
       "7                       0                     0                      4   \n",
       "8                       0                     0                      4   \n",
       "9                       0                     0                      0   \n",
       "10                      0                     0                      2   \n",
       "11                      0                     0                      4   \n",
       "12                      0                     0                      6   \n",
       "13                      0                     0                      0   \n",
       "14                      0                     0                      4   \n",
       "15                      0                     0                      3   \n",
       "16                      0                     0                      2   \n",
       "17                      0                     0                      0   \n",
       "18                      0                     0                      4   \n",
       "19                      0                     0                      4   \n",
       "20                      0                     0                      6   \n",
       "21                      0                     0                      6   \n",
       "22                      0                     0                      4   \n",
       "23                      0                     0                      4   \n",
       "24                      0                     0                      6   \n",
       "25                      0                     0                      4   \n",
       "26                      0                     0                      4   \n",
       "27                      0                     0                      4   \n",
       "28                      0                     0                      4   \n",
       "29                      0                     0                      6   \n",
       "..                    ...                   ...                    ...   \n",
       "170                     0                     0                      4   \n",
       "171                     0                     0                      4   \n",
       "172                     0                     0                      4   \n",
       "173                     0                     0                      4   \n",
       "174                     0                     0                      4   \n",
       "175                     0                     0                      4   \n",
       "176                     0                     0                      4   \n",
       "177                     0                     0                      4   \n",
       "178                     0                     0                      4   \n",
       "179                     0                     0                      2   \n",
       "180                     0                     0                      2   \n",
       "181                     0                     0                      2   \n",
       "182                     0                     0                      4   \n",
       "183                     0                     0                      2   \n",
       "184                     0                     0                      2   \n",
       "185                     0                     0                      2   \n",
       "186                     0                     0                      4   \n",
       "187                     0                     0                      2   \n",
       "188                     0                     0                      2   \n",
       "189                     0                     0                      2   \n",
       "190                     0                     0                      2   \n",
       "191                     0                     0                      2   \n",
       "192                     0                     0                      4   \n",
       "193                     0                     0                      4   \n",
       "194                     0                     0                      4   \n",
       "195                     0                     0                      4   \n",
       "196                     0                     0                      4   \n",
       "197                     0                     0                      4   \n",
       "198                     0                     0                      4   \n",
       "199                     0                     0                      2   \n",
       "\n",
       "     Acceptor_fr_unbrch_alkane  Acceptor_fr_urea  \n",
       "0                           16                 0  \n",
       "1                           16                 0  \n",
       "2                           16                 0  \n",
       "3                            8                 0  \n",
       "4                            8                 0  \n",
       "5                            8                 0  \n",
       "6                            8                 0  \n",
       "7                            8                 0  \n",
       "8                            8                 0  \n",
       "9                           10                 0  \n",
       "10                          20                 0  \n",
       "11                           0                 0  \n",
       "12                           0                 0  \n",
       "13                          16                 0  \n",
       "14                           0                 0  \n",
       "15                           8                 0  \n",
       "16                           8                 0  \n",
       "17                           8                 0  \n",
       "18                           8                 0  \n",
       "19                          12                 0  \n",
       "20                           8                 0  \n",
       "21                           8                 0  \n",
       "22                           8                 0  \n",
       "23                           8                 0  \n",
       "24                           8                 0  \n",
       "25                          14                 0  \n",
       "26                           8                 0  \n",
       "27                           8                 0  \n",
       "28                           8                 0  \n",
       "29                           8                 0  \n",
       "..                         ...               ...  \n",
       "170                          8                 0  \n",
       "171                          4                 0  \n",
       "172                          8                 0  \n",
       "173                         14                 0  \n",
       "174                          8                 0  \n",
       "175                          8                 0  \n",
       "176                          8                 0  \n",
       "177                          8                 0  \n",
       "178                          8                 0  \n",
       "179                          8                 0  \n",
       "180                          8                 0  \n",
       "181                         24                 0  \n",
       "182                          8                 0  \n",
       "183                         24                 0  \n",
       "184                          8                 0  \n",
       "185                          8                 0  \n",
       "186                          8                 0  \n",
       "187                          8                 0  \n",
       "188                          8                 0  \n",
       "189                          8                 0  \n",
       "190                          8                 0  \n",
       "191                          8                 0  \n",
       "192                          8                 0  \n",
       "193                          8                 0  \n",
       "194                          8                 0  \n",
       "195                          8                 0  \n",
       "196                          8                 0  \n",
       "197                          8                 0  \n",
       "198                          8                 0  \n",
       "199                         24                 0  \n",
       "\n",
       "[200 rows x 423 columns]"
      ]
     },
     "execution_count": 2,
     "metadata": {},
     "output_type": "execute_result"
    }
   ],
   "source": [
    "df=pd.read_csv('active discovery of da combination.csv')\n",
    "df"
   ]
  },
  {
   "cell_type": "code",
   "execution_count": 3,
   "metadata": {},
   "outputs": [
    {
     "name": "stdout",
     "output_type": "stream",
     "text": [
      "Features with zero standard deviation : 130\n"
     ]
    },
    {
     "data": {
      "text/plain": [
       "(200, 287)"
      ]
     },
     "execution_count": 3,
     "metadata": {},
     "output_type": "execute_result"
    }
   ],
   "source": [
    "output = df['PCE']\n",
    "b= df.drop(['PCE','Donor','Acceptor','Donor_can_smiles','Acceptor_can_smiles','D:A'],axis=1)\n",
    "b=b.select_dtypes(include='number')  \n",
    "print('Features with zero standard deviation :',len(b.std()[b.std() == 0])) #displaying features with zero std deviation\n",
    "b=b.drop(b.std()[b.std() == 0].index.values, axis=1)  # Dropping features with zero std deviation\n",
    "b = b.replace([np.inf, -np.inf], np.nan)\n",
    "b = b.replace(np.nan,0)  #replace null values with zero\n",
    "inputs=b\n",
    "inputs.shape"
   ]
  },
  {
   "cell_type": "code",
   "execution_count": 4,
   "metadata": {},
   "outputs": [
    {
     "name": "stdout",
     "output_type": "stream",
     "text": [
      "Features with correlation more than 0.8 : 161\n"
     ]
    }
   ],
   "source": [
    "def correlation(dataset, threshold):\n",
    "    col_corr = set()  # Set of all the names of correlated columns\n",
    "    corr_matrix = dataset.corr()\n",
    "    for i in range(len(corr_matrix.columns)):\n",
    "        for j in range(i):\n",
    "            if (corr_matrix.iloc[i, j]) > threshold: # we are interested in absolute coeff value\n",
    "                colname = corr_matrix.columns[i]  # getting the name of column\n",
    "                col_corr.add(colname)\n",
    "    return col_corr\n",
    "corr_features = correlation(b, 0.8)\n",
    "print('Features with correlation more than 0.8 :',len(set(corr_features)))\n",
    "b=b.drop(corr_features,axis=1)   # Dropping features with correlation more than 0.8"
   ]
  },
  {
   "cell_type": "code",
   "execution_count": 5,
   "metadata": {},
   "outputs": [
    {
     "data": {
      "text/plain": [
       "(200, 126)"
      ]
     },
     "execution_count": 5,
     "metadata": {},
     "output_type": "execute_result"
    }
   ],
   "source": [
    "inputs=b\n",
    "inputs.shape"
   ]
  },
  {
   "cell_type": "code",
   "execution_count": 6,
   "metadata": {},
   "outputs": [],
   "source": [
    "from sklearn.decomposition import PCA\n",
    "from sklearn.preprocessing import StandardScaler\n",
    "b_std = StandardScaler().fit_transform(b)\n",
    "from matplotlib.ticker import (MultipleLocator, FormatStrFormatter,\n",
    "                              AutoMinorLocator)"
   ]
  },
  {
   "cell_type": "code",
   "execution_count": 7,
   "metadata": {
    "scrolled": false
   },
   "outputs": [
    {
     "name": "stdout",
     "output_type": "stream",
     "text": [
      "No. of PC           Cumulative explained variance                                                   \n",
      "--------------------------------------------------\n",
      "1                   0.109931                                                                        \n",
      "2                   0.197539                                                                        \n",
      "3                   0.280769                                                                        \n",
      "4                   0.355799                                                                        \n",
      "5                   0.418546                                                                        \n",
      "6                   0.472248                                                                        \n",
      "7                   0.517136                                                                        \n",
      "8                   0.554122                                                                        \n",
      "9                   0.588196                                                                        \n",
      "10                  0.619524                                                                        \n",
      "11                  0.648591                                                                        \n",
      "12                  0.673463                                                                        \n",
      "13                  0.695092                                                                        \n",
      "14                  0.716074                                                                        \n",
      "15                  0.734476                                                                        \n",
      "16                  0.751450                                                                        \n",
      "17                  0.766214                                                                        \n",
      "18                  0.779673                                                                        \n",
      "19                  0.792612                                                                        \n",
      "20                  0.805115                                                                        \n",
      "21                  0.816821                                                                        \n",
      "22                  0.827923                                                                        \n",
      "23                  0.838498                                                                        \n",
      "24                  0.848722                                                                        \n",
      "25                  0.858399                                                                        \n",
      "26                  0.868044                                                                        \n",
      "27                  0.877069                                                                        \n",
      "28                  0.885865                                                                        \n",
      "29                  0.893930                                                                        \n",
      "30                  0.901683                                                                        \n",
      "31                  0.908974                                                                        \n",
      "32                  0.915851                                                                        \n",
      "33                  0.922474                                                                        \n",
      "34                  0.928467                                                                        \n",
      "35                  0.934221                                                                        \n",
      "36                  0.939713                                                                        \n",
      "37                  0.944629                                                                        \n",
      "38                  0.949286                                                                        \n",
      "39                  0.953814                                                                        \n",
      "40                  0.957399                                                                        \n",
      "41                  0.960974                                                                        \n",
      "42                  0.964301                                                                        \n",
      "43                  0.967437                                                                        \n",
      "44                  0.970213                                                                        \n",
      "45                  0.972637                                                                        \n",
      "46                  0.975026                                                                        \n",
      "47                  0.977221                                                                        \n",
      "48                  0.979176                                                                        \n",
      "49                  0.980900                                                                        \n",
      "50                  0.982441                                                                        \n",
      "51                  0.983859                                                                        \n",
      "52                  0.985244                                                                        \n",
      "53                  0.986541                                                                        \n",
      "54                  0.987676                                                                        \n",
      "55                  0.988785                                                                        \n",
      "56                  0.989874                                                                        \n",
      "57                  0.990774                                                                        \n",
      "58                  0.991652                                                                        \n",
      "59                  0.992436                                                                        \n",
      "60                  0.993196                                                                        \n"
     ]
    },
    {
     "data": {
      "image/png": "[encoded data removed]",
      "text/plain": [
       "<Figure size 864x720 with 1 Axes>"
      ]
     },
     "metadata": {
      "needs_background": "light"
     },
     "output_type": "display_data"
    }
   ],
   "source": [
    "pca = PCA().fit(b_std)\n",
    "\n",
    "#Plotting\n",
    "fig, ax1 = plt.subplots()\n",
    "ax1.set_xlabel('Number of PCs', fontsize=30,labelpad=20)\n",
    "ax1.set_ylabel('Cumulative explained variance', fontsize=30,labelpad=20)\n",
    "ax1.xaxis.set_major_locator(MultipleLocator(10))\n",
    "ax1.xaxis.set_minor_locator(MultipleLocator(5))\n",
    "ax1.tick_params(axis='both', which='major', direction='in', size=8, left='on', bottom='on', width=2, pad=15)\n",
    "ax1.tick_params(axis='both', which='minor', direction='in', size=4, left='on', bottom='on',width=1, pad=15)\n",
    "ax1.tick_params(axis=\"y\", labelsize=20)\n",
    "ax1.tick_params(axis=\"x\", labelsize=20)\n",
    "\n",
    "plt.gcf().set_size_inches((12, 10))\n",
    "evr = np.cumsum(pca.explained_variance_ratio_)\n",
    "evr =evr[:60]\n",
    "ax1.plot(evr, marker='^',markersize=16, markeredgecolor='black', \n",
    "         linestyle='-',linewidth=4, color='red')   # Plotting\n",
    "\n",
    "print('{:<20s}{:<80s}'.format('No. of PC','Cumulative explained variance'))\n",
    "print(50*'-')\n",
    "for i,a in enumerate(evr):\n",
    "    if a<=1:\n",
    "        print('{:<20d}{:<80f}'.format(i+1,a))"
   ]
  },
  {
   "cell_type": "markdown",
   "metadata": {},
   "source": [
    "## 4. Regression Models with Random Forests (Citrination's Lolopy) (<br>\n",
    "\n",
    "We will start by creating models for regression with all these entries and descriptors.\n",
    "\n",
    "\n",
    "\n",
    "A random forest from the lolopy library is implemented and an equivalent match plot is shown below. This library can yield the sample-wise uncertainties from a model, following the work from Ling et al, and using a combination of the jackknife-after-bootstrap and infinitesimal-jackknife estimates paired with a montecarlo sampling correction. More details on this uncertainty estimates are discussed in the next section.\n",
    "\n",
    "$$ \\sigma^2_i(x) = Cov_j[n_{i,J}, T_J(x)]^2 + [\\overline{T}_{-i}(x) - \\overline{T}(x)]^2 - \\frac{e\\nu}{N_T} $$"
   ]
  },
  {
   "cell_type": "code",
   "execution_count": 8,
   "metadata": {},
   "outputs": [],
   "source": [
    "from sklearn.model_selection import KFold\n",
    "from sklearn.model_selection import train_test_split\n",
    "train_inputs, test_inputs, train_outputs, test_outputs = train_test_split(inputs,output,test_size=0.1,random_state=1)"
   ]
  },
  {
   "cell_type": "code",
   "execution_count": 9,
   "metadata": {},
   "outputs": [],
   "source": [
    "from lolopy.learners import RandomForestRegressor\n",
    "model = RandomForestRegressor(num_trees=350)\n",
    "model.fit(np.array(train_inputs), np.array(train_outputs))\n",
    "\n",
    "y_pred, y_std = model.predict(test_inputs,return_std=True)\n",
    "y_train = model.predict(train_inputs)\n",
    "\n",
    "MAE_training = np.mean(abs(y_train - train_outputs))\n",
    "MAE_testing = np.mean(abs(y_pred - test_outputs) )"
   ]
  },
  {
   "cell_type": "code",
   "execution_count": 10,
   "metadata": {},
   "outputs": [
    {
     "data": {
      "text/plain": [
       "1.6655042857142857"
      ]
     },
     "execution_count": 10,
     "metadata": {},
     "output_type": "execute_result"
    }
   ],
   "source": [
    "MAE_testing "
   ]
  },
  {
   "cell_type": "markdown",
   "metadata": {},
   "source": [
    "## Evaluate Model Performance"
   ]
  },
  {
   "cell_type": "code",
   "execution_count": 11,
   "metadata": {},
   "outputs": [
    {
     "data": {
      "text/html": [
       "        <script type=\"text/javascript\">\n",
       "        window.PlotlyConfig = {MathJaxConfig: 'local'};\n",
       "        if (window.MathJax) {MathJax.Hub.Config({SVG: {font: \"STIX-Web\"}});}\n",
       "        if (typeof require !== 'undefined') {\n",
       "        require.undef(\"plotly\");\n",
       "        requirejs.config({\n",
       "            paths: {\n",
       "                'plotly': ['https://cdn.plot.ly/plotly-latest.min']\n",
       "            }\n",
       "        });\n",
       "        require(['plotly'], function(Plotly) {\n",
       "            window._Plotly = Plotly;\n",
       "        });\n",
       "        }\n",
       "        </script>\n",
       "        "
      ]
     },
     "metadata": {},
     "output_type": "display_data"
    },
    {
     "data": {
      "application/vnd.plotly.v1+json": {
       "config": {
        "linkText": "Export to plot.ly",
        "plotlyServerURL": "https://plot.ly",
        "showLink": false
       },
       "data": [
        {
         "marker": {
          "color": "blue",
          "size": 12
         },
         "mode": "markers",
         "name": "Training Data",
         "text": [
          51,
          16,
          44,
          94,
          31,
          162,
          38,
          28,
          193,
          27,
          47,
          165,
          194,
          177,
          176,
          97,
          174,
          73,
          69,
          172,
          108,
          107,
          189,
          14,
          56,
          19,
          114,
          39,
          185,
          124,
          98,
          123,
          119,
          53,
          33,
          179,
          181,
          106,
          199,
          138,
          116,
          67,
          78,
          42,
          17,
          5,
          127,
          105,
          48,
          66,
          54,
          84,
          183,
          158,
          166,
          113,
          12,
          117,
          93,
          120,
          154,
          90,
          81,
          122,
          191,
          13,
          82,
          132,
          187,
          45,
          99,
          36,
          161,
          186,
          153,
          103,
          195,
          197,
          148,
          173,
          75,
          21,
          91,
          152,
          2,
          70,
          85,
          150,
          6,
          112,
          0,
          155,
          77,
          65,
          55,
          167,
          88,
          130,
          46,
          62,
          74,
          92,
          147,
          160,
          143,
          87,
          180,
          145,
          164,
          10,
          32,
          83,
          182,
          100,
          125,
          23,
          126,
          9,
          170,
          104,
          151,
          135,
          111,
          188,
          64,
          15,
          41,
          163,
          109,
          80,
          52,
          26,
          76,
          43,
          24,
          3,
          169,
          49,
          149,
          131,
          190,
          30,
          121,
          115,
          175,
          8,
          60,
          128,
          1,
          57,
          22,
          61,
          63,
          7,
          196,
          141,
          86,
          96,
          68,
          50,
          142,
          157,
          156,
          139,
          146,
          101,
          20,
          178,
          25,
          134,
          71,
          129,
          144,
          192,
          79,
          133,
          137,
          72,
          140,
          37
         ],
         "type": "scatter",
         "x": [
          7.59,
          6.4,
          6,
          7.76,
          9.41,
          7.11,
          8.4,
          9.6,
          12.05,
          10.4,
          14.9,
          10.9,
          10.23,
          7.03,
          12.2,
          8.72,
          13.1,
          6.71,
          9.66,
          8.14,
          10.81,
          7.08,
          6.94,
          13.8,
          13.18,
          13.82,
          11.26,
          7,
          6.9,
          15.2,
          9.27,
          16.7,
          16.21,
          7,
          6.4,
          6.54,
          9.81,
          9.11,
          13.37,
          10.81,
          15.3,
          14.16,
          9.6,
          8.45,
          6.2,
          4.4,
          8.31,
          5.75,
          17.8,
          13.24,
          10.1,
          9.64,
          11.2,
          10.8,
          12.1,
          13.9,
          13.4,
          5.75,
          4.11,
          12.72,
          10.8,
          6,
          8.2,
          17.1,
          8.06,
          9.5,
          14.1,
          8.24,
          5.24,
          7.2,
          7.72,
          11.4,
          12.97,
          5.4,
          10.1,
          8.48,
          10.71,
          8.03,
          8.8,
          18.22,
          12.03,
          13.6,
          4.1,
          7.7,
          8.8,
          9.18,
          9.82,
          9.4,
          7.8,
          4.12,
          11.6,
          11.5,
          13.32,
          11.1,
          9.12,
          9.94,
          8.16,
          8.02,
          10.2,
          8.9,
          6.19,
          4.46,
          5.6,
          11.1,
          11.34,
          7.57,
          5.65,
          10.68,
          5.9,
          9.95,
          10.5,
          15.3,
          8.99,
          5.94,
          12.87,
          12.7,
          12.43,
          7.8,
          12.84,
          6.53,
          8.9,
          5.51,
          15.12,
          6.28,
          9.41,
          14.3,
          9.83,
          6.9,
          8.97,
          12.5,
          8.1,
          9.3,
          9.74,
          11.48,
          11.7,
          8,
          9.62,
          16.9,
          9.5,
          10.35,
          9.2,
          15,
          14,
          12.21,
          7.4,
          9.9,
          8.25,
          8.36,
          12.2,
          13.68,
          12.9,
          13.7,
          10.52,
          10.9,
          9.63,
          6.68,
          7.9,
          9.4,
          13.68,
          9.1,
          8.9,
          9.3,
          7.3,
          8.13,
          8.12,
          4.5,
          12.3,
          4.8,
          16.5,
          10.93,
          4.93,
          11.05,
          11.73,
          11.62,
          13.4,
          9.92,
          9.53,
          6.55,
          8.59,
          10.19
         ],
         "y": [
          7.90462857142858,
          9.233600000000033,
          6.492028571428574,
          8.037628571428602,
          8.878914285714275,
          7.950085714285714,
          8.010628571428603,
          10.061228571428549,
          11.459114285714342,
          10.307171428571465,
          15.421657142857116,
          10.23960000000004,
          10.383285714285737,
          7.079800000000015,
          10.636428571428542,
          9.15551428571425,
          13.084885714285694,
          6.970171428571441,
          9.211171428571406,
          8.033228571428575,
          10.924685714285674,
          7.573514285714264,
          7.470628571428601,
          13.434028571428634,
          11.884714285714233,
          13.029457142857165,
          11.163371428571486,
          7.3012285714285765,
          7.410000000000032,
          15.110599999999936,
          8.457514285714277,
          14.8663428571428,
          13.802714285714309,
          7.7034857142857085,
          6.971657142857171,
          6.534028571428557,
          9.980457142857098,
          8.606685714285716,
          12.91482857142852,
          9.72368571428571,
          13.42588571428577,
          13.185228571428535,
          10.189228571428542,
          9.283571428571394,
          7.229685714285708,
          6.199457142857168,
          8.992599999999976,
          7.51482857142857,
          17.14068571428576,
          12.276057142857066,
          10.055342857142817,
          9.301742857142852,
          10.548857142857091,
          10.47985714285717,
          10.510685714285689,
          13.230571428571414,
          12.280257142857167,
          9.021142857142856,
          5.077428571428549,
          12.215714285714238,
          9.86677142857145,
          6.126428571428567,
          10.62251428571424,
          15.80565714285717,
          8.536971428571402,
          9.92602857142858,
          14.343428571428582,
          8.420771428571388,
          6.0931428571428565,
          7.195685714285715,
          7.867685714285696,
          10.697742857142892,
          12.982371428571383,
          6.877057142857172,
          10.468399999999956,
          8.575457142857152,
          10.73331428571433,
          8.399542857142897,
          8.474571428571453,
          15.384257142857134,
          11.91080000000003,
          13.184314285714274,
          5.12799999999998,
          8.719114285714271,
          9.09271428571431,
          9.310485714285678,
          9.226828571428602,
          9.19191428571433,
          8.97171428571432,
          6.047057142857107,
          11.070771428571389,
          11.129914285714277,
          13.481000000000003,
          10.595171428571375,
          10.407257142857075,
          9.905085714285736,
          7.6228,
          8.7612857142857,
          9.635428571428546,
          9.893457142857176,
          6.802914285714313,
          5.614800000000015,
          6.517799999999973,
          10.671399999999965,
          10.649571428571468,
          7.82537142857145,
          7.173571428571449,
          10.255685714285683,
          6.836628571428606,
          9.926142857142814,
          9.781714285714282,
          15.207657142857208,
          8.561399999999969,
          6.816942857142886,
          13.08357142857137,
          12.659399999999938,
          12.48174285714282,
          8.697000000000019,
          11.494428571428594,
          7.2408571428571475,
          8.85045714285718,
          6.6367142857143,
          14.451285714285659,
          6.65388571428571,
          9.897199999999957,
          13.28420000000005,
          9.912628571428533,
          7.269200000000034,
          9.866599999999949,
          12.264285714285721,
          8.193685714285682,
          9.63840000000003,
          10.740799999999968,
          11.17111428571428,
          10.295485714285673,
          8.11305714285714,
          10.029914285714238,
          16.83554285714283,
          9.50502857142858,
          9.285685714285677,
          8.828914285714268,
          14.816171428571423,
          13.27114285714286,
          11.783285714285727,
          8.274057142857174,
          10.416885714285756,
          8.4624,
          8.56105714285715,
          11.409228571428526,
          12.594057142857103,
          13.091885714285711,
          13.299228571428507,
          10.455571428571403,
          10.602000000000043,
          10.199542857142914,
          7.154371428571425,
          8.0917428571429,
          9.08177142857147,
          12.08962857142852,
          8.723942857142832,
          8.703542857142901,
          10.492371428571458,
          8.141485714285732,
          8.406142857142898,
          8.460714285714241,
          6.112399999999996,
          12.04057142857147,
          5.907085714285696,
          15.715428571428568,
          9.752714285714259,
          5.927400000000009,
          10.469000000000035,
          11.255371428571438,
          11.169342857142821,
          12.37285714285716,
          9.738628571428599,
          9.180914285714328,
          6.649657142857141,
          8.91465714285716,
          9.664742857142885
         ]
        },
        {
         "error_y": {
          "array": [
           1.3848008349345877,
           1.6283457260423118,
           2.1418348918748142,
           2.1020017405399334,
           1.7273176754801658,
           1.8243581402299185,
           1.5149820936786726,
           2.334073495474355,
           2.4712764812100776,
           2.15806364670594,
           2.6610673159328964,
           1.9536170387717433,
           2.6585291339302253,
           2.5698037379807146,
           2.7359319116704577,
           4.7895061858075465,
           1.5059969965924223,
           2.852235797656977,
           1.7772830209489483,
           1.445082285586621
          ],
          "type": "data",
          "visible": true
         },
         "marker": {
          "color": "red",
          "size": 12
         },
         "mode": "markers",
         "name": "Testing Data",
         "text": [
          58,
          40,
          34,
          102,
          184,
          198,
          95,
          4,
          29,
          168,
          171,
          18,
          11,
          89,
          110,
          118,
          159,
          35,
          136,
          59
         ],
         "type": "scatter",
         "x": [
          13.31,
          5.4,
          7.2,
          8.53,
          5.5,
          7.21,
          10.18,
          8.9,
          5.5,
          8.05,
          18.32,
          11.46,
          13.42,
          8.49,
          11.59,
          10.5,
          9.7,
          10.5,
          8.97,
          16.64
         ],
         "y": [
          15.09,
          6.6252857142856945,
          8.039828571428561,
          7.975028571428577,
          6.950542857142858,
          9.77442857142861,
          8.659828571428575,
          8.083971428571434,
          9.63434285714286,
          9.869485714285732,
          14.749371428571417,
          12.469514285714261,
          11.491485714285728,
          6.598742857142842,
          10.347314285714246,
          10.878542857142854,
          12.519257142857116,
          8.942257142857155,
          9.262142857142862,
          14.725285714285718
         ]
        },
        {
         "marker": {
          "color": "black",
          "size": 12
         },
         "mode": "lines",
         "name": "Linear Fit",
         "text": "Fit",
         "type": "scatter",
         "x": [
          4.1,
          4.390204081632652,
          4.680408163265306,
          4.970612244897959,
          5.2608163265306125,
          5.551020408163265,
          5.841224489795918,
          6.131428571428572,
          6.421632653061224,
          6.711836734693877,
          7.002040816326531,
          7.292244897959184,
          7.582448979591836,
          7.87265306122449,
          8.162857142857142,
          8.453061224489797,
          8.74326530612245,
          9.033469387755101,
          9.323673469387757,
          9.613877551020408,
          9.904081632653062,
          10.194285714285716,
          10.484489795918368,
          10.774693877551021,
          11.064897959183675,
          11.355102040816327,
          11.64530612244898,
          11.935510204081634,
          12.225714285714286,
          12.51591836734694,
          12.806122448979593,
          13.096326530612245,
          13.386530612244899,
          13.676734693877552,
          13.966938775510204,
          14.257142857142858,
          14.547346938775512,
          14.837551020408164,
          15.127755102040817,
          15.41795918367347,
          15.708163265306125,
          15.998367346938776,
          16.28857142857143,
          16.578775510204082,
          16.868979591836734,
          17.15918367346939,
          17.449387755102045,
          17.739591836734697,
          18.02979591836735,
          18.32
         ],
         "y": [
          4.1,
          4.390204081632652,
          4.680408163265306,
          4.970612244897959,
          5.2608163265306125,
          5.551020408163265,
          5.841224489795918,
          6.131428571428572,
          6.421632653061224,
          6.711836734693877,
          7.002040816326531,
          7.292244897959184,
          7.582448979591836,
          7.87265306122449,
          8.162857142857142,
          8.453061224489797,
          8.74326530612245,
          9.033469387755101,
          9.323673469387757,
          9.613877551020408,
          9.904081632653062,
          10.194285714285716,
          10.484489795918368,
          10.774693877551021,
          11.064897959183675,
          11.355102040816327,
          11.64530612244898,
          11.935510204081634,
          12.225714285714286,
          12.51591836734694,
          12.806122448979593,
          13.096326530612245,
          13.386530612244899,
          13.676734693877552,
          13.966938775510204,
          14.257142857142858,
          14.547346938775512,
          14.837551020408164,
          15.127755102040817,
          15.41795918367347,
          15.708163265306125,
          15.998367346938776,
          16.28857142857143,
          16.578775510204082,
          16.868979591836734,
          17.15918367346939,
          17.449387755102045,
          17.739591836734697,
          18.02979591836735,
          18.32
         ]
        }
       ],
       "layout": {
        "font": {
         "family": "Times New Roman",
         "size": 28
        },
        "height": 600,
        "hovermode": "closest",
        "showlegend": true,
        "template": {
         "data": {
          "bar": [
           {
            "error_x": {
             "color": "#2a3f5f"
            },
            "error_y": {
             "color": "#2a3f5f"
            },
            "marker": {
             "line": {
              "color": "#E5ECF6",
              "width": 0.5
             }
            },
            "type": "bar"
           }
          ],
          "barpolar": [
           {
            "marker": {
             "line": {
              "color": "#E5ECF6",
              "width": 0.5
             }
            },
            "type": "barpolar"
           }
          ],
          "carpet": [
           {
            "aaxis": {
             "endlinecolor": "#2a3f5f",
             "gridcolor": "white",
             "linecolor": "white",
             "minorgridcolor": "white",
             "startlinecolor": "#2a3f5f"
            },
            "baxis": {
             "endlinecolor": "#2a3f5f",
             "gridcolor": "white",
             "linecolor": "white",
             "minorgridcolor": "white",
             "startlinecolor": "#2a3f5f"
            },
            "type": "carpet"
           }
          ],
          "choropleth": [
           {
            "colorbar": {
             "outlinewidth": 0,
             "ticks": ""
            },
            "type": "choropleth"
           }
          ],
          "contour": [
           {
            "colorbar": {
             "outlinewidth": 0,
             "ticks": ""
            },
            "colorscale": [
             [
              0,
              "#0d0887"
             ],
             [
              0.1111111111111111,
              "#46039f"
             ],
             [
              0.2222222222222222,
              "#7201a8"
             ],
             [
              0.3333333333333333,
              "#9c179e"
             ],
             [
              0.4444444444444444,
              "#bd3786"
             ],
             [
              0.5555555555555556,
              "#d8576b"
             ],
             [
              0.6666666666666666,
              "#ed7953"
             ],
             [
              0.7777777777777778,
              "#fb9f3a"
             ],
             [
              0.8888888888888888,
              "#fdca26"
             ],
             [
              1,
              "#f0f921"
             ]
            ],
            "type": "contour"
           }
          ],
          "contourcarpet": [
           {
            "colorbar": {
             "outlinewidth": 0,
             "ticks": ""
            },
            "type": "contourcarpet"
           }
          ],
          "heatmap": [
           {
            "colorbar": {
             "outlinewidth": 0,
             "ticks": ""
            },
            "colorscale": [
             [
              0,
              "#0d0887"
             ],
             [
              0.1111111111111111,
              "#46039f"
             ],
             [
              0.2222222222222222,
              "#7201a8"
             ],
             [
              0.3333333333333333,
              "#9c179e"
             ],
             [
              0.4444444444444444,
              "#bd3786"
             ],
             [
              0.5555555555555556,
              "#d8576b"
             ],
             [
              0.6666666666666666,
              "#ed7953"
             ],
             [
              0.7777777777777778,
              "#fb9f3a"
             ],
             [
              0.8888888888888888,
              "#fdca26"
             ],
             [
              1,
              "#f0f921"
             ]
            ],
            "type": "heatmap"
           }
          ],
          "heatmapgl": [
           {
            "colorbar": {
             "outlinewidth": 0,
             "ticks": ""
            },
            "colorscale": [
             [
              0,
              "#0d0887"
             ],
             [
              0.1111111111111111,
              "#46039f"
             ],
             [
              0.2222222222222222,
              "#7201a8"
             ],
             [
              0.3333333333333333,
              "#9c179e"
             ],
             [
              0.4444444444444444,
              "#bd3786"
             ],
             [
              0.5555555555555556,
              "#d8576b"
             ],
             [
              0.6666666666666666,
              "#ed7953"
             ],
             [
              0.7777777777777778,
              "#fb9f3a"
             ],
             [
              0.8888888888888888,
              "#fdca26"
             ],
             [
              1,
              "#f0f921"
             ]
            ],
            "type": "heatmapgl"
           }
          ],
          "histogram": [
           {
            "marker": {
             "colorbar": {
              "outlinewidth": 0,
              "ticks": ""
             }
            },
            "type": "histogram"
           }
          ],
          "histogram2d": [
           {
            "colorbar": {
             "outlinewidth": 0,
             "ticks": ""
            },
            "colorscale": [
             [
              0,
              "#0d0887"
             ],
             [
              0.1111111111111111,
              "#46039f"
             ],
             [
              0.2222222222222222,
              "#7201a8"
             ],
             [
              0.3333333333333333,
              "#9c179e"
             ],
             [
              0.4444444444444444,
              "#bd3786"
             ],
             [
              0.5555555555555556,
              "#d8576b"
             ],
             [
              0.6666666666666666,
              "#ed7953"
             ],
             [
              0.7777777777777778,
              "#fb9f3a"
             ],
             [
              0.8888888888888888,
              "#fdca26"
             ],
             [
              1,
              "#f0f921"
             ]
            ],
            "type": "histogram2d"
           }
          ],
          "histogram2dcontour": [
           {
            "colorbar": {
             "outlinewidth": 0,
             "ticks": ""
            },
            "colorscale": [
             [
              0,
              "#0d0887"
             ],
             [
              0.1111111111111111,
              "#46039f"
             ],
             [
              0.2222222222222222,
              "#7201a8"
             ],
             [
              0.3333333333333333,
              "#9c179e"
             ],
             [
              0.4444444444444444,
              "#bd3786"
             ],
             [
              0.5555555555555556,
              "#d8576b"
             ],
             [
              0.6666666666666666,
              "#ed7953"
             ],
             [
              0.7777777777777778,
              "#fb9f3a"
             ],
             [
              0.8888888888888888,
              "#fdca26"
             ],
             [
              1,
              "#f0f921"
             ]
            ],
            "type": "histogram2dcontour"
           }
          ],
          "mesh3d": [
           {
            "colorbar": {
             "outlinewidth": 0,
             "ticks": ""
            },
            "type": "mesh3d"
           }
          ],
          "parcoords": [
           {
            "line": {
             "colorbar": {
              "outlinewidth": 0,
              "ticks": ""
             }
            },
            "type": "parcoords"
           }
          ],
          "pie": [
           {
            "automargin": true,
            "type": "pie"
           }
          ],
          "scatter": [
           {
            "marker": {
             "colorbar": {
              "outlinewidth": 0,
              "ticks": ""
             }
            },
            "type": "scatter"
           }
          ],
          "scatter3d": [
           {
            "line": {
             "colorbar": {
              "outlinewidth": 0,
              "ticks": ""
             }
            },
            "marker": {
             "colorbar": {
              "outlinewidth": 0,
              "ticks": ""
             }
            },
            "type": "scatter3d"
           }
          ],
          "scattercarpet": [
           {
            "marker": {
             "colorbar": {
              "outlinewidth": 0,
              "ticks": ""
             }
            },
            "type": "scattercarpet"
           }
          ],
          "scattergeo": [
           {
            "marker": {
             "colorbar": {
              "outlinewidth": 0,
              "ticks": ""
             }
            },
            "type": "scattergeo"
           }
          ],
          "scattergl": [
           {
            "marker": {
             "colorbar": {
              "outlinewidth": 0,
              "ticks": ""
             }
            },
            "type": "scattergl"
           }
          ],
          "scattermapbox": [
           {
            "marker": {
             "colorbar": {
              "outlinewidth": 0,
              "ticks": ""
             }
            },
            "type": "scattermapbox"
           }
          ],
          "scatterpolar": [
           {
            "marker": {
             "colorbar": {
              "outlinewidth": 0,
              "ticks": ""
             }
            },
            "type": "scatterpolar"
           }
          ],
          "scatterpolargl": [
           {
            "marker": {
             "colorbar": {
              "outlinewidth": 0,
              "ticks": ""
             }
            },
            "type": "scatterpolargl"
           }
          ],
          "scatterternary": [
           {
            "marker": {
             "colorbar": {
              "outlinewidth": 0,
              "ticks": ""
             }
            },
            "type": "scatterternary"
           }
          ],
          "surface": [
           {
            "colorbar": {
             "outlinewidth": 0,
             "ticks": ""
            },
            "colorscale": [
             [
              0,
              "#0d0887"
             ],
             [
              0.1111111111111111,
              "#46039f"
             ],
             [
              0.2222222222222222,
              "#7201a8"
             ],
             [
              0.3333333333333333,
              "#9c179e"
             ],
             [
              0.4444444444444444,
              "#bd3786"
             ],
             [
              0.5555555555555556,
              "#d8576b"
             ],
             [
              0.6666666666666666,
              "#ed7953"
             ],
             [
              0.7777777777777778,
              "#fb9f3a"
             ],
             [
              0.8888888888888888,
              "#fdca26"
             ],
             [
              1,
              "#f0f921"
             ]
            ],
            "type": "surface"
           }
          ],
          "table": [
           {
            "cells": {
             "fill": {
              "color": "#EBF0F8"
             },
             "line": {
              "color": "white"
             }
            },
            "header": {
             "fill": {
              "color": "#C8D4E3"
             },
             "line": {
              "color": "white"
             }
            },
            "type": "table"
           }
          ]
         },
         "layout": {
          "annotationdefaults": {
           "arrowcolor": "#2a3f5f",
           "arrowhead": 0,
           "arrowwidth": 1
          },
          "autotypenumbers": "strict",
          "coloraxis": {
           "colorbar": {
            "outlinewidth": 0,
            "ticks": ""
           }
          },
          "colorscale": {
           "diverging": [
            [
             0,
             "#8e0152"
            ],
            [
             0.1,
             "#c51b7d"
            ],
            [
             0.2,
             "#de77ae"
            ],
            [
             0.3,
             "#f1b6da"
            ],
            [
             0.4,
             "#fde0ef"
            ],
            [
             0.5,
             "#f7f7f7"
            ],
            [
             0.6,
             "#e6f5d0"
            ],
            [
             0.7,
             "#b8e186"
            ],
            [
             0.8,
             "#7fbc41"
            ],
            [
             0.9,
             "#4d9221"
            ],
            [
             1,
             "#276419"
            ]
           ],
           "sequential": [
            [
             0,
             "#0d0887"
            ],
            [
             0.1111111111111111,
             "#46039f"
            ],
            [
             0.2222222222222222,
             "#7201a8"
            ],
            [
             0.3333333333333333,
             "#9c179e"
            ],
            [
             0.4444444444444444,
             "#bd3786"
            ],
            [
             0.5555555555555556,
             "#d8576b"
            ],
            [
             0.6666666666666666,
             "#ed7953"
            ],
            [
             0.7777777777777778,
             "#fb9f3a"
            ],
            [
             0.8888888888888888,
             "#fdca26"
            ],
            [
             1,
             "#f0f921"
            ]
           ],
           "sequentialminus": [
            [
             0,
             "#0d0887"
            ],
            [
             0.1111111111111111,
             "#46039f"
            ],
            [
             0.2222222222222222,
             "#7201a8"
            ],
            [
             0.3333333333333333,
             "#9c179e"
            ],
            [
             0.4444444444444444,
             "#bd3786"
            ],
            [
             0.5555555555555556,
             "#d8576b"
            ],
            [
             0.6666666666666666,
             "#ed7953"
            ],
            [
             0.7777777777777778,
             "#fb9f3a"
            ],
            [
             0.8888888888888888,
             "#fdca26"
            ],
            [
             1,
             "#f0f921"
            ]
           ]
          },
          "colorway": [
           "#636efa",
           "#EF553B",
           "#00cc96",
           "#ab63fa",
           "#FFA15A",
           "#19d3f3",
           "#FF6692",
           "#B6E880",
           "#FF97FF",
           "#FECB52"
          ],
          "font": {
           "color": "#2a3f5f"
          },
          "geo": {
           "bgcolor": "white",
           "lakecolor": "white",
           "landcolor": "#E5ECF6",
           "showlakes": true,
           "showland": true,
           "subunitcolor": "white"
          },
          "hoverlabel": {
           "align": "left"
          },
          "hovermode": "closest",
          "mapbox": {
           "style": "light"
          },
          "paper_bgcolor": "white",
          "plot_bgcolor": "#E5ECF6",
          "polar": {
           "angularaxis": {
            "gridcolor": "white",
            "linecolor": "white",
            "ticks": ""
           },
           "bgcolor": "#E5ECF6",
           "radialaxis": {
            "gridcolor": "white",
            "linecolor": "white",
            "ticks": ""
           }
          },
          "scene": {
           "xaxis": {
            "backgroundcolor": "#E5ECF6",
            "gridcolor": "white",
            "gridwidth": 2,
            "linecolor": "white",
            "showbackground": true,
            "ticks": "",
            "zerolinecolor": "white"
           },
           "yaxis": {
            "backgroundcolor": "#E5ECF6",
            "gridcolor": "white",
            "gridwidth": 2,
            "linecolor": "white",
            "showbackground": true,
            "ticks": "",
            "zerolinecolor": "white"
           },
           "zaxis": {
            "backgroundcolor": "#E5ECF6",
            "gridcolor": "white",
            "gridwidth": 2,
            "linecolor": "white",
            "showbackground": true,
            "ticks": "",
            "zerolinecolor": "white"
           }
          },
          "shapedefaults": {
           "line": {
            "color": "#2a3f5f"
           }
          },
          "ternary": {
           "aaxis": {
            "gridcolor": "white",
            "linecolor": "white",
            "ticks": ""
           },
           "baxis": {
            "gridcolor": "white",
            "linecolor": "white",
            "ticks": ""
           },
           "bgcolor": "#E5ECF6",
           "caxis": {
            "gridcolor": "white",
            "linecolor": "white",
            "ticks": ""
           }
          },
          "title": {
           "x": 0.05
          },
          "xaxis": {
           "automargin": true,
           "gridcolor": "white",
           "linecolor": "white",
           "ticks": "",
           "title": {
            "standoff": 15
           },
           "zerolinecolor": "white",
           "zerolinewidth": 2
          },
          "yaxis": {
           "automargin": true,
           "gridcolor": "white",
           "linecolor": "white",
           "ticks": "",
           "title": {
            "standoff": 15
           },
           "zerolinecolor": "white",
           "zerolinewidth": 2
          }
         }
        },
        "title": {
         "text": "PCE - MAE: 1.666 HV"
        },
        "width": 800,
        "xaxis": {
         "gridwidth": 2,
         "title": {
          "text": "Reported PCE (%)"
         },
         "zeroline": false
        },
        "yaxis": {
         "gridwidth": 2,
         "title": {
          "text": "Predicted PCE (%)"
         },
         "zeroline": false
        }
       }
      },
      "text/html": [
       "<div>                            <div id=\"644c00ac-4cdb-444e-a996-c7e46ab43b4b\" class=\"plotly-graph-div\" style=\"height:600px; width:800px;\"></div>            <script type=\"text/javascript\">                require([\"plotly\"], function(Plotly) {                    window.PLOTLYENV=window.PLOTLYENV || {};                                    if (document.getElementById(\"644c00ac-4cdb-444e-a996-c7e46ab43b4b\")) {                    Plotly.newPlot(                        \"644c00ac-4cdb-444e-a996-c7e46ab43b4b\",                        [{\"marker\": {\"color\": \"blue\", \"size\": 12}, \"mode\": \"markers\", \"name\": \"Training Data\", \"text\": [51.0, 16.0, 44.0, 94.0, 31.0, 162.0, 38.0, 28.0, 193.0, 27.0, 47.0, 165.0, 194.0, 177.0, 176.0, 97.0, 174.0, 73.0, 69.0, 172.0, 108.0, 107.0, 189.0, 14.0, 56.0, 19.0, 114.0, 39.0, 185.0, 124.0, 98.0, 123.0, 119.0, 53.0, 33.0, 179.0, 181.0, 106.0, 199.0, 138.0, 116.0, 67.0, 78.0, 42.0, 17.0, 5.0, 127.0, 105.0, 48.0, 66.0, 54.0, 84.0, 183.0, 158.0, 166.0, 113.0, 12.0, 117.0, 93.0, 120.0, 154.0, 90.0, 81.0, 122.0, 191.0, 13.0, 82.0, 132.0, 187.0, 45.0, 99.0, 36.0, 161.0, 186.0, 153.0, 103.0, 195.0, 197.0, 148.0, 173.0, 75.0, 21.0, 91.0, 152.0, 2.0, 70.0, 85.0, 150.0, 6.0, 112.0, 0.0, 155.0, 77.0, 65.0, 55.0, 167.0, 88.0, 130.0, 46.0, 62.0, 74.0, 92.0, 147.0, 160.0, 143.0, 87.0, 180.0, 145.0, 164.0, 10.0, 32.0, 83.0, 182.0, 100.0, 125.0, 23.0, 126.0, 9.0, 170.0, 104.0, 151.0, 135.0, 111.0, 188.0, 64.0, 15.0, 41.0, 163.0, 109.0, 80.0, 52.0, 26.0, 76.0, 43.0, 24.0, 3.0, 169.0, 49.0, 149.0, 131.0, 190.0, 30.0, 121.0, 115.0, 175.0, 8.0, 60.0, 128.0, 1.0, 57.0, 22.0, 61.0, 63.0, 7.0, 196.0, 141.0, 86.0, 96.0, 68.0, 50.0, 142.0, 157.0, 156.0, 139.0, 146.0, 101.0, 20.0, 178.0, 25.0, 134.0, 71.0, 129.0, 144.0, 192.0, 79.0, 133.0, 137.0, 72.0, 140.0, 37.0], \"type\": \"scatter\", \"x\": [7.59, 6.4, 6.0, 7.76, 9.41, 7.11, 8.4, 9.6, 12.05, 10.4, 14.9, 10.9, 10.23, 7.03, 12.2, 8.72, 13.1, 6.71, 9.66, 8.14, 10.81, 7.08, 6.94, 13.8, 13.18, 13.82, 11.26, 7.0, 6.9, 15.2, 9.27, 16.7, 16.21, 7.0, 6.4, 6.54, 9.81, 9.11, 13.37, 10.81, 15.3, 14.16, 9.6, 8.45, 6.2, 4.4, 8.31, 5.75, 17.8, 13.24, 10.1, 9.64, 11.2, 10.8, 12.1, 13.9, 13.4, 5.75, 4.11, 12.72, 10.8, 6.0, 8.2, 17.1, 8.06, 9.5, 14.1, 8.24, 5.24, 7.2, 7.72, 11.4, 12.97, 5.4, 10.1, 8.48, 10.71, 8.03, 8.8, 18.22, 12.03, 13.6, 4.1, 7.7, 8.8, 9.18, 9.82, 9.4, 7.8, 4.12, 11.6, 11.5, 13.32, 11.1, 9.12, 9.94, 8.16, 8.02, 10.2, 8.9, 6.19, 4.46, 5.6, 11.1, 11.34, 7.57, 5.65, 10.68, 5.9, 9.95, 10.5, 15.3, 8.99, 5.94, 12.87, 12.7, 12.43, 7.8, 12.84, 6.53, 8.9, 5.51, 15.12, 6.28, 9.41, 14.3, 9.83, 6.9, 8.97, 12.5, 8.1, 9.3, 9.74, 11.48, 11.7, 8.0, 9.62, 16.9, 9.5, 10.35, 9.2, 15.0, 14.0, 12.21, 7.4, 9.9, 8.25, 8.36, 12.2, 13.68, 12.9, 13.7, 10.52, 10.9, 9.63, 6.68, 7.9, 9.4, 13.68, 9.1, 8.9, 9.3, 7.3, 8.13, 8.12, 4.5, 12.3, 4.8, 16.5, 10.93, 4.93, 11.05, 11.73, 11.62, 13.4, 9.92, 9.53, 6.55, 8.59, 10.19], \"y\": [7.90462857142858, 9.233600000000033, 6.492028571428574, 8.037628571428602, 8.878914285714275, 7.950085714285714, 8.010628571428603, 10.061228571428549, 11.459114285714342, 10.307171428571465, 15.421657142857116, 10.23960000000004, 10.383285714285737, 7.079800000000015, 10.636428571428542, 9.15551428571425, 13.084885714285694, 6.970171428571441, 9.211171428571406, 8.033228571428575, 10.924685714285674, 7.573514285714264, 7.470628571428601, 13.434028571428634, 11.884714285714233, 13.029457142857165, 11.163371428571486, 7.3012285714285765, 7.410000000000032, 15.110599999999936, 8.457514285714277, 14.8663428571428, 13.802714285714309, 7.7034857142857085, 6.971657142857171, 6.534028571428557, 9.980457142857098, 8.606685714285716, 12.91482857142852, 9.72368571428571, 13.42588571428577, 13.185228571428535, 10.189228571428542, 9.283571428571394, 7.229685714285708, 6.199457142857168, 8.992599999999976, 7.51482857142857, 17.14068571428576, 12.276057142857066, 10.055342857142817, 9.301742857142852, 10.548857142857091, 10.47985714285717, 10.510685714285689, 13.230571428571414, 12.280257142857167, 9.021142857142856, 5.077428571428549, 12.215714285714238, 9.86677142857145, 6.126428571428567, 10.62251428571424, 15.80565714285717, 8.536971428571402, 9.92602857142858, 14.343428571428582, 8.420771428571388, 6.0931428571428565, 7.195685714285715, 7.867685714285696, 10.697742857142892, 12.982371428571383, 6.877057142857172, 10.468399999999956, 8.575457142857152, 10.73331428571433, 8.399542857142897, 8.474571428571453, 15.384257142857134, 11.91080000000003, 13.184314285714274, 5.12799999999998, 8.719114285714271, 9.09271428571431, 9.310485714285678, 9.226828571428602, 9.19191428571433, 8.97171428571432, 6.047057142857107, 11.070771428571389, 11.129914285714277, 13.481000000000003, 10.595171428571375, 10.407257142857075, 9.905085714285736, 7.6228, 8.7612857142857, 9.635428571428546, 9.893457142857176, 6.802914285714313, 5.614800000000015, 6.517799999999973, 10.671399999999965, 10.649571428571468, 7.82537142857145, 7.173571428571449, 10.255685714285683, 6.836628571428606, 9.926142857142814, 9.781714285714282, 15.207657142857208, 8.561399999999969, 6.816942857142886, 13.08357142857137, 12.659399999999938, 12.48174285714282, 8.697000000000019, 11.494428571428594, 7.2408571428571475, 8.85045714285718, 6.6367142857143, 14.451285714285659, 6.65388571428571, 9.897199999999957, 13.28420000000005, 9.912628571428533, 7.269200000000034, 9.866599999999949, 12.264285714285721, 8.193685714285682, 9.63840000000003, 10.740799999999968, 11.17111428571428, 10.295485714285673, 8.11305714285714, 10.029914285714238, 16.83554285714283, 9.50502857142858, 9.285685714285677, 8.828914285714268, 14.816171428571423, 13.27114285714286, 11.783285714285727, 8.274057142857174, 10.416885714285756, 8.4624, 8.56105714285715, 11.409228571428526, 12.594057142857103, 13.091885714285711, 13.299228571428507, 10.455571428571403, 10.602000000000043, 10.199542857142914, 7.154371428571425, 8.0917428571429, 9.08177142857147, 12.08962857142852, 8.723942857142832, 8.703542857142901, 10.492371428571458, 8.141485714285732, 8.406142857142898, 8.460714285714241, 6.112399999999996, 12.04057142857147, 5.907085714285696, 15.715428571428568, 9.752714285714259, 5.927400000000009, 10.469000000000035, 11.255371428571438, 11.169342857142821, 12.37285714285716, 9.738628571428599, 9.180914285714328, 6.649657142857141, 8.91465714285716, 9.664742857142885]}, {\"error_y\": {\"array\": [1.3848008349345877, 1.6283457260423118, 2.1418348918748142, 2.1020017405399334, 1.7273176754801658, 1.8243581402299185, 1.5149820936786726, 2.334073495474355, 2.4712764812100776, 2.15806364670594, 2.6610673159328964, 1.9536170387717433, 2.6585291339302253, 2.5698037379807146, 2.7359319116704577, 4.7895061858075465, 1.5059969965924223, 2.852235797656977, 1.7772830209489483, 1.445082285586621], \"type\": \"data\", \"visible\": true}, \"marker\": {\"color\": \"red\", \"size\": 12}, \"mode\": \"markers\", \"name\": \"Testing Data\", \"text\": [58.0, 40.0, 34.0, 102.0, 184.0, 198.0, 95.0, 4.0, 29.0, 168.0, 171.0, 18.0, 11.0, 89.0, 110.0, 118.0, 159.0, 35.0, 136.0, 59.0], \"type\": \"scatter\", \"x\": [13.31, 5.4, 7.2, 8.53, 5.5, 7.21, 10.18, 8.9, 5.5, 8.05, 18.32, 11.46, 13.42, 8.49, 11.59, 10.5, 9.7, 10.5, 8.97, 16.64], \"y\": [15.09, 6.6252857142856945, 8.039828571428561, 7.975028571428577, 6.950542857142858, 9.77442857142861, 8.659828571428575, 8.083971428571434, 9.63434285714286, 9.869485714285732, 14.749371428571417, 12.469514285714261, 11.491485714285728, 6.598742857142842, 10.347314285714246, 10.878542857142854, 12.519257142857116, 8.942257142857155, 9.262142857142862, 14.725285714285718]}, {\"marker\": {\"color\": \"black\", \"size\": 12}, \"mode\": \"lines\", \"name\": \"Linear Fit\", \"text\": \"Fit\", \"type\": \"scatter\", \"x\": [4.1, 4.390204081632652, 4.680408163265306, 4.970612244897959, 5.2608163265306125, 5.551020408163265, 5.841224489795918, 6.131428571428572, 6.421632653061224, 6.711836734693877, 7.002040816326531, 7.292244897959184, 7.582448979591836, 7.87265306122449, 8.162857142857142, 8.453061224489797, 8.74326530612245, 9.033469387755101, 9.323673469387757, 9.613877551020408, 9.904081632653062, 10.194285714285716, 10.484489795918368, 10.774693877551021, 11.064897959183675, 11.355102040816327, 11.64530612244898, 11.935510204081634, 12.225714285714286, 12.51591836734694, 12.806122448979593, 13.096326530612245, 13.386530612244899, 13.676734693877552, 13.966938775510204, 14.257142857142858, 14.547346938775512, 14.837551020408164, 15.127755102040817, 15.41795918367347, 15.708163265306125, 15.998367346938776, 16.28857142857143, 16.578775510204082, 16.868979591836734, 17.15918367346939, 17.449387755102045, 17.739591836734697, 18.02979591836735, 18.32], \"y\": [4.1, 4.390204081632652, 4.680408163265306, 4.970612244897959, 5.2608163265306125, 5.551020408163265, 5.841224489795918, 6.131428571428572, 6.421632653061224, 6.711836734693877, 7.002040816326531, 7.292244897959184, 7.582448979591836, 7.87265306122449, 8.162857142857142, 8.453061224489797, 8.74326530612245, 9.033469387755101, 9.323673469387757, 9.613877551020408, 9.904081632653062, 10.194285714285716, 10.484489795918368, 10.774693877551021, 11.064897959183675, 11.355102040816327, 11.64530612244898, 11.935510204081634, 12.225714285714286, 12.51591836734694, 12.806122448979593, 13.096326530612245, 13.386530612244899, 13.676734693877552, 13.966938775510204, 14.257142857142858, 14.547346938775512, 14.837551020408164, 15.127755102040817, 15.41795918367347, 15.708163265306125, 15.998367346938776, 16.28857142857143, 16.578775510204082, 16.868979591836734, 17.15918367346939, 17.449387755102045, 17.739591836734697, 18.02979591836735, 18.32]}],                        {\"font\": {\"family\": \"Times New Roman\", \"size\": 28}, \"height\": 600, \"hovermode\": \"closest\", \"showlegend\": true, \"template\": {\"data\": {\"bar\": [{\"error_x\": {\"color\": \"#2a3f5f\"}, \"error_y\": {\"color\": \"#2a3f5f\"}, \"marker\": {\"line\": {\"color\": \"#E5ECF6\", \"width\": 0.5}}, \"type\": \"bar\"}], \"barpolar\": [{\"marker\": {\"line\": {\"color\": \"#E5ECF6\", \"width\": 0.5}}, \"type\": \"barpolar\"}], \"carpet\": [{\"aaxis\": {\"endlinecolor\": \"#2a3f5f\", \"gridcolor\": \"white\", \"linecolor\": \"white\", \"minorgridcolor\": \"white\", \"startlinecolor\": \"#2a3f5f\"}, \"baxis\": {\"endlinecolor\": \"#2a3f5f\", \"gridcolor\": \"white\", \"linecolor\": \"white\", \"minorgridcolor\": \"white\", \"startlinecolor\": \"#2a3f5f\"}, \"type\": \"carpet\"}], \"choropleth\": [{\"colorbar\": {\"outlinewidth\": 0, \"ticks\": \"\"}, \"type\": \"choropleth\"}], \"contour\": [{\"colorbar\": {\"outlinewidth\": 0, \"ticks\": \"\"}, \"colorscale\": [[0.0, \"#0d0887\"], [0.1111111111111111, \"#46039f\"], [0.2222222222222222, \"#7201a8\"], [0.3333333333333333, \"#9c179e\"], [0.4444444444444444, \"#bd3786\"], [0.5555555555555556, \"#d8576b\"], [0.6666666666666666, \"#ed7953\"], [0.7777777777777778, \"#fb9f3a\"], [0.8888888888888888, \"#fdca26\"], [1.0, \"#f0f921\"]], \"type\": \"contour\"}], \"contourcarpet\": [{\"colorbar\": {\"outlinewidth\": 0, \"ticks\": \"\"}, \"type\": \"contourcarpet\"}], \"heatmap\": [{\"colorbar\": {\"outlinewidth\": 0, \"ticks\": \"\"}, \"colorscale\": [[0.0, \"#0d0887\"], [0.1111111111111111, \"#46039f\"], [0.2222222222222222, \"#7201a8\"], [0.3333333333333333, \"#9c179e\"], [0.4444444444444444, \"#bd3786\"], [0.5555555555555556, \"#d8576b\"], [0.6666666666666666, \"#ed7953\"], [0.7777777777777778, \"#fb9f3a\"], [0.8888888888888888, \"#fdca26\"], [1.0, \"#f0f921\"]], \"type\": \"heatmap\"}], \"heatmapgl\": [{\"colorbar\": {\"outlinewidth\": 0, \"ticks\": \"\"}, \"colorscale\": [[0.0, \"#0d0887\"], [0.1111111111111111, \"#46039f\"], [0.2222222222222222, \"#7201a8\"], [0.3333333333333333, \"#9c179e\"], [0.4444444444444444, \"#bd3786\"], [0.5555555555555556, \"#d8576b\"], [0.6666666666666666, \"#ed7953\"], [0.7777777777777778, \"#fb9f3a\"], [0.8888888888888888, \"#fdca26\"], [1.0, \"#f0f921\"]], \"type\": \"heatmapgl\"}], \"histogram\": [{\"marker\": {\"colorbar\": {\"outlinewidth\": 0, \"ticks\": \"\"}}, \"type\": \"histogram\"}], \"histogram2d\": [{\"colorbar\": {\"outlinewidth\": 0, \"ticks\": \"\"}, \"colorscale\": [[0.0, \"#0d0887\"], [0.1111111111111111, \"#46039f\"], [0.2222222222222222, \"#7201a8\"], [0.3333333333333333, \"#9c179e\"], [0.4444444444444444, \"#bd3786\"], [0.5555555555555556, \"#d8576b\"], [0.6666666666666666, \"#ed7953\"], [0.7777777777777778, \"#fb9f3a\"], [0.8888888888888888, \"#fdca26\"], [1.0, \"#f0f921\"]], \"type\": \"histogram2d\"}], \"histogram2dcontour\": [{\"colorbar\": {\"outlinewidth\": 0, \"ticks\": \"\"}, \"colorscale\": [[0.0, \"#0d0887\"], [0.1111111111111111, \"#46039f\"], [0.2222222222222222, \"#7201a8\"], [0.3333333333333333, \"#9c179e\"], [0.4444444444444444, \"#bd3786\"], [0.5555555555555556, \"#d8576b\"], [0.6666666666666666, \"#ed7953\"], [0.7777777777777778, \"#fb9f3a\"], [0.8888888888888888, \"#fdca26\"], [1.0, \"#f0f921\"]], \"type\": \"histogram2dcontour\"}], \"mesh3d\": [{\"colorbar\": {\"outlinewidth\": 0, \"ticks\": \"\"}, \"type\": \"mesh3d\"}], \"parcoords\": [{\"line\": {\"colorbar\": {\"outlinewidth\": 0, \"ticks\": \"\"}}, \"type\": \"parcoords\"}], \"pie\": [{\"automargin\": true, \"type\": \"pie\"}], \"scatter\": [{\"marker\": {\"colorbar\": {\"outlinewidth\": 0, \"ticks\": \"\"}}, \"type\": \"scatter\"}], \"scatter3d\": [{\"line\": {\"colorbar\": {\"outlinewidth\": 0, \"ticks\": \"\"}}, \"marker\": {\"colorbar\": {\"outlinewidth\": 0, \"ticks\": \"\"}}, \"type\": \"scatter3d\"}], \"scattercarpet\": [{\"marker\": {\"colorbar\": {\"outlinewidth\": 0, \"ticks\": \"\"}}, \"type\": \"scattercarpet\"}], \"scattergeo\": [{\"marker\": {\"colorbar\": {\"outlinewidth\": 0, \"ticks\": \"\"}}, \"type\": \"scattergeo\"}], \"scattergl\": [{\"marker\": {\"colorbar\": {\"outlinewidth\": 0, \"ticks\": \"\"}}, \"type\": \"scattergl\"}], \"scattermapbox\": [{\"marker\": {\"colorbar\": {\"outlinewidth\": 0, \"ticks\": \"\"}}, \"type\": \"scattermapbox\"}], \"scatterpolar\": [{\"marker\": {\"colorbar\": {\"outlinewidth\": 0, \"ticks\": \"\"}}, \"type\": \"scatterpolar\"}], \"scatterpolargl\": [{\"marker\": {\"colorbar\": {\"outlinewidth\": 0, \"ticks\": \"\"}}, \"type\": \"scatterpolargl\"}], \"scatterternary\": [{\"marker\": {\"colorbar\": {\"outlinewidth\": 0, \"ticks\": \"\"}}, \"type\": \"scatterternary\"}], \"surface\": [{\"colorbar\": {\"outlinewidth\": 0, \"ticks\": \"\"}, \"colorscale\": [[0.0, \"#0d0887\"], [0.1111111111111111, \"#46039f\"], [0.2222222222222222, \"#7201a8\"], [0.3333333333333333, \"#9c179e\"], [0.4444444444444444, \"#bd3786\"], [0.5555555555555556, \"#d8576b\"], [0.6666666666666666, \"#ed7953\"], [0.7777777777777778, \"#fb9f3a\"], [0.8888888888888888, \"#fdca26\"], [1.0, \"#f0f921\"]], \"type\": \"surface\"}], \"table\": [{\"cells\": {\"fill\": {\"color\": \"#EBF0F8\"}, \"line\": {\"color\": \"white\"}}, \"header\": {\"fill\": {\"color\": \"#C8D4E3\"}, \"line\": {\"color\": \"white\"}}, \"type\": \"table\"}]}, \"layout\": {\"annotationdefaults\": {\"arrowcolor\": \"#2a3f5f\", \"arrowhead\": 0, \"arrowwidth\": 1}, \"autotypenumbers\": \"strict\", \"coloraxis\": {\"colorbar\": {\"outlinewidth\": 0, \"ticks\": \"\"}}, \"colorscale\": {\"diverging\": [[0, \"#8e0152\"], [0.1, \"#c51b7d\"], [0.2, \"#de77ae\"], [0.3, \"#f1b6da\"], [0.4, \"#fde0ef\"], [0.5, \"#f7f7f7\"], [0.6, \"#e6f5d0\"], [0.7, \"#b8e186\"], [0.8, \"#7fbc41\"], [0.9, \"#4d9221\"], [1, \"#276419\"]], \"sequential\": [[0.0, \"#0d0887\"], [0.1111111111111111, \"#46039f\"], [0.2222222222222222, \"#7201a8\"], [0.3333333333333333, \"#9c179e\"], [0.4444444444444444, \"#bd3786\"], [0.5555555555555556, \"#d8576b\"], [0.6666666666666666, \"#ed7953\"], [0.7777777777777778, \"#fb9f3a\"], [0.8888888888888888, \"#fdca26\"], [1.0, \"#f0f921\"]], \"sequentialminus\": [[0.0, \"#0d0887\"], [0.1111111111111111, \"#46039f\"], [0.2222222222222222, \"#7201a8\"], [0.3333333333333333, \"#9c179e\"], [0.4444444444444444, \"#bd3786\"], [0.5555555555555556, \"#d8576b\"], [0.6666666666666666, \"#ed7953\"], [0.7777777777777778, \"#fb9f3a\"], [0.8888888888888888, \"#fdca26\"], [1.0, \"#f0f921\"]]}, \"colorway\": [\"#636efa\", \"#EF553B\", \"#00cc96\", \"#ab63fa\", \"#FFA15A\", \"#19d3f3\", \"#FF6692\", \"#B6E880\", \"#FF97FF\", \"#FECB52\"], \"font\": {\"color\": \"#2a3f5f\"}, \"geo\": {\"bgcolor\": \"white\", \"lakecolor\": \"white\", \"landcolor\": \"#E5ECF6\", \"showlakes\": true, \"showland\": true, \"subunitcolor\": \"white\"}, \"hoverlabel\": {\"align\": \"left\"}, \"hovermode\": \"closest\", \"mapbox\": {\"style\": \"light\"}, \"paper_bgcolor\": \"white\", \"plot_bgcolor\": \"#E5ECF6\", \"polar\": {\"angularaxis\": {\"gridcolor\": \"white\", \"linecolor\": \"white\", \"ticks\": \"\"}, \"bgcolor\": \"#E5ECF6\", \"radialaxis\": {\"gridcolor\": \"white\", \"linecolor\": \"white\", \"ticks\": \"\"}}, \"scene\": {\"xaxis\": {\"backgroundcolor\": \"#E5ECF6\", \"gridcolor\": \"white\", \"gridwidth\": 2, \"linecolor\": \"white\", \"showbackground\": true, \"ticks\": \"\", \"zerolinecolor\": \"white\"}, \"yaxis\": {\"backgroundcolor\": \"#E5ECF6\", \"gridcolor\": \"white\", \"gridwidth\": 2, \"linecolor\": \"white\", \"showbackground\": true, \"ticks\": \"\", \"zerolinecolor\": \"white\"}, \"zaxis\": {\"backgroundcolor\": \"#E5ECF6\", \"gridcolor\": \"white\", \"gridwidth\": 2, \"linecolor\": \"white\", \"showbackground\": true, \"ticks\": \"\", \"zerolinecolor\": \"white\"}}, \"shapedefaults\": {\"line\": {\"color\": \"#2a3f5f\"}}, \"ternary\": {\"aaxis\": {\"gridcolor\": \"white\", \"linecolor\": \"white\", \"ticks\": \"\"}, \"baxis\": {\"gridcolor\": \"white\", \"linecolor\": \"white\", \"ticks\": \"\"}, \"bgcolor\": \"#E5ECF6\", \"caxis\": {\"gridcolor\": \"white\", \"linecolor\": \"white\", \"ticks\": \"\"}}, \"title\": {\"x\": 0.05}, \"xaxis\": {\"automargin\": true, \"gridcolor\": \"white\", \"linecolor\": \"white\", \"ticks\": \"\", \"title\": {\"standoff\": 15}, \"zerolinecolor\": \"white\", \"zerolinewidth\": 2}, \"yaxis\": {\"automargin\": true, \"gridcolor\": \"white\", \"linecolor\": \"white\", \"ticks\": \"\", \"title\": {\"standoff\": 15}, \"zerolinecolor\": \"white\", \"zerolinewidth\": 2}}}, \"title\": {\"text\": \"PCE - MAE: 1.666 HV\"}, \"width\": 800, \"xaxis\": {\"gridwidth\": 2, \"title\": {\"text\": \"Reported PCE (%)\"}, \"zeroline\": false}, \"yaxis\": {\"gridwidth\": 2, \"title\": {\"text\": \"Predicted PCE (%)\"}, \"zeroline\": false}},                        {\"responsive\": true}                    ).then(function(){\n",
       "                            \n",
       "var gd = document.getElementById('644c00ac-4cdb-444e-a996-c7e46ab43b4b');\n",
       "var x = new MutationObserver(function (mutations, observer) {{\n",
       "        var display = window.getComputedStyle(gd).display;\n",
       "        if (!display || display === 'none') {{\n",
       "            console.log([gd, 'removed!']);\n",
       "            Plotly.purge(gd);\n",
       "            observer.disconnect();\n",
       "        }}\n",
       "}});\n",
       "\n",
       "// Listen for the removal of the full notebook cells\n",
       "var notebookContainer = gd.closest('#notebook-container');\n",
       "if (notebookContainer) {{\n",
       "    x.observe(notebookContainer, {childList: true});\n",
       "}}\n",
       "\n",
       "// Listen for the clearing of the current output cell\n",
       "var outputEl = gd.closest('.output');\n",
       "if (outputEl) {{\n",
       "    x.observe(outputEl, {childList: true});\n",
       "}}\n",
       "\n",
       "                        })                };                });            </script>        </div>"
      ]
     },
     "metadata": {},
     "output_type": "display_data"
    }
   ],
   "source": [
    "plotly.offline.init_notebook_mode(connected=True)\n",
    "\n",
    "layout0= go.Layout(title= \"PCE - MAE: %.3f HV\" %MAE_testing, hovermode= 'closest',\n",
    "                   font = dict(family='Times New Roman',size=28),\n",
    "                   xaxis= dict(title= 'Reported PCE (%)',zeroline= False, gridwidth= 2),\n",
    "                   yaxis= dict(title= 'Predicted PCE (%)',zeroline= False, gridwidth= 2),#range=[-350,3750]),\n",
    "                   height=600,\n",
    "                   width=800,\n",
    "     showlegend= True                 \n",
    ")\n",
    "\n",
    "fit  = np.linspace(min(df['PCE']), max(df['PCE']))\n",
    "trace0 = go.Scatter(x = train_outputs, y = y_train, mode = 'markers', text=train_inputs.index, marker= dict(size= 12, color= 'blue'),name='Training Data')\n",
    "trace1 = go.Scatter(x = test_outputs ,y = y_pred, mode = 'markers', text=test_inputs.index,marker= dict(size= 12, color= 'red'), \n",
    "                    error_y = dict(type='data',array=y_std,visible=True),name='Testing Data')\n",
    "trace2 = go.Scatter(x = fit ,y = fit, mode = 'lines', marker= dict(size= 12, color= 'black'), text = 'Fit',name='Linear Fit')\n",
    "\n",
    "data = [trace0,trace1,trace2]\n",
    "fig= go.Figure(data, layout=layout0)\n",
    "iplot(fig)"
   ]
  },
  {
   "cell_type": "code",
   "execution_count": 12,
   "metadata": {},
   "outputs": [
    {
     "data": {
      "application/vnd.plotly.v1+json": {
       "config": {
        "linkText": "Export to plot.ly",
        "plotlyServerURL": "https://plot.ly",
        "showLink": false
       },
       "data": [
        {
         "error_y": {
          "array": [
           1.3848008349345877,
           1.6283457260423118,
           2.1418348918748142,
           2.1020017405399334,
           1.7273176754801658,
           1.8243581402299185,
           1.5149820936786726,
           2.334073495474355,
           2.4712764812100776,
           2.15806364670594,
           2.6610673159328964,
           1.9536170387717433,
           2.6585291339302253,
           2.5698037379807146,
           2.7359319116704577,
           4.7895061858075465,
           1.5059969965924223,
           2.852235797656977,
           1.7772830209489483,
           1.445082285586621
          ],
          "type": "data",
          "visible": true
         },
         "marker": {
          "color": "red",
          "size": 12
         },
         "mode": "markers",
         "name": "Testing Data",
         "text": [
          58,
          40,
          34,
          102,
          184,
          198,
          95,
          4,
          29,
          168,
          171,
          18,
          11,
          89,
          110,
          118,
          159,
          35,
          136,
          59
         ],
         "type": "scatter",
         "x": [
          13.31,
          5.4,
          7.2,
          8.53,
          5.5,
          7.21,
          10.18,
          8.9,
          5.5,
          8.05,
          18.32,
          11.46,
          13.42,
          8.49,
          11.59,
          10.5,
          9.7,
          10.5,
          8.97,
          16.64
         ],
         "y": [
          15.09,
          6.6252857142856945,
          8.039828571428561,
          7.975028571428577,
          6.950542857142858,
          9.77442857142861,
          8.659828571428575,
          8.083971428571434,
          9.63434285714286,
          9.869485714285732,
          14.749371428571417,
          12.469514285714261,
          11.491485714285728,
          6.598742857142842,
          10.347314285714246,
          10.878542857142854,
          12.519257142857116,
          8.942257142857155,
          9.262142857142862,
          14.725285714285718
         ]
        },
        {
         "marker": {
          "color": "black",
          "size": 12
         },
         "mode": "lines",
         "name": "Linear Fit",
         "text": "Fit",
         "type": "scatter",
         "x": [
          4.1,
          4.390204081632652,
          4.680408163265306,
          4.970612244897959,
          5.2608163265306125,
          5.551020408163265,
          5.841224489795918,
          6.131428571428572,
          6.421632653061224,
          6.711836734693877,
          7.002040816326531,
          7.292244897959184,
          7.582448979591836,
          7.87265306122449,
          8.162857142857142,
          8.453061224489797,
          8.74326530612245,
          9.033469387755101,
          9.323673469387757,
          9.613877551020408,
          9.904081632653062,
          10.194285714285716,
          10.484489795918368,
          10.774693877551021,
          11.064897959183675,
          11.355102040816327,
          11.64530612244898,
          11.935510204081634,
          12.225714285714286,
          12.51591836734694,
          12.806122448979593,
          13.096326530612245,
          13.386530612244899,
          13.676734693877552,
          13.966938775510204,
          14.257142857142858,
          14.547346938775512,
          14.837551020408164,
          15.127755102040817,
          15.41795918367347,
          15.708163265306125,
          15.998367346938776,
          16.28857142857143,
          16.578775510204082,
          16.868979591836734,
          17.15918367346939,
          17.449387755102045,
          17.739591836734697,
          18.02979591836735,
          18.32
         ],
         "y": [
          4.1,
          4.390204081632652,
          4.680408163265306,
          4.970612244897959,
          5.2608163265306125,
          5.551020408163265,
          5.841224489795918,
          6.131428571428572,
          6.421632653061224,
          6.711836734693877,
          7.002040816326531,
          7.292244897959184,
          7.582448979591836,
          7.87265306122449,
          8.162857142857142,
          8.453061224489797,
          8.74326530612245,
          9.033469387755101,
          9.323673469387757,
          9.613877551020408,
          9.904081632653062,
          10.194285714285716,
          10.484489795918368,
          10.774693877551021,
          11.064897959183675,
          11.355102040816327,
          11.64530612244898,
          11.935510204081634,
          12.225714285714286,
          12.51591836734694,
          12.806122448979593,
          13.096326530612245,
          13.386530612244899,
          13.676734693877552,
          13.966938775510204,
          14.257142857142858,
          14.547346938775512,
          14.837551020408164,
          15.127755102040817,
          15.41795918367347,
          15.708163265306125,
          15.998367346938776,
          16.28857142857143,
          16.578775510204082,
          16.868979591836734,
          17.15918367346939,
          17.449387755102045,
          17.739591836734697,
          18.02979591836735,
          18.32
         ]
        }
       ],
       "layout": {
        "font": {
         "family": "Times New Roman",
         "size": 28
        },
        "height": 600,
        "hovermode": "closest",
        "showlegend": true,
        "template": {
         "data": {
          "bar": [
           {
            "error_x": {
             "color": "#2a3f5f"
            },
            "error_y": {
             "color": "#2a3f5f"
            },
            "marker": {
             "line": {
              "color": "#E5ECF6",
              "width": 0.5
             }
            },
            "type": "bar"
           }
          ],
          "barpolar": [
           {
            "marker": {
             "line": {
              "color": "#E5ECF6",
              "width": 0.5
             }
            },
            "type": "barpolar"
           }
          ],
          "carpet": [
           {
            "aaxis": {
             "endlinecolor": "#2a3f5f",
             "gridcolor": "white",
             "linecolor": "white",
             "minorgridcolor": "white",
             "startlinecolor": "#2a3f5f"
            },
            "baxis": {
             "endlinecolor": "#2a3f5f",
             "gridcolor": "white",
             "linecolor": "white",
             "minorgridcolor": "white",
             "startlinecolor": "#2a3f5f"
            },
            "type": "carpet"
           }
          ],
          "choropleth": [
           {
            "colorbar": {
             "outlinewidth": 0,
             "ticks": ""
            },
            "type": "choropleth"
           }
          ],
          "contour": [
           {
            "colorbar": {
             "outlinewidth": 0,
             "ticks": ""
            },
            "colorscale": [
             [
              0,
              "#0d0887"
             ],
             [
              0.1111111111111111,
              "#46039f"
             ],
             [
              0.2222222222222222,
              "#7201a8"
             ],
             [
              0.3333333333333333,
              "#9c179e"
             ],
             [
              0.4444444444444444,
              "#bd3786"
             ],
             [
              0.5555555555555556,
              "#d8576b"
             ],
             [
              0.6666666666666666,
              "#ed7953"
             ],
             [
              0.7777777777777778,
              "#fb9f3a"
             ],
             [
              0.8888888888888888,
              "#fdca26"
             ],
             [
              1,
              "#f0f921"
             ]
            ],
            "type": "contour"
           }
          ],
          "contourcarpet": [
           {
            "colorbar": {
             "outlinewidth": 0,
             "ticks": ""
            },
            "type": "contourcarpet"
           }
          ],
          "heatmap": [
           {
            "colorbar": {
             "outlinewidth": 0,
             "ticks": ""
            },
            "colorscale": [
             [
              0,
              "#0d0887"
             ],
             [
              0.1111111111111111,
              "#46039f"
             ],
             [
              0.2222222222222222,
              "#7201a8"
             ],
             [
              0.3333333333333333,
              "#9c179e"
             ],
             [
              0.4444444444444444,
              "#bd3786"
             ],
             [
              0.5555555555555556,
              "#d8576b"
             ],
             [
              0.6666666666666666,
              "#ed7953"
             ],
             [
              0.7777777777777778,
              "#fb9f3a"
             ],
             [
              0.8888888888888888,
              "#fdca26"
             ],
             [
              1,
              "#f0f921"
             ]
            ],
            "type": "heatmap"
           }
          ],
          "heatmapgl": [
           {
            "colorbar": {
             "outlinewidth": 0,
             "ticks": ""
            },
            "colorscale": [
             [
              0,
              "#0d0887"
             ],
             [
              0.1111111111111111,
              "#46039f"
             ],
             [
              0.2222222222222222,
              "#7201a8"
             ],
             [
              0.3333333333333333,
              "#9c179e"
             ],
             [
              0.4444444444444444,
              "#bd3786"
             ],
             [
              0.5555555555555556,
              "#d8576b"
             ],
             [
              0.6666666666666666,
              "#ed7953"
             ],
             [
              0.7777777777777778,
              "#fb9f3a"
             ],
             [
              0.8888888888888888,
              "#fdca26"
             ],
             [
              1,
              "#f0f921"
             ]
            ],
            "type": "heatmapgl"
           }
          ],
          "histogram": [
           {
            "marker": {
             "colorbar": {
              "outlinewidth": 0,
              "ticks": ""
             }
            },
            "type": "histogram"
           }
          ],
          "histogram2d": [
           {
            "colorbar": {
             "outlinewidth": 0,
             "ticks": ""
            },
            "colorscale": [
             [
              0,
              "#0d0887"
             ],
             [
              0.1111111111111111,
              "#46039f"
             ],
             [
              0.2222222222222222,
              "#7201a8"
             ],
             [
              0.3333333333333333,
              "#9c179e"
             ],
             [
              0.4444444444444444,
              "#bd3786"
             ],
             [
              0.5555555555555556,
              "#d8576b"
             ],
             [
              0.6666666666666666,
              "#ed7953"
             ],
             [
              0.7777777777777778,
              "#fb9f3a"
             ],
             [
              0.8888888888888888,
              "#fdca26"
             ],
             [
              1,
              "#f0f921"
             ]
            ],
            "type": "histogram2d"
           }
          ],
          "histogram2dcontour": [
           {
            "colorbar": {
             "outlinewidth": 0,
             "ticks": ""
            },
            "colorscale": [
             [
              0,
              "#0d0887"
             ],
             [
              0.1111111111111111,
              "#46039f"
             ],
             [
              0.2222222222222222,
              "#7201a8"
             ],
             [
              0.3333333333333333,
              "#9c179e"
             ],
             [
              0.4444444444444444,
              "#bd3786"
             ],
             [
              0.5555555555555556,
              "#d8576b"
             ],
             [
              0.6666666666666666,
              "#ed7953"
             ],
             [
              0.7777777777777778,
              "#fb9f3a"
             ],
             [
              0.8888888888888888,
              "#fdca26"
             ],
             [
              1,
              "#f0f921"
             ]
            ],
            "type": "histogram2dcontour"
           }
          ],
          "mesh3d": [
           {
            "colorbar": {
             "outlinewidth": 0,
             "ticks": ""
            },
            "type": "mesh3d"
           }
          ],
          "parcoords": [
           {
            "line": {
             "colorbar": {
              "outlinewidth": 0,
              "ticks": ""
             }
            },
            "type": "parcoords"
           }
          ],
          "pie": [
           {
            "automargin": true,
            "type": "pie"
           }
          ],
          "scatter": [
           {
            "marker": {
             "colorbar": {
              "outlinewidth": 0,
              "ticks": ""
             }
            },
            "type": "scatter"
           }
          ],
          "scatter3d": [
           {
            "line": {
             "colorbar": {
              "outlinewidth": 0,
              "ticks": ""
             }
            },
            "marker": {
             "colorbar": {
              "outlinewidth": 0,
              "ticks": ""
             }
            },
            "type": "scatter3d"
           }
          ],
          "scattercarpet": [
           {
            "marker": {
             "colorbar": {
              "outlinewidth": 0,
              "ticks": ""
             }
            },
            "type": "scattercarpet"
           }
          ],
          "scattergeo": [
           {
            "marker": {
             "colorbar": {
              "outlinewidth": 0,
              "ticks": ""
             }
            },
            "type": "scattergeo"
           }
          ],
          "scattergl": [
           {
            "marker": {
             "colorbar": {
              "outlinewidth": 0,
              "ticks": ""
             }
            },
            "type": "scattergl"
           }
          ],
          "scattermapbox": [
           {
            "marker": {
             "colorbar": {
              "outlinewidth": 0,
              "ticks": ""
             }
            },
            "type": "scattermapbox"
           }
          ],
          "scatterpolar": [
           {
            "marker": {
             "colorbar": {
              "outlinewidth": 0,
              "ticks": ""
             }
            },
            "type": "scatterpolar"
           }
          ],
          "scatterpolargl": [
           {
            "marker": {
             "colorbar": {
              "outlinewidth": 0,
              "ticks": ""
             }
            },
            "type": "scatterpolargl"
           }
          ],
          "scatterternary": [
           {
            "marker": {
             "colorbar": {
              "outlinewidth": 0,
              "ticks": ""
             }
            },
            "type": "scatterternary"
           }
          ],
          "surface": [
           {
            "colorbar": {
             "outlinewidth": 0,
             "ticks": ""
            },
            "colorscale": [
             [
              0,
              "#0d0887"
             ],
             [
              0.1111111111111111,
              "#46039f"
             ],
             [
              0.2222222222222222,
              "#7201a8"
             ],
             [
              0.3333333333333333,
              "#9c179e"
             ],
             [
              0.4444444444444444,
              "#bd3786"
             ],
             [
              0.5555555555555556,
              "#d8576b"
             ],
             [
              0.6666666666666666,
              "#ed7953"
             ],
             [
              0.7777777777777778,
              "#fb9f3a"
             ],
             [
              0.8888888888888888,
              "#fdca26"
             ],
             [
              1,
              "#f0f921"
             ]
            ],
            "type": "surface"
           }
          ],
          "table": [
           {
            "cells": {
             "fill": {
              "color": "#EBF0F8"
             },
             "line": {
              "color": "white"
             }
            },
            "header": {
             "fill": {
              "color": "#C8D4E3"
             },
             "line": {
              "color": "white"
             }
            },
            "type": "table"
           }
          ]
         },
         "layout": {
          "annotationdefaults": {
           "arrowcolor": "#2a3f5f",
           "arrowhead": 0,
           "arrowwidth": 1
          },
          "autotypenumbers": "strict",
          "coloraxis": {
           "colorbar": {
            "outlinewidth": 0,
            "ticks": ""
           }
          },
          "colorscale": {
           "diverging": [
            [
             0,
             "#8e0152"
            ],
            [
             0.1,
             "#c51b7d"
            ],
            [
             0.2,
             "#de77ae"
            ],
            [
             0.3,
             "#f1b6da"
            ],
            [
             0.4,
             "#fde0ef"
            ],
            [
             0.5,
             "#f7f7f7"
            ],
            [
             0.6,
             "#e6f5d0"
            ],
            [
             0.7,
             "#b8e186"
            ],
            [
             0.8,
             "#7fbc41"
            ],
            [
             0.9,
             "#4d9221"
            ],
            [
             1,
             "#276419"
            ]
           ],
           "sequential": [
            [
             0,
             "#0d0887"
            ],
            [
             0.1111111111111111,
             "#46039f"
            ],
            [
             0.2222222222222222,
             "#7201a8"
            ],
            [
             0.3333333333333333,
             "#9c179e"
            ],
            [
             0.4444444444444444,
             "#bd3786"
            ],
            [
             0.5555555555555556,
             "#d8576b"
            ],
            [
             0.6666666666666666,
             "#ed7953"
            ],
            [
             0.7777777777777778,
             "#fb9f3a"
            ],
            [
             0.8888888888888888,
             "#fdca26"
            ],
            [
             1,
             "#f0f921"
            ]
           ],
           "sequentialminus": [
            [
             0,
             "#0d0887"
            ],
            [
             0.1111111111111111,
             "#46039f"
            ],
            [
             0.2222222222222222,
             "#7201a8"
            ],
            [
             0.3333333333333333,
             "#9c179e"
            ],
            [
             0.4444444444444444,
             "#bd3786"
            ],
            [
             0.5555555555555556,
             "#d8576b"
            ],
            [
             0.6666666666666666,
             "#ed7953"
            ],
            [
             0.7777777777777778,
             "#fb9f3a"
            ],
            [
             0.8888888888888888,
             "#fdca26"
            ],
            [
             1,
             "#f0f921"
            ]
           ]
          },
          "colorway": [
           "#636efa",
           "#EF553B",
           "#00cc96",
           "#ab63fa",
           "#FFA15A",
           "#19d3f3",
           "#FF6692",
           "#B6E880",
           "#FF97FF",
           "#FECB52"
          ],
          "font": {
           "color": "#2a3f5f"
          },
          "geo": {
           "bgcolor": "white",
           "lakecolor": "white",
           "landcolor": "#E5ECF6",
           "showlakes": true,
           "showland": true,
           "subunitcolor": "white"
          },
          "hoverlabel": {
           "align": "left"
          },
          "hovermode": "closest",
          "mapbox": {
           "style": "light"
          },
          "paper_bgcolor": "white",
          "plot_bgcolor": "#E5ECF6",
          "polar": {
           "angularaxis": {
            "gridcolor": "white",
            "linecolor": "white",
            "ticks": ""
           },
           "bgcolor": "#E5ECF6",
           "radialaxis": {
            "gridcolor": "white",
            "linecolor": "white",
            "ticks": ""
           }
          },
          "scene": {
           "xaxis": {
            "backgroundcolor": "#E5ECF6",
            "gridcolor": "white",
            "gridwidth": 2,
            "linecolor": "white",
            "showbackground": true,
            "ticks": "",
            "zerolinecolor": "white"
           },
           "yaxis": {
            "backgroundcolor": "#E5ECF6",
            "gridcolor": "white",
            "gridwidth": 2,
            "linecolor": "white",
            "showbackground": true,
            "ticks": "",
            "zerolinecolor": "white"
           },
           "zaxis": {
            "backgroundcolor": "#E5ECF6",
            "gridcolor": "white",
            "gridwidth": 2,
            "linecolor": "white",
            "showbackground": true,
            "ticks": "",
            "zerolinecolor": "white"
           }
          },
          "shapedefaults": {
           "line": {
            "color": "#2a3f5f"
           }
          },
          "ternary": {
           "aaxis": {
            "gridcolor": "white",
            "linecolor": "white",
            "ticks": ""
           },
           "baxis": {
            "gridcolor": "white",
            "linecolor": "white",
            "ticks": ""
           },
           "bgcolor": "#E5ECF6",
           "caxis": {
            "gridcolor": "white",
            "linecolor": "white",
            "ticks": ""
           }
          },
          "title": {
           "x": 0.05
          },
          "xaxis": {
           "automargin": true,
           "gridcolor": "white",
           "linecolor": "white",
           "ticks": "",
           "title": {
            "standoff": 15
           },
           "zerolinecolor": "white",
           "zerolinewidth": 2
          },
          "yaxis": {
           "automargin": true,
           "gridcolor": "white",
           "linecolor": "white",
           "ticks": "",
           "title": {
            "standoff": 15
           },
           "zerolinecolor": "white",
           "zerolinewidth": 2
          }
         }
        },
        "title": {
         "text": "PCE - MAE: 1.666 HV"
        },
        "width": 800,
        "xaxis": {
         "gridwidth": 2,
         "title": {
          "text": "Reported PCE (%)"
         },
         "zeroline": false
        },
        "yaxis": {
         "gridwidth": 2,
         "title": {
          "text": "Predicted PCE (%)"
         },
         "zeroline": false
        }
       }
      },
      "text/html": [
       "<div>                            <div id=\"fa885818-3779-448d-80f4-30012ba37df1\" class=\"plotly-graph-div\" style=\"height:600px; width:800px;\"></div>            <script type=\"text/javascript\">                require([\"plotly\"], function(Plotly) {                    window.PLOTLYENV=window.PLOTLYENV || {};                                    if (document.getElementById(\"fa885818-3779-448d-80f4-30012ba37df1\")) {                    Plotly.newPlot(                        \"fa885818-3779-448d-80f4-30012ba37df1\",                        [{\"error_y\": {\"array\": [1.3848008349345877, 1.6283457260423118, 2.1418348918748142, 2.1020017405399334, 1.7273176754801658, 1.8243581402299185, 1.5149820936786726, 2.334073495474355, 2.4712764812100776, 2.15806364670594, 2.6610673159328964, 1.9536170387717433, 2.6585291339302253, 2.5698037379807146, 2.7359319116704577, 4.7895061858075465, 1.5059969965924223, 2.852235797656977, 1.7772830209489483, 1.445082285586621], \"type\": \"data\", \"visible\": true}, \"marker\": {\"color\": \"red\", \"size\": 12}, \"mode\": \"markers\", \"name\": \"Testing Data\", \"text\": [58.0, 40.0, 34.0, 102.0, 184.0, 198.0, 95.0, 4.0, 29.0, 168.0, 171.0, 18.0, 11.0, 89.0, 110.0, 118.0, 159.0, 35.0, 136.0, 59.0], \"type\": \"scatter\", \"x\": [13.31, 5.4, 7.2, 8.53, 5.5, 7.21, 10.18, 8.9, 5.5, 8.05, 18.32, 11.46, 13.42, 8.49, 11.59, 10.5, 9.7, 10.5, 8.97, 16.64], \"y\": [15.09, 6.6252857142856945, 8.039828571428561, 7.975028571428577, 6.950542857142858, 9.77442857142861, 8.659828571428575, 8.083971428571434, 9.63434285714286, 9.869485714285732, 14.749371428571417, 12.469514285714261, 11.491485714285728, 6.598742857142842, 10.347314285714246, 10.878542857142854, 12.519257142857116, 8.942257142857155, 9.262142857142862, 14.725285714285718]}, {\"marker\": {\"color\": \"black\", \"size\": 12}, \"mode\": \"lines\", \"name\": \"Linear Fit\", \"text\": \"Fit\", \"type\": \"scatter\", \"x\": [4.1, 4.390204081632652, 4.680408163265306, 4.970612244897959, 5.2608163265306125, 5.551020408163265, 5.841224489795918, 6.131428571428572, 6.421632653061224, 6.711836734693877, 7.002040816326531, 7.292244897959184, 7.582448979591836, 7.87265306122449, 8.162857142857142, 8.453061224489797, 8.74326530612245, 9.033469387755101, 9.323673469387757, 9.613877551020408, 9.904081632653062, 10.194285714285716, 10.484489795918368, 10.774693877551021, 11.064897959183675, 11.355102040816327, 11.64530612244898, 11.935510204081634, 12.225714285714286, 12.51591836734694, 12.806122448979593, 13.096326530612245, 13.386530612244899, 13.676734693877552, 13.966938775510204, 14.257142857142858, 14.547346938775512, 14.837551020408164, 15.127755102040817, 15.41795918367347, 15.708163265306125, 15.998367346938776, 16.28857142857143, 16.578775510204082, 16.868979591836734, 17.15918367346939, 17.449387755102045, 17.739591836734697, 18.02979591836735, 18.32], \"y\": [4.1, 4.390204081632652, 4.680408163265306, 4.970612244897959, 5.2608163265306125, 5.551020408163265, 5.841224489795918, 6.131428571428572, 6.421632653061224, 6.711836734693877, 7.002040816326531, 7.292244897959184, 7.582448979591836, 7.87265306122449, 8.162857142857142, 8.453061224489797, 8.74326530612245, 9.033469387755101, 9.323673469387757, 9.613877551020408, 9.904081632653062, 10.194285714285716, 10.484489795918368, 10.774693877551021, 11.064897959183675, 11.355102040816327, 11.64530612244898, 11.935510204081634, 12.225714285714286, 12.51591836734694, 12.806122448979593, 13.096326530612245, 13.386530612244899, 13.676734693877552, 13.966938775510204, 14.257142857142858, 14.547346938775512, 14.837551020408164, 15.127755102040817, 15.41795918367347, 15.708163265306125, 15.998367346938776, 16.28857142857143, 16.578775510204082, 16.868979591836734, 17.15918367346939, 17.449387755102045, 17.739591836734697, 18.02979591836735, 18.32]}],                        {\"font\": {\"family\": \"Times New Roman\", \"size\": 28}, \"height\": 600, \"hovermode\": \"closest\", \"showlegend\": true, \"template\": {\"data\": {\"bar\": [{\"error_x\": {\"color\": \"#2a3f5f\"}, \"error_y\": {\"color\": \"#2a3f5f\"}, \"marker\": {\"line\": {\"color\": \"#E5ECF6\", \"width\": 0.5}}, \"type\": \"bar\"}], \"barpolar\": [{\"marker\": {\"line\": {\"color\": \"#E5ECF6\", \"width\": 0.5}}, \"type\": \"barpolar\"}], \"carpet\": [{\"aaxis\": {\"endlinecolor\": \"#2a3f5f\", \"gridcolor\": \"white\", \"linecolor\": \"white\", \"minorgridcolor\": \"white\", \"startlinecolor\": \"#2a3f5f\"}, \"baxis\": {\"endlinecolor\": \"#2a3f5f\", \"gridcolor\": \"white\", \"linecolor\": \"white\", \"minorgridcolor\": \"white\", \"startlinecolor\": \"#2a3f5f\"}, \"type\": \"carpet\"}], \"choropleth\": [{\"colorbar\": {\"outlinewidth\": 0, \"ticks\": \"\"}, \"type\": \"choropleth\"}], \"contour\": [{\"colorbar\": {\"outlinewidth\": 0, \"ticks\": \"\"}, \"colorscale\": [[0.0, \"#0d0887\"], [0.1111111111111111, \"#46039f\"], [0.2222222222222222, \"#7201a8\"], [0.3333333333333333, \"#9c179e\"], [0.4444444444444444, \"#bd3786\"], [0.5555555555555556, \"#d8576b\"], [0.6666666666666666, \"#ed7953\"], [0.7777777777777778, \"#fb9f3a\"], [0.8888888888888888, \"#fdca26\"], [1.0, \"#f0f921\"]], \"type\": \"contour\"}], \"contourcarpet\": [{\"colorbar\": {\"outlinewidth\": 0, \"ticks\": \"\"}, \"type\": \"contourcarpet\"}], \"heatmap\": [{\"colorbar\": {\"outlinewidth\": 0, \"ticks\": \"\"}, \"colorscale\": [[0.0, \"#0d0887\"], [0.1111111111111111, \"#46039f\"], [0.2222222222222222, \"#7201a8\"], [0.3333333333333333, \"#9c179e\"], [0.4444444444444444, \"#bd3786\"], [0.5555555555555556, \"#d8576b\"], [0.6666666666666666, \"#ed7953\"], [0.7777777777777778, \"#fb9f3a\"], [0.8888888888888888, \"#fdca26\"], [1.0, \"#f0f921\"]], \"type\": \"heatmap\"}], \"heatmapgl\": [{\"colorbar\": {\"outlinewidth\": 0, \"ticks\": \"\"}, \"colorscale\": [[0.0, \"#0d0887\"], [0.1111111111111111, \"#46039f\"], [0.2222222222222222, \"#7201a8\"], [0.3333333333333333, \"#9c179e\"], [0.4444444444444444, \"#bd3786\"], [0.5555555555555556, \"#d8576b\"], [0.6666666666666666, \"#ed7953\"], [0.7777777777777778, \"#fb9f3a\"], [0.8888888888888888, \"#fdca26\"], [1.0, \"#f0f921\"]], \"type\": \"heatmapgl\"}], \"histogram\": [{\"marker\": {\"colorbar\": {\"outlinewidth\": 0, \"ticks\": \"\"}}, \"type\": \"histogram\"}], \"histogram2d\": [{\"colorbar\": {\"outlinewidth\": 0, \"ticks\": \"\"}, \"colorscale\": [[0.0, \"#0d0887\"], [0.1111111111111111, \"#46039f\"], [0.2222222222222222, \"#7201a8\"], [0.3333333333333333, \"#9c179e\"], [0.4444444444444444, \"#bd3786\"], [0.5555555555555556, \"#d8576b\"], [0.6666666666666666, \"#ed7953\"], [0.7777777777777778, \"#fb9f3a\"], [0.8888888888888888, \"#fdca26\"], [1.0, \"#f0f921\"]], \"type\": \"histogram2d\"}], \"histogram2dcontour\": [{\"colorbar\": {\"outlinewidth\": 0, \"ticks\": \"\"}, \"colorscale\": [[0.0, \"#0d0887\"], [0.1111111111111111, \"#46039f\"], [0.2222222222222222, \"#7201a8\"], [0.3333333333333333, \"#9c179e\"], [0.4444444444444444, \"#bd3786\"], [0.5555555555555556, \"#d8576b\"], [0.6666666666666666, \"#ed7953\"], [0.7777777777777778, \"#fb9f3a\"], [0.8888888888888888, \"#fdca26\"], [1.0, \"#f0f921\"]], \"type\": \"histogram2dcontour\"}], \"mesh3d\": [{\"colorbar\": {\"outlinewidth\": 0, \"ticks\": \"\"}, \"type\": \"mesh3d\"}], \"parcoords\": [{\"line\": {\"colorbar\": {\"outlinewidth\": 0, \"ticks\": \"\"}}, \"type\": \"parcoords\"}], \"pie\": [{\"automargin\": true, \"type\": \"pie\"}], \"scatter\": [{\"marker\": {\"colorbar\": {\"outlinewidth\": 0, \"ticks\": \"\"}}, \"type\": \"scatter\"}], \"scatter3d\": [{\"line\": {\"colorbar\": {\"outlinewidth\": 0, \"ticks\": \"\"}}, \"marker\": {\"colorbar\": {\"outlinewidth\": 0, \"ticks\": \"\"}}, \"type\": \"scatter3d\"}], \"scattercarpet\": [{\"marker\": {\"colorbar\": {\"outlinewidth\": 0, \"ticks\": \"\"}}, \"type\": \"scattercarpet\"}], \"scattergeo\": [{\"marker\": {\"colorbar\": {\"outlinewidth\": 0, \"ticks\": \"\"}}, \"type\": \"scattergeo\"}], \"scattergl\": [{\"marker\": {\"colorbar\": {\"outlinewidth\": 0, \"ticks\": \"\"}}, \"type\": \"scattergl\"}], \"scattermapbox\": [{\"marker\": {\"colorbar\": {\"outlinewidth\": 0, \"ticks\": \"\"}}, \"type\": \"scattermapbox\"}], \"scatterpolar\": [{\"marker\": {\"colorbar\": {\"outlinewidth\": 0, \"ticks\": \"\"}}, \"type\": \"scatterpolar\"}], \"scatterpolargl\": [{\"marker\": {\"colorbar\": {\"outlinewidth\": 0, \"ticks\": \"\"}}, \"type\": \"scatterpolargl\"}], \"scatterternary\": [{\"marker\": {\"colorbar\": {\"outlinewidth\": 0, \"ticks\": \"\"}}, \"type\": \"scatterternary\"}], \"surface\": [{\"colorbar\": {\"outlinewidth\": 0, \"ticks\": \"\"}, \"colorscale\": [[0.0, \"#0d0887\"], [0.1111111111111111, \"#46039f\"], [0.2222222222222222, \"#7201a8\"], [0.3333333333333333, \"#9c179e\"], [0.4444444444444444, \"#bd3786\"], [0.5555555555555556, \"#d8576b\"], [0.6666666666666666, \"#ed7953\"], [0.7777777777777778, \"#fb9f3a\"], [0.8888888888888888, \"#fdca26\"], [1.0, \"#f0f921\"]], \"type\": \"surface\"}], \"table\": [{\"cells\": {\"fill\": {\"color\": \"#EBF0F8\"}, \"line\": {\"color\": \"white\"}}, \"header\": {\"fill\": {\"color\": \"#C8D4E3\"}, \"line\": {\"color\": \"white\"}}, \"type\": \"table\"}]}, \"layout\": {\"annotationdefaults\": {\"arrowcolor\": \"#2a3f5f\", \"arrowhead\": 0, \"arrowwidth\": 1}, \"autotypenumbers\": \"strict\", \"coloraxis\": {\"colorbar\": {\"outlinewidth\": 0, \"ticks\": \"\"}}, \"colorscale\": {\"diverging\": [[0, \"#8e0152\"], [0.1, \"#c51b7d\"], [0.2, \"#de77ae\"], [0.3, \"#f1b6da\"], [0.4, \"#fde0ef\"], [0.5, \"#f7f7f7\"], [0.6, \"#e6f5d0\"], [0.7, \"#b8e186\"], [0.8, \"#7fbc41\"], [0.9, \"#4d9221\"], [1, \"#276419\"]], \"sequential\": [[0.0, \"#0d0887\"], [0.1111111111111111, \"#46039f\"], [0.2222222222222222, \"#7201a8\"], [0.3333333333333333, \"#9c179e\"], [0.4444444444444444, \"#bd3786\"], [0.5555555555555556, \"#d8576b\"], [0.6666666666666666, \"#ed7953\"], [0.7777777777777778, \"#fb9f3a\"], [0.8888888888888888, \"#fdca26\"], [1.0, \"#f0f921\"]], \"sequentialminus\": [[0.0, \"#0d0887\"], [0.1111111111111111, \"#46039f\"], [0.2222222222222222, \"#7201a8\"], [0.3333333333333333, \"#9c179e\"], [0.4444444444444444, \"#bd3786\"], [0.5555555555555556, \"#d8576b\"], [0.6666666666666666, \"#ed7953\"], [0.7777777777777778, \"#fb9f3a\"], [0.8888888888888888, \"#fdca26\"], [1.0, \"#f0f921\"]]}, \"colorway\": [\"#636efa\", \"#EF553B\", \"#00cc96\", \"#ab63fa\", \"#FFA15A\", \"#19d3f3\", \"#FF6692\", \"#B6E880\", \"#FF97FF\", \"#FECB52\"], \"font\": {\"color\": \"#2a3f5f\"}, \"geo\": {\"bgcolor\": \"white\", \"lakecolor\": \"white\", \"landcolor\": \"#E5ECF6\", \"showlakes\": true, \"showland\": true, \"subunitcolor\": \"white\"}, \"hoverlabel\": {\"align\": \"left\"}, \"hovermode\": \"closest\", \"mapbox\": {\"style\": \"light\"}, \"paper_bgcolor\": \"white\", \"plot_bgcolor\": \"#E5ECF6\", \"polar\": {\"angularaxis\": {\"gridcolor\": \"white\", \"linecolor\": \"white\", \"ticks\": \"\"}, \"bgcolor\": \"#E5ECF6\", \"radialaxis\": {\"gridcolor\": \"white\", \"linecolor\": \"white\", \"ticks\": \"\"}}, \"scene\": {\"xaxis\": {\"backgroundcolor\": \"#E5ECF6\", \"gridcolor\": \"white\", \"gridwidth\": 2, \"linecolor\": \"white\", \"showbackground\": true, \"ticks\": \"\", \"zerolinecolor\": \"white\"}, \"yaxis\": {\"backgroundcolor\": \"#E5ECF6\", \"gridcolor\": \"white\", \"gridwidth\": 2, \"linecolor\": \"white\", \"showbackground\": true, \"ticks\": \"\", \"zerolinecolor\": \"white\"}, \"zaxis\": {\"backgroundcolor\": \"#E5ECF6\", \"gridcolor\": \"white\", \"gridwidth\": 2, \"linecolor\": \"white\", \"showbackground\": true, \"ticks\": \"\", \"zerolinecolor\": \"white\"}}, \"shapedefaults\": {\"line\": {\"color\": \"#2a3f5f\"}}, \"ternary\": {\"aaxis\": {\"gridcolor\": \"white\", \"linecolor\": \"white\", \"ticks\": \"\"}, \"baxis\": {\"gridcolor\": \"white\", \"linecolor\": \"white\", \"ticks\": \"\"}, \"bgcolor\": \"#E5ECF6\", \"caxis\": {\"gridcolor\": \"white\", \"linecolor\": \"white\", \"ticks\": \"\"}}, \"title\": {\"x\": 0.05}, \"xaxis\": {\"automargin\": true, \"gridcolor\": \"white\", \"linecolor\": \"white\", \"ticks\": \"\", \"title\": {\"standoff\": 15}, \"zerolinecolor\": \"white\", \"zerolinewidth\": 2}, \"yaxis\": {\"automargin\": true, \"gridcolor\": \"white\", \"linecolor\": \"white\", \"ticks\": \"\", \"title\": {\"standoff\": 15}, \"zerolinecolor\": \"white\", \"zerolinewidth\": 2}}}, \"title\": {\"text\": \"PCE - MAE: 1.666 HV\"}, \"width\": 800, \"xaxis\": {\"gridwidth\": 2, \"title\": {\"text\": \"Reported PCE (%)\"}, \"zeroline\": false}, \"yaxis\": {\"gridwidth\": 2, \"title\": {\"text\": \"Predicted PCE (%)\"}, \"zeroline\": false}},                        {\"responsive\": true}                    ).then(function(){\n",
       "                            \n",
       "var gd = document.getElementById('fa885818-3779-448d-80f4-30012ba37df1');\n",
       "var x = new MutationObserver(function (mutations, observer) {{\n",
       "        var display = window.getComputedStyle(gd).display;\n",
       "        if (!display || display === 'none') {{\n",
       "            console.log([gd, 'removed!']);\n",
       "            Plotly.purge(gd);\n",
       "            observer.disconnect();\n",
       "        }}\n",
       "}});\n",
       "\n",
       "// Listen for the removal of the full notebook cells\n",
       "var notebookContainer = gd.closest('#notebook-container');\n",
       "if (notebookContainer) {{\n",
       "    x.observe(notebookContainer, {childList: true});\n",
       "}}\n",
       "\n",
       "// Listen for the clearing of the current output cell\n",
       "var outputEl = gd.closest('.output');\n",
       "if (outputEl) {{\n",
       "    x.observe(outputEl, {childList: true});\n",
       "}}\n",
       "\n",
       "                        })                };                });            </script>        </div>"
      ]
     },
     "metadata": {},
     "output_type": "display_data"
    }
   ],
   "source": [
    "data = [trace1,trace2]\n",
    "fig= go.Figure(data, layout=layout0)\n",
    "iplot(fig)"
   ]
  },
  {
   "cell_type": "markdown",
   "metadata": {},
   "source": [
    "## 5. Active Learning\n",
    "\n",
    "Active learning is the use of algorithms not for regression, but for the improvement of the input sample space that guides the 'experiments' required to get to such maximum values. Even if it does make predictions for a specific material, its main task is the selection of the most likely candidate to be in a global maxima. Global optimization is based on the assumption that a model can perform better when it can \"choose\" which point to query next. This is the approach introduced in the paper by Julia Ling et al."
   ]
  },
  {
   "cell_type": "markdown",
   "metadata": {},
   "source": [
    "\n",
    "### 5.1 Uncertainty Estimates\n",
    "\n",
    "The first step on active learning always comes from an approximation of the error in the prediction from the model. Relevant work on how to compute this estimates can be found in publications by [Efron](https://statistics.stanford.edu/sites/g/files/sbiybj6031/f/BIO%20262_0.pdf) and [Wager](https://jmlr.org/papers/volume15/wager14a/wager14a.pdf).\n",
    "\n",
    "To compute an estimate, we need to understand how to compute some important quantities:\n",
    "\n",
    "<b> Expected Value: </b> The mean of the predictions over all the decision trees represents the expected value for this particular model. The equation to compute this quantity is shown below:\n",
    "<br>\n",
    "<br>\n",
    "$$ E[M(x)] = \\frac{1}{N} \\sum\\limits_{J}^{n_T} T_J(x) $$\n",
    "<br>\n",
    "\n",
    "In this equation:\n",
    "\n",
    "$E[M(x)] \\rightarrow $ Expected value of the prediction of the model at point $x$\n",
    "<br>\n",
    "$ T_J(x) \\rightarrow $ Prediction of tree index $J$ for point $x$\n",
    "<br>\n",
    "$n_T $ is the number of trees\n",
    "<br>\n",
    "<br>\n",
    "\n",
    "<b> Variance: </b> For the calculation of the variance, we will compute the value of the <b>\"Variance at point x due to training point i \"</b>. For this model, we are following on the work from Ling et al, and using a combination of the jackknife-after-bootstrap and infinitesimal-jackknife estimates paired with a montecarlo sampling correction.\n",
    "\n",
    "$$ \\sigma^2_i(x) = Cov_j[n_{i,J}, T_J(x)]^2 + [\\overline{T}_{-i}(x) - \\overline{T}(x)]^2 - \\frac{e\\nu}{N_T} $$\n",
    "\n",
    "In this equation:\n",
    "\n",
    "$n_{i,J} \\rightarrow $ Number of times point $i$ was used to train tree $J$\n",
    "<br>\n",
    "$\\overline{T}_{-i}(x) \\rightarrow $ Average of the prediction over the trees that were fit without using point $i$\n",
    "<br>\n",
    "$\\overline{T}(x) \\rightarrow $ Average of the prediction over all of the trees\n",
    "<br>\n",
    "$e$ is Euler's number and $\\nu$ is the variance over all trees\n",
    "<br>\n",
    "<br>\n",
    "\n",
    "<b> Uncertainty Estimate: </b> For the calculation of the estimate, we will add the contributions of each of the training points to the variance of our test point, together with an explicit bias model and a noise threshold.\n",
    "\n",
    "$$ \\sigma[M(x)] = \\sqrt{ \\sum\\limits_{i=1}^S max[\\sigma^2_i(x), \\omega] + \\widetilde{\\sigma}^{ 2}(x)} $$\n",
    "\n",
    "In this equation:\n",
    "\n",
    "$\\sigma^2_i(x) \\rightarrow $ Variance at point x due to training point i\n",
    "<br>\n",
    "$\\omega \\rightarrow $ Noise threshold \n",
    "<br>\n",
    "$ \\widetilde{\\sigma}^{ 2}(x) \\rightarrow $ Explicit bias model\n",
    "<br>\n",
    "$S$ is the number of training points\n",
    "<br>\n",
    "<br>\n",
    "\n",
    "The noise threshold ($\\omega$) is defined as:\n",
    "$$\\omega = min_i \\sigma^2 [M(x_i)]$$"
   ]
  },
  {
   "cell_type": "markdown",
   "metadata": {},
   "source": [
    "### 5.2 Information Acquisition Functions\n",
    "\n",
    "Information Acquisition Functions are based on different criteria on which point is more relevant for the model to query next. In this notebook we discuss MEI (Maximum Expected Improvement), MLI (Maximum Likelihood of Improvement), MU (Maximum Uncertainty) and UCB (Upper Confidence Bound).\n",
    "\n",
    "<b>MM.</b> This approach takes the maximum value of the prediction of the model over the possible experiments to run.\n",
    "\n",
    "<br>\n",
    "$$ x^* = arg\\_max \\enspace E[M(x_i)]$$\n",
    "\n",
    "where $x_i \\rightarrow$ Set of possible experiments to run.\n",
    "\n",
    "<br>\n",
    "\n",
    "<b>MEI.<b>\n",
    " $$ MEI: x^*= argmax  \\rho  ( E[M(x_i )] - E[M(x_{best})], \\sigma [M(x_i)] ) $$\n",
    "       $$ with \\; \\rho \\; (z,s) = \\begin{cases}\n",
    "          s \\phi'(\\frac{z}{s}) +\n",
    "          z \\phi(\\frac{z}{s}) & s > 0 \\\\\n",
    "          max(z,0) & s = 0\n",
    "          \\end{cases} $$\n",
    "\n",
    "<br>\n",
    "\n",
    "<b>MLI.</b> This approach tells us that we are expecting to query a region for which we see an improvement and sufficient uncertainty to have a high likelihood of getting a larger value.\n",
    "\n",
    "$$ x^* = arg\\_max \\enspace \\frac{E[M(x_i)] - E[M(x_{best})]}{\\sigma[M(x_i)]}$$\n",
    "\n",
    "where $x_{best} \\rightarrow$ Value of our current best case.\n",
    "\n",
    "<br>\n",
    "\n",
    "<b>MU.</b> This strategy queries the sample with the highest uncertainty.\n",
    "<br>\n",
    "$$ x^* = arg\\_max \\enspace \\sigma[M(x_i)]$$\n",
    "<br>\n",
    "\n",
    "<b>UCB.</b> This strategy queries the sample with the maximum value of its mean prediction plus its uncertainty.\n",
    "<br>\n",
    "$$ x^* = arg\\_max \\enspace [E[M(x_i)] + \\sigma[M(x_i)]]$$\n",
    "<br>\n"
   ]
  },
  {
   "cell_type": "code",
   "execution_count": 13,
   "metadata": {},
   "outputs": [],
   "source": [
    "mm_selection = np.argmax(y_pred)   \n",
    "\n",
    "from scipy.stats import norm\n",
    "def piecewise(m,s): # argument of the function, m is the prediction - top training point, s is the uncertainty of that point\n",
    "    if s > 0:\n",
    "        return s*norm.pdf(m/s)+m*norm.cdf(m/s)\n",
    "    else:\n",
    "        return max(np.max(m), 0) \n",
    "cons = np.max(train_outputs)\n",
    "mei_selection = np.argmax([piecewise(mn-cons, sd) for mn,sd in zip(y_pred, y_std )])\n",
    "\n",
    "mli_selection = np.argmax(np.divide(y_pred - np.max(train_outputs), y_std))\n",
    "mu_selection = np.argmax(y_std)\n",
    "ucb_selection = np.argmax([sum(x) for x in zip(y_pred, y_std)])"
   ]
  },
  {
   "cell_type": "code",
   "execution_count": 14,
   "metadata": {},
   "outputs": [
    {
     "data": {
      "text/html": [
       "        <script type=\"text/javascript\">\n",
       "        window.PlotlyConfig = {MathJaxConfig: 'local'};\n",
       "        if (window.MathJax) {MathJax.Hub.Config({SVG: {font: \"STIX-Web\"}});}\n",
       "        if (typeof require !== 'undefined') {\n",
       "        require.undef(\"plotly\");\n",
       "        requirejs.config({\n",
       "            paths: {\n",
       "                'plotly': ['https://cdn.plot.ly/plotly-latest.min']\n",
       "            }\n",
       "        });\n",
       "        require(['plotly'], function(Plotly) {\n",
       "            window._Plotly = Plotly;\n",
       "        });\n",
       "        }\n",
       "        </script>\n",
       "        "
      ]
     },
     "metadata": {},
     "output_type": "display_data"
    },
    {
     "data": {
      "application/vnd.plotly.v1+json": {
       "config": {
        "linkText": "Export to plot.ly",
        "plotlyServerURL": "https://plot.ly",
        "showLink": false
       },
       "data": [
        {
         "error_y": {
          "array": [
           1.3848008349345877,
           1.6283457260423118,
           2.1418348918748142,
           2.1020017405399334,
           1.7273176754801658,
           1.8243581402299185,
           1.5149820936786726,
           2.334073495474355,
           2.4712764812100776,
           2.15806364670594,
           2.6610673159328964,
           1.9536170387717433,
           2.6585291339302253,
           2.5698037379807146,
           2.7359319116704577,
           4.7895061858075465,
           1.5059969965924223,
           2.852235797656977,
           1.7772830209489483,
           1.445082285586621
          ],
          "type": "data",
          "visible": true
         },
         "marker": {
          "color": "gray",
          "size": 12
         },
         "mode": "markers",
         "name": "Testing Data",
         "text": [
          58,
          40,
          34,
          102,
          184,
          198,
          95,
          4,
          29,
          168,
          171,
          18,
          11,
          89,
          110,
          118,
          159,
          35,
          136,
          59
         ],
         "type": "scatter",
         "x": [
          13.31,
          5.4,
          7.2,
          8.53,
          5.5,
          7.21,
          10.18,
          8.9,
          5.5,
          8.05,
          18.32,
          11.46,
          13.42,
          8.49,
          11.59,
          10.5,
          9.7,
          10.5,
          8.97,
          16.64
         ],
         "y": [
          15.09,
          6.6252857142856945,
          8.039828571428561,
          7.975028571428577,
          6.950542857142858,
          9.77442857142861,
          8.659828571428575,
          8.083971428571434,
          9.63434285714286,
          9.869485714285732,
          14.749371428571417,
          12.469514285714261,
          11.491485714285728,
          6.598742857142842,
          10.347314285714246,
          10.878542857142854,
          12.519257142857116,
          8.942257142857155,
          9.262142857142862,
          14.725285714285718
         ]
        }
       ],
       "layout": {
        "font": {
         "family": "Times New Roman",
         "size": 18
        },
        "height": 600,
        "hovermode": "closest",
        "showlegend": true,
        "template": {
         "data": {
          "bar": [
           {
            "error_x": {
             "color": "#2a3f5f"
            },
            "error_y": {
             "color": "#2a3f5f"
            },
            "marker": {
             "line": {
              "color": "#E5ECF6",
              "width": 0.5
             }
            },
            "type": "bar"
           }
          ],
          "barpolar": [
           {
            "marker": {
             "line": {
              "color": "#E5ECF6",
              "width": 0.5
             }
            },
            "type": "barpolar"
           }
          ],
          "carpet": [
           {
            "aaxis": {
             "endlinecolor": "#2a3f5f",
             "gridcolor": "white",
             "linecolor": "white",
             "minorgridcolor": "white",
             "startlinecolor": "#2a3f5f"
            },
            "baxis": {
             "endlinecolor": "#2a3f5f",
             "gridcolor": "white",
             "linecolor": "white",
             "minorgridcolor": "white",
             "startlinecolor": "#2a3f5f"
            },
            "type": "carpet"
           }
          ],
          "choropleth": [
           {
            "colorbar": {
             "outlinewidth": 0,
             "ticks": ""
            },
            "type": "choropleth"
           }
          ],
          "contour": [
           {
            "colorbar": {
             "outlinewidth": 0,
             "ticks": ""
            },
            "colorscale": [
             [
              0,
              "#0d0887"
             ],
             [
              0.1111111111111111,
              "#46039f"
             ],
             [
              0.2222222222222222,
              "#7201a8"
             ],
             [
              0.3333333333333333,
              "#9c179e"
             ],
             [
              0.4444444444444444,
              "#bd3786"
             ],
             [
              0.5555555555555556,
              "#d8576b"
             ],
             [
              0.6666666666666666,
              "#ed7953"
             ],
             [
              0.7777777777777778,
              "#fb9f3a"
             ],
             [
              0.8888888888888888,
              "#fdca26"
             ],
             [
              1,
              "#f0f921"
             ]
            ],
            "type": "contour"
           }
          ],
          "contourcarpet": [
           {
            "colorbar": {
             "outlinewidth": 0,
             "ticks": ""
            },
            "type": "contourcarpet"
           }
          ],
          "heatmap": [
           {
            "colorbar": {
             "outlinewidth": 0,
             "ticks": ""
            },
            "colorscale": [
             [
              0,
              "#0d0887"
             ],
             [
              0.1111111111111111,
              "#46039f"
             ],
             [
              0.2222222222222222,
              "#7201a8"
             ],
             [
              0.3333333333333333,
              "#9c179e"
             ],
             [
              0.4444444444444444,
              "#bd3786"
             ],
             [
              0.5555555555555556,
              "#d8576b"
             ],
             [
              0.6666666666666666,
              "#ed7953"
             ],
             [
              0.7777777777777778,
              "#fb9f3a"
             ],
             [
              0.8888888888888888,
              "#fdca26"
             ],
             [
              1,
              "#f0f921"
             ]
            ],
            "type": "heatmap"
           }
          ],
          "heatmapgl": [
           {
            "colorbar": {
             "outlinewidth": 0,
             "ticks": ""
            },
            "colorscale": [
             [
              0,
              "#0d0887"
             ],
             [
              0.1111111111111111,
              "#46039f"
             ],
             [
              0.2222222222222222,
              "#7201a8"
             ],
             [
              0.3333333333333333,
              "#9c179e"
             ],
             [
              0.4444444444444444,
              "#bd3786"
             ],
             [
              0.5555555555555556,
              "#d8576b"
             ],
             [
              0.6666666666666666,
              "#ed7953"
             ],
             [
              0.7777777777777778,
              "#fb9f3a"
             ],
             [
              0.8888888888888888,
              "#fdca26"
             ],
             [
              1,
              "#f0f921"
             ]
            ],
            "type": "heatmapgl"
           }
          ],
          "histogram": [
           {
            "marker": {
             "colorbar": {
              "outlinewidth": 0,
              "ticks": ""
             }
            },
            "type": "histogram"
           }
          ],
          "histogram2d": [
           {
            "colorbar": {
             "outlinewidth": 0,
             "ticks": ""
            },
            "colorscale": [
             [
              0,
              "#0d0887"
             ],
             [
              0.1111111111111111,
              "#46039f"
             ],
             [
              0.2222222222222222,
              "#7201a8"
             ],
             [
              0.3333333333333333,
              "#9c179e"
             ],
             [
              0.4444444444444444,
              "#bd3786"
             ],
             [
              0.5555555555555556,
              "#d8576b"
             ],
             [
              0.6666666666666666,
              "#ed7953"
             ],
             [
              0.7777777777777778,
              "#fb9f3a"
             ],
             [
              0.8888888888888888,
              "#fdca26"
             ],
             [
              1,
              "#f0f921"
             ]
            ],
            "type": "histogram2d"
           }
          ],
          "histogram2dcontour": [
           {
            "colorbar": {
             "outlinewidth": 0,
             "ticks": ""
            },
            "colorscale": [
             [
              0,
              "#0d0887"
             ],
             [
              0.1111111111111111,
              "#46039f"
             ],
             [
              0.2222222222222222,
              "#7201a8"
             ],
             [
              0.3333333333333333,
              "#9c179e"
             ],
             [
              0.4444444444444444,
              "#bd3786"
             ],
             [
              0.5555555555555556,
              "#d8576b"
             ],
             [
              0.6666666666666666,
              "#ed7953"
             ],
             [
              0.7777777777777778,
              "#fb9f3a"
             ],
             [
              0.8888888888888888,
              "#fdca26"
             ],
             [
              1,
              "#f0f921"
             ]
            ],
            "type": "histogram2dcontour"
           }
          ],
          "mesh3d": [
           {
            "colorbar": {
             "outlinewidth": 0,
             "ticks": ""
            },
            "type": "mesh3d"
           }
          ],
          "parcoords": [
           {
            "line": {
             "colorbar": {
              "outlinewidth": 0,
              "ticks": ""
             }
            },
            "type": "parcoords"
           }
          ],
          "pie": [
           {
            "automargin": true,
            "type": "pie"
           }
          ],
          "scatter": [
           {
            "marker": {
             "colorbar": {
              "outlinewidth": 0,
              "ticks": ""
             }
            },
            "type": "scatter"
           }
          ],
          "scatter3d": [
           {
            "line": {
             "colorbar": {
              "outlinewidth": 0,
              "ticks": ""
             }
            },
            "marker": {
             "colorbar": {
              "outlinewidth": 0,
              "ticks": ""
             }
            },
            "type": "scatter3d"
           }
          ],
          "scattercarpet": [
           {
            "marker": {
             "colorbar": {
              "outlinewidth": 0,
              "ticks": ""
             }
            },
            "type": "scattercarpet"
           }
          ],
          "scattergeo": [
           {
            "marker": {
             "colorbar": {
              "outlinewidth": 0,
              "ticks": ""
             }
            },
            "type": "scattergeo"
           }
          ],
          "scattergl": [
           {
            "marker": {
             "colorbar": {
              "outlinewidth": 0,
              "ticks": ""
             }
            },
            "type": "scattergl"
           }
          ],
          "scattermapbox": [
           {
            "marker": {
             "colorbar": {
              "outlinewidth": 0,
              "ticks": ""
             }
            },
            "type": "scattermapbox"
           }
          ],
          "scatterpolar": [
           {
            "marker": {
             "colorbar": {
              "outlinewidth": 0,
              "ticks": ""
             }
            },
            "type": "scatterpolar"
           }
          ],
          "scatterpolargl": [
           {
            "marker": {
             "colorbar": {
              "outlinewidth": 0,
              "ticks": ""
             }
            },
            "type": "scatterpolargl"
           }
          ],
          "scatterternary": [
           {
            "marker": {
             "colorbar": {
              "outlinewidth": 0,
              "ticks": ""
             }
            },
            "type": "scatterternary"
           }
          ],
          "surface": [
           {
            "colorbar": {
             "outlinewidth": 0,
             "ticks": ""
            },
            "colorscale": [
             [
              0,
              "#0d0887"
             ],
             [
              0.1111111111111111,
              "#46039f"
             ],
             [
              0.2222222222222222,
              "#7201a8"
             ],
             [
              0.3333333333333333,
              "#9c179e"
             ],
             [
              0.4444444444444444,
              "#bd3786"
             ],
             [
              0.5555555555555556,
              "#d8576b"
             ],
             [
              0.6666666666666666,
              "#ed7953"
             ],
             [
              0.7777777777777778,
              "#fb9f3a"
             ],
             [
              0.8888888888888888,
              "#fdca26"
             ],
             [
              1,
              "#f0f921"
             ]
            ],
            "type": "surface"
           }
          ],
          "table": [
           {
            "cells": {
             "fill": {
              "color": "#EBF0F8"
             },
             "line": {
              "color": "white"
             }
            },
            "header": {
             "fill": {
              "color": "#C8D4E3"
             },
             "line": {
              "color": "white"
             }
            },
            "type": "table"
           }
          ]
         },
         "layout": {
          "annotationdefaults": {
           "arrowcolor": "#2a3f5f",
           "arrowhead": 0,
           "arrowwidth": 1
          },
          "autotypenumbers": "strict",
          "coloraxis": {
           "colorbar": {
            "outlinewidth": 0,
            "ticks": ""
           }
          },
          "colorscale": {
           "diverging": [
            [
             0,
             "#8e0152"
            ],
            [
             0.1,
             "#c51b7d"
            ],
            [
             0.2,
             "#de77ae"
            ],
            [
             0.3,
             "#f1b6da"
            ],
            [
             0.4,
             "#fde0ef"
            ],
            [
             0.5,
             "#f7f7f7"
            ],
            [
             0.6,
             "#e6f5d0"
            ],
            [
             0.7,
             "#b8e186"
            ],
            [
             0.8,
             "#7fbc41"
            ],
            [
             0.9,
             "#4d9221"
            ],
            [
             1,
             "#276419"
            ]
           ],
           "sequential": [
            [
             0,
             "#0d0887"
            ],
            [
             0.1111111111111111,
             "#46039f"
            ],
            [
             0.2222222222222222,
             "#7201a8"
            ],
            [
             0.3333333333333333,
             "#9c179e"
            ],
            [
             0.4444444444444444,
             "#bd3786"
            ],
            [
             0.5555555555555556,
             "#d8576b"
            ],
            [
             0.6666666666666666,
             "#ed7953"
            ],
            [
             0.7777777777777778,
             "#fb9f3a"
            ],
            [
             0.8888888888888888,
             "#fdca26"
            ],
            [
             1,
             "#f0f921"
            ]
           ],
           "sequentialminus": [
            [
             0,
             "#0d0887"
            ],
            [
             0.1111111111111111,
             "#46039f"
            ],
            [
             0.2222222222222222,
             "#7201a8"
            ],
            [
             0.3333333333333333,
             "#9c179e"
            ],
            [
             0.4444444444444444,
             "#bd3786"
            ],
            [
             0.5555555555555556,
             "#d8576b"
            ],
            [
             0.6666666666666666,
             "#ed7953"
            ],
            [
             0.7777777777777778,
             "#fb9f3a"
            ],
            [
             0.8888888888888888,
             "#fdca26"
            ],
            [
             1,
             "#f0f921"
            ]
           ]
          },
          "colorway": [
           "#636efa",
           "#EF553B",
           "#00cc96",
           "#ab63fa",
           "#FFA15A",
           "#19d3f3",
           "#FF6692",
           "#B6E880",
           "#FF97FF",
           "#FECB52"
          ],
          "font": {
           "color": "#2a3f5f"
          },
          "geo": {
           "bgcolor": "white",
           "lakecolor": "white",
           "landcolor": "#E5ECF6",
           "showlakes": true,
           "showland": true,
           "subunitcolor": "white"
          },
          "hoverlabel": {
           "align": "left"
          },
          "hovermode": "closest",
          "mapbox": {
           "style": "light"
          },
          "paper_bgcolor": "white",
          "plot_bgcolor": "#E5ECF6",
          "polar": {
           "angularaxis": {
            "gridcolor": "white",
            "linecolor": "white",
            "ticks": ""
           },
           "bgcolor": "#E5ECF6",
           "radialaxis": {
            "gridcolor": "white",
            "linecolor": "white",
            "ticks": ""
           }
          },
          "scene": {
           "xaxis": {
            "backgroundcolor": "#E5ECF6",
            "gridcolor": "white",
            "gridwidth": 2,
            "linecolor": "white",
            "showbackground": true,
            "ticks": "",
            "zerolinecolor": "white"
           },
           "yaxis": {
            "backgroundcolor": "#E5ECF6",
            "gridcolor": "white",
            "gridwidth": 2,
            "linecolor": "white",
            "showbackground": true,
            "ticks": "",
            "zerolinecolor": "white"
           },
           "zaxis": {
            "backgroundcolor": "#E5ECF6",
            "gridcolor": "white",
            "gridwidth": 2,
            "linecolor": "white",
            "showbackground": true,
            "ticks": "",
            "zerolinecolor": "white"
           }
          },
          "shapedefaults": {
           "line": {
            "color": "#2a3f5f"
           }
          },
          "ternary": {
           "aaxis": {
            "gridcolor": "white",
            "linecolor": "white",
            "ticks": ""
           },
           "baxis": {
            "gridcolor": "white",
            "linecolor": "white",
            "ticks": ""
           },
           "bgcolor": "#E5ECF6",
           "caxis": {
            "gridcolor": "white",
            "linecolor": "white",
            "ticks": ""
           }
          },
          "title": {
           "x": 0.05
          },
          "xaxis": {
           "automargin": true,
           "gridcolor": "white",
           "linecolor": "white",
           "ticks": "",
           "title": {
            "standoff": 15
           },
           "zerolinecolor": "white",
           "zerolinewidth": 2
          },
          "yaxis": {
           "automargin": true,
           "gridcolor": "white",
           "linecolor": "white",
           "ticks": "",
           "title": {
            "standoff": 15
           },
           "zerolinecolor": "white",
           "zerolinewidth": 2
          }
         }
        },
        "title": {
         "text": "PCE - MAE: 1.666 HV"
        },
        "width": 1000,
        "xaxis": {
         "gridwidth": 2,
         "title": {
          "text": "Real Values"
         },
         "zeroline": false
        },
        "yaxis": {
         "gridwidth": 2,
         "title": {
          "text": "Predictions"
         },
         "zeroline": false
        }
       }
      },
      "text/html": [
       "<div>                            <div id=\"21a8022e-ea07-4e98-95ba-d14495212624\" class=\"plotly-graph-div\" style=\"height:600px; width:1000px;\"></div>            <script type=\"text/javascript\">                require([\"plotly\"], function(Plotly) {                    window.PLOTLYENV=window.PLOTLYENV || {};                                    if (document.getElementById(\"21a8022e-ea07-4e98-95ba-d14495212624\")) {                    Plotly.newPlot(                        \"21a8022e-ea07-4e98-95ba-d14495212624\",                        [{\"error_y\": {\"array\": [1.3848008349345877, 1.6283457260423118, 2.1418348918748142, 2.1020017405399334, 1.7273176754801658, 1.8243581402299185, 1.5149820936786726, 2.334073495474355, 2.4712764812100776, 2.15806364670594, 2.6610673159328964, 1.9536170387717433, 2.6585291339302253, 2.5698037379807146, 2.7359319116704577, 4.7895061858075465, 1.5059969965924223, 2.852235797656977, 1.7772830209489483, 1.445082285586621], \"type\": \"data\", \"visible\": true}, \"marker\": {\"color\": \"gray\", \"size\": 12}, \"mode\": \"markers\", \"name\": \"Testing Data\", \"text\": [58.0, 40.0, 34.0, 102.0, 184.0, 198.0, 95.0, 4.0, 29.0, 168.0, 171.0, 18.0, 11.0, 89.0, 110.0, 118.0, 159.0, 35.0, 136.0, 59.0], \"type\": \"scatter\", \"x\": [13.31, 5.4, 7.2, 8.53, 5.5, 7.21, 10.18, 8.9, 5.5, 8.05, 18.32, 11.46, 13.42, 8.49, 11.59, 10.5, 9.7, 10.5, 8.97, 16.64], \"y\": [15.09, 6.6252857142856945, 8.039828571428561, 7.975028571428577, 6.950542857142858, 9.77442857142861, 8.659828571428575, 8.083971428571434, 9.63434285714286, 9.869485714285732, 14.749371428571417, 12.469514285714261, 11.491485714285728, 6.598742857142842, 10.347314285714246, 10.878542857142854, 12.519257142857116, 8.942257142857155, 9.262142857142862, 14.725285714285718]}],                        {\"font\": {\"family\": \"Times New Roman\", \"size\": 18}, \"height\": 600, \"hovermode\": \"closest\", \"showlegend\": true, \"template\": {\"data\": {\"bar\": [{\"error_x\": {\"color\": \"#2a3f5f\"}, \"error_y\": {\"color\": \"#2a3f5f\"}, \"marker\": {\"line\": {\"color\": \"#E5ECF6\", \"width\": 0.5}}, \"type\": \"bar\"}], \"barpolar\": [{\"marker\": {\"line\": {\"color\": \"#E5ECF6\", \"width\": 0.5}}, \"type\": \"barpolar\"}], \"carpet\": [{\"aaxis\": {\"endlinecolor\": \"#2a3f5f\", \"gridcolor\": \"white\", \"linecolor\": \"white\", \"minorgridcolor\": \"white\", \"startlinecolor\": \"#2a3f5f\"}, \"baxis\": {\"endlinecolor\": \"#2a3f5f\", \"gridcolor\": \"white\", \"linecolor\": \"white\", \"minorgridcolor\": \"white\", \"startlinecolor\": \"#2a3f5f\"}, \"type\": \"carpet\"}], \"choropleth\": [{\"colorbar\": {\"outlinewidth\": 0, \"ticks\": \"\"}, \"type\": \"choropleth\"}], \"contour\": [{\"colorbar\": {\"outlinewidth\": 0, \"ticks\": \"\"}, \"colorscale\": [[0.0, \"#0d0887\"], [0.1111111111111111, \"#46039f\"], [0.2222222222222222, \"#7201a8\"], [0.3333333333333333, \"#9c179e\"], [0.4444444444444444, \"#bd3786\"], [0.5555555555555556, \"#d8576b\"], [0.6666666666666666, \"#ed7953\"], [0.7777777777777778, \"#fb9f3a\"], [0.8888888888888888, \"#fdca26\"], [1.0, \"#f0f921\"]], \"type\": \"contour\"}], \"contourcarpet\": [{\"colorbar\": {\"outlinewidth\": 0, \"ticks\": \"\"}, \"type\": \"contourcarpet\"}], \"heatmap\": [{\"colorbar\": {\"outlinewidth\": 0, \"ticks\": \"\"}, \"colorscale\": [[0.0, \"#0d0887\"], [0.1111111111111111, \"#46039f\"], [0.2222222222222222, \"#7201a8\"], [0.3333333333333333, \"#9c179e\"], [0.4444444444444444, \"#bd3786\"], [0.5555555555555556, \"#d8576b\"], [0.6666666666666666, \"#ed7953\"], [0.7777777777777778, \"#fb9f3a\"], [0.8888888888888888, \"#fdca26\"], [1.0, \"#f0f921\"]], \"type\": \"heatmap\"}], \"heatmapgl\": [{\"colorbar\": {\"outlinewidth\": 0, \"ticks\": \"\"}, \"colorscale\": [[0.0, \"#0d0887\"], [0.1111111111111111, \"#46039f\"], [0.2222222222222222, \"#7201a8\"], [0.3333333333333333, \"#9c179e\"], [0.4444444444444444, \"#bd3786\"], [0.5555555555555556, \"#d8576b\"], [0.6666666666666666, \"#ed7953\"], [0.7777777777777778, \"#fb9f3a\"], [0.8888888888888888, \"#fdca26\"], [1.0, \"#f0f921\"]], \"type\": \"heatmapgl\"}], \"histogram\": [{\"marker\": {\"colorbar\": {\"outlinewidth\": 0, \"ticks\": \"\"}}, \"type\": \"histogram\"}], \"histogram2d\": [{\"colorbar\": {\"outlinewidth\": 0, \"ticks\": \"\"}, \"colorscale\": [[0.0, \"#0d0887\"], [0.1111111111111111, \"#46039f\"], [0.2222222222222222, \"#7201a8\"], [0.3333333333333333, \"#9c179e\"], [0.4444444444444444, \"#bd3786\"], [0.5555555555555556, \"#d8576b\"], [0.6666666666666666, \"#ed7953\"], [0.7777777777777778, \"#fb9f3a\"], [0.8888888888888888, \"#fdca26\"], [1.0, \"#f0f921\"]], \"type\": \"histogram2d\"}], \"histogram2dcontour\": [{\"colorbar\": {\"outlinewidth\": 0, \"ticks\": \"\"}, \"colorscale\": [[0.0, \"#0d0887\"], [0.1111111111111111, \"#46039f\"], [0.2222222222222222, \"#7201a8\"], [0.3333333333333333, \"#9c179e\"], [0.4444444444444444, \"#bd3786\"], [0.5555555555555556, \"#d8576b\"], [0.6666666666666666, \"#ed7953\"], [0.7777777777777778, \"#fb9f3a\"], [0.8888888888888888, \"#fdca26\"], [1.0, \"#f0f921\"]], \"type\": \"histogram2dcontour\"}], \"mesh3d\": [{\"colorbar\": {\"outlinewidth\": 0, \"ticks\": \"\"}, \"type\": \"mesh3d\"}], \"parcoords\": [{\"line\": {\"colorbar\": {\"outlinewidth\": 0, \"ticks\": \"\"}}, \"type\": \"parcoords\"}], \"pie\": [{\"automargin\": true, \"type\": \"pie\"}], \"scatter\": [{\"marker\": {\"colorbar\": {\"outlinewidth\": 0, \"ticks\": \"\"}}, \"type\": \"scatter\"}], \"scatter3d\": [{\"line\": {\"colorbar\": {\"outlinewidth\": 0, \"ticks\": \"\"}}, \"marker\": {\"colorbar\": {\"outlinewidth\": 0, \"ticks\": \"\"}}, \"type\": \"scatter3d\"}], \"scattercarpet\": [{\"marker\": {\"colorbar\": {\"outlinewidth\": 0, \"ticks\": \"\"}}, \"type\": \"scattercarpet\"}], \"scattergeo\": [{\"marker\": {\"colorbar\": {\"outlinewidth\": 0, \"ticks\": \"\"}}, \"type\": \"scattergeo\"}], \"scattergl\": [{\"marker\": {\"colorbar\": {\"outlinewidth\": 0, \"ticks\": \"\"}}, \"type\": \"scattergl\"}], \"scattermapbox\": [{\"marker\": {\"colorbar\": {\"outlinewidth\": 0, \"ticks\": \"\"}}, \"type\": \"scattermapbox\"}], \"scatterpolar\": [{\"marker\": {\"colorbar\": {\"outlinewidth\": 0, \"ticks\": \"\"}}, \"type\": \"scatterpolar\"}], \"scatterpolargl\": [{\"marker\": {\"colorbar\": {\"outlinewidth\": 0, \"ticks\": \"\"}}, \"type\": \"scatterpolargl\"}], \"scatterternary\": [{\"marker\": {\"colorbar\": {\"outlinewidth\": 0, \"ticks\": \"\"}}, \"type\": \"scatterternary\"}], \"surface\": [{\"colorbar\": {\"outlinewidth\": 0, \"ticks\": \"\"}, \"colorscale\": [[0.0, \"#0d0887\"], [0.1111111111111111, \"#46039f\"], [0.2222222222222222, \"#7201a8\"], [0.3333333333333333, \"#9c179e\"], [0.4444444444444444, \"#bd3786\"], [0.5555555555555556, \"#d8576b\"], [0.6666666666666666, \"#ed7953\"], [0.7777777777777778, \"#fb9f3a\"], [0.8888888888888888, \"#fdca26\"], [1.0, \"#f0f921\"]], \"type\": \"surface\"}], \"table\": [{\"cells\": {\"fill\": {\"color\": \"#EBF0F8\"}, \"line\": {\"color\": \"white\"}}, \"header\": {\"fill\": {\"color\": \"#C8D4E3\"}, \"line\": {\"color\": \"white\"}}, \"type\": \"table\"}]}, \"layout\": {\"annotationdefaults\": {\"arrowcolor\": \"#2a3f5f\", \"arrowhead\": 0, \"arrowwidth\": 1}, \"autotypenumbers\": \"strict\", \"coloraxis\": {\"colorbar\": {\"outlinewidth\": 0, \"ticks\": \"\"}}, \"colorscale\": {\"diverging\": [[0, \"#8e0152\"], [0.1, \"#c51b7d\"], [0.2, \"#de77ae\"], [0.3, \"#f1b6da\"], [0.4, \"#fde0ef\"], [0.5, \"#f7f7f7\"], [0.6, \"#e6f5d0\"], [0.7, \"#b8e186\"], [0.8, \"#7fbc41\"], [0.9, \"#4d9221\"], [1, \"#276419\"]], \"sequential\": [[0.0, \"#0d0887\"], [0.1111111111111111, \"#46039f\"], [0.2222222222222222, \"#7201a8\"], [0.3333333333333333, \"#9c179e\"], [0.4444444444444444, \"#bd3786\"], [0.5555555555555556, \"#d8576b\"], [0.6666666666666666, \"#ed7953\"], [0.7777777777777778, \"#fb9f3a\"], [0.8888888888888888, \"#fdca26\"], [1.0, \"#f0f921\"]], \"sequentialminus\": [[0.0, \"#0d0887\"], [0.1111111111111111, \"#46039f\"], [0.2222222222222222, \"#7201a8\"], [0.3333333333333333, \"#9c179e\"], [0.4444444444444444, \"#bd3786\"], [0.5555555555555556, \"#d8576b\"], [0.6666666666666666, \"#ed7953\"], [0.7777777777777778, \"#fb9f3a\"], [0.8888888888888888, \"#fdca26\"], [1.0, \"#f0f921\"]]}, \"colorway\": [\"#636efa\", \"#EF553B\", \"#00cc96\", \"#ab63fa\", \"#FFA15A\", \"#19d3f3\", \"#FF6692\", \"#B6E880\", \"#FF97FF\", \"#FECB52\"], \"font\": {\"color\": \"#2a3f5f\"}, \"geo\": {\"bgcolor\": \"white\", \"lakecolor\": \"white\", \"landcolor\": \"#E5ECF6\", \"showlakes\": true, \"showland\": true, \"subunitcolor\": \"white\"}, \"hoverlabel\": {\"align\": \"left\"}, \"hovermode\": \"closest\", \"mapbox\": {\"style\": \"light\"}, \"paper_bgcolor\": \"white\", \"plot_bgcolor\": \"#E5ECF6\", \"polar\": {\"angularaxis\": {\"gridcolor\": \"white\", \"linecolor\": \"white\", \"ticks\": \"\"}, \"bgcolor\": \"#E5ECF6\", \"radialaxis\": {\"gridcolor\": \"white\", \"linecolor\": \"white\", \"ticks\": \"\"}}, \"scene\": {\"xaxis\": {\"backgroundcolor\": \"#E5ECF6\", \"gridcolor\": \"white\", \"gridwidth\": 2, \"linecolor\": \"white\", \"showbackground\": true, \"ticks\": \"\", \"zerolinecolor\": \"white\"}, \"yaxis\": {\"backgroundcolor\": \"#E5ECF6\", \"gridcolor\": \"white\", \"gridwidth\": 2, \"linecolor\": \"white\", \"showbackground\": true, \"ticks\": \"\", \"zerolinecolor\": \"white\"}, \"zaxis\": {\"backgroundcolor\": \"#E5ECF6\", \"gridcolor\": \"white\", \"gridwidth\": 2, \"linecolor\": \"white\", \"showbackground\": true, \"ticks\": \"\", \"zerolinecolor\": \"white\"}}, \"shapedefaults\": {\"line\": {\"color\": \"#2a3f5f\"}}, \"ternary\": {\"aaxis\": {\"gridcolor\": \"white\", \"linecolor\": \"white\", \"ticks\": \"\"}, \"baxis\": {\"gridcolor\": \"white\", \"linecolor\": \"white\", \"ticks\": \"\"}, \"bgcolor\": \"#E5ECF6\", \"caxis\": {\"gridcolor\": \"white\", \"linecolor\": \"white\", \"ticks\": \"\"}}, \"title\": {\"x\": 0.05}, \"xaxis\": {\"automargin\": true, \"gridcolor\": \"white\", \"linecolor\": \"white\", \"ticks\": \"\", \"title\": {\"standoff\": 15}, \"zerolinecolor\": \"white\", \"zerolinewidth\": 2}, \"yaxis\": {\"automargin\": true, \"gridcolor\": \"white\", \"linecolor\": \"white\", \"ticks\": \"\", \"title\": {\"standoff\": 15}, \"zerolinecolor\": \"white\", \"zerolinewidth\": 2}}}, \"title\": {\"text\": \"PCE - MAE: 1.666 HV\"}, \"width\": 1000, \"xaxis\": {\"gridwidth\": 2, \"title\": {\"text\": \"Real Values\"}, \"zeroline\": false}, \"yaxis\": {\"gridwidth\": 2, \"title\": {\"text\": \"Predictions\"}, \"zeroline\": false}},                        {\"responsive\": true}                    ).then(function(){\n",
       "                            \n",
       "var gd = document.getElementById('21a8022e-ea07-4e98-95ba-d14495212624');\n",
       "var x = new MutationObserver(function (mutations, observer) {{\n",
       "        var display = window.getComputedStyle(gd).display;\n",
       "        if (!display || display === 'none') {{\n",
       "            console.log([gd, 'removed!']);\n",
       "            Plotly.purge(gd);\n",
       "            observer.disconnect();\n",
       "        }}\n",
       "}});\n",
       "\n",
       "// Listen for the removal of the full notebook cells\n",
       "var notebookContainer = gd.closest('#notebook-container');\n",
       "if (notebookContainer) {{\n",
       "    x.observe(notebookContainer, {childList: true});\n",
       "}}\n",
       "\n",
       "// Listen for the clearing of the current output cell\n",
       "var outputEl = gd.closest('.output');\n",
       "if (outputEl) {{\n",
       "    x.observe(outputEl, {childList: true});\n",
       "}}\n",
       "\n",
       "                        })                };                });            </script>        </div>"
      ]
     },
     "metadata": {},
     "output_type": "display_data"
    }
   ],
   "source": [
    "plotly.offline.init_notebook_mode(connected=True)\n",
    "\n",
    "layout0= go.Layout(title= \"PCE - MAE: %.3f HV\" %MAE_testing, hovermode= 'closest',\n",
    "                   font = dict(family='Times New Roman',size=18),\n",
    "                   xaxis= dict(title= 'Real Values',zeroline= False, gridwidth= 2),\n",
    "                   yaxis= dict(title= 'Predictions',zeroline= False, gridwidth= 2),#range=[-350,3750]),\n",
    "                   height=600,\n",
    "                   width=1000,\n",
    "     showlegend= True                 \n",
    ")\n",
    "\n",
    "fit  = np.linspace(min(df['PCE']), max(df['PCE']))\n",
    "trace0 = go.Scatter(x = train_outputs, y = y_train, mode = 'markers', text=train_inputs.index, marker= dict(size= 12, color= 'blue'),name='Training Data')\n",
    "trace1 = go.Scatter(x = test_outputs ,y = y_pred, mode = 'markers', text=test_inputs.index,marker= dict(size= 12, color= 'gray'), \n",
    "                    error_y = dict(type='data',array=y_std,visible=True),name='Testing Data')\n",
    "trace2 = go.Scatter(x = fit ,y = fit, mode = 'lines', marker= dict(size= 12, color= 'black'), text = 'Fit',name='Linear Fit')\n",
    "\n",
    "# data = [trace0,trace1,trace2]\n",
    "# fig= go.Figure(data, layout=layout0)\n",
    "# iplot(fig)\n",
    "\n",
    "data1 = [trace1]\n",
    "fig1= go.Figure(data1, layout=layout0)\n",
    "iplot(fig1)"
   ]
  },
  {
   "cell_type": "code",
   "execution_count": 15,
   "metadata": {},
   "outputs": [
    {
     "name": "stdout",
     "output_type": "stream",
     "text": [
      "Predicted PCE of material 0 selected based on MM: 15.090000 +/- 1.384801\n",
      "Predicted PCE of material 15 selected based on MEI: 10.878543 +/- 4.789506\n",
      "Predicted PCE of material 10 selected based on MLI: 14.749371 +/- 2.661067\n",
      "Predicted PCE of material 15 selected based on MU: 10.878543 +/- 4.789506\n",
      "Predicted PCE of material 10 selected based on UCB: 14.749371 +/- 2.661067\n"
     ]
    }
   ],
   "source": [
    "property_interest = 'PCE'\n",
    "print('Predicted ' + property_interest + ' of material {} selected based on MM: {:.6f} +/- {:.6f}'.format(inputs.index[mm_selection], y_pred[mm_selection], y_std[mm_selection]))\n",
    "print('Predicted ' + property_interest + ' of material {} selected based on MEI: {:.6f} +/- {:.6f}'.format(inputs.index[mei_selection], y_pred[mei_selection], y_std[mei_selection]))\n",
    "print('Predicted ' + property_interest + ' of material {} selected based on MLI: {:.6f} +/- {:.6f}'.format(inputs.index[mli_selection], y_pred[mli_selection], y_std[mli_selection]))\n",
    "print('Predicted ' + property_interest + ' of material {} selected based on MU: {:.6f} +/- {:.6f}'.format(inputs.index[mu_selection], y_pred[mu_selection], y_std[mu_selection]))\n",
    "print('Predicted ' + property_interest + ' of material {} selected based on UCB: {:.6f} +/- {:.6f}'.format(inputs.index[ucb_selection], y_pred[ucb_selection], y_std[ucb_selection]))"
   ]
  },
  {
   "cell_type": "code",
   "execution_count": 16,
   "metadata": {
    "scrolled": false
   },
   "outputs": [
    {
     "data": {
      "text/html": [
       "        <script type=\"text/javascript\">\n",
       "        window.PlotlyConfig = {MathJaxConfig: 'local'};\n",
       "        if (window.MathJax) {MathJax.Hub.Config({SVG: {font: \"STIX-Web\"}});}\n",
       "        if (typeof require !== 'undefined') {\n",
       "        require.undef(\"plotly\");\n",
       "        requirejs.config({\n",
       "            paths: {\n",
       "                'plotly': ['https://cdn.plot.ly/plotly-latest.min']\n",
       "            }\n",
       "        });\n",
       "        require(['plotly'], function(Plotly) {\n",
       "            window._Plotly = Plotly;\n",
       "        });\n",
       "        }\n",
       "        </script>\n",
       "        "
      ]
     },
     "metadata": {},
     "output_type": "display_data"
    },
    {
     "data": {
      "application/vnd.plotly.v1+json": {
       "config": {
        "linkText": "Export to plot.ly",
        "plotlyServerURL": "https://plot.ly",
        "showLink": false
       },
       "data": [
        {
         "error_y": {
          "array": [
           1.3848008349345877,
           1.6283457260423118,
           2.1418348918748142,
           2.1020017405399334,
           1.7273176754801658,
           1.8243581402299185,
           1.5149820936786726,
           2.334073495474355,
           2.4712764812100776,
           2.15806364670594,
           2.6610673159328964,
           1.9536170387717433,
           2.6585291339302253,
           2.5698037379807146,
           2.7359319116704577,
           4.7895061858075465,
           1.5059969965924223,
           2.852235797656977,
           1.7772830209489483,
           1.445082285586621
          ],
          "type": "data",
          "visible": true
         },
         "marker": {
          "color": "lightgray",
          "size": 12
         },
         "mode": "markers",
         "name": "Testing Data",
         "text": [
          58,
          40,
          34,
          102,
          184,
          198,
          95,
          4,
          29,
          168,
          171,
          18,
          11,
          89,
          110,
          118,
          159,
          35,
          136,
          59
         ],
         "type": "scatter",
         "x": [
          13.31,
          5.4,
          7.2,
          8.53,
          5.5,
          7.21,
          10.18,
          8.9,
          5.5,
          8.05,
          18.32,
          11.46,
          13.42,
          8.49,
          11.59,
          10.5,
          9.7,
          10.5,
          8.97,
          16.64
         ],
         "y": [
          15.09,
          6.6252857142856945,
          8.039828571428561,
          7.975028571428577,
          6.950542857142858,
          9.77442857142861,
          8.659828571428575,
          8.083971428571434,
          9.63434285714286,
          9.869485714285732,
          14.749371428571417,
          12.469514285714261,
          11.491485714285728,
          6.598742857142842,
          10.347314285714246,
          10.878542857142854,
          12.519257142857116,
          8.942257142857155,
          9.262142857142862,
          14.725285714285718
         ]
        },
        {
         "error_y": {
          "array": [
           1.3848008349345877
          ],
          "type": "data",
          "visible": true
         },
         "marker": {
          "color": "green",
          "opacity": 0.9,
          "size": 16,
          "symbol": "triangle-up"
         },
         "mode": "markers",
         "name": "Selected by MM",
         "text": [
          58,
          40,
          34,
          102,
          184,
          198,
          95,
          4,
          29,
          168,
          171,
          18,
          11,
          89,
          110,
          118,
          159,
          35,
          136,
          59
         ],
         "type": "scatter",
         "x": [
          13.31
         ],
         "y": [
          15.09
         ]
        },
        {
         "error_y": {
          "array": [
           4.7895061858075465
          ],
          "type": "data",
          "visible": true
         },
         "marker": {
          "color": "blue",
          "opacity": 0.9,
          "size": 16,
          "symbol": "diamond"
         },
         "mode": "markers",
         "name": "Selected by MEI",
         "text": [
          58,
          40,
          34,
          102,
          184,
          198,
          95,
          4,
          29,
          168,
          171,
          18,
          11,
          89,
          110,
          118,
          159,
          35,
          136,
          59
         ],
         "type": "scatter",
         "x": [
          10.5
         ],
         "y": [
          10.878542857142854
         ]
        },
        {
         "error_y": {
          "array": [
           2.6610673159328964
          ],
          "type": "data",
          "visible": true,
          "width": 13
         },
         "marker": {
          "color": "red",
          "opacity": 0.9,
          "size": 16,
          "symbol": "star"
         },
         "mode": "markers",
         "name": "Selected by MLI",
         "text": [
          58,
          40,
          34,
          102,
          184,
          198,
          95,
          4,
          29,
          168,
          171,
          18,
          11,
          89,
          110,
          118,
          159,
          35,
          136,
          59
         ],
         "type": "scatter",
         "x": [
          18.32
         ],
         "y": [
          14.749371428571417
         ]
        },
        {
         "error_y": {
          "array": [
           4.7895061858075465
          ],
          "type": "data",
          "visible": true,
          "width": 13
         },
         "marker": {
          "color": "purple",
          "opacity": 0.5,
          "size": 25,
          "symbol": "square"
         },
         "mode": "markers",
         "name": "Selected by MU",
         "text": [
          58,
          40,
          34,
          102,
          184,
          198,
          95,
          4,
          29,
          168,
          171,
          18,
          11,
          89,
          110,
          118,
          159,
          35,
          136,
          59
         ],
         "type": "scatter",
         "x": [
          10.5
         ],
         "y": [
          10.878542857142854
         ]
        },
        {
         "error_y": {
          "array": [
           2.6610673159328964
          ],
          "type": "data",
          "visible": true
         },
         "marker": {
          "color": "darkorange",
          "opacity": 0.5,
          "size": 25,
          "symbol": "circle"
         },
         "mode": "markers",
         "name": "Selected by UCB",
         "text": [
          58,
          40,
          34,
          102,
          184,
          198,
          95,
          4,
          29,
          168,
          171,
          18,
          11,
          89,
          110,
          118,
          159,
          35,
          136,
          59
         ],
         "type": "scatter",
         "x": [
          18.32
         ],
         "y": [
          14.749371428571417
         ]
        }
       ],
       "layout": {
        "font": {
         "family": "Times New Roman",
         "size": 18
        },
        "height": 600,
        "hovermode": "closest",
        "showlegend": true,
        "template": {
         "data": {
          "bar": [
           {
            "error_x": {
             "color": "#2a3f5f"
            },
            "error_y": {
             "color": "#2a3f5f"
            },
            "marker": {
             "line": {
              "color": "#E5ECF6",
              "width": 0.5
             }
            },
            "type": "bar"
           }
          ],
          "barpolar": [
           {
            "marker": {
             "line": {
              "color": "#E5ECF6",
              "width": 0.5
             }
            },
            "type": "barpolar"
           }
          ],
          "carpet": [
           {
            "aaxis": {
             "endlinecolor": "#2a3f5f",
             "gridcolor": "white",
             "linecolor": "white",
             "minorgridcolor": "white",
             "startlinecolor": "#2a3f5f"
            },
            "baxis": {
             "endlinecolor": "#2a3f5f",
             "gridcolor": "white",
             "linecolor": "white",
             "minorgridcolor": "white",
             "startlinecolor": "#2a3f5f"
            },
            "type": "carpet"
           }
          ],
          "choropleth": [
           {
            "colorbar": {
             "outlinewidth": 0,
             "ticks": ""
            },
            "type": "choropleth"
           }
          ],
          "contour": [
           {
            "colorbar": {
             "outlinewidth": 0,
             "ticks": ""
            },
            "colorscale": [
             [
              0,
              "#0d0887"
             ],
             [
              0.1111111111111111,
              "#46039f"
             ],
             [
              0.2222222222222222,
              "#7201a8"
             ],
             [
              0.3333333333333333,
              "#9c179e"
             ],
             [
              0.4444444444444444,
              "#bd3786"
             ],
             [
              0.5555555555555556,
              "#d8576b"
             ],
             [
              0.6666666666666666,
              "#ed7953"
             ],
             [
              0.7777777777777778,
              "#fb9f3a"
             ],
             [
              0.8888888888888888,
              "#fdca26"
             ],
             [
              1,
              "#f0f921"
             ]
            ],
            "type": "contour"
           }
          ],
          "contourcarpet": [
           {
            "colorbar": {
             "outlinewidth": 0,
             "ticks": ""
            },
            "type": "contourcarpet"
           }
          ],
          "heatmap": [
           {
            "colorbar": {
             "outlinewidth": 0,
             "ticks": ""
            },
            "colorscale": [
             [
              0,
              "#0d0887"
             ],
             [
              0.1111111111111111,
              "#46039f"
             ],
             [
              0.2222222222222222,
              "#7201a8"
             ],
             [
              0.3333333333333333,
              "#9c179e"
             ],
             [
              0.4444444444444444,
              "#bd3786"
             ],
             [
              0.5555555555555556,
              "#d8576b"
             ],
             [
              0.6666666666666666,
              "#ed7953"
             ],
             [
              0.7777777777777778,
              "#fb9f3a"
             ],
             [
              0.8888888888888888,
              "#fdca26"
             ],
             [
              1,
              "#f0f921"
             ]
            ],
            "type": "heatmap"
           }
          ],
          "heatmapgl": [
           {
            "colorbar": {
             "outlinewidth": 0,
             "ticks": ""
            },
            "colorscale": [
             [
              0,
              "#0d0887"
             ],
             [
              0.1111111111111111,
              "#46039f"
             ],
             [
              0.2222222222222222,
              "#7201a8"
             ],
             [
              0.3333333333333333,
              "#9c179e"
             ],
             [
              0.4444444444444444,
              "#bd3786"
             ],
             [
              0.5555555555555556,
              "#d8576b"
             ],
             [
              0.6666666666666666,
              "#ed7953"
             ],
             [
              0.7777777777777778,
              "#fb9f3a"
             ],
             [
              0.8888888888888888,
              "#fdca26"
             ],
             [
              1,
              "#f0f921"
             ]
            ],
            "type": "heatmapgl"
           }
          ],
          "histogram": [
           {
            "marker": {
             "colorbar": {
              "outlinewidth": 0,
              "ticks": ""
             }
            },
            "type": "histogram"
           }
          ],
          "histogram2d": [
           {
            "colorbar": {
             "outlinewidth": 0,
             "ticks": ""
            },
            "colorscale": [
             [
              0,
              "#0d0887"
             ],
             [
              0.1111111111111111,
              "#46039f"
             ],
             [
              0.2222222222222222,
              "#7201a8"
             ],
             [
              0.3333333333333333,
              "#9c179e"
             ],
             [
              0.4444444444444444,
              "#bd3786"
             ],
             [
              0.5555555555555556,
              "#d8576b"
             ],
             [
              0.6666666666666666,
              "#ed7953"
             ],
             [
              0.7777777777777778,
              "#fb9f3a"
             ],
             [
              0.8888888888888888,
              "#fdca26"
             ],
             [
              1,
              "#f0f921"
             ]
            ],
            "type": "histogram2d"
           }
          ],
          "histogram2dcontour": [
           {
            "colorbar": {
             "outlinewidth": 0,
             "ticks": ""
            },
            "colorscale": [
             [
              0,
              "#0d0887"
             ],
             [
              0.1111111111111111,
              "#46039f"
             ],
             [
              0.2222222222222222,
              "#7201a8"
             ],
             [
              0.3333333333333333,
              "#9c179e"
             ],
             [
              0.4444444444444444,
              "#bd3786"
             ],
             [
              0.5555555555555556,
              "#d8576b"
             ],
             [
              0.6666666666666666,
              "#ed7953"
             ],
             [
              0.7777777777777778,
              "#fb9f3a"
             ],
             [
              0.8888888888888888,
              "#fdca26"
             ],
             [
              1,
              "#f0f921"
             ]
            ],
            "type": "histogram2dcontour"
           }
          ],
          "mesh3d": [
           {
            "colorbar": {
             "outlinewidth": 0,
             "ticks": ""
            },
            "type": "mesh3d"
           }
          ],
          "parcoords": [
           {
            "line": {
             "colorbar": {
              "outlinewidth": 0,
              "ticks": ""
             }
            },
            "type": "parcoords"
           }
          ],
          "pie": [
           {
            "automargin": true,
            "type": "pie"
           }
          ],
          "scatter": [
           {
            "marker": {
             "colorbar": {
              "outlinewidth": 0,
              "ticks": ""
             }
            },
            "type": "scatter"
           }
          ],
          "scatter3d": [
           {
            "line": {
             "colorbar": {
              "outlinewidth": 0,
              "ticks": ""
             }
            },
            "marker": {
             "colorbar": {
              "outlinewidth": 0,
              "ticks": ""
             }
            },
            "type": "scatter3d"
           }
          ],
          "scattercarpet": [
           {
            "marker": {
             "colorbar": {
              "outlinewidth": 0,
              "ticks": ""
             }
            },
            "type": "scattercarpet"
           }
          ],
          "scattergeo": [
           {
            "marker": {
             "colorbar": {
              "outlinewidth": 0,
              "ticks": ""
             }
            },
            "type": "scattergeo"
           }
          ],
          "scattergl": [
           {
            "marker": {
             "colorbar": {
              "outlinewidth": 0,
              "ticks": ""
             }
            },
            "type": "scattergl"
           }
          ],
          "scattermapbox": [
           {
            "marker": {
             "colorbar": {
              "outlinewidth": 0,
              "ticks": ""
             }
            },
            "type": "scattermapbox"
           }
          ],
          "scatterpolar": [
           {
            "marker": {
             "colorbar": {
              "outlinewidth": 0,
              "ticks": ""
             }
            },
            "type": "scatterpolar"
           }
          ],
          "scatterpolargl": [
           {
            "marker": {
             "colorbar": {
              "outlinewidth": 0,
              "ticks": ""
             }
            },
            "type": "scatterpolargl"
           }
          ],
          "scatterternary": [
           {
            "marker": {
             "colorbar": {
              "outlinewidth": 0,
              "ticks": ""
             }
            },
            "type": "scatterternary"
           }
          ],
          "surface": [
           {
            "colorbar": {
             "outlinewidth": 0,
             "ticks": ""
            },
            "colorscale": [
             [
              0,
              "#0d0887"
             ],
             [
              0.1111111111111111,
              "#46039f"
             ],
             [
              0.2222222222222222,
              "#7201a8"
             ],
             [
              0.3333333333333333,
              "#9c179e"
             ],
             [
              0.4444444444444444,
              "#bd3786"
             ],
             [
              0.5555555555555556,
              "#d8576b"
             ],
             [
              0.6666666666666666,
              "#ed7953"
             ],
             [
              0.7777777777777778,
              "#fb9f3a"
             ],
             [
              0.8888888888888888,
              "#fdca26"
             ],
             [
              1,
              "#f0f921"
             ]
            ],
            "type": "surface"
           }
          ],
          "table": [
           {
            "cells": {
             "fill": {
              "color": "#EBF0F8"
             },
             "line": {
              "color": "white"
             }
            },
            "header": {
             "fill": {
              "color": "#C8D4E3"
             },
             "line": {
              "color": "white"
             }
            },
            "type": "table"
           }
          ]
         },
         "layout": {
          "annotationdefaults": {
           "arrowcolor": "#2a3f5f",
           "arrowhead": 0,
           "arrowwidth": 1
          },
          "autotypenumbers": "strict",
          "coloraxis": {
           "colorbar": {
            "outlinewidth": 0,
            "ticks": ""
           }
          },
          "colorscale": {
           "diverging": [
            [
             0,
             "#8e0152"
            ],
            [
             0.1,
             "#c51b7d"
            ],
            [
             0.2,
             "#de77ae"
            ],
            [
             0.3,
             "#f1b6da"
            ],
            [
             0.4,
             "#fde0ef"
            ],
            [
             0.5,
             "#f7f7f7"
            ],
            [
             0.6,
             "#e6f5d0"
            ],
            [
             0.7,
             "#b8e186"
            ],
            [
             0.8,
             "#7fbc41"
            ],
            [
             0.9,
             "#4d9221"
            ],
            [
             1,
             "#276419"
            ]
           ],
           "sequential": [
            [
             0,
             "#0d0887"
            ],
            [
             0.1111111111111111,
             "#46039f"
            ],
            [
             0.2222222222222222,
             "#7201a8"
            ],
            [
             0.3333333333333333,
             "#9c179e"
            ],
            [
             0.4444444444444444,
             "#bd3786"
            ],
            [
             0.5555555555555556,
             "#d8576b"
            ],
            [
             0.6666666666666666,
             "#ed7953"
            ],
            [
             0.7777777777777778,
             "#fb9f3a"
            ],
            [
             0.8888888888888888,
             "#fdca26"
            ],
            [
             1,
             "#f0f921"
            ]
           ],
           "sequentialminus": [
            [
             0,
             "#0d0887"
            ],
            [
             0.1111111111111111,
             "#46039f"
            ],
            [
             0.2222222222222222,
             "#7201a8"
            ],
            [
             0.3333333333333333,
             "#9c179e"
            ],
            [
             0.4444444444444444,
             "#bd3786"
            ],
            [
             0.5555555555555556,
             "#d8576b"
            ],
            [
             0.6666666666666666,
             "#ed7953"
            ],
            [
             0.7777777777777778,
             "#fb9f3a"
            ],
            [
             0.8888888888888888,
             "#fdca26"
            ],
            [
             1,
             "#f0f921"
            ]
           ]
          },
          "colorway": [
           "#636efa",
           "#EF553B",
           "#00cc96",
           "#ab63fa",
           "#FFA15A",
           "#19d3f3",
           "#FF6692",
           "#B6E880",
           "#FF97FF",
           "#FECB52"
          ],
          "font": {
           "color": "#2a3f5f"
          },
          "geo": {
           "bgcolor": "white",
           "lakecolor": "white",
           "landcolor": "#E5ECF6",
           "showlakes": true,
           "showland": true,
           "subunitcolor": "white"
          },
          "hoverlabel": {
           "align": "left"
          },
          "hovermode": "closest",
          "mapbox": {
           "style": "light"
          },
          "paper_bgcolor": "white",
          "plot_bgcolor": "#E5ECF6",
          "polar": {
           "angularaxis": {
            "gridcolor": "white",
            "linecolor": "white",
            "ticks": ""
           },
           "bgcolor": "#E5ECF6",
           "radialaxis": {
            "gridcolor": "white",
            "linecolor": "white",
            "ticks": ""
           }
          },
          "scene": {
           "xaxis": {
            "backgroundcolor": "#E5ECF6",
            "gridcolor": "white",
            "gridwidth": 2,
            "linecolor": "white",
            "showbackground": true,
            "ticks": "",
            "zerolinecolor": "white"
           },
           "yaxis": {
            "backgroundcolor": "#E5ECF6",
            "gridcolor": "white",
            "gridwidth": 2,
            "linecolor": "white",
            "showbackground": true,
            "ticks": "",
            "zerolinecolor": "white"
           },
           "zaxis": {
            "backgroundcolor": "#E5ECF6",
            "gridcolor": "white",
            "gridwidth": 2,
            "linecolor": "white",
            "showbackground": true,
            "ticks": "",
            "zerolinecolor": "white"
           }
          },
          "shapedefaults": {
           "line": {
            "color": "#2a3f5f"
           }
          },
          "ternary": {
           "aaxis": {
            "gridcolor": "white",
            "linecolor": "white",
            "ticks": ""
           },
           "baxis": {
            "gridcolor": "white",
            "linecolor": "white",
            "ticks": ""
           },
           "bgcolor": "#E5ECF6",
           "caxis": {
            "gridcolor": "white",
            "linecolor": "white",
            "ticks": ""
           }
          },
          "title": {
           "x": 0.05
          },
          "xaxis": {
           "automargin": true,
           "gridcolor": "white",
           "linecolor": "white",
           "ticks": "",
           "title": {
            "standoff": 15
           },
           "zerolinecolor": "white",
           "zerolinewidth": 2
          },
          "yaxis": {
           "automargin": true,
           "gridcolor": "white",
           "linecolor": "white",
           "ticks": "",
           "title": {
            "standoff": 15
           },
           "zerolinecolor": "white",
           "zerolinewidth": 2
          }
         }
        },
        "title": {
         "text": "PCE - MAE: 1.666 HV"
        },
        "width": 1000,
        "xaxis": {
         "gridwidth": 2,
         "title": {
          "text": "Real Values"
         },
         "zeroline": false
        },
        "yaxis": {
         "gridwidth": 2,
         "title": {
          "text": "Predictions"
         },
         "zeroline": false
        }
       }
      },
      "text/html": [
       "<div>                            <div id=\"d675577b-3367-4941-b8ca-46ebe2c9ed5a\" class=\"plotly-graph-div\" style=\"height:600px; width:1000px;\"></div>            <script type=\"text/javascript\">                require([\"plotly\"], function(Plotly) {                    window.PLOTLYENV=window.PLOTLYENV || {};                                    if (document.getElementById(\"d675577b-3367-4941-b8ca-46ebe2c9ed5a\")) {                    Plotly.newPlot(                        \"d675577b-3367-4941-b8ca-46ebe2c9ed5a\",                        [{\"error_y\": {\"array\": [1.3848008349345877, 1.6283457260423118, 2.1418348918748142, 2.1020017405399334, 1.7273176754801658, 1.8243581402299185, 1.5149820936786726, 2.334073495474355, 2.4712764812100776, 2.15806364670594, 2.6610673159328964, 1.9536170387717433, 2.6585291339302253, 2.5698037379807146, 2.7359319116704577, 4.7895061858075465, 1.5059969965924223, 2.852235797656977, 1.7772830209489483, 1.445082285586621], \"type\": \"data\", \"visible\": true}, \"marker\": {\"color\": \"lightgray\", \"size\": 12}, \"mode\": \"markers\", \"name\": \"Testing Data\", \"text\": [58.0, 40.0, 34.0, 102.0, 184.0, 198.0, 95.0, 4.0, 29.0, 168.0, 171.0, 18.0, 11.0, 89.0, 110.0, 118.0, 159.0, 35.0, 136.0, 59.0], \"type\": \"scatter\", \"x\": [13.31, 5.4, 7.2, 8.53, 5.5, 7.21, 10.18, 8.9, 5.5, 8.05, 18.32, 11.46, 13.42, 8.49, 11.59, 10.5, 9.7, 10.5, 8.97, 16.64], \"y\": [15.09, 6.6252857142856945, 8.039828571428561, 7.975028571428577, 6.950542857142858, 9.77442857142861, 8.659828571428575, 8.083971428571434, 9.63434285714286, 9.869485714285732, 14.749371428571417, 12.469514285714261, 11.491485714285728, 6.598742857142842, 10.347314285714246, 10.878542857142854, 12.519257142857116, 8.942257142857155, 9.262142857142862, 14.725285714285718]}, {\"error_y\": {\"array\": [1.3848008349345877], \"type\": \"data\", \"visible\": true}, \"marker\": {\"color\": \"green\", \"opacity\": 0.9, \"size\": 16, \"symbol\": \"triangle-up\"}, \"mode\": \"markers\", \"name\": \"Selected by MM\", \"text\": [58.0, 40.0, 34.0, 102.0, 184.0, 198.0, 95.0, 4.0, 29.0, 168.0, 171.0, 18.0, 11.0, 89.0, 110.0, 118.0, 159.0, 35.0, 136.0, 59.0], \"type\": \"scatter\", \"x\": [13.31], \"y\": [15.09]}, {\"error_y\": {\"array\": [4.7895061858075465], \"type\": \"data\", \"visible\": true}, \"marker\": {\"color\": \"blue\", \"opacity\": 0.9, \"size\": 16, \"symbol\": \"diamond\"}, \"mode\": \"markers\", \"name\": \"Selected by MEI\", \"text\": [58.0, 40.0, 34.0, 102.0, 184.0, 198.0, 95.0, 4.0, 29.0, 168.0, 171.0, 18.0, 11.0, 89.0, 110.0, 118.0, 159.0, 35.0, 136.0, 59.0], \"type\": \"scatter\", \"x\": [10.5], \"y\": [10.878542857142854]}, {\"error_y\": {\"array\": [2.6610673159328964], \"type\": \"data\", \"visible\": true, \"width\": 13}, \"marker\": {\"color\": \"red\", \"opacity\": 0.9, \"size\": 16, \"symbol\": \"star\"}, \"mode\": \"markers\", \"name\": \"Selected by MLI\", \"text\": [58.0, 40.0, 34.0, 102.0, 184.0, 198.0, 95.0, 4.0, 29.0, 168.0, 171.0, 18.0, 11.0, 89.0, 110.0, 118.0, 159.0, 35.0, 136.0, 59.0], \"type\": \"scatter\", \"x\": [18.32], \"y\": [14.749371428571417]}, {\"error_y\": {\"array\": [4.7895061858075465], \"type\": \"data\", \"visible\": true, \"width\": 13}, \"marker\": {\"color\": \"purple\", \"opacity\": 0.5, \"size\": 25, \"symbol\": \"square\"}, \"mode\": \"markers\", \"name\": \"Selected by MU\", \"text\": [58.0, 40.0, 34.0, 102.0, 184.0, 198.0, 95.0, 4.0, 29.0, 168.0, 171.0, 18.0, 11.0, 89.0, 110.0, 118.0, 159.0, 35.0, 136.0, 59.0], \"type\": \"scatter\", \"x\": [10.5], \"y\": [10.878542857142854]}, {\"error_y\": {\"array\": [2.6610673159328964], \"type\": \"data\", \"visible\": true}, \"marker\": {\"color\": \"darkorange\", \"opacity\": 0.5, \"size\": 25, \"symbol\": \"circle\"}, \"mode\": \"markers\", \"name\": \"Selected by UCB\", \"text\": [58.0, 40.0, 34.0, 102.0, 184.0, 198.0, 95.0, 4.0, 29.0, 168.0, 171.0, 18.0, 11.0, 89.0, 110.0, 118.0, 159.0, 35.0, 136.0, 59.0], \"type\": \"scatter\", \"x\": [18.32], \"y\": [14.749371428571417]}],                        {\"font\": {\"family\": \"Times New Roman\", \"size\": 18}, \"height\": 600, \"hovermode\": \"closest\", \"showlegend\": true, \"template\": {\"data\": {\"bar\": [{\"error_x\": {\"color\": \"#2a3f5f\"}, \"error_y\": {\"color\": \"#2a3f5f\"}, \"marker\": {\"line\": {\"color\": \"#E5ECF6\", \"width\": 0.5}}, \"type\": \"bar\"}], \"barpolar\": [{\"marker\": {\"line\": {\"color\": \"#E5ECF6\", \"width\": 0.5}}, \"type\": \"barpolar\"}], \"carpet\": [{\"aaxis\": {\"endlinecolor\": \"#2a3f5f\", \"gridcolor\": \"white\", \"linecolor\": \"white\", \"minorgridcolor\": \"white\", \"startlinecolor\": \"#2a3f5f\"}, \"baxis\": {\"endlinecolor\": \"#2a3f5f\", \"gridcolor\": \"white\", \"linecolor\": \"white\", \"minorgridcolor\": \"white\", \"startlinecolor\": \"#2a3f5f\"}, \"type\": \"carpet\"}], \"choropleth\": [{\"colorbar\": {\"outlinewidth\": 0, \"ticks\": \"\"}, \"type\": \"choropleth\"}], \"contour\": [{\"colorbar\": {\"outlinewidth\": 0, \"ticks\": \"\"}, \"colorscale\": [[0.0, \"#0d0887\"], [0.1111111111111111, \"#46039f\"], [0.2222222222222222, \"#7201a8\"], [0.3333333333333333, \"#9c179e\"], [0.4444444444444444, \"#bd3786\"], [0.5555555555555556, \"#d8576b\"], [0.6666666666666666, \"#ed7953\"], [0.7777777777777778, \"#fb9f3a\"], [0.8888888888888888, \"#fdca26\"], [1.0, \"#f0f921\"]], \"type\": \"contour\"}], \"contourcarpet\": [{\"colorbar\": {\"outlinewidth\": 0, \"ticks\": \"\"}, \"type\": \"contourcarpet\"}], \"heatmap\": [{\"colorbar\": {\"outlinewidth\": 0, \"ticks\": \"\"}, \"colorscale\": [[0.0, \"#0d0887\"], [0.1111111111111111, \"#46039f\"], [0.2222222222222222, \"#7201a8\"], [0.3333333333333333, \"#9c179e\"], [0.4444444444444444, \"#bd3786\"], [0.5555555555555556, \"#d8576b\"], [0.6666666666666666, \"#ed7953\"], [0.7777777777777778, \"#fb9f3a\"], [0.8888888888888888, \"#fdca26\"], [1.0, \"#f0f921\"]], \"type\": \"heatmap\"}], \"heatmapgl\": [{\"colorbar\": {\"outlinewidth\": 0, \"ticks\": \"\"}, \"colorscale\": [[0.0, \"#0d0887\"], [0.1111111111111111, \"#46039f\"], [0.2222222222222222, \"#7201a8\"], [0.3333333333333333, \"#9c179e\"], [0.4444444444444444, \"#bd3786\"], [0.5555555555555556, \"#d8576b\"], [0.6666666666666666, \"#ed7953\"], [0.7777777777777778, \"#fb9f3a\"], [0.8888888888888888, \"#fdca26\"], [1.0, \"#f0f921\"]], \"type\": \"heatmapgl\"}], \"histogram\": [{\"marker\": {\"colorbar\": {\"outlinewidth\": 0, \"ticks\": \"\"}}, \"type\": \"histogram\"}], \"histogram2d\": [{\"colorbar\": {\"outlinewidth\": 0, \"ticks\": \"\"}, \"colorscale\": [[0.0, \"#0d0887\"], [0.1111111111111111, \"#46039f\"], [0.2222222222222222, \"#7201a8\"], [0.3333333333333333, \"#9c179e\"], [0.4444444444444444, \"#bd3786\"], [0.5555555555555556, \"#d8576b\"], [0.6666666666666666, \"#ed7953\"], [0.7777777777777778, \"#fb9f3a\"], [0.8888888888888888, \"#fdca26\"], [1.0, \"#f0f921\"]], \"type\": \"histogram2d\"}], \"histogram2dcontour\": [{\"colorbar\": {\"outlinewidth\": 0, \"ticks\": \"\"}, \"colorscale\": [[0.0, \"#0d0887\"], [0.1111111111111111, \"#46039f\"], [0.2222222222222222, \"#7201a8\"], [0.3333333333333333, \"#9c179e\"], [0.4444444444444444, \"#bd3786\"], [0.5555555555555556, \"#d8576b\"], [0.6666666666666666, \"#ed7953\"], [0.7777777777777778, \"#fb9f3a\"], [0.8888888888888888, \"#fdca26\"], [1.0, \"#f0f921\"]], \"type\": \"histogram2dcontour\"}], \"mesh3d\": [{\"colorbar\": {\"outlinewidth\": 0, \"ticks\": \"\"}, \"type\": \"mesh3d\"}], \"parcoords\": [{\"line\": {\"colorbar\": {\"outlinewidth\": 0, \"ticks\": \"\"}}, \"type\": \"parcoords\"}], \"pie\": [{\"automargin\": true, \"type\": \"pie\"}], \"scatter\": [{\"marker\": {\"colorbar\": {\"outlinewidth\": 0, \"ticks\": \"\"}}, \"type\": \"scatter\"}], \"scatter3d\": [{\"line\": {\"colorbar\": {\"outlinewidth\": 0, \"ticks\": \"\"}}, \"marker\": {\"colorbar\": {\"outlinewidth\": 0, \"ticks\": \"\"}}, \"type\": \"scatter3d\"}], \"scattercarpet\": [{\"marker\": {\"colorbar\": {\"outlinewidth\": 0, \"ticks\": \"\"}}, \"type\": \"scattercarpet\"}], \"scattergeo\": [{\"marker\": {\"colorbar\": {\"outlinewidth\": 0, \"ticks\": \"\"}}, \"type\": \"scattergeo\"}], \"scattergl\": [{\"marker\": {\"colorbar\": {\"outlinewidth\": 0, \"ticks\": \"\"}}, \"type\": \"scattergl\"}], \"scattermapbox\": [{\"marker\": {\"colorbar\": {\"outlinewidth\": 0, \"ticks\": \"\"}}, \"type\": \"scattermapbox\"}], \"scatterpolar\": [{\"marker\": {\"colorbar\": {\"outlinewidth\": 0, \"ticks\": \"\"}}, \"type\": \"scatterpolar\"}], \"scatterpolargl\": [{\"marker\": {\"colorbar\": {\"outlinewidth\": 0, \"ticks\": \"\"}}, \"type\": \"scatterpolargl\"}], \"scatterternary\": [{\"marker\": {\"colorbar\": {\"outlinewidth\": 0, \"ticks\": \"\"}}, \"type\": \"scatterternary\"}], \"surface\": [{\"colorbar\": {\"outlinewidth\": 0, \"ticks\": \"\"}, \"colorscale\": [[0.0, \"#0d0887\"], [0.1111111111111111, \"#46039f\"], [0.2222222222222222, \"#7201a8\"], [0.3333333333333333, \"#9c179e\"], [0.4444444444444444, \"#bd3786\"], [0.5555555555555556, \"#d8576b\"], [0.6666666666666666, \"#ed7953\"], [0.7777777777777778, \"#fb9f3a\"], [0.8888888888888888, \"#fdca26\"], [1.0, \"#f0f921\"]], \"type\": \"surface\"}], \"table\": [{\"cells\": {\"fill\": {\"color\": \"#EBF0F8\"}, \"line\": {\"color\": \"white\"}}, \"header\": {\"fill\": {\"color\": \"#C8D4E3\"}, \"line\": {\"color\": \"white\"}}, \"type\": \"table\"}]}, \"layout\": {\"annotationdefaults\": {\"arrowcolor\": \"#2a3f5f\", \"arrowhead\": 0, \"arrowwidth\": 1}, \"autotypenumbers\": \"strict\", \"coloraxis\": {\"colorbar\": {\"outlinewidth\": 0, \"ticks\": \"\"}}, \"colorscale\": {\"diverging\": [[0, \"#8e0152\"], [0.1, \"#c51b7d\"], [0.2, \"#de77ae\"], [0.3, \"#f1b6da\"], [0.4, \"#fde0ef\"], [0.5, \"#f7f7f7\"], [0.6, \"#e6f5d0\"], [0.7, \"#b8e186\"], [0.8, \"#7fbc41\"], [0.9, \"#4d9221\"], [1, \"#276419\"]], \"sequential\": [[0.0, \"#0d0887\"], [0.1111111111111111, \"#46039f\"], [0.2222222222222222, \"#7201a8\"], [0.3333333333333333, \"#9c179e\"], [0.4444444444444444, \"#bd3786\"], [0.5555555555555556, \"#d8576b\"], [0.6666666666666666, \"#ed7953\"], [0.7777777777777778, \"#fb9f3a\"], [0.8888888888888888, \"#fdca26\"], [1.0, \"#f0f921\"]], \"sequentialminus\": [[0.0, \"#0d0887\"], [0.1111111111111111, \"#46039f\"], [0.2222222222222222, \"#7201a8\"], [0.3333333333333333, \"#9c179e\"], [0.4444444444444444, \"#bd3786\"], [0.5555555555555556, \"#d8576b\"], [0.6666666666666666, \"#ed7953\"], [0.7777777777777778, \"#fb9f3a\"], [0.8888888888888888, \"#fdca26\"], [1.0, \"#f0f921\"]]}, \"colorway\": [\"#636efa\", \"#EF553B\", \"#00cc96\", \"#ab63fa\", \"#FFA15A\", \"#19d3f3\", \"#FF6692\", \"#B6E880\", \"#FF97FF\", \"#FECB52\"], \"font\": {\"color\": \"#2a3f5f\"}, \"geo\": {\"bgcolor\": \"white\", \"lakecolor\": \"white\", \"landcolor\": \"#E5ECF6\", \"showlakes\": true, \"showland\": true, \"subunitcolor\": \"white\"}, \"hoverlabel\": {\"align\": \"left\"}, \"hovermode\": \"closest\", \"mapbox\": {\"style\": \"light\"}, \"paper_bgcolor\": \"white\", \"plot_bgcolor\": \"#E5ECF6\", \"polar\": {\"angularaxis\": {\"gridcolor\": \"white\", \"linecolor\": \"white\", \"ticks\": \"\"}, \"bgcolor\": \"#E5ECF6\", \"radialaxis\": {\"gridcolor\": \"white\", \"linecolor\": \"white\", \"ticks\": \"\"}}, \"scene\": {\"xaxis\": {\"backgroundcolor\": \"#E5ECF6\", \"gridcolor\": \"white\", \"gridwidth\": 2, \"linecolor\": \"white\", \"showbackground\": true, \"ticks\": \"\", \"zerolinecolor\": \"white\"}, \"yaxis\": {\"backgroundcolor\": \"#E5ECF6\", \"gridcolor\": \"white\", \"gridwidth\": 2, \"linecolor\": \"white\", \"showbackground\": true, \"ticks\": \"\", \"zerolinecolor\": \"white\"}, \"zaxis\": {\"backgroundcolor\": \"#E5ECF6\", \"gridcolor\": \"white\", \"gridwidth\": 2, \"linecolor\": \"white\", \"showbackground\": true, \"ticks\": \"\", \"zerolinecolor\": \"white\"}}, \"shapedefaults\": {\"line\": {\"color\": \"#2a3f5f\"}}, \"ternary\": {\"aaxis\": {\"gridcolor\": \"white\", \"linecolor\": \"white\", \"ticks\": \"\"}, \"baxis\": {\"gridcolor\": \"white\", \"linecolor\": \"white\", \"ticks\": \"\"}, \"bgcolor\": \"#E5ECF6\", \"caxis\": {\"gridcolor\": \"white\", \"linecolor\": \"white\", \"ticks\": \"\"}}, \"title\": {\"x\": 0.05}, \"xaxis\": {\"automargin\": true, \"gridcolor\": \"white\", \"linecolor\": \"white\", \"ticks\": \"\", \"title\": {\"standoff\": 15}, \"zerolinecolor\": \"white\", \"zerolinewidth\": 2}, \"yaxis\": {\"automargin\": true, \"gridcolor\": \"white\", \"linecolor\": \"white\", \"ticks\": \"\", \"title\": {\"standoff\": 15}, \"zerolinecolor\": \"white\", \"zerolinewidth\": 2}}}, \"title\": {\"text\": \"PCE - MAE: 1.666 HV\"}, \"width\": 1000, \"xaxis\": {\"gridwidth\": 2, \"title\": {\"text\": \"Real Values\"}, \"zeroline\": false}, \"yaxis\": {\"gridwidth\": 2, \"title\": {\"text\": \"Predictions\"}, \"zeroline\": false}},                        {\"responsive\": true}                    ).then(function(){\n",
       "                            \n",
       "var gd = document.getElementById('d675577b-3367-4941-b8ca-46ebe2c9ed5a');\n",
       "var x = new MutationObserver(function (mutations, observer) {{\n",
       "        var display = window.getComputedStyle(gd).display;\n",
       "        if (!display || display === 'none') {{\n",
       "            console.log([gd, 'removed!']);\n",
       "            Plotly.purge(gd);\n",
       "            observer.disconnect();\n",
       "        }}\n",
       "}});\n",
       "\n",
       "// Listen for the removal of the full notebook cells\n",
       "var notebookContainer = gd.closest('#notebook-container');\n",
       "if (notebookContainer) {{\n",
       "    x.observe(notebookContainer, {childList: true});\n",
       "}}\n",
       "\n",
       "// Listen for the clearing of the current output cell\n",
       "var outputEl = gd.closest('.output');\n",
       "if (outputEl) {{\n",
       "    x.observe(outputEl, {childList: true});\n",
       "}}\n",
       "\n",
       "                        })                };                });            </script>        </div>"
      ]
     },
     "metadata": {},
     "output_type": "display_data"
    }
   ],
   "source": [
    "plotly.offline.init_notebook_mode(connected=True)\n",
    "\n",
    "layout0= go.Layout(title= \"PCE - MAE: %.3f HV\" %MAE_testing, hovermode= 'closest',\n",
    "                   font = dict(family='Times New Roman',size=18),\n",
    "                   xaxis= dict(title= 'Real Values',zeroline= False, gridwidth= 2),\n",
    "                   yaxis= dict(title= 'Predictions',zeroline= False, gridwidth= 2),#range=[-350,3750]),\n",
    "                   height=600,\n",
    "                   width=1000,\n",
    "     showlegend= True                 \n",
    ")\n",
    "\n",
    "fit  = np.linspace(min(df['PCE']), max(df['PCE']))\n",
    "trace0 = go.Scatter(x = train_outputs, y = y_train, mode = 'markers', text=train_inputs.index, marker= dict(size= 12, color= 'blue'),name='Training Data')\n",
    "trace1 = go.Scatter(x = test_outputs ,y = y_pred, mode = 'markers', text=test_inputs.index,marker= dict(size= 12, color= 'lightgray'), \n",
    "                    error_y = dict(type='data',array=y_std,visible=True),name='Testing Data')\n",
    "trace2 = go.Scatter(x = fit ,y = fit, mode = 'lines', marker= dict(size= 12, color= 'black'), text = 'Fit',name='Linear Fit')\n",
    "\n",
    "trace_mm = go.Scatter(x = [test_outputs[test_outputs.index[mm_selection]]] ,y = [y_pred[mm_selection]], mode = 'markers', text=test_inputs.index,marker= dict(symbol = 'triangle-up',size= 16, color= 'green',opacity=0.9), \n",
    "                    error_y = dict(type='data',array=[y_std[mm_selection]],visible=True),name='Selected by MM')\n",
    "\n",
    "trace_mei = go.Scatter(x = [test_outputs[test_outputs.index[mei_selection]]] ,y = [y_pred[mei_selection]], mode = 'markers', text=test_inputs.index,marker= dict(symbol = 'diamond',size= 16, color= 'blue',opacity=0.9), \n",
    "                    error_y = dict(type='data',array=[y_std[mei_selection]],visible=True),name='Selected by MEI')\n",
    "\n",
    "trace_mli = go.Scatter(x = [test_outputs[test_outputs.index[mli_selection]]] ,y = [y_pred[mli_selection]], mode = 'markers', text=test_inputs.index,marker= dict(symbol = 'star',size= 16, color= 'red',opacity=0.9), \n",
    "                    error_y = dict(type='data',array=[y_std[mli_selection]],visible=True,width=13),name='Selected by MLI')\n",
    "\n",
    "trace_mu = go.Scatter(x = [test_outputs[test_outputs.index[mu_selection]]] ,y = [y_pred[mu_selection]], mode = 'markers', text=test_inputs.index,marker= dict(symbol = 'square',size= 25, color= 'purple',opacity=0.5), \n",
    "                    error_y = dict(type='data',array=[y_std[mu_selection]],visible=True,width=13),name='Selected by MU')\n",
    "\n",
    "trace_ucb = go.Scatter(x = [test_outputs[test_outputs.index[ucb_selection]]] ,y = [y_pred[ucb_selection]], mode = 'markers', text=test_inputs.index,marker= dict(symbol = 'circle',size= 25, color= 'darkorange',opacity=0.5), \n",
    "                    error_y = dict(type='data',array=[y_std[ucb_selection]],visible=True),name='Selected by UCB')\n",
    "\n",
    "# data = [trace0,trace1,trace2]\n",
    "# fig= go.Figure(data, layout=layout0)\n",
    "# iplot(fig)\n",
    "\n",
    "data1 = [trace1, trace_mm, trace_mei, trace_mli ,trace_mu, trace_ucb ]\n",
    "fig1= go.Figure(data1, layout=layout0)\n",
    "iplot(fig1)"
   ]
  },
  {
   "cell_type": "code",
   "execution_count": 17,
   "metadata": {},
   "outputs": [
    {
     "data": {
      "text/html": [
       "        <script type=\"text/javascript\">\n",
       "        window.PlotlyConfig = {MathJaxConfig: 'local'};\n",
       "        if (window.MathJax) {MathJax.Hub.Config({SVG: {font: \"STIX-Web\"}});}\n",
       "        if (typeof require !== 'undefined') {\n",
       "        require.undef(\"plotly\");\n",
       "        requirejs.config({\n",
       "            paths: {\n",
       "                'plotly': ['https://cdn.plot.ly/plotly-latest.min']\n",
       "            }\n",
       "        });\n",
       "        require(['plotly'], function(Plotly) {\n",
       "            window._Plotly = Plotly;\n",
       "        });\n",
       "        }\n",
       "        </script>\n",
       "        "
      ]
     },
     "metadata": {},
     "output_type": "display_data"
    },
    {
     "data": {
      "application/vnd.plotly.v1+json": {
       "config": {
        "linkText": "Export to plot.ly",
        "plotlyServerURL": "https://plot.ly",
        "showLink": false
       },
       "data": [
        {
         "error_y": {
          "array": [
           1.3848008349345877,
           1.6283457260423118,
           2.1418348918748142,
           2.1020017405399334,
           1.7273176754801658,
           1.8243581402299185,
           1.5149820936786726,
           2.334073495474355,
           2.4712764812100776,
           2.15806364670594,
           2.6610673159328964,
           1.9536170387717433,
           2.6585291339302253,
           2.5698037379807146,
           2.7359319116704577,
           4.7895061858075465,
           1.5059969965924223,
           2.852235797656977,
           1.7772830209489483,
           1.445082285586621
          ],
          "type": "data",
          "visible": true
         },
         "marker": {
          "color": "lightgray",
          "size": 12
         },
         "mode": "markers",
         "name": "Testing Data",
         "text": [
          58,
          40,
          34,
          102,
          184,
          198,
          95,
          4,
          29,
          168,
          171,
          18,
          11,
          89,
          110,
          118,
          159,
          35,
          136,
          59
         ],
         "type": "scatter",
         "x": [
          13.31,
          5.4,
          7.2,
          8.53,
          5.5,
          7.21,
          10.18,
          8.9,
          5.5,
          8.05,
          18.32,
          11.46,
          13.42,
          8.49,
          11.59,
          10.5,
          9.7,
          10.5,
          8.97,
          16.64
         ],
         "y": [
          15.09,
          6.6252857142856945,
          8.039828571428561,
          7.975028571428577,
          6.950542857142858,
          9.77442857142861,
          8.659828571428575,
          8.083971428571434,
          9.63434285714286,
          9.869485714285732,
          14.749371428571417,
          12.469514285714261,
          11.491485714285728,
          6.598742857142842,
          10.347314285714246,
          10.878542857142854,
          12.519257142857116,
          8.942257142857155,
          9.262142857142862,
          14.725285714285718
         ]
        },
        {
         "error_y": {
          "array": [
           1.3848008349345877
          ],
          "type": "data",
          "visible": true
         },
         "marker": {
          "color": "green",
          "opacity": 0.9,
          "size": 16,
          "symbol": "triangle-up"
         },
         "mode": "markers+text",
         "name": "Selected by MM",
         "text": "D-0F:C8-ITIC",
         "textfont": {
          "color": "#008000"
         },
         "textposition": "bottom left",
         "type": "scatter",
         "x": [
          13.31
         ],
         "y": [
          15.09
         ]
        },
        {
         "error_y": {
          "array": [
           4.7895061858075465
          ],
          "type": "data",
          "visible": true
         },
         "marker": {
          "color": "blue",
          "opacity": 0.9,
          "size": 16,
          "symbol": "diamond"
         },
         "mode": "markers+text",
         "name": "Selected by MEI",
         "text": "PM6:IDST-4F",
         "textfont": {
          "color": "#0000ff"
         },
         "textposition": "top right",
         "type": "scatter",
         "x": [
          10.5
         ],
         "y": [
          10.878542857142854
         ]
        },
        {
         "error_y": {
          "array": [
           2.6610673159328964
          ],
          "type": "data",
          "visible": true,
          "width": 13
         },
         "marker": {
          "color": "red",
          "opacity": 0.9,
          "size": 16,
          "symbol": "star"
         },
         "mode": "markers+text",
         "name": "Selected by MLI",
         "text": "PffBT4T-2DT:IDTBR",
         "textfont": {
          "color": "#ff0000"
         },
         "textposition": "top left",
         "type": "scatter",
         "x": [
          18.32
         ],
         "y": [
          14.749371428571417
         ]
        },
        {
         "error_y": {
          "array": [
           4.7895061858075465
          ],
          "type": "data",
          "visible": true,
          "width": 13
         },
         "marker": {
          "color": "purple",
          "opacity": 0.5,
          "size": 25,
          "symbol": "square"
         },
         "mode": "markers+text",
         "name": "Selected by MU",
         "text": "PM6:IDST-4F",
         "textfont": {
          "color": "#800080"
         },
         "textposition": "bottom right",
         "type": "scatter",
         "x": [
          10.5
         ],
         "y": [
          10.878542857142854
         ]
        },
        {
         "error_y": {
          "array": [
           2.6610673159328964
          ],
          "type": "data",
          "visible": true
         },
         "marker": {
          "color": "darkorange",
          "opacity": 0.5,
          "size": 25,
          "symbol": "circle"
         },
         "mode": "markers+text",
         "name": "Selected by UCB",
         "text": "PffBT4T-2DT:IDTBR",
         "textfont": {
          "color": "#ff8c00"
         },
         "textposition": "bottom left",
         "type": "scatter",
         "x": [
          18.32
         ],
         "y": [
          14.749371428571417
         ]
        }
       ],
       "layout": {
        "font": {
         "family": "Times New Roman",
         "size": 18
        },
        "height": 600,
        "hovermode": "closest",
        "showlegend": true,
        "template": {
         "data": {
          "bar": [
           {
            "error_x": {
             "color": "#2a3f5f"
            },
            "error_y": {
             "color": "#2a3f5f"
            },
            "marker": {
             "line": {
              "color": "#E5ECF6",
              "width": 0.5
             }
            },
            "type": "bar"
           }
          ],
          "barpolar": [
           {
            "marker": {
             "line": {
              "color": "#E5ECF6",
              "width": 0.5
             }
            },
            "type": "barpolar"
           }
          ],
          "carpet": [
           {
            "aaxis": {
             "endlinecolor": "#2a3f5f",
             "gridcolor": "white",
             "linecolor": "white",
             "minorgridcolor": "white",
             "startlinecolor": "#2a3f5f"
            },
            "baxis": {
             "endlinecolor": "#2a3f5f",
             "gridcolor": "white",
             "linecolor": "white",
             "minorgridcolor": "white",
             "startlinecolor": "#2a3f5f"
            },
            "type": "carpet"
           }
          ],
          "choropleth": [
           {
            "colorbar": {
             "outlinewidth": 0,
             "ticks": ""
            },
            "type": "choropleth"
           }
          ],
          "contour": [
           {
            "colorbar": {
             "outlinewidth": 0,
             "ticks": ""
            },
            "colorscale": [
             [
              0,
              "#0d0887"
             ],
             [
              0.1111111111111111,
              "#46039f"
             ],
             [
              0.2222222222222222,
              "#7201a8"
             ],
             [
              0.3333333333333333,
              "#9c179e"
             ],
             [
              0.4444444444444444,
              "#bd3786"
             ],
             [
              0.5555555555555556,
              "#d8576b"
             ],
             [
              0.6666666666666666,
              "#ed7953"
             ],
             [
              0.7777777777777778,
              "#fb9f3a"
             ],
             [
              0.8888888888888888,
              "#fdca26"
             ],
             [
              1,
              "#f0f921"
             ]
            ],
            "type": "contour"
           }
          ],
          "contourcarpet": [
           {
            "colorbar": {
             "outlinewidth": 0,
             "ticks": ""
            },
            "type": "contourcarpet"
           }
          ],
          "heatmap": [
           {
            "colorbar": {
             "outlinewidth": 0,
             "ticks": ""
            },
            "colorscale": [
             [
              0,
              "#0d0887"
             ],
             [
              0.1111111111111111,
              "#46039f"
             ],
             [
              0.2222222222222222,
              "#7201a8"
             ],
             [
              0.3333333333333333,
              "#9c179e"
             ],
             [
              0.4444444444444444,
              "#bd3786"
             ],
             [
              0.5555555555555556,
              "#d8576b"
             ],
             [
              0.6666666666666666,
              "#ed7953"
             ],
             [
              0.7777777777777778,
              "#fb9f3a"
             ],
             [
              0.8888888888888888,
              "#fdca26"
             ],
             [
              1,
              "#f0f921"
             ]
            ],
            "type": "heatmap"
           }
          ],
          "heatmapgl": [
           {
            "colorbar": {
             "outlinewidth": 0,
             "ticks": ""
            },
            "colorscale": [
             [
              0,
              "#0d0887"
             ],
             [
              0.1111111111111111,
              "#46039f"
             ],
             [
              0.2222222222222222,
              "#7201a8"
             ],
             [
              0.3333333333333333,
              "#9c179e"
             ],
             [
              0.4444444444444444,
              "#bd3786"
             ],
             [
              0.5555555555555556,
              "#d8576b"
             ],
             [
              0.6666666666666666,
              "#ed7953"
             ],
             [
              0.7777777777777778,
              "#fb9f3a"
             ],
             [
              0.8888888888888888,
              "#fdca26"
             ],
             [
              1,
              "#f0f921"
             ]
            ],
            "type": "heatmapgl"
           }
          ],
          "histogram": [
           {
            "marker": {
             "colorbar": {
              "outlinewidth": 0,
              "ticks": ""
             }
            },
            "type": "histogram"
           }
          ],
          "histogram2d": [
           {
            "colorbar": {
             "outlinewidth": 0,
             "ticks": ""
            },
            "colorscale": [
             [
              0,
              "#0d0887"
             ],
             [
              0.1111111111111111,
              "#46039f"
             ],
             [
              0.2222222222222222,
              "#7201a8"
             ],
             [
              0.3333333333333333,
              "#9c179e"
             ],
             [
              0.4444444444444444,
              "#bd3786"
             ],
             [
              0.5555555555555556,
              "#d8576b"
             ],
             [
              0.6666666666666666,
              "#ed7953"
             ],
             [
              0.7777777777777778,
              "#fb9f3a"
             ],
             [
              0.8888888888888888,
              "#fdca26"
             ],
             [
              1,
              "#f0f921"
             ]
            ],
            "type": "histogram2d"
           }
          ],
          "histogram2dcontour": [
           {
            "colorbar": {
             "outlinewidth": 0,
             "ticks": ""
            },
            "colorscale": [
             [
              0,
              "#0d0887"
             ],
             [
              0.1111111111111111,
              "#46039f"
             ],
             [
              0.2222222222222222,
              "#7201a8"
             ],
             [
              0.3333333333333333,
              "#9c179e"
             ],
             [
              0.4444444444444444,
              "#bd3786"
             ],
             [
              0.5555555555555556,
              "#d8576b"
             ],
             [
              0.6666666666666666,
              "#ed7953"
             ],
             [
              0.7777777777777778,
              "#fb9f3a"
             ],
             [
              0.8888888888888888,
              "#fdca26"
             ],
             [
              1,
              "#f0f921"
             ]
            ],
            "type": "histogram2dcontour"
           }
          ],
          "mesh3d": [
           {
            "colorbar": {
             "outlinewidth": 0,
             "ticks": ""
            },
            "type": "mesh3d"
           }
          ],
          "parcoords": [
           {
            "line": {
             "colorbar": {
              "outlinewidth": 0,
              "ticks": ""
             }
            },
            "type": "parcoords"
           }
          ],
          "pie": [
           {
            "automargin": true,
            "type": "pie"
           }
          ],
          "scatter": [
           {
            "marker": {
             "colorbar": {
              "outlinewidth": 0,
              "ticks": ""
             }
            },
            "type": "scatter"
           }
          ],
          "scatter3d": [
           {
            "line": {
             "colorbar": {
              "outlinewidth": 0,
              "ticks": ""
             }
            },
            "marker": {
             "colorbar": {
              "outlinewidth": 0,
              "ticks": ""
             }
            },
            "type": "scatter3d"
           }
          ],
          "scattercarpet": [
           {
            "marker": {
             "colorbar": {
              "outlinewidth": 0,
              "ticks": ""
             }
            },
            "type": "scattercarpet"
           }
          ],
          "scattergeo": [
           {
            "marker": {
             "colorbar": {
              "outlinewidth": 0,
              "ticks": ""
             }
            },
            "type": "scattergeo"
           }
          ],
          "scattergl": [
           {
            "marker": {
             "colorbar": {
              "outlinewidth": 0,
              "ticks": ""
             }
            },
            "type": "scattergl"
           }
          ],
          "scattermapbox": [
           {
            "marker": {
             "colorbar": {
              "outlinewidth": 0,
              "ticks": ""
             }
            },
            "type": "scattermapbox"
           }
          ],
          "scatterpolar": [
           {
            "marker": {
             "colorbar": {
              "outlinewidth": 0,
              "ticks": ""
             }
            },
            "type": "scatterpolar"
           }
          ],
          "scatterpolargl": [
           {
            "marker": {
             "colorbar": {
              "outlinewidth": 0,
              "ticks": ""
             }
            },
            "type": "scatterpolargl"
           }
          ],
          "scatterternary": [
           {
            "marker": {
             "colorbar": {
              "outlinewidth": 0,
              "ticks": ""
             }
            },
            "type": "scatterternary"
           }
          ],
          "surface": [
           {
            "colorbar": {
             "outlinewidth": 0,
             "ticks": ""
            },
            "colorscale": [
             [
              0,
              "#0d0887"
             ],
             [
              0.1111111111111111,
              "#46039f"
             ],
             [
              0.2222222222222222,
              "#7201a8"
             ],
             [
              0.3333333333333333,
              "#9c179e"
             ],
             [
              0.4444444444444444,
              "#bd3786"
             ],
             [
              0.5555555555555556,
              "#d8576b"
             ],
             [
              0.6666666666666666,
              "#ed7953"
             ],
             [
              0.7777777777777778,
              "#fb9f3a"
             ],
             [
              0.8888888888888888,
              "#fdca26"
             ],
             [
              1,
              "#f0f921"
             ]
            ],
            "type": "surface"
           }
          ],
          "table": [
           {
            "cells": {
             "fill": {
              "color": "#EBF0F8"
             },
             "line": {
              "color": "white"
             }
            },
            "header": {
             "fill": {
              "color": "#C8D4E3"
             },
             "line": {
              "color": "white"
             }
            },
            "type": "table"
           }
          ]
         },
         "layout": {
          "annotationdefaults": {
           "arrowcolor": "#2a3f5f",
           "arrowhead": 0,
           "arrowwidth": 1
          },
          "autotypenumbers": "strict",
          "coloraxis": {
           "colorbar": {
            "outlinewidth": 0,
            "ticks": ""
           }
          },
          "colorscale": {
           "diverging": [
            [
             0,
             "#8e0152"
            ],
            [
             0.1,
             "#c51b7d"
            ],
            [
             0.2,
             "#de77ae"
            ],
            [
             0.3,
             "#f1b6da"
            ],
            [
             0.4,
             "#fde0ef"
            ],
            [
             0.5,
             "#f7f7f7"
            ],
            [
             0.6,
             "#e6f5d0"
            ],
            [
             0.7,
             "#b8e186"
            ],
            [
             0.8,
             "#7fbc41"
            ],
            [
             0.9,
             "#4d9221"
            ],
            [
             1,
             "#276419"
            ]
           ],
           "sequential": [
            [
             0,
             "#0d0887"
            ],
            [
             0.1111111111111111,
             "#46039f"
            ],
            [
             0.2222222222222222,
             "#7201a8"
            ],
            [
             0.3333333333333333,
             "#9c179e"
            ],
            [
             0.4444444444444444,
             "#bd3786"
            ],
            [
             0.5555555555555556,
             "#d8576b"
            ],
            [
             0.6666666666666666,
             "#ed7953"
            ],
            [
             0.7777777777777778,
             "#fb9f3a"
            ],
            [
             0.8888888888888888,
             "#fdca26"
            ],
            [
             1,
             "#f0f921"
            ]
           ],
           "sequentialminus": [
            [
             0,
             "#0d0887"
            ],
            [
             0.1111111111111111,
             "#46039f"
            ],
            [
             0.2222222222222222,
             "#7201a8"
            ],
            [
             0.3333333333333333,
             "#9c179e"
            ],
            [
             0.4444444444444444,
             "#bd3786"
            ],
            [
             0.5555555555555556,
             "#d8576b"
            ],
            [
             0.6666666666666666,
             "#ed7953"
            ],
            [
             0.7777777777777778,
             "#fb9f3a"
            ],
            [
             0.8888888888888888,
             "#fdca26"
            ],
            [
             1,
             "#f0f921"
            ]
           ]
          },
          "colorway": [
           "#636efa",
           "#EF553B",
           "#00cc96",
           "#ab63fa",
           "#FFA15A",
           "#19d3f3",
           "#FF6692",
           "#B6E880",
           "#FF97FF",
           "#FECB52"
          ],
          "font": {
           "color": "#2a3f5f"
          },
          "geo": {
           "bgcolor": "white",
           "lakecolor": "white",
           "landcolor": "#E5ECF6",
           "showlakes": true,
           "showland": true,
           "subunitcolor": "white"
          },
          "hoverlabel": {
           "align": "left"
          },
          "hovermode": "closest",
          "mapbox": {
           "style": "light"
          },
          "paper_bgcolor": "white",
          "plot_bgcolor": "#E5ECF6",
          "polar": {
           "angularaxis": {
            "gridcolor": "white",
            "linecolor": "white",
            "ticks": ""
           },
           "bgcolor": "#E5ECF6",
           "radialaxis": {
            "gridcolor": "white",
            "linecolor": "white",
            "ticks": ""
           }
          },
          "scene": {
           "xaxis": {
            "backgroundcolor": "#E5ECF6",
            "gridcolor": "white",
            "gridwidth": 2,
            "linecolor": "white",
            "showbackground": true,
            "ticks": "",
            "zerolinecolor": "white"
           },
           "yaxis": {
            "backgroundcolor": "#E5ECF6",
            "gridcolor": "white",
            "gridwidth": 2,
            "linecolor": "white",
            "showbackground": true,
            "ticks": "",
            "zerolinecolor": "white"
           },
           "zaxis": {
            "backgroundcolor": "#E5ECF6",
            "gridcolor": "white",
            "gridwidth": 2,
            "linecolor": "white",
            "showbackground": true,
            "ticks": "",
            "zerolinecolor": "white"
           }
          },
          "shapedefaults": {
           "line": {
            "color": "#2a3f5f"
           }
          },
          "ternary": {
           "aaxis": {
            "gridcolor": "white",
            "linecolor": "white",
            "ticks": ""
           },
           "baxis": {
            "gridcolor": "white",
            "linecolor": "white",
            "ticks": ""
           },
           "bgcolor": "#E5ECF6",
           "caxis": {
            "gridcolor": "white",
            "linecolor": "white",
            "ticks": ""
           }
          },
          "title": {
           "x": 0.05
          },
          "xaxis": {
           "automargin": true,
           "gridcolor": "white",
           "linecolor": "white",
           "ticks": "",
           "title": {
            "standoff": 15
           },
           "zerolinecolor": "white",
           "zerolinewidth": 2
          },
          "yaxis": {
           "automargin": true,
           "gridcolor": "white",
           "linecolor": "white",
           "ticks": "",
           "title": {
            "standoff": 15
           },
           "zerolinecolor": "white",
           "zerolinewidth": 2
          }
         }
        },
        "title": {
         "text": "PCE - MAE: 1.666 HV"
        },
        "width": 1000,
        "xaxis": {
         "gridwidth": 2,
         "title": {
          "text": "Real Values"
         },
         "zeroline": false
        },
        "yaxis": {
         "gridwidth": 2,
         "title": {
          "text": "Predictions"
         },
         "zeroline": false
        }
       }
      },
      "text/html": [
       "<div>                            <div id=\"0865d2b8-c703-44a0-84dc-85171caedf2b\" class=\"plotly-graph-div\" style=\"height:600px; width:1000px;\"></div>            <script type=\"text/javascript\">                require([\"plotly\"], function(Plotly) {                    window.PLOTLYENV=window.PLOTLYENV || {};                                    if (document.getElementById(\"0865d2b8-c703-44a0-84dc-85171caedf2b\")) {                    Plotly.newPlot(                        \"0865d2b8-c703-44a0-84dc-85171caedf2b\",                        [{\"error_y\": {\"array\": [1.3848008349345877, 1.6283457260423118, 2.1418348918748142, 2.1020017405399334, 1.7273176754801658, 1.8243581402299185, 1.5149820936786726, 2.334073495474355, 2.4712764812100776, 2.15806364670594, 2.6610673159328964, 1.9536170387717433, 2.6585291339302253, 2.5698037379807146, 2.7359319116704577, 4.7895061858075465, 1.5059969965924223, 2.852235797656977, 1.7772830209489483, 1.445082285586621], \"type\": \"data\", \"visible\": true}, \"marker\": {\"color\": \"lightgray\", \"size\": 12}, \"mode\": \"markers\", \"name\": \"Testing Data\", \"text\": [58.0, 40.0, 34.0, 102.0, 184.0, 198.0, 95.0, 4.0, 29.0, 168.0, 171.0, 18.0, 11.0, 89.0, 110.0, 118.0, 159.0, 35.0, 136.0, 59.0], \"type\": \"scatter\", \"x\": [13.31, 5.4, 7.2, 8.53, 5.5, 7.21, 10.18, 8.9, 5.5, 8.05, 18.32, 11.46, 13.42, 8.49, 11.59, 10.5, 9.7, 10.5, 8.97, 16.64], \"y\": [15.09, 6.6252857142856945, 8.039828571428561, 7.975028571428577, 6.950542857142858, 9.77442857142861, 8.659828571428575, 8.083971428571434, 9.63434285714286, 9.869485714285732, 14.749371428571417, 12.469514285714261, 11.491485714285728, 6.598742857142842, 10.347314285714246, 10.878542857142854, 12.519257142857116, 8.942257142857155, 9.262142857142862, 14.725285714285718]}, {\"error_y\": {\"array\": [1.3848008349345877], \"type\": \"data\", \"visible\": true}, \"marker\": {\"color\": \"green\", \"opacity\": 0.9, \"size\": 16, \"symbol\": \"triangle-up\"}, \"mode\": \"markers+text\", \"name\": \"Selected by MM\", \"text\": \"D-0F:C8-ITIC\", \"textfont\": {\"color\": \"#008000\"}, \"textposition\": \"bottom left\", \"type\": \"scatter\", \"x\": [13.31], \"y\": [15.09]}, {\"error_y\": {\"array\": [4.7895061858075465], \"type\": \"data\", \"visible\": true}, \"marker\": {\"color\": \"blue\", \"opacity\": 0.9, \"size\": 16, \"symbol\": \"diamond\"}, \"mode\": \"markers+text\", \"name\": \"Selected by MEI\", \"text\": \"PM6:IDST-4F\", \"textfont\": {\"color\": \"#0000ff\"}, \"textposition\": \"top right\", \"type\": \"scatter\", \"x\": [10.5], \"y\": [10.878542857142854]}, {\"error_y\": {\"array\": [2.6610673159328964], \"type\": \"data\", \"visible\": true, \"width\": 13}, \"marker\": {\"color\": \"red\", \"opacity\": 0.9, \"size\": 16, \"symbol\": \"star\"}, \"mode\": \"markers+text\", \"name\": \"Selected by MLI\", \"text\": \"PffBT4T-2DT:IDTBR\", \"textfont\": {\"color\": \"#ff0000\"}, \"textposition\": \"top left\", \"type\": \"scatter\", \"x\": [18.32], \"y\": [14.749371428571417]}, {\"error_y\": {\"array\": [4.7895061858075465], \"type\": \"data\", \"visible\": true, \"width\": 13}, \"marker\": {\"color\": \"purple\", \"opacity\": 0.5, \"size\": 25, \"symbol\": \"square\"}, \"mode\": \"markers+text\", \"name\": \"Selected by MU\", \"text\": \"PM6:IDST-4F\", \"textfont\": {\"color\": \"#800080\"}, \"textposition\": \"bottom right\", \"type\": \"scatter\", \"x\": [10.5], \"y\": [10.878542857142854]}, {\"error_y\": {\"array\": [2.6610673159328964], \"type\": \"data\", \"visible\": true}, \"marker\": {\"color\": \"darkorange\", \"opacity\": 0.5, \"size\": 25, \"symbol\": \"circle\"}, \"mode\": \"markers+text\", \"name\": \"Selected by UCB\", \"text\": \"PffBT4T-2DT:IDTBR\", \"textfont\": {\"color\": \"#ff8c00\"}, \"textposition\": \"bottom left\", \"type\": \"scatter\", \"x\": [18.32], \"y\": [14.749371428571417]}],                        {\"font\": {\"family\": \"Times New Roman\", \"size\": 18}, \"height\": 600, \"hovermode\": \"closest\", \"showlegend\": true, \"template\": {\"data\": {\"bar\": [{\"error_x\": {\"color\": \"#2a3f5f\"}, \"error_y\": {\"color\": \"#2a3f5f\"}, \"marker\": {\"line\": {\"color\": \"#E5ECF6\", \"width\": 0.5}}, \"type\": \"bar\"}], \"barpolar\": [{\"marker\": {\"line\": {\"color\": \"#E5ECF6\", \"width\": 0.5}}, \"type\": \"barpolar\"}], \"carpet\": [{\"aaxis\": {\"endlinecolor\": \"#2a3f5f\", \"gridcolor\": \"white\", \"linecolor\": \"white\", \"minorgridcolor\": \"white\", \"startlinecolor\": \"#2a3f5f\"}, \"baxis\": {\"endlinecolor\": \"#2a3f5f\", \"gridcolor\": \"white\", \"linecolor\": \"white\", \"minorgridcolor\": \"white\", \"startlinecolor\": \"#2a3f5f\"}, \"type\": \"carpet\"}], \"choropleth\": [{\"colorbar\": {\"outlinewidth\": 0, \"ticks\": \"\"}, \"type\": \"choropleth\"}], \"contour\": [{\"colorbar\": {\"outlinewidth\": 0, \"ticks\": \"\"}, \"colorscale\": [[0.0, \"#0d0887\"], [0.1111111111111111, \"#46039f\"], [0.2222222222222222, \"#7201a8\"], [0.3333333333333333, \"#9c179e\"], [0.4444444444444444, \"#bd3786\"], [0.5555555555555556, \"#d8576b\"], [0.6666666666666666, \"#ed7953\"], [0.7777777777777778, \"#fb9f3a\"], [0.8888888888888888, \"#fdca26\"], [1.0, \"#f0f921\"]], \"type\": \"contour\"}], \"contourcarpet\": [{\"colorbar\": {\"outlinewidth\": 0, \"ticks\": \"\"}, \"type\": \"contourcarpet\"}], \"heatmap\": [{\"colorbar\": {\"outlinewidth\": 0, \"ticks\": \"\"}, \"colorscale\": [[0.0, \"#0d0887\"], [0.1111111111111111, \"#46039f\"], [0.2222222222222222, \"#7201a8\"], [0.3333333333333333, \"#9c179e\"], [0.4444444444444444, \"#bd3786\"], [0.5555555555555556, \"#d8576b\"], [0.6666666666666666, \"#ed7953\"], [0.7777777777777778, \"#fb9f3a\"], [0.8888888888888888, \"#fdca26\"], [1.0, \"#f0f921\"]], \"type\": \"heatmap\"}], \"heatmapgl\": [{\"colorbar\": {\"outlinewidth\": 0, \"ticks\": \"\"}, \"colorscale\": [[0.0, \"#0d0887\"], [0.1111111111111111, \"#46039f\"], [0.2222222222222222, \"#7201a8\"], [0.3333333333333333, \"#9c179e\"], [0.4444444444444444, \"#bd3786\"], [0.5555555555555556, \"#d8576b\"], [0.6666666666666666, \"#ed7953\"], [0.7777777777777778, \"#fb9f3a\"], [0.8888888888888888, \"#fdca26\"], [1.0, \"#f0f921\"]], \"type\": \"heatmapgl\"}], \"histogram\": [{\"marker\": {\"colorbar\": {\"outlinewidth\": 0, \"ticks\": \"\"}}, \"type\": \"histogram\"}], \"histogram2d\": [{\"colorbar\": {\"outlinewidth\": 0, \"ticks\": \"\"}, \"colorscale\": [[0.0, \"#0d0887\"], [0.1111111111111111, \"#46039f\"], [0.2222222222222222, \"#7201a8\"], [0.3333333333333333, \"#9c179e\"], [0.4444444444444444, \"#bd3786\"], [0.5555555555555556, \"#d8576b\"], [0.6666666666666666, \"#ed7953\"], [0.7777777777777778, \"#fb9f3a\"], [0.8888888888888888, \"#fdca26\"], [1.0, \"#f0f921\"]], \"type\": \"histogram2d\"}], \"histogram2dcontour\": [{\"colorbar\": {\"outlinewidth\": 0, \"ticks\": \"\"}, \"colorscale\": [[0.0, \"#0d0887\"], [0.1111111111111111, \"#46039f\"], [0.2222222222222222, \"#7201a8\"], [0.3333333333333333, \"#9c179e\"], [0.4444444444444444, \"#bd3786\"], [0.5555555555555556, \"#d8576b\"], [0.6666666666666666, \"#ed7953\"], [0.7777777777777778, \"#fb9f3a\"], [0.8888888888888888, \"#fdca26\"], [1.0, \"#f0f921\"]], \"type\": \"histogram2dcontour\"}], \"mesh3d\": [{\"colorbar\": {\"outlinewidth\": 0, \"ticks\": \"\"}, \"type\": \"mesh3d\"}], \"parcoords\": [{\"line\": {\"colorbar\": {\"outlinewidth\": 0, \"ticks\": \"\"}}, \"type\": \"parcoords\"}], \"pie\": [{\"automargin\": true, \"type\": \"pie\"}], \"scatter\": [{\"marker\": {\"colorbar\": {\"outlinewidth\": 0, \"ticks\": \"\"}}, \"type\": \"scatter\"}], \"scatter3d\": [{\"line\": {\"colorbar\": {\"outlinewidth\": 0, \"ticks\": \"\"}}, \"marker\": {\"colorbar\": {\"outlinewidth\": 0, \"ticks\": \"\"}}, \"type\": \"scatter3d\"}], \"scattercarpet\": [{\"marker\": {\"colorbar\": {\"outlinewidth\": 0, \"ticks\": \"\"}}, \"type\": \"scattercarpet\"}], \"scattergeo\": [{\"marker\": {\"colorbar\": {\"outlinewidth\": 0, \"ticks\": \"\"}}, \"type\": \"scattergeo\"}], \"scattergl\": [{\"marker\": {\"colorbar\": {\"outlinewidth\": 0, \"ticks\": \"\"}}, \"type\": \"scattergl\"}], \"scattermapbox\": [{\"marker\": {\"colorbar\": {\"outlinewidth\": 0, \"ticks\": \"\"}}, \"type\": \"scattermapbox\"}], \"scatterpolar\": [{\"marker\": {\"colorbar\": {\"outlinewidth\": 0, \"ticks\": \"\"}}, \"type\": \"scatterpolar\"}], \"scatterpolargl\": [{\"marker\": {\"colorbar\": {\"outlinewidth\": 0, \"ticks\": \"\"}}, \"type\": \"scatterpolargl\"}], \"scatterternary\": [{\"marker\": {\"colorbar\": {\"outlinewidth\": 0, \"ticks\": \"\"}}, \"type\": \"scatterternary\"}], \"surface\": [{\"colorbar\": {\"outlinewidth\": 0, \"ticks\": \"\"}, \"colorscale\": [[0.0, \"#0d0887\"], [0.1111111111111111, \"#46039f\"], [0.2222222222222222, \"#7201a8\"], [0.3333333333333333, \"#9c179e\"], [0.4444444444444444, \"#bd3786\"], [0.5555555555555556, \"#d8576b\"], [0.6666666666666666, \"#ed7953\"], [0.7777777777777778, \"#fb9f3a\"], [0.8888888888888888, \"#fdca26\"], [1.0, \"#f0f921\"]], \"type\": \"surface\"}], \"table\": [{\"cells\": {\"fill\": {\"color\": \"#EBF0F8\"}, \"line\": {\"color\": \"white\"}}, \"header\": {\"fill\": {\"color\": \"#C8D4E3\"}, \"line\": {\"color\": \"white\"}}, \"type\": \"table\"}]}, \"layout\": {\"annotationdefaults\": {\"arrowcolor\": \"#2a3f5f\", \"arrowhead\": 0, \"arrowwidth\": 1}, \"autotypenumbers\": \"strict\", \"coloraxis\": {\"colorbar\": {\"outlinewidth\": 0, \"ticks\": \"\"}}, \"colorscale\": {\"diverging\": [[0, \"#8e0152\"], [0.1, \"#c51b7d\"], [0.2, \"#de77ae\"], [0.3, \"#f1b6da\"], [0.4, \"#fde0ef\"], [0.5, \"#f7f7f7\"], [0.6, \"#e6f5d0\"], [0.7, \"#b8e186\"], [0.8, \"#7fbc41\"], [0.9, \"#4d9221\"], [1, \"#276419\"]], \"sequential\": [[0.0, \"#0d0887\"], [0.1111111111111111, \"#46039f\"], [0.2222222222222222, \"#7201a8\"], [0.3333333333333333, \"#9c179e\"], [0.4444444444444444, \"#bd3786\"], [0.5555555555555556, \"#d8576b\"], [0.6666666666666666, \"#ed7953\"], [0.7777777777777778, \"#fb9f3a\"], [0.8888888888888888, \"#fdca26\"], [1.0, \"#f0f921\"]], \"sequentialminus\": [[0.0, \"#0d0887\"], [0.1111111111111111, \"#46039f\"], [0.2222222222222222, \"#7201a8\"], [0.3333333333333333, \"#9c179e\"], [0.4444444444444444, \"#bd3786\"], [0.5555555555555556, \"#d8576b\"], [0.6666666666666666, \"#ed7953\"], [0.7777777777777778, \"#fb9f3a\"], [0.8888888888888888, \"#fdca26\"], [1.0, \"#f0f921\"]]}, \"colorway\": [\"#636efa\", \"#EF553B\", \"#00cc96\", \"#ab63fa\", \"#FFA15A\", \"#19d3f3\", \"#FF6692\", \"#B6E880\", \"#FF97FF\", \"#FECB52\"], \"font\": {\"color\": \"#2a3f5f\"}, \"geo\": {\"bgcolor\": \"white\", \"lakecolor\": \"white\", \"landcolor\": \"#E5ECF6\", \"showlakes\": true, \"showland\": true, \"subunitcolor\": \"white\"}, \"hoverlabel\": {\"align\": \"left\"}, \"hovermode\": \"closest\", \"mapbox\": {\"style\": \"light\"}, \"paper_bgcolor\": \"white\", \"plot_bgcolor\": \"#E5ECF6\", \"polar\": {\"angularaxis\": {\"gridcolor\": \"white\", \"linecolor\": \"white\", \"ticks\": \"\"}, \"bgcolor\": \"#E5ECF6\", \"radialaxis\": {\"gridcolor\": \"white\", \"linecolor\": \"white\", \"ticks\": \"\"}}, \"scene\": {\"xaxis\": {\"backgroundcolor\": \"#E5ECF6\", \"gridcolor\": \"white\", \"gridwidth\": 2, \"linecolor\": \"white\", \"showbackground\": true, \"ticks\": \"\", \"zerolinecolor\": \"white\"}, \"yaxis\": {\"backgroundcolor\": \"#E5ECF6\", \"gridcolor\": \"white\", \"gridwidth\": 2, \"linecolor\": \"white\", \"showbackground\": true, \"ticks\": \"\", \"zerolinecolor\": \"white\"}, \"zaxis\": {\"backgroundcolor\": \"#E5ECF6\", \"gridcolor\": \"white\", \"gridwidth\": 2, \"linecolor\": \"white\", \"showbackground\": true, \"ticks\": \"\", \"zerolinecolor\": \"white\"}}, \"shapedefaults\": {\"line\": {\"color\": \"#2a3f5f\"}}, \"ternary\": {\"aaxis\": {\"gridcolor\": \"white\", \"linecolor\": \"white\", \"ticks\": \"\"}, \"baxis\": {\"gridcolor\": \"white\", \"linecolor\": \"white\", \"ticks\": \"\"}, \"bgcolor\": \"#E5ECF6\", \"caxis\": {\"gridcolor\": \"white\", \"linecolor\": \"white\", \"ticks\": \"\"}}, \"title\": {\"x\": 0.05}, \"xaxis\": {\"automargin\": true, \"gridcolor\": \"white\", \"linecolor\": \"white\", \"ticks\": \"\", \"title\": {\"standoff\": 15}, \"zerolinecolor\": \"white\", \"zerolinewidth\": 2}, \"yaxis\": {\"automargin\": true, \"gridcolor\": \"white\", \"linecolor\": \"white\", \"ticks\": \"\", \"title\": {\"standoff\": 15}, \"zerolinecolor\": \"white\", \"zerolinewidth\": 2}}}, \"title\": {\"text\": \"PCE - MAE: 1.666 HV\"}, \"width\": 1000, \"xaxis\": {\"gridwidth\": 2, \"title\": {\"text\": \"Real Values\"}, \"zeroline\": false}, \"yaxis\": {\"gridwidth\": 2, \"title\": {\"text\": \"Predictions\"}, \"zeroline\": false}},                        {\"responsive\": true}                    ).then(function(){\n",
       "                            \n",
       "var gd = document.getElementById('0865d2b8-c703-44a0-84dc-85171caedf2b');\n",
       "var x = new MutationObserver(function (mutations, observer) {{\n",
       "        var display = window.getComputedStyle(gd).display;\n",
       "        if (!display || display === 'none') {{\n",
       "            console.log([gd, 'removed!']);\n",
       "            Plotly.purge(gd);\n",
       "            observer.disconnect();\n",
       "        }}\n",
       "}});\n",
       "\n",
       "// Listen for the removal of the full notebook cells\n",
       "var notebookContainer = gd.closest('#notebook-container');\n",
       "if (notebookContainer) {{\n",
       "    x.observe(notebookContainer, {childList: true});\n",
       "}}\n",
       "\n",
       "// Listen for the clearing of the current output cell\n",
       "var outputEl = gd.closest('.output');\n",
       "if (outputEl) {{\n",
       "    x.observe(outputEl, {childList: true});\n",
       "}}\n",
       "\n",
       "                        })                };                });            </script>        </div>"
      ]
     },
     "metadata": {},
     "output_type": "display_data"
    }
   ],
   "source": [
    "plotly.offline.init_notebook_mode(connected=True)\n",
    "\n",
    "layout0= go.Layout(title= \"PCE - MAE: %.3f HV\" %MAE_testing, hovermode= 'closest',\n",
    "                   font = dict(family='Times New Roman',size=18),\n",
    "                   xaxis= dict(title= 'Real Values',zeroline= False, gridwidth= 2),\n",
    "                   yaxis= dict(title= 'Predictions',zeroline= False, gridwidth= 2),#range=[-350,3750]),\n",
    "                   height=600,\n",
    "                   width=1000,\n",
    "     showlegend= True                 \n",
    ")\n",
    "\n",
    "fit  = np.linspace(min(df['PCE']), max(df['PCE']))\n",
    "trace0 = go.Scatter(x = train_outputs, y = y_train, mode = 'markers', text=train_inputs.index, marker= dict(size= 12, color= 'blue'),name='Training Data')\n",
    "trace1 = go.Scatter(x = test_outputs ,y = y_pred, mode = 'markers', text=test_inputs.index,marker= dict(size= 12, color= 'lightgray'), \n",
    "                    error_y = dict(type='data',array=y_std,visible=True),name='Testing Data')\n",
    "trace2 = go.Scatter(x = fit ,y = fit, mode = 'lines', marker= dict(size= 12, color= 'black'), text = 'Fit',name='Linear Fit')\n",
    "\n",
    "trace_mm = go.Scatter(x = [test_outputs[test_outputs.index[mm_selection]]] ,y = [y_pred[mm_selection]], mode = 'markers+text', text=df.iloc[mm_selection]['D:A'],textposition='bottom left',textfont=dict(color='#008000'),marker= dict(symbol = 'triangle-up',size= 16, color= 'green',opacity=0.9), \n",
    "                    error_y = dict(type='data',array=[y_std[mm_selection]],visible=True),name='Selected by MM')\n",
    "\n",
    "trace_mei = go.Scatter(x = [test_outputs[test_outputs.index[mei_selection]]] ,y = [y_pred[mei_selection]], mode = 'markers+text', text=df.iloc[mei_selection]['D:A'],textposition='top right',textfont=dict(color='#0000ff'),marker= dict(symbol = 'diamond',size= 16, color= 'blue',opacity=0.9), \n",
    "                    error_y = dict(type='data',array=[y_std[mei_selection]],visible=True),name='Selected by MEI')\n",
    "\n",
    "trace_mli = go.Scatter(x = [test_outputs[test_outputs.index[mli_selection]]] ,y = [y_pred[mli_selection]], mode = 'markers+text', text=df.iloc[mli_selection]['D:A'],textposition='top left',textfont=dict(color='#ff0000'),marker= dict(symbol = 'star',size= 16, color= 'red',opacity=0.9), \n",
    "                    error_y = dict(type='data',array=[y_std[mli_selection]],visible=True,width=13),name='Selected by MLI')\n",
    "\n",
    "trace_mu = go.Scatter(x = [test_outputs[test_outputs.index[mu_selection]]] ,y = [y_pred[mu_selection]], mode = 'markers+text', text=df.iloc[mu_selection]['D:A'],textposition='bottom right',textfont=dict(color='#800080'),marker= dict(symbol = 'square',size= 25, color= 'purple',opacity=0.5), \n",
    "                    error_y = dict(type='data',array=[y_std[mu_selection]],visible=True,width=13),name='Selected by MU')\n",
    "\n",
    "trace_ucb = go.Scatter(x = [test_outputs[test_outputs.index[ucb_selection]]] ,y = [y_pred[ucb_selection]], mode = 'markers+text', text=df.iloc[ucb_selection]['D:A'],textposition='bottom left',textfont=dict(color='#ff8c00'),marker= dict(symbol = 'circle',size= 25, color= 'darkorange',opacity=0.5), \n",
    "                    error_y = dict(type='data',array=[y_std[ucb_selection]],visible=True),name='Selected by UCB')\n",
    "\n",
    "# data = [trace0,trace1,trace2]\n",
    "# fig= go.Figure(data, layout=layout0)\n",
    "# iplot(fig)\n",
    "\n",
    "data1 = [trace1, trace_mm, trace_mei, trace_mli ,trace_mu, trace_ucb ]\n",
    "fig1= go.Figure(data1, layout=layout0)\n",
    "iplot(fig1)"
   ]
  },
  {
   "cell_type": "markdown",
   "metadata": {},
   "source": [
    "Here index value corresponds to index of y_pred"
   ]
  },
  {
   "cell_type": "markdown",
   "metadata": {},
   "source": [
    "---\n",
    "### 5.3 Approach\n",
    "\n",
    "We will select an initial set of 10% of the entries, and we'll make sure the highest value is not in it. If it is, the cell will throw an error, just re-run it so that it can shuffle it again. \n",
    "## Objective: using 10 different initial sets of data containint 10% of the initial entries, create distributions of each acquisition function and its time to find the maximum value."
   ]
  },
  {
   "cell_type": "code",
   "execution_count": 18,
   "metadata": {},
   "outputs": [],
   "source": [
    "all_values = [list(inputs.iloc[x]) for x in range(len(inputs.index))]\n",
    "all_values = np.array(all_values, dtype = float) \n",
    "\n",
    "all_labels = output.copy()"
   ]
  },
  {
   "cell_type": "code",
   "execution_count": 19,
   "metadata": {},
   "outputs": [
    {
     "name": "stdout",
     "output_type": "stream",
     "text": [
      "count    200.000000\n",
      "mean       9.890750\n",
      "std        3.086631\n",
      "min        4.100000\n",
      "25%        7.790000\n",
      "50%        9.600000\n",
      "75%       11.805000\n",
      "max       18.320000\n",
      "Name: PCE, dtype: float64\n"
     ]
    },
    {
     "data": {
      "application/vnd.plotly.v1+json": {
       "config": {
        "plotlyServerURL": "https://plot.ly"
       },
       "data": [
        {
         "alignmentgroup": "True",
         "bingroup": "x",
         "hovertemplate": "PCE=%{x}<br>count=%{y}<extra></extra>",
         "legendgroup": "",
         "marker": {
          "color": "#636efa"
         },
         "name": "",
         "offsetgroup": "",
         "orientation": "v",
         "showlegend": false,
         "type": "histogram",
         "x": [
          11.6,
          12.2,
          8.8,
          8,
          8.9,
          4.4,
          7.8,
          10.9,
          9.9,
          7.8,
          9.95,
          13.42,
          13.4,
          9.5,
          13.8,
          14.3,
          6.4,
          6.2,
          11.46,
          13.82,
          12.3,
          13.6,
          12.9,
          12.7,
          11.7,
          16.5,
          9.3,
          10.4,
          9.6,
          5.5,
          15,
          9.41,
          10.5,
          6.4,
          7.2,
          10.5,
          11.4,
          10.19,
          8.4,
          7,
          5.4,
          9.83,
          8.45,
          11.48,
          6,
          7.2,
          10.2,
          14.9,
          17.8,
          16.9,
          9.1,
          7.59,
          8.1,
          7,
          10.1,
          9.12,
          13.18,
          13.68,
          13.31,
          16.64,
          8.25,
          13.7,
          8.9,
          10.52,
          9.41,
          11.1,
          13.24,
          14.16,
          13.68,
          9.66,
          9.18,
          4.93,
          6.55,
          6.71,
          6.19,
          12.03,
          9.74,
          13.32,
          9.6,
          13.4,
          12.5,
          8.2,
          14.1,
          15.3,
          9.64,
          9.82,
          7.9,
          7.57,
          8.16,
          8.49,
          6,
          4.1,
          4.46,
          4.11,
          7.76,
          10.18,
          9.4,
          8.72,
          9.27,
          7.72,
          5.94,
          4.5,
          8.53,
          8.48,
          6.53,
          5.75,
          9.11,
          7.08,
          10.81,
          8.97,
          11.59,
          15.12,
          4.12,
          13.9,
          11.26,
          12.21,
          15.3,
          5.75,
          10.5,
          16.21,
          12.72,
          14,
          17.1,
          16.7,
          15.2,
          12.87,
          12.43,
          8.31,
          8.36,
          11.05,
          8.02,
          10.35,
          8.24,
          9.92,
          10.93,
          5.51,
          8.97,
          9.53,
          10.81,
          8.13,
          8.59,
          6.68,
          8.9,
          11.34,
          11.73,
          10.68,
          8.12,
          5.6,
          8.8,
          9.5,
          9.4,
          8.9,
          7.7,
          10.1,
          10.8,
          11.5,
          7.3,
          9.3,
          10.8,
          9.7,
          11.1,
          12.97,
          7.11,
          6.9,
          5.9,
          10.9,
          12.1,
          9.94,
          8.05,
          9.62,
          12.84,
          18.32,
          8.14,
          18.22,
          13.1,
          7.4,
          12.2,
          7.03,
          4.8,
          6.54,
          5.65,
          9.81,
          8.99,
          11.2,
          5.5,
          6.9,
          5.4,
          5.24,
          6.28,
          6.94,
          9.2,
          8.06,
          11.62,
          12.05,
          10.23,
          10.71,
          9.63,
          8.03,
          7.21,
          13.37
         ],
         "xaxis": "x",
         "yaxis": "y"
        }
       ],
       "layout": {
        "barmode": "relative",
        "font": {
         "family": "Times New Roman",
         "size": 22
        },
        "height": 420,
        "legend": {
         "tracegroupgap": 0
        },
        "margin": {
         "t": 60
        },
        "template": {
         "data": {
          "bar": [
           {
            "error_x": {
             "color": "#2a3f5f"
            },
            "error_y": {
             "color": "#2a3f5f"
            },
            "marker": {
             "line": {
              "color": "#E5ECF6",
              "width": 0.5
             }
            },
            "type": "bar"
           }
          ],
          "barpolar": [
           {
            "marker": {
             "line": {
              "color": "#E5ECF6",
              "width": 0.5
             }
            },
            "type": "barpolar"
           }
          ],
          "carpet": [
           {
            "aaxis": {
             "endlinecolor": "#2a3f5f",
             "gridcolor": "white",
             "linecolor": "white",
             "minorgridcolor": "white",
             "startlinecolor": "#2a3f5f"
            },
            "baxis": {
             "endlinecolor": "#2a3f5f",
             "gridcolor": "white",
             "linecolor": "white",
             "minorgridcolor": "white",
             "startlinecolor": "#2a3f5f"
            },
            "type": "carpet"
           }
          ],
          "choropleth": [
           {
            "colorbar": {
             "outlinewidth": 0,
             "ticks": ""
            },
            "type": "choropleth"
           }
          ],
          "contour": [
           {
            "colorbar": {
             "outlinewidth": 0,
             "ticks": ""
            },
            "colorscale": [
             [
              0,
              "#0d0887"
             ],
             [
              0.1111111111111111,
              "#46039f"
             ],
             [
              0.2222222222222222,
              "#7201a8"
             ],
             [
              0.3333333333333333,
              "#9c179e"
             ],
             [
              0.4444444444444444,
              "#bd3786"
             ],
             [
              0.5555555555555556,
              "#d8576b"
             ],
             [
              0.6666666666666666,
              "#ed7953"
             ],
             [
              0.7777777777777778,
              "#fb9f3a"
             ],
             [
              0.8888888888888888,
              "#fdca26"
             ],
             [
              1,
              "#f0f921"
             ]
            ],
            "type": "contour"
           }
          ],
          "contourcarpet": [
           {
            "colorbar": {
             "outlinewidth": 0,
             "ticks": ""
            },
            "type": "contourcarpet"
           }
          ],
          "heatmap": [
           {
            "colorbar": {
             "outlinewidth": 0,
             "ticks": ""
            },
            "colorscale": [
             [
              0,
              "#0d0887"
             ],
             [
              0.1111111111111111,
              "#46039f"
             ],
             [
              0.2222222222222222,
              "#7201a8"
             ],
             [
              0.3333333333333333,
              "#9c179e"
             ],
             [
              0.4444444444444444,
              "#bd3786"
             ],
             [
              0.5555555555555556,
              "#d8576b"
             ],
             [
              0.6666666666666666,
              "#ed7953"
             ],
             [
              0.7777777777777778,
              "#fb9f3a"
             ],
             [
              0.8888888888888888,
              "#fdca26"
             ],
             [
              1,
              "#f0f921"
             ]
            ],
            "type": "heatmap"
           }
          ],
          "heatmapgl": [
           {
            "colorbar": {
             "outlinewidth": 0,
             "ticks": ""
            },
            "colorscale": [
             [
              0,
              "#0d0887"
             ],
             [
              0.1111111111111111,
              "#46039f"
             ],
             [
              0.2222222222222222,
              "#7201a8"
             ],
             [
              0.3333333333333333,
              "#9c179e"
             ],
             [
              0.4444444444444444,
              "#bd3786"
             ],
             [
              0.5555555555555556,
              "#d8576b"
             ],
             [
              0.6666666666666666,
              "#ed7953"
             ],
             [
              0.7777777777777778,
              "#fb9f3a"
             ],
             [
              0.8888888888888888,
              "#fdca26"
             ],
             [
              1,
              "#f0f921"
             ]
            ],
            "type": "heatmapgl"
           }
          ],
          "histogram": [
           {
            "marker": {
             "colorbar": {
              "outlinewidth": 0,
              "ticks": ""
             }
            },
            "type": "histogram"
           }
          ],
          "histogram2d": [
           {
            "colorbar": {
             "outlinewidth": 0,
             "ticks": ""
            },
            "colorscale": [
             [
              0,
              "#0d0887"
             ],
             [
              0.1111111111111111,
              "#46039f"
             ],
             [
              0.2222222222222222,
              "#7201a8"
             ],
             [
              0.3333333333333333,
              "#9c179e"
             ],
             [
              0.4444444444444444,
              "#bd3786"
             ],
             [
              0.5555555555555556,
              "#d8576b"
             ],
             [
              0.6666666666666666,
              "#ed7953"
             ],
             [
              0.7777777777777778,
              "#fb9f3a"
             ],
             [
              0.8888888888888888,
              "#fdca26"
             ],
             [
              1,
              "#f0f921"
             ]
            ],
            "type": "histogram2d"
           }
          ],
          "histogram2dcontour": [
           {
            "colorbar": {
             "outlinewidth": 0,
             "ticks": ""
            },
            "colorscale": [
             [
              0,
              "#0d0887"
             ],
             [
              0.1111111111111111,
              "#46039f"
             ],
             [
              0.2222222222222222,
              "#7201a8"
             ],
             [
              0.3333333333333333,
              "#9c179e"
             ],
             [
              0.4444444444444444,
              "#bd3786"
             ],
             [
              0.5555555555555556,
              "#d8576b"
             ],
             [
              0.6666666666666666,
              "#ed7953"
             ],
             [
              0.7777777777777778,
              "#fb9f3a"
             ],
             [
              0.8888888888888888,
              "#fdca26"
             ],
             [
              1,
              "#f0f921"
             ]
            ],
            "type": "histogram2dcontour"
           }
          ],
          "mesh3d": [
           {
            "colorbar": {
             "outlinewidth": 0,
             "ticks": ""
            },
            "type": "mesh3d"
           }
          ],
          "parcoords": [
           {
            "line": {
             "colorbar": {
              "outlinewidth": 0,
              "ticks": ""
             }
            },
            "type": "parcoords"
           }
          ],
          "pie": [
           {
            "automargin": true,
            "type": "pie"
           }
          ],
          "scatter": [
           {
            "marker": {
             "colorbar": {
              "outlinewidth": 0,
              "ticks": ""
             }
            },
            "type": "scatter"
           }
          ],
          "scatter3d": [
           {
            "line": {
             "colorbar": {
              "outlinewidth": 0,
              "ticks": ""
             }
            },
            "marker": {
             "colorbar": {
              "outlinewidth": 0,
              "ticks": ""
             }
            },
            "type": "scatter3d"
           }
          ],
          "scattercarpet": [
           {
            "marker": {
             "colorbar": {
              "outlinewidth": 0,
              "ticks": ""
             }
            },
            "type": "scattercarpet"
           }
          ],
          "scattergeo": [
           {
            "marker": {
             "colorbar": {
              "outlinewidth": 0,
              "ticks": ""
             }
            },
            "type": "scattergeo"
           }
          ],
          "scattergl": [
           {
            "marker": {
             "colorbar": {
              "outlinewidth": 0,
              "ticks": ""
             }
            },
            "type": "scattergl"
           }
          ],
          "scattermapbox": [
           {
            "marker": {
             "colorbar": {
              "outlinewidth": 0,
              "ticks": ""
             }
            },
            "type": "scattermapbox"
           }
          ],
          "scatterpolar": [
           {
            "marker": {
             "colorbar": {
              "outlinewidth": 0,
              "ticks": ""
             }
            },
            "type": "scatterpolar"
           }
          ],
          "scatterpolargl": [
           {
            "marker": {
             "colorbar": {
              "outlinewidth": 0,
              "ticks": ""
             }
            },
            "type": "scatterpolargl"
           }
          ],
          "scatterternary": [
           {
            "marker": {
             "colorbar": {
              "outlinewidth": 0,
              "ticks": ""
             }
            },
            "type": "scatterternary"
           }
          ],
          "surface": [
           {
            "colorbar": {
             "outlinewidth": 0,
             "ticks": ""
            },
            "colorscale": [
             [
              0,
              "#0d0887"
             ],
             [
              0.1111111111111111,
              "#46039f"
             ],
             [
              0.2222222222222222,
              "#7201a8"
             ],
             [
              0.3333333333333333,
              "#9c179e"
             ],
             [
              0.4444444444444444,
              "#bd3786"
             ],
             [
              0.5555555555555556,
              "#d8576b"
             ],
             [
              0.6666666666666666,
              "#ed7953"
             ],
             [
              0.7777777777777778,
              "#fb9f3a"
             ],
             [
              0.8888888888888888,
              "#fdca26"
             ],
             [
              1,
              "#f0f921"
             ]
            ],
            "type": "surface"
           }
          ],
          "table": [
           {
            "cells": {
             "fill": {
              "color": "#EBF0F8"
             },
             "line": {
              "color": "white"
             }
            },
            "header": {
             "fill": {
              "color": "#C8D4E3"
             },
             "line": {
              "color": "white"
             }
            },
            "type": "table"
           }
          ]
         },
         "layout": {
          "annotationdefaults": {
           "arrowcolor": "#2a3f5f",
           "arrowhead": 0,
           "arrowwidth": 1
          },
          "autotypenumbers": "strict",
          "coloraxis": {
           "colorbar": {
            "outlinewidth": 0,
            "ticks": ""
           }
          },
          "colorscale": {
           "diverging": [
            [
             0,
             "#8e0152"
            ],
            [
             0.1,
             "#c51b7d"
            ],
            [
             0.2,
             "#de77ae"
            ],
            [
             0.3,
             "#f1b6da"
            ],
            [
             0.4,
             "#fde0ef"
            ],
            [
             0.5,
             "#f7f7f7"
            ],
            [
             0.6,
             "#e6f5d0"
            ],
            [
             0.7,
             "#b8e186"
            ],
            [
             0.8,
             "#7fbc41"
            ],
            [
             0.9,
             "#4d9221"
            ],
            [
             1,
             "#276419"
            ]
           ],
           "sequential": [
            [
             0,
             "#0d0887"
            ],
            [
             0.1111111111111111,
             "#46039f"
            ],
            [
             0.2222222222222222,
             "#7201a8"
            ],
            [
             0.3333333333333333,
             "#9c179e"
            ],
            [
             0.4444444444444444,
             "#bd3786"
            ],
            [
             0.5555555555555556,
             "#d8576b"
            ],
            [
             0.6666666666666666,
             "#ed7953"
            ],
            [
             0.7777777777777778,
             "#fb9f3a"
            ],
            [
             0.8888888888888888,
             "#fdca26"
            ],
            [
             1,
             "#f0f921"
            ]
           ],
           "sequentialminus": [
            [
             0,
             "#0d0887"
            ],
            [
             0.1111111111111111,
             "#46039f"
            ],
            [
             0.2222222222222222,
             "#7201a8"
            ],
            [
             0.3333333333333333,
             "#9c179e"
            ],
            [
             0.4444444444444444,
             "#bd3786"
            ],
            [
             0.5555555555555556,
             "#d8576b"
            ],
            [
             0.6666666666666666,
             "#ed7953"
            ],
            [
             0.7777777777777778,
             "#fb9f3a"
            ],
            [
             0.8888888888888888,
             "#fdca26"
            ],
            [
             1,
             "#f0f921"
            ]
           ]
          },
          "colorway": [
           "#636efa",
           "#EF553B",
           "#00cc96",
           "#ab63fa",
           "#FFA15A",
           "#19d3f3",
           "#FF6692",
           "#B6E880",
           "#FF97FF",
           "#FECB52"
          ],
          "font": {
           "color": "#2a3f5f"
          },
          "geo": {
           "bgcolor": "white",
           "lakecolor": "white",
           "landcolor": "#E5ECF6",
           "showlakes": true,
           "showland": true,
           "subunitcolor": "white"
          },
          "hoverlabel": {
           "align": "left"
          },
          "hovermode": "closest",
          "mapbox": {
           "style": "light"
          },
          "paper_bgcolor": "white",
          "plot_bgcolor": "#E5ECF6",
          "polar": {
           "angularaxis": {
            "gridcolor": "white",
            "linecolor": "white",
            "ticks": ""
           },
           "bgcolor": "#E5ECF6",
           "radialaxis": {
            "gridcolor": "white",
            "linecolor": "white",
            "ticks": ""
           }
          },
          "scene": {
           "xaxis": {
            "backgroundcolor": "#E5ECF6",
            "gridcolor": "white",
            "gridwidth": 2,
            "linecolor": "white",
            "showbackground": true,
            "ticks": "",
            "zerolinecolor": "white"
           },
           "yaxis": {
            "backgroundcolor": "#E5ECF6",
            "gridcolor": "white",
            "gridwidth": 2,
            "linecolor": "white",
            "showbackground": true,
            "ticks": "",
            "zerolinecolor": "white"
           },
           "zaxis": {
            "backgroundcolor": "#E5ECF6",
            "gridcolor": "white",
            "gridwidth": 2,
            "linecolor": "white",
            "showbackground": true,
            "ticks": "",
            "zerolinecolor": "white"
           }
          },
          "shapedefaults": {
           "line": {
            "color": "#2a3f5f"
           }
          },
          "ternary": {
           "aaxis": {
            "gridcolor": "white",
            "linecolor": "white",
            "ticks": ""
           },
           "baxis": {
            "gridcolor": "white",
            "linecolor": "white",
            "ticks": ""
           },
           "bgcolor": "#E5ECF6",
           "caxis": {
            "gridcolor": "white",
            "linecolor": "white",
            "ticks": ""
           }
          },
          "title": {
           "x": 0.05
          },
          "xaxis": {
           "automargin": true,
           "gridcolor": "white",
           "linecolor": "white",
           "ticks": "",
           "title": {
            "standoff": 15
           },
           "zerolinecolor": "white",
           "zerolinewidth": 2
          },
          "yaxis": {
           "automargin": true,
           "gridcolor": "white",
           "linecolor": "white",
           "ticks": "",
           "title": {
            "standoff": 15
           },
           "zerolinecolor": "white",
           "zerolinewidth": 2
          }
         }
        },
        "width": 650,
        "xaxis": {
         "anchor": "y",
         "domain": [
          0,
          1
         ],
         "gridwidth": 2,
         "title": {
          "text": "PCE(%)"
         },
         "zeroline": false
        },
        "yaxis": {
         "anchor": "x",
         "domain": [
          0,
          1
         ],
         "gridwidth": 2,
         "title": {
          "text": "Count"
         },
         "zeroline": false
        }
       }
      },
      "text/html": [
       "<div>                            <div id=\"9a9686b3-ce82-48a2-bc32-21172154f051\" class=\"plotly-graph-div\" style=\"height:420px; width:650px;\"></div>            <script type=\"text/javascript\">                require([\"plotly\"], function(Plotly) {                    window.PLOTLYENV=window.PLOTLYENV || {};                                    if (document.getElementById(\"9a9686b3-ce82-48a2-bc32-21172154f051\")) {                    Plotly.newPlot(                        \"9a9686b3-ce82-48a2-bc32-21172154f051\",                        [{\"alignmentgroup\": \"True\", \"bingroup\": \"x\", \"hovertemplate\": \"PCE=%{x}<br>count=%{y}<extra></extra>\", \"legendgroup\": \"\", \"marker\": {\"color\": \"#636efa\"}, \"name\": \"\", \"offsetgroup\": \"\", \"orientation\": \"v\", \"showlegend\": false, \"type\": \"histogram\", \"x\": [11.6, 12.2, 8.8, 8.0, 8.9, 4.4, 7.8, 10.9, 9.9, 7.8, 9.95, 13.42, 13.4, 9.5, 13.8, 14.3, 6.4, 6.2, 11.46, 13.82, 12.3, 13.6, 12.9, 12.7, 11.7, 16.5, 9.3, 10.4, 9.6, 5.5, 15.0, 9.41, 10.5, 6.4, 7.2, 10.5, 11.4, 10.19, 8.4, 7.0, 5.4, 9.83, 8.45, 11.48, 6.0, 7.2, 10.2, 14.9, 17.8, 16.9, 9.1, 7.59, 8.1, 7.0, 10.1, 9.12, 13.18, 13.68, 13.31, 16.64, 8.25, 13.7, 8.9, 10.52, 9.41, 11.1, 13.24, 14.16, 13.68, 9.66, 9.18, 4.93, 6.55, 6.71, 6.19, 12.03, 9.74, 13.32, 9.6, 13.4, 12.5, 8.2, 14.1, 15.3, 9.64, 9.82, 7.9, 7.57, 8.16, 8.49, 6.0, 4.1, 4.46, 4.11, 7.76, 10.18, 9.4, 8.72, 9.27, 7.72, 5.94, 4.5, 8.53, 8.48, 6.53, 5.75, 9.11, 7.08, 10.81, 8.97, 11.59, 15.12, 4.12, 13.9, 11.26, 12.21, 15.3, 5.75, 10.5, 16.21, 12.72, 14.0, 17.1, 16.7, 15.2, 12.87, 12.43, 8.31, 8.36, 11.05, 8.02, 10.35, 8.24, 9.92, 10.93, 5.51, 8.97, 9.53, 10.81, 8.13, 8.59, 6.68, 8.9, 11.34, 11.73, 10.68, 8.12, 5.6, 8.8, 9.5, 9.4, 8.9, 7.7, 10.1, 10.8, 11.5, 7.3, 9.3, 10.8, 9.7, 11.1, 12.97, 7.11, 6.9, 5.9, 10.9, 12.1, 9.94, 8.05, 9.62, 12.84, 18.32, 8.14, 18.22, 13.1, 7.4, 12.2, 7.03, 4.8, 6.54, 5.65, 9.81, 8.99, 11.2, 5.5, 6.9, 5.4, 5.24, 6.28, 6.94, 9.2, 8.06, 11.62, 12.05, 10.23, 10.71, 9.63, 8.03, 7.21, 13.37], \"xaxis\": \"x\", \"yaxis\": \"y\"}],                        {\"barmode\": \"relative\", \"font\": {\"family\": \"Times New Roman\", \"size\": 22}, \"height\": 420, \"legend\": {\"tracegroupgap\": 0}, \"margin\": {\"t\": 60}, \"template\": {\"data\": {\"bar\": [{\"error_x\": {\"color\": \"#2a3f5f\"}, \"error_y\": {\"color\": \"#2a3f5f\"}, \"marker\": {\"line\": {\"color\": \"#E5ECF6\", \"width\": 0.5}}, \"type\": \"bar\"}], \"barpolar\": [{\"marker\": {\"line\": {\"color\": \"#E5ECF6\", \"width\": 0.5}}, \"type\": \"barpolar\"}], \"carpet\": [{\"aaxis\": {\"endlinecolor\": \"#2a3f5f\", \"gridcolor\": \"white\", \"linecolor\": \"white\", \"minorgridcolor\": \"white\", \"startlinecolor\": \"#2a3f5f\"}, \"baxis\": {\"endlinecolor\": \"#2a3f5f\", \"gridcolor\": \"white\", \"linecolor\": \"white\", \"minorgridcolor\": \"white\", \"startlinecolor\": \"#2a3f5f\"}, \"type\": \"carpet\"}], \"choropleth\": [{\"colorbar\": {\"outlinewidth\": 0, \"ticks\": \"\"}, \"type\": \"choropleth\"}], \"contour\": [{\"colorbar\": {\"outlinewidth\": 0, \"ticks\": \"\"}, \"colorscale\": [[0.0, \"#0d0887\"], [0.1111111111111111, \"#46039f\"], [0.2222222222222222, \"#7201a8\"], [0.3333333333333333, \"#9c179e\"], [0.4444444444444444, \"#bd3786\"], [0.5555555555555556, \"#d8576b\"], [0.6666666666666666, \"#ed7953\"], [0.7777777777777778, \"#fb9f3a\"], [0.8888888888888888, \"#fdca26\"], [1.0, \"#f0f921\"]], \"type\": \"contour\"}], \"contourcarpet\": [{\"colorbar\": {\"outlinewidth\": 0, \"ticks\": \"\"}, \"type\": \"contourcarpet\"}], \"heatmap\": [{\"colorbar\": {\"outlinewidth\": 0, \"ticks\": \"\"}, \"colorscale\": [[0.0, \"#0d0887\"], [0.1111111111111111, \"#46039f\"], [0.2222222222222222, \"#7201a8\"], [0.3333333333333333, \"#9c179e\"], [0.4444444444444444, \"#bd3786\"], [0.5555555555555556, \"#d8576b\"], [0.6666666666666666, \"#ed7953\"], [0.7777777777777778, \"#fb9f3a\"], [0.8888888888888888, \"#fdca26\"], [1.0, \"#f0f921\"]], \"type\": \"heatmap\"}], \"heatmapgl\": [{\"colorbar\": {\"outlinewidth\": 0, \"ticks\": \"\"}, \"colorscale\": [[0.0, \"#0d0887\"], [0.1111111111111111, \"#46039f\"], [0.2222222222222222, \"#7201a8\"], [0.3333333333333333, \"#9c179e\"], [0.4444444444444444, \"#bd3786\"], [0.5555555555555556, \"#d8576b\"], [0.6666666666666666, \"#ed7953\"], [0.7777777777777778, \"#fb9f3a\"], [0.8888888888888888, \"#fdca26\"], [1.0, \"#f0f921\"]], \"type\": \"heatmapgl\"}], \"histogram\": [{\"marker\": {\"colorbar\": {\"outlinewidth\": 0, \"ticks\": \"\"}}, \"type\": \"histogram\"}], \"histogram2d\": [{\"colorbar\": {\"outlinewidth\": 0, \"ticks\": \"\"}, \"colorscale\": [[0.0, \"#0d0887\"], [0.1111111111111111, \"#46039f\"], [0.2222222222222222, \"#7201a8\"], [0.3333333333333333, \"#9c179e\"], [0.4444444444444444, \"#bd3786\"], [0.5555555555555556, \"#d8576b\"], [0.6666666666666666, \"#ed7953\"], [0.7777777777777778, \"#fb9f3a\"], [0.8888888888888888, \"#fdca26\"], [1.0, \"#f0f921\"]], \"type\": \"histogram2d\"}], \"histogram2dcontour\": [{\"colorbar\": {\"outlinewidth\": 0, \"ticks\": \"\"}, \"colorscale\": [[0.0, \"#0d0887\"], [0.1111111111111111, \"#46039f\"], [0.2222222222222222, \"#7201a8\"], [0.3333333333333333, \"#9c179e\"], [0.4444444444444444, \"#bd3786\"], [0.5555555555555556, \"#d8576b\"], [0.6666666666666666, \"#ed7953\"], [0.7777777777777778, \"#fb9f3a\"], [0.8888888888888888, \"#fdca26\"], [1.0, \"#f0f921\"]], \"type\": \"histogram2dcontour\"}], \"mesh3d\": [{\"colorbar\": {\"outlinewidth\": 0, \"ticks\": \"\"}, \"type\": \"mesh3d\"}], \"parcoords\": [{\"line\": {\"colorbar\": {\"outlinewidth\": 0, \"ticks\": \"\"}}, \"type\": \"parcoords\"}], \"pie\": [{\"automargin\": true, \"type\": \"pie\"}], \"scatter\": [{\"marker\": {\"colorbar\": {\"outlinewidth\": 0, \"ticks\": \"\"}}, \"type\": \"scatter\"}], \"scatter3d\": [{\"line\": {\"colorbar\": {\"outlinewidth\": 0, \"ticks\": \"\"}}, \"marker\": {\"colorbar\": {\"outlinewidth\": 0, \"ticks\": \"\"}}, \"type\": \"scatter3d\"}], \"scattercarpet\": [{\"marker\": {\"colorbar\": {\"outlinewidth\": 0, \"ticks\": \"\"}}, \"type\": \"scattercarpet\"}], \"scattergeo\": [{\"marker\": {\"colorbar\": {\"outlinewidth\": 0, \"ticks\": \"\"}}, \"type\": \"scattergeo\"}], \"scattergl\": [{\"marker\": {\"colorbar\": {\"outlinewidth\": 0, \"ticks\": \"\"}}, \"type\": \"scattergl\"}], \"scattermapbox\": [{\"marker\": {\"colorbar\": {\"outlinewidth\": 0, \"ticks\": \"\"}}, \"type\": \"scattermapbox\"}], \"scatterpolar\": [{\"marker\": {\"colorbar\": {\"outlinewidth\": 0, \"ticks\": \"\"}}, \"type\": \"scatterpolar\"}], \"scatterpolargl\": [{\"marker\": {\"colorbar\": {\"outlinewidth\": 0, \"ticks\": \"\"}}, \"type\": \"scatterpolargl\"}], \"scatterternary\": [{\"marker\": {\"colorbar\": {\"outlinewidth\": 0, \"ticks\": \"\"}}, \"type\": \"scatterternary\"}], \"surface\": [{\"colorbar\": {\"outlinewidth\": 0, \"ticks\": \"\"}, \"colorscale\": [[0.0, \"#0d0887\"], [0.1111111111111111, \"#46039f\"], [0.2222222222222222, \"#7201a8\"], [0.3333333333333333, \"#9c179e\"], [0.4444444444444444, \"#bd3786\"], [0.5555555555555556, \"#d8576b\"], [0.6666666666666666, \"#ed7953\"], [0.7777777777777778, \"#fb9f3a\"], [0.8888888888888888, \"#fdca26\"], [1.0, \"#f0f921\"]], \"type\": \"surface\"}], \"table\": [{\"cells\": {\"fill\": {\"color\": \"#EBF0F8\"}, \"line\": {\"color\": \"white\"}}, \"header\": {\"fill\": {\"color\": \"#C8D4E3\"}, \"line\": {\"color\": \"white\"}}, \"type\": \"table\"}]}, \"layout\": {\"annotationdefaults\": {\"arrowcolor\": \"#2a3f5f\", \"arrowhead\": 0, \"arrowwidth\": 1}, \"autotypenumbers\": \"strict\", \"coloraxis\": {\"colorbar\": {\"outlinewidth\": 0, \"ticks\": \"\"}}, \"colorscale\": {\"diverging\": [[0, \"#8e0152\"], [0.1, \"#c51b7d\"], [0.2, \"#de77ae\"], [0.3, \"#f1b6da\"], [0.4, \"#fde0ef\"], [0.5, \"#f7f7f7\"], [0.6, \"#e6f5d0\"], [0.7, \"#b8e186\"], [0.8, \"#7fbc41\"], [0.9, \"#4d9221\"], [1, \"#276419\"]], \"sequential\": [[0.0, \"#0d0887\"], [0.1111111111111111, \"#46039f\"], [0.2222222222222222, \"#7201a8\"], [0.3333333333333333, \"#9c179e\"], [0.4444444444444444, \"#bd3786\"], [0.5555555555555556, \"#d8576b\"], [0.6666666666666666, \"#ed7953\"], [0.7777777777777778, \"#fb9f3a\"], [0.8888888888888888, \"#fdca26\"], [1.0, \"#f0f921\"]], \"sequentialminus\": [[0.0, \"#0d0887\"], [0.1111111111111111, \"#46039f\"], [0.2222222222222222, \"#7201a8\"], [0.3333333333333333, \"#9c179e\"], [0.4444444444444444, \"#bd3786\"], [0.5555555555555556, \"#d8576b\"], [0.6666666666666666, \"#ed7953\"], [0.7777777777777778, \"#fb9f3a\"], [0.8888888888888888, \"#fdca26\"], [1.0, \"#f0f921\"]]}, \"colorway\": [\"#636efa\", \"#EF553B\", \"#00cc96\", \"#ab63fa\", \"#FFA15A\", \"#19d3f3\", \"#FF6692\", \"#B6E880\", \"#FF97FF\", \"#FECB52\"], \"font\": {\"color\": \"#2a3f5f\"}, \"geo\": {\"bgcolor\": \"white\", \"lakecolor\": \"white\", \"landcolor\": \"#E5ECF6\", \"showlakes\": true, \"showland\": true, \"subunitcolor\": \"white\"}, \"hoverlabel\": {\"align\": \"left\"}, \"hovermode\": \"closest\", \"mapbox\": {\"style\": \"light\"}, \"paper_bgcolor\": \"white\", \"plot_bgcolor\": \"#E5ECF6\", \"polar\": {\"angularaxis\": {\"gridcolor\": \"white\", \"linecolor\": \"white\", \"ticks\": \"\"}, \"bgcolor\": \"#E5ECF6\", \"radialaxis\": {\"gridcolor\": \"white\", \"linecolor\": \"white\", \"ticks\": \"\"}}, \"scene\": {\"xaxis\": {\"backgroundcolor\": \"#E5ECF6\", \"gridcolor\": \"white\", \"gridwidth\": 2, \"linecolor\": \"white\", \"showbackground\": true, \"ticks\": \"\", \"zerolinecolor\": \"white\"}, \"yaxis\": {\"backgroundcolor\": \"#E5ECF6\", \"gridcolor\": \"white\", \"gridwidth\": 2, \"linecolor\": \"white\", \"showbackground\": true, \"ticks\": \"\", \"zerolinecolor\": \"white\"}, \"zaxis\": {\"backgroundcolor\": \"#E5ECF6\", \"gridcolor\": \"white\", \"gridwidth\": 2, \"linecolor\": \"white\", \"showbackground\": true, \"ticks\": \"\", \"zerolinecolor\": \"white\"}}, \"shapedefaults\": {\"line\": {\"color\": \"#2a3f5f\"}}, \"ternary\": {\"aaxis\": {\"gridcolor\": \"white\", \"linecolor\": \"white\", \"ticks\": \"\"}, \"baxis\": {\"gridcolor\": \"white\", \"linecolor\": \"white\", \"ticks\": \"\"}, \"bgcolor\": \"#E5ECF6\", \"caxis\": {\"gridcolor\": \"white\", \"linecolor\": \"white\", \"ticks\": \"\"}}, \"title\": {\"x\": 0.05}, \"xaxis\": {\"automargin\": true, \"gridcolor\": \"white\", \"linecolor\": \"white\", \"ticks\": \"\", \"title\": {\"standoff\": 15}, \"zerolinecolor\": \"white\", \"zerolinewidth\": 2}, \"yaxis\": {\"automargin\": true, \"gridcolor\": \"white\", \"linecolor\": \"white\", \"ticks\": \"\", \"title\": {\"standoff\": 15}, \"zerolinecolor\": \"white\", \"zerolinewidth\": 2}}}, \"width\": 650, \"xaxis\": {\"anchor\": \"y\", \"domain\": [0.0, 1.0], \"gridwidth\": 2, \"title\": {\"text\": \"PCE(%)\"}, \"zeroline\": false}, \"yaxis\": {\"anchor\": \"x\", \"domain\": [0.0, 1.0], \"gridwidth\": 2, \"title\": {\"text\": \"Count\"}, \"zeroline\": false}},                        {\"responsive\": true}                    ).then(function(){\n",
       "                            \n",
       "var gd = document.getElementById('9a9686b3-ce82-48a2-bc32-21172154f051');\n",
       "var x = new MutationObserver(function (mutations, observer) {{\n",
       "        var display = window.getComputedStyle(gd).display;\n",
       "        if (!display || display === 'none') {{\n",
       "            console.log([gd, 'removed!']);\n",
       "            Plotly.purge(gd);\n",
       "            observer.disconnect();\n",
       "        }}\n",
       "}});\n",
       "\n",
       "// Listen for the removal of the full notebook cells\n",
       "var notebookContainer = gd.closest('#notebook-container');\n",
       "if (notebookContainer) {{\n",
       "    x.observe(notebookContainer, {childList: true});\n",
       "}}\n",
       "\n",
       "// Listen for the clearing of the current output cell\n",
       "var outputEl = gd.closest('.output');\n",
       "if (outputEl) {{\n",
       "    x.observe(outputEl, {childList: true});\n",
       "}}\n",
       "\n",
       "                        })                };                });            </script>        </div>"
      ]
     },
     "metadata": {},
     "output_type": "display_data"
    },
    {
     "data": {
      "image/png": "[encoded data removed]",
      "text/plain": [
       "<Figure size 432x288 with 1 Axes>"
      ]
     },
     "metadata": {
      "needs_background": "light"
     },
     "output_type": "display_data"
    }
   ],
   "source": [
    "print(df.PCE.describe())\n",
    "df.PCE.hist()\n",
    "import plotly.express as px\n",
    "fig = px.histogram(df, x=\"PCE\")\n",
    "fig.update_layout(width = 650, height = 420,font = dict(family='Times New Roman',size=22),yaxis= dict(title= 'Count',zeroline= False, gridwidth= 2),xaxis= dict(title= 'PCE(%)',zeroline= False, gridwidth= 2))\n",
    "fig.show()"
   ]
  },
  {
   "cell_type": "code",
   "execution_count": 20,
   "metadata": {},
   "outputs": [
    {
     "data": {
      "application/vnd.plotly.v1+json": {
       "config": {
        "plotlyServerURL": "https://plot.ly"
       },
       "data": [
        {
         "autobinx": false,
         "histnorm": "probability density",
         "legendgroup": "PCE(%)",
         "marker": {
          "color": "rgb(31, 119, 180)"
         },
         "name": "PCE(%)",
         "opacity": 0.7,
         "type": "histogram",
         "x": [
          11.6,
          12.2,
          8.8,
          8,
          8.9,
          4.4,
          7.8,
          10.9,
          9.9,
          7.8,
          9.95,
          13.42,
          13.4,
          9.5,
          13.8,
          14.3,
          6.4,
          6.2,
          11.46,
          13.82,
          12.3,
          13.6,
          12.9,
          12.7,
          11.7,
          16.5,
          9.3,
          10.4,
          9.6,
          5.5,
          15,
          9.41,
          10.5,
          6.4,
          7.2,
          10.5,
          11.4,
          10.19,
          8.4,
          7,
          5.4,
          9.83,
          8.45,
          11.48,
          6,
          7.2,
          10.2,
          14.9,
          17.8,
          16.9,
          9.1,
          7.59,
          8.1,
          7,
          10.1,
          9.12,
          13.18,
          13.68,
          13.31,
          16.64,
          8.25,
          13.7,
          8.9,
          10.52,
          9.41,
          11.1,
          13.24,
          14.16,
          13.68,
          9.66,
          9.18,
          4.93,
          6.55,
          6.71,
          6.19,
          12.03,
          9.74,
          13.32,
          9.6,
          13.4,
          12.5,
          8.2,
          14.1,
          15.3,
          9.64,
          9.82,
          7.9,
          7.57,
          8.16,
          8.49,
          6,
          4.1,
          4.46,
          4.11,
          7.76,
          10.18,
          9.4,
          8.72,
          9.27,
          7.72,
          5.94,
          4.5,
          8.53,
          8.48,
          6.53,
          5.75,
          9.11,
          7.08,
          10.81,
          8.97,
          11.59,
          15.12,
          4.12,
          13.9,
          11.26,
          12.21,
          15.3,
          5.75,
          10.5,
          16.21,
          12.72,
          14,
          17.1,
          16.7,
          15.2,
          12.87,
          12.43,
          8.31,
          8.36,
          11.05,
          8.02,
          10.35,
          8.24,
          9.92,
          10.93,
          5.51,
          8.97,
          9.53,
          10.81,
          8.13,
          8.59,
          6.68,
          8.9,
          11.34,
          11.73,
          10.68,
          8.12,
          5.6,
          8.8,
          9.5,
          9.4,
          8.9,
          7.7,
          10.1,
          10.8,
          11.5,
          7.3,
          9.3,
          10.8,
          9.7,
          11.1,
          12.97,
          7.11,
          6.9,
          5.9,
          10.9,
          12.1,
          9.94,
          8.05,
          9.62,
          12.84,
          18.32,
          8.14,
          18.22,
          13.1,
          7.4,
          12.2,
          7.03,
          4.8,
          6.54,
          5.65,
          9.81,
          8.99,
          11.2,
          5.5,
          6.9,
          5.4,
          5.24,
          6.28,
          6.94,
          9.2,
          8.06,
          11.62,
          12.05,
          10.23,
          10.71,
          9.63,
          8.03,
          7.21,
          13.37
         ],
         "xaxis": "x",
         "xbins": {
          "end": 18.32,
          "size": 1,
          "start": 4.1
         },
         "yaxis": "y"
        },
        {
         "legendgroup": "PCE(%)",
         "marker": {
          "color": "rgb(31, 119, 180)"
         },
         "mode": "lines",
         "name": "PCE(%)",
         "showlegend": false,
         "type": "scatter",
         "x": [
          4.1,
          4.128439999999999,
          4.156879999999999,
          4.18532,
          4.21376,
          4.2421999999999995,
          4.270639999999999,
          4.29908,
          4.32752,
          4.35596,
          4.384399999999999,
          4.412839999999999,
          4.44128,
          4.46972,
          4.4981599999999995,
          4.526599999999999,
          4.55504,
          4.58348,
          4.61192,
          4.640359999999999,
          4.6688,
          4.69724,
          4.72568,
          4.7541199999999995,
          4.78256,
          4.811,
          4.83944,
          4.8678799999999995,
          4.896319999999999,
          4.924759999999999,
          4.9532,
          4.98164,
          5.010079999999999,
          5.03852,
          5.06696,
          5.0954,
          5.1238399999999995,
          5.152279999999999,
          5.18072,
          5.20916,
          5.2376,
          5.266039999999999,
          5.29448,
          5.32292,
          5.35136,
          5.3797999999999995,
          5.408239999999999,
          5.43668,
          5.46512,
          5.4935599999999996,
          5.521999999999999,
          5.55044,
          5.57888,
          5.60732,
          5.635759999999999,
          5.664199999999999,
          5.69264,
          5.72108,
          5.7495199999999995,
          5.77796,
          5.8064,
          5.83484,
          5.86328,
          5.891719999999999,
          5.920159999999999,
          5.9486,
          5.97704,
          6.0054799999999995,
          6.03392,
          6.06236,
          6.0908,
          6.11924,
          6.147679999999999,
          6.176119999999999,
          6.204559999999999,
          6.233,
          6.26144,
          6.28988,
          6.31832,
          6.34676,
          6.3751999999999995,
          6.403639999999999,
          6.432079999999999,
          6.46052,
          6.48896,
          6.5174,
          6.54584,
          6.57428,
          6.60272,
          6.6311599999999995,
          6.659599999999999,
          6.688039999999999,
          6.71648,
          6.74492,
          6.77336,
          6.8018,
          6.83024,
          6.85868,
          6.8871199999999995,
          6.915559999999999,
          6.943999999999999,
          6.97244,
          7.0008799999999995,
          7.02932,
          7.05776,
          7.0862,
          7.11464,
          7.143079999999999,
          7.171519999999999,
          7.199959999999999,
          7.2284,
          7.25684,
          7.28528,
          7.31372,
          7.34216,
          7.3706,
          7.399039999999999,
          7.427479999999999,
          7.45592,
          7.48436,
          7.5128,
          7.54124,
          7.56968,
          7.59812,
          7.62656,
          7.654999999999999,
          7.683439999999999,
          7.71188,
          7.74032,
          7.76876,
          7.7972,
          7.82564,
          7.85408,
          7.8825199999999995,
          7.910959999999999,
          7.939399999999999,
          7.96784,
          7.9962800000000005,
          8.02472,
          8.05316,
          8.0816,
          8.11004,
          8.13848,
          8.16692,
          8.19536,
          8.2238,
          8.25224,
          8.28068,
          8.30912,
          8.33756,
          8.366,
          8.39444,
          8.42288,
          8.451319999999999,
          8.479759999999999,
          8.508199999999999,
          8.53664,
          8.565079999999998,
          8.59352,
          8.62196,
          8.650400000000001,
          8.678840000000001,
          8.70728,
          8.73572,
          8.76416,
          8.7926,
          8.82104,
          8.84948,
          8.87792,
          8.90636,
          8.9348,
          8.963239999999999,
          8.991679999999999,
          9.020119999999999,
          9.04856,
          9.077,
          9.10544,
          9.13388,
          9.162320000000001,
          9.190760000000001,
          9.2192,
          9.24764,
          9.27608,
          9.30452,
          9.33296,
          9.3614,
          9.38984,
          9.41828,
          9.44672,
          9.475159999999999,
          9.503599999999999,
          9.532039999999999,
          9.56048,
          9.58892,
          9.617360000000001,
          9.6458,
          9.674240000000001,
          9.70268,
          9.73112,
          9.75956,
          9.788,
          9.81644,
          9.84488,
          9.87332,
          9.90176,
          9.9302,
          9.958639999999999,
          9.987079999999999,
          10.01552,
          10.043959999999998,
          10.0724,
          10.10084,
          10.129280000000001,
          10.157720000000001,
          10.18616,
          10.2146,
          10.24304,
          10.27148,
          10.29992,
          10.32836,
          10.3568,
          10.38524,
          10.41368,
          10.44212,
          10.470559999999999,
          10.498999999999999,
          10.52744,
          10.55588,
          10.58432,
          10.61276,
          10.641200000000001,
          10.669640000000001,
          10.69808,
          10.72652,
          10.75496,
          10.7834,
          10.81184,
          10.84028,
          10.86872,
          10.89716,
          10.9256,
          10.954039999999999,
          10.982479999999999,
          11.010919999999999,
          11.03936,
          11.0678,
          11.096240000000002,
          11.12468,
          11.15312,
          11.181560000000001,
          11.21,
          11.23844,
          11.26688,
          11.29532,
          11.32376,
          11.3522,
          11.38064,
          11.40908,
          11.43752,
          11.465959999999999,
          11.4944,
          11.522839999999999,
          11.55128,
          11.57972,
          11.608160000000002,
          11.6366,
          11.66504,
          11.693480000000001,
          11.72192,
          11.75036,
          11.7788,
          11.80724,
          11.83568,
          11.86412,
          11.89256,
          11.921,
          11.94944,
          11.977879999999999,
          12.00632,
          12.034759999999999,
          12.0632,
          12.09164,
          12.12008,
          12.14852,
          12.17696,
          12.205400000000001,
          12.233839999999999,
          12.26228,
          12.29072,
          12.31916,
          12.3476,
          12.37604,
          12.40448,
          12.43292,
          12.46136,
          12.4898,
          12.518239999999999,
          12.54668,
          12.57512,
          12.60356,
          12.632,
          12.66044,
          12.688880000000001,
          12.717319999999999,
          12.74576,
          12.7742,
          12.80264,
          12.83108,
          12.85952,
          12.887960000000001,
          12.9164,
          12.94484,
          12.97328,
          13.00172,
          13.030159999999999,
          13.0586,
          13.08704,
          13.11548,
          13.14392,
          13.17236,
          13.200800000000001,
          13.229239999999999,
          13.25768,
          13.28612,
          13.31456,
          13.343,
          13.37144,
          13.399880000000001,
          13.42832,
          13.45676,
          13.4852,
          13.51364,
          13.54208,
          13.57052,
          13.59896,
          13.6274,
          13.65584,
          13.684280000000001,
          13.712720000000001,
          13.741159999999999,
          13.7696,
          13.79804,
          13.826479999999998,
          13.85492,
          13.88336,
          13.911800000000001,
          13.94024,
          13.968679999999999,
          13.99712,
          14.02556,
          14.054,
          14.08244,
          14.11088,
          14.13932,
          14.16776,
          14.196200000000001,
          14.22464,
          14.253079999999999,
          14.28152,
          14.30996,
          14.3384,
          14.36684,
          14.39528,
          14.423720000000001,
          14.45216,
          14.4806,
          14.50904,
          14.537479999999999,
          14.56592,
          14.59436,
          14.622800000000002,
          14.65124,
          14.67968,
          14.708120000000001,
          14.73656,
          14.764999999999999,
          14.79344,
          14.82188,
          14.85032,
          14.87876,
          14.9072,
          14.935640000000001,
          14.96408,
          14.99252,
          15.02096,
          15.049399999999999,
          15.07784,
          15.10628,
          15.134720000000002,
          15.16316,
          15.1916,
          15.220040000000001,
          15.24848,
          15.27692,
          15.30536,
          15.3338,
          15.36224,
          15.39068,
          15.419120000000001,
          15.447560000000001,
          15.475999999999999,
          15.50444,
          15.53288,
          15.561319999999998,
          15.58976,
          15.6182,
          15.646640000000001,
          15.67508,
          15.70352,
          15.73196,
          15.760399999999999,
          15.78884,
          15.81728,
          15.84572,
          15.87416,
          15.9026,
          15.931040000000001,
          15.959480000000001,
          15.987919999999999,
          16.01636,
          16.044800000000002,
          16.07324,
          16.10168,
          16.130119999999998,
          16.15856,
          16.186999999999998,
          16.21544,
          16.24388,
          16.27232,
          16.30076,
          16.3292,
          16.357640000000004,
          16.38608,
          16.41452,
          16.44296,
          16.471400000000003,
          16.49984,
          16.528280000000002,
          16.55672,
          16.585160000000002,
          16.613599999999998,
          16.64204,
          16.67048,
          16.69892,
          16.72736,
          16.7558,
          16.784239999999997,
          16.81268,
          16.84112,
          16.86956,
          16.898,
          16.92644,
          16.954880000000003,
          16.98332,
          17.011760000000002,
          17.0402,
          17.068640000000002,
          17.09708,
          17.12552,
          17.15396,
          17.1824,
          17.210839999999997,
          17.23928,
          17.26772,
          17.29616,
          17.3246,
          17.35304,
          17.381480000000003,
          17.40992,
          17.43836,
          17.4668,
          17.49524,
          17.52368,
          17.552120000000002,
          17.58056,
          17.609,
          17.637439999999998,
          17.66588,
          17.694319999999998,
          17.72276,
          17.7512,
          17.77964,
          17.80808,
          17.83652,
          17.86496,
          17.8934,
          17.92184,
          17.95028,
          17.978720000000003,
          18.00716,
          18.035600000000002,
          18.06404,
          18.092480000000002,
          18.120919999999998,
          18.14936,
          18.1778,
          18.20624,
          18.234679999999997,
          18.26312,
          18.29156
         ],
         "xaxis": "x",
         "y": [
          0.025459605494638476,
          0.02605320343648555,
          0.026652199607265142,
          0.027256454426446326,
          0.02786582680810642,
          0.02848017426154618,
          0.0290993529859978,
          0.029723217959922964,
          0.03035162302547688,
          0.030984420968788316,
          0.03162146359677134,
          0.032262601811242964,
          0.03290768568117067,
          0.03355656451391367,
          0.034209086926353965,
          0.03486510091683246,
          0.03552445393881713,
          0.036186992977229125,
          0.03685256462834206,
          0.0375210151841486,
          0.038192190722054084,
          0.0388659372007165,
          0.039542100562796424,
          0.04022052684531912,
          0.04090106229827757,
          0.04158355351202366,
          0.04226784755390635,
          0.042953792114517074,
          0.04364123566380011,
          0.04433002761717588,
          0.04502001851171098,
          0.04571106019225076,
          0.046403006007309316,
          0.04709571101439014,
          0.047789032194285715,
          0.048482828673784055,
          0.04917696195608711,
          0.04987129615812931,
          0.05056569825386852,
          0.051260038322512545,
          0.051954189800541305,
          0.052648029736286336,
          0.05334143904574035,
          0.054034302768189664,
          0.05472651032019092,
          0.05541795574635034,
          0.05610853796531686,
          0.056798161009358125,
          0.05748673425586227,
          0.05817417264909378,
          0.05886039691052712,
          0.059545333736092734,
          0.060228915978691,
          0.0609110828143658,
          0.061591779890574815,
          0.06227095945505322,
          0.06294858046383918,
          0.06362460866711116,
          0.06429901667157945,
          0.0649717839782793,
          0.06564289699472456,
          0.06631234902050304,
          0.06698014020552474,
          0.06764627748027024,
          0.06831077445752975,
          0.0689736513052719,
          0.069634934590434,
          0.07029465709357914,
          0.07095285759452614,
          0.07160958062921421,
          0.07226487621822517,
          0.07291879956754097,
          0.07357141074227348,
          0.07422277431425084,
          0.07487295898449706,
          0.07552203718178142,
          0.07617008463855172,
          0.07681717994569613,
          0.07746340408769739,
          0.07810883995985984,
          0.07875357186938958,
          0.07939768502220565,
          0.08004126499743998,
          0.08068439721165856,
          0.08132716637489434,
          0.08196965594063499,
          0.08261194755193967,
          0.08325412048588984,
          0.08389625109858631,
          0.08453841227290582,
          0.0851806728712207,
          0.0858230971952556,
          0.08646574445522265,
          0.08710866825032713,
          0.08775191606267735,
          0.08839552876655976,
          0.08903954015496561,
          0.08968397648516102,
          0.09032885604499824,
          0.09097418874155565,
          0.09161997571358571,
          0.09226620896912523,
          0.09291287104949932,
          0.09355993472082115,
          0.09420736269395344,
          0.09485510737376247,
          0.09550311063835686,
          0.09615130364886386,
          0.09679960669015672,
          0.09744792904280905,
          0.09809616888641469,
          0.09874421323428142,
          0.099391937899373,
          0.10003920749125497,
          0.10068587544367404,
          0.10133178407229433,
          0.10197676466200191,
          0.10262063758309385,
          0.1032632124355761,
          0.10390428822071159,
          0.10454365353888714,
          0.10518108681280386,
          0.10581635653493975,
          0.10644922153818766,
          0.10707943128853663,
          0.10770672619863786,
          0.10833083796107748,
          0.10895148990017312,
          0.10956839734110804,
          0.11018126799523001,
          0.1107898023603522,
          0.11139369413492406,
          0.11199263064496572,
          0.11258629328269783,
          0.11317435795583985,
          0.11375649554659596,
          0.11433237237939668,
          0.11490165069651653,
          0.11546398914074345,
          0.1160190432443274,
          0.11656646592349391,
          0.11710590797786033,
          0.11763701859414444,
          0.11815944585360671,
          0.11867283724271194,
          0.11917684016653984,
          0.11967110246450964,
          0.12015527292801859,
          0.12062900181961822,
          0.12109194139337272,
          0.12154374641605908,
          0.12198407468886982,
          0.12241258756928455,
          0.12282895049276372,
          0.12323283349390374,
          0.12362391172667242,
          0.12400186598331099,
          0.12436638321145703,
          0.12471715702899806,
          0.12505388823612137,
          0.12537628532397063,
          0.12568406497926887,
          0.12597695258420227,
          0.12625468271080337,
          0.12651699960900534,
          0.12676365768747774,
          0.1269944219862897,
          0.12720906864038645,
          0.12740738533280282,
          0.12758917173648635,
          0.1277542399435481,
          0.1279024148807142,
          0.12803353470971343,
          0.1281474512113041,
          0.12824403015161925,
          0.12832315162949498,
          0.12838471040344204,
          0.1284286161969277,
          0.12845479398064694,
          0.12846318423049352,
          0.12845374315997724,
          0.12842644292588343,
          0.12838127180603412,
          0.12831823434807893,
          0.12823735148833207,
          0.12813866063976032,
          0.1280222157483356,
          0.12788808731707896,
          0.12773636239723918,
          0.12756714454618875,
          0.12738055375175072,
          0.12717672632281263,
          0.12695581474623485,
          0.12671798751020966,
          0.12646342889438025,
          0.12619233872718352,
          0.12590493211103515,
          0.125601439116124,
          0.12528210444373822,
          0.12494718706018018,
          0.12459695980247422,
          0.12423170895719761,
          0.12385173381388805,
          0.12345734619459615,
          0.12304886996125271,
          0.1226266405026084,
          0.12219100420258822,
          0.12174231789196255,
          0.12128094828528736,
          0.12080727140510915,
          0.12032167199544097,
          0.11982454292653541,
          0.11931628459295783,
          0.11879730430695404,
          0.11826801568905183,
          0.11772883805779948,
          0.11718019582046174,
          0.1166225178664249,
          0.11605623696496054,
          0.1154817891688982,
          0.1148996132256402,
          0.11431014999682244,
          0.11371384188779922,
          0.11311113228798104,
          0.11250246502291363,
          0.1118882838188353,
          0.1112690317802935,
          0.11064515088125174,
          0.11001708146996009,
          0.10938526178771472,
          0.1087501275014804,
          0.10811211125020746,
          0.10747164220454229,
          0.10682914563949251,
          0.10618504251950066,
          0.10553974909525866,
          0.10489367651151037,
          0.10424723042499459,
          0.10360081063161737,
          0.10295481070188246,
          0.1023096176235694,
          0.10166561145062203,
          0.10102316495720226,
          0.10038264329586817,
          0.0997444036588633,
          0.09910879494153871,
          0.09847615740698595,
          0.0978468223510346,
          0.09722111176684599,
          0.09659933800844414,
          0.09598180345263072,
          0.09536880015886365,
          0.09476060952681309,
          0.09415750195145824,
          0.09355973647574423,
          0.0929675604409841,
          0.09238120913535985,
          0.09180090544105043,
          0.09122685948069492,
          0.09065926826407253,
          0.09009831533606241,
          0.08954417042711825,
          0.08899698910766538,
          0.08845691244799135,
          0.0879240666853566,
          0.0873985629002025,
          0.08688049670346684,
          0.08636994793714343,
          0.08586698039033137,
          0.0853716415331124,
          0.084883962270677,
          0.08440395672017438,
          0.0839316220128081,
          0.0834669381237183,
          0.08300986773219134,
          0.08256035611472366,
          0.08211833107341825,
          0.0816837029021379,
          0.08125636439274718,
          0.08083619088367756,
          0.08042304035291523,
          0.08001675355737123,
          0.07961715422041721,
          0.07922404926919158,
          0.07883722912306527,
          0.07845646803444076,
          0.07808152448281308,
          0.07771214162276854,
          0.0773480477863296,
          0.07698895703977233,
          0.07663456979475508,
          0.07628457347329853,
          0.07593864322585278,
          0.0755964427013803,
          0.07525762486807024,
          0.07492183288299474,
          0.07458870100870352,
          0.07425785557445512,
          0.0739289159794818,
          0.07360149573539979,
          0.07327520354459739,
          0.07294964441116862,
          0.07262442078071195,
          0.0722991337050781,
          0.07197338402793889,
          0.07164677358685426,
          0.0713189064273408,
          0.07098939002430002,
          0.0706578365060358,
          0.0703238638759972,
          0.0699870972273065,
          0.0696471699450925,
          0.06930372489163075,
          0.06895641556930673,
          0.06860490725645804,
          0.06824887811122472,
          0.06788802023863372,
          0.06752204071627171,
          0.0671506625740557,
          0.06677362572379256,
          0.06639068783442681,
          0.06600162514910729,
          0.06560623324046055,
          0.06520432770073616,
          0.06479574476378547,
          0.06438034185615366,
          0.06395799807489583,
          0.06352861459007435,
          0.06309211497025516,
          0.06264844542968712,
          0.06219757499622479,
          0.06173949559943837,
          0.06127422207873331,
          0.06080179211169108,
          0.06032226606321946,
          0.059835726756479246,
          0.05934227916692368,
          0.05884205004114556,
          0.05833518744257616,
          0.057821860226413065,
          0.05730225744647277,
          0.05677658769696465,
          0.05624507839246146,
          0.05570797498960223,
          0.055165540154300585,
          0.054618052878440106,
          0.05406580755023093,
          0.05350911298255669,
          0.052948291403781295,
          0.052383677415587145,
          0.05181561692249866,
          0.051244466037795276,
          0.05067058997054434,
          0.0500943618984793,
          0.049516161831420526,
          0.048936375469880215,
          0.04835539306341317,
          0.04777360827316939,
          0.0471914170429789,
          0.04660921648315109,
          0.046027403770999974,
          0.04544637507192487,
          0.04486652448466925,
          0.04428824301416594,
          0.04371191757514573,
          0.04313793002944619,
          0.04256665625970818,
          0.041998465281891516,
          0.041433718398780385,
          0.04087276839638617,
          0.04031595878489004,
          0.03976362308550537,
          0.03921608416438022,
          0.038673653614402975,
          0.0381366311855272,
          0.037605304263987394,
          0.03707994740054881,
          0.03656082188770976,
          0.036048175385565706,
          0.03554224159584794,
          0.03504323998346405,
          0.03455137554469892,
          0.034066838621079044,
          0.03358980475776179,
          0.033120434605189604,
          0.03265887386263412,
          0.03220525326216587,
          0.03175968859150248,
          0.03132228075412375,
          0.030893115864992073,
          0.030472265380178196,
          0.03005978625866833,
          0.029655721154615913,
          0.02926009863829911,
          0.028872933444055147,
          0.028494226743479317,
          0.028123966442202792,
          0.027762127498597237,
          0.027408672262792172,
          0.027063550834436473,
          0.026726701437682403,
          0.026398050811922542,
          0.026077514616862016,
          0.025764997850563676,
          0.025460395279155876,
          0.02516359187694875,
          0.024874463275753902,
          0.024592876222255425,
          0.02431868904232442,
          0.02405175211121725,
          0.023791908328634644,
          0.02353899359765988,
          0.023292837306624983,
          0.023053262812984858,
          0.02282008792830409,
          0.022593125403483297,
          0.022372183413370023,
          0.022157066039913305,
          0.02194757375303348,
          0.0217435038883871,
          0.021544651121213954,
          0.02135080793545788,
          0.021161765087356732,
          0.020977312062700877,
          0.0207972375269604,
          0.02062132976748777,
          0.02044937712700361,
          0.02028116842758261,
          0.020116493384361597,
          0.019955143008205504,
          0.019796909996578033,
          0.01964158911188299,
          0.01948897754656268,
          0.0193388752742641,
          0.019191085386415258,
          0.019045414413585652,
          0.01890167263104525,
          0.018759674347978855,
          0.018619238179861258,
          0.01848018730354958,
          0.01834234969470772,
          0.01820555834723604,
          0.018069651474445954,
          0.017934472691784168,
          0.017799871180983067,
          0.017665701835585627,
          0.017531825387866927,
          0.017398108517249884,
          0.017264423940389,
          0.01713065048316985,
          0.016996673134948688,
          0.01686238308542822,
          0.016727677744637244,
          0.016592460746550065,
          0.016456641936945994,
          0.01632013734617076,
          0.01618286914751638,
          0.016044765601988895,
          0.015905760990276623,
          0.015765795532772926,
          0.01562481529853843,
          0.015482772104115689,
          0.015339623403126995,
          0.0151953321675996,
          0.015049866761965786,
          0.014903200810685559,
          0.014755313060428012,
          0.014606187237732791,
          0.014455811903049084,
          0.014304180302020547,
          0.014151290214849012,
          0.013997143804527682,
          0.01384174746468868,
          0.01368511166775762,
          0.013527250814053069,
          0.013368183082408294,
          0.013207930282832259,
          0.013046517711659699,
          0.012883974009577321,
          0.012720331022842323,
          0.012555623667945662,
          0.0123898897999022,
          0.012223170084286857,
          0.012055507873069724,
          0.011886949084242353,
          0.011717542085168115,
          0.01154733757953468,
          0.011376388497734714,
          0.011204749890454776,
          0.011032478825209519,
          0.010859634285522295,
          0.010686277072421977,
          0.01051246970789908,
          0.010338276339946752,
          0.0101637626487956,
          0.009988995753947008,
          0.009814044121604368,
          0.009638977472108812,
          0.009463866686993278,
          0.009288783715286575
         ],
         "yaxis": "y"
        }
       ],
       "layout": {
        "barmode": "overlay",
        "font": {
         "family": "Times New Roman",
         "size": 22
        },
        "height": 420,
        "hovermode": "closest",
        "legend": {
         "traceorder": "reversed"
        },
        "template": {
         "data": {
          "bar": [
           {
            "error_x": {
             "color": "#2a3f5f"
            },
            "error_y": {
             "color": "#2a3f5f"
            },
            "marker": {
             "line": {
              "color": "#E5ECF6",
              "width": 0.5
             }
            },
            "type": "bar"
           }
          ],
          "barpolar": [
           {
            "marker": {
             "line": {
              "color": "#E5ECF6",
              "width": 0.5
             }
            },
            "type": "barpolar"
           }
          ],
          "carpet": [
           {
            "aaxis": {
             "endlinecolor": "#2a3f5f",
             "gridcolor": "white",
             "linecolor": "white",
             "minorgridcolor": "white",
             "startlinecolor": "#2a3f5f"
            },
            "baxis": {
             "endlinecolor": "#2a3f5f",
             "gridcolor": "white",
             "linecolor": "white",
             "minorgridcolor": "white",
             "startlinecolor": "#2a3f5f"
            },
            "type": "carpet"
           }
          ],
          "choropleth": [
           {
            "colorbar": {
             "outlinewidth": 0,
             "ticks": ""
            },
            "type": "choropleth"
           }
          ],
          "contour": [
           {
            "colorbar": {
             "outlinewidth": 0,
             "ticks": ""
            },
            "colorscale": [
             [
              0,
              "#0d0887"
             ],
             [
              0.1111111111111111,
              "#46039f"
             ],
             [
              0.2222222222222222,
              "#7201a8"
             ],
             [
              0.3333333333333333,
              "#9c179e"
             ],
             [
              0.4444444444444444,
              "#bd3786"
             ],
             [
              0.5555555555555556,
              "#d8576b"
             ],
             [
              0.6666666666666666,
              "#ed7953"
             ],
             [
              0.7777777777777778,
              "#fb9f3a"
             ],
             [
              0.8888888888888888,
              "#fdca26"
             ],
             [
              1,
              "#f0f921"
             ]
            ],
            "type": "contour"
           }
          ],
          "contourcarpet": [
           {
            "colorbar": {
             "outlinewidth": 0,
             "ticks": ""
            },
            "type": "contourcarpet"
           }
          ],
          "heatmap": [
           {
            "colorbar": {
             "outlinewidth": 0,
             "ticks": ""
            },
            "colorscale": [
             [
              0,
              "#0d0887"
             ],
             [
              0.1111111111111111,
              "#46039f"
             ],
             [
              0.2222222222222222,
              "#7201a8"
             ],
             [
              0.3333333333333333,
              "#9c179e"
             ],
             [
              0.4444444444444444,
              "#bd3786"
             ],
             [
              0.5555555555555556,
              "#d8576b"
             ],
             [
              0.6666666666666666,
              "#ed7953"
             ],
             [
              0.7777777777777778,
              "#fb9f3a"
             ],
             [
              0.8888888888888888,
              "#fdca26"
             ],
             [
              1,
              "#f0f921"
             ]
            ],
            "type": "heatmap"
           }
          ],
          "heatmapgl": [
           {
            "colorbar": {
             "outlinewidth": 0,
             "ticks": ""
            },
            "colorscale": [
             [
              0,
              "#0d0887"
             ],
             [
              0.1111111111111111,
              "#46039f"
             ],
             [
              0.2222222222222222,
              "#7201a8"
             ],
             [
              0.3333333333333333,
              "#9c179e"
             ],
             [
              0.4444444444444444,
              "#bd3786"
             ],
             [
              0.5555555555555556,
              "#d8576b"
             ],
             [
              0.6666666666666666,
              "#ed7953"
             ],
             [
              0.7777777777777778,
              "#fb9f3a"
             ],
             [
              0.8888888888888888,
              "#fdca26"
             ],
             [
              1,
              "#f0f921"
             ]
            ],
            "type": "heatmapgl"
           }
          ],
          "histogram": [
           {
            "marker": {
             "colorbar": {
              "outlinewidth": 0,
              "ticks": ""
             }
            },
            "type": "histogram"
           }
          ],
          "histogram2d": [
           {
            "colorbar": {
             "outlinewidth": 0,
             "ticks": ""
            },
            "colorscale": [
             [
              0,
              "#0d0887"
             ],
             [
              0.1111111111111111,
              "#46039f"
             ],
             [
              0.2222222222222222,
              "#7201a8"
             ],
             [
              0.3333333333333333,
              "#9c179e"
             ],
             [
              0.4444444444444444,
              "#bd3786"
             ],
             [
              0.5555555555555556,
              "#d8576b"
             ],
             [
              0.6666666666666666,
              "#ed7953"
             ],
             [
              0.7777777777777778,
              "#fb9f3a"
             ],
             [
              0.8888888888888888,
              "#fdca26"
             ],
             [
              1,
              "#f0f921"
             ]
            ],
            "type": "histogram2d"
           }
          ],
          "histogram2dcontour": [
           {
            "colorbar": {
             "outlinewidth": 0,
             "ticks": ""
            },
            "colorscale": [
             [
              0,
              "#0d0887"
             ],
             [
              0.1111111111111111,
              "#46039f"
             ],
             [
              0.2222222222222222,
              "#7201a8"
             ],
             [
              0.3333333333333333,
              "#9c179e"
             ],
             [
              0.4444444444444444,
              "#bd3786"
             ],
             [
              0.5555555555555556,
              "#d8576b"
             ],
             [
              0.6666666666666666,
              "#ed7953"
             ],
             [
              0.7777777777777778,
              "#fb9f3a"
             ],
             [
              0.8888888888888888,
              "#fdca26"
             ],
             [
              1,
              "#f0f921"
             ]
            ],
            "type": "histogram2dcontour"
           }
          ],
          "mesh3d": [
           {
            "colorbar": {
             "outlinewidth": 0,
             "ticks": ""
            },
            "type": "mesh3d"
           }
          ],
          "parcoords": [
           {
            "line": {
             "colorbar": {
              "outlinewidth": 0,
              "ticks": ""
             }
            },
            "type": "parcoords"
           }
          ],
          "pie": [
           {
            "automargin": true,
            "type": "pie"
           }
          ],
          "scatter": [
           {
            "marker": {
             "colorbar": {
              "outlinewidth": 0,
              "ticks": ""
             }
            },
            "type": "scatter"
           }
          ],
          "scatter3d": [
           {
            "line": {
             "colorbar": {
              "outlinewidth": 0,
              "ticks": ""
             }
            },
            "marker": {
             "colorbar": {
              "outlinewidth": 0,
              "ticks": ""
             }
            },
            "type": "scatter3d"
           }
          ],
          "scattercarpet": [
           {
            "marker": {
             "colorbar": {
              "outlinewidth": 0,
              "ticks": ""
             }
            },
            "type": "scattercarpet"
           }
          ],
          "scattergeo": [
           {
            "marker": {
             "colorbar": {
              "outlinewidth": 0,
              "ticks": ""
             }
            },
            "type": "scattergeo"
           }
          ],
          "scattergl": [
           {
            "marker": {
             "colorbar": {
              "outlinewidth": 0,
              "ticks": ""
             }
            },
            "type": "scattergl"
           }
          ],
          "scattermapbox": [
           {
            "marker": {
             "colorbar": {
              "outlinewidth": 0,
              "ticks": ""
             }
            },
            "type": "scattermapbox"
           }
          ],
          "scatterpolar": [
           {
            "marker": {
             "colorbar": {
              "outlinewidth": 0,
              "ticks": ""
             }
            },
            "type": "scatterpolar"
           }
          ],
          "scatterpolargl": [
           {
            "marker": {
             "colorbar": {
              "outlinewidth": 0,
              "ticks": ""
             }
            },
            "type": "scatterpolargl"
           }
          ],
          "scatterternary": [
           {
            "marker": {
             "colorbar": {
              "outlinewidth": 0,
              "ticks": ""
             }
            },
            "type": "scatterternary"
           }
          ],
          "surface": [
           {
            "colorbar": {
             "outlinewidth": 0,
             "ticks": ""
            },
            "colorscale": [
             [
              0,
              "#0d0887"
             ],
             [
              0.1111111111111111,
              "#46039f"
             ],
             [
              0.2222222222222222,
              "#7201a8"
             ],
             [
              0.3333333333333333,
              "#9c179e"
             ],
             [
              0.4444444444444444,
              "#bd3786"
             ],
             [
              0.5555555555555556,
              "#d8576b"
             ],
             [
              0.6666666666666666,
              "#ed7953"
             ],
             [
              0.7777777777777778,
              "#fb9f3a"
             ],
             [
              0.8888888888888888,
              "#fdca26"
             ],
             [
              1,
              "#f0f921"
             ]
            ],
            "type": "surface"
           }
          ],
          "table": [
           {
            "cells": {
             "fill": {
              "color": "#EBF0F8"
             },
             "line": {
              "color": "white"
             }
            },
            "header": {
             "fill": {
              "color": "#C8D4E3"
             },
             "line": {
              "color": "white"
             }
            },
            "type": "table"
           }
          ]
         },
         "layout": {
          "annotationdefaults": {
           "arrowcolor": "#2a3f5f",
           "arrowhead": 0,
           "arrowwidth": 1
          },
          "autotypenumbers": "strict",
          "coloraxis": {
           "colorbar": {
            "outlinewidth": 0,
            "ticks": ""
           }
          },
          "colorscale": {
           "diverging": [
            [
             0,
             "#8e0152"
            ],
            [
             0.1,
             "#c51b7d"
            ],
            [
             0.2,
             "#de77ae"
            ],
            [
             0.3,
             "#f1b6da"
            ],
            [
             0.4,
             "#fde0ef"
            ],
            [
             0.5,
             "#f7f7f7"
            ],
            [
             0.6,
             "#e6f5d0"
            ],
            [
             0.7,
             "#b8e186"
            ],
            [
             0.8,
             "#7fbc41"
            ],
            [
             0.9,
             "#4d9221"
            ],
            [
             1,
             "#276419"
            ]
           ],
           "sequential": [
            [
             0,
             "#0d0887"
            ],
            [
             0.1111111111111111,
             "#46039f"
            ],
            [
             0.2222222222222222,
             "#7201a8"
            ],
            [
             0.3333333333333333,
             "#9c179e"
            ],
            [
             0.4444444444444444,
             "#bd3786"
            ],
            [
             0.5555555555555556,
             "#d8576b"
            ],
            [
             0.6666666666666666,
             "#ed7953"
            ],
            [
             0.7777777777777778,
             "#fb9f3a"
            ],
            [
             0.8888888888888888,
             "#fdca26"
            ],
            [
             1,
             "#f0f921"
            ]
           ],
           "sequentialminus": [
            [
             0,
             "#0d0887"
            ],
            [
             0.1111111111111111,
             "#46039f"
            ],
            [
             0.2222222222222222,
             "#7201a8"
            ],
            [
             0.3333333333333333,
             "#9c179e"
            ],
            [
             0.4444444444444444,
             "#bd3786"
            ],
            [
             0.5555555555555556,
             "#d8576b"
            ],
            [
             0.6666666666666666,
             "#ed7953"
            ],
            [
             0.7777777777777778,
             "#fb9f3a"
            ],
            [
             0.8888888888888888,
             "#fdca26"
            ],
            [
             1,
             "#f0f921"
            ]
           ]
          },
          "colorway": [
           "#636efa",
           "#EF553B",
           "#00cc96",
           "#ab63fa",
           "#FFA15A",
           "#19d3f3",
           "#FF6692",
           "#B6E880",
           "#FF97FF",
           "#FECB52"
          ],
          "font": {
           "color": "#2a3f5f"
          },
          "geo": {
           "bgcolor": "white",
           "lakecolor": "white",
           "landcolor": "#E5ECF6",
           "showlakes": true,
           "showland": true,
           "subunitcolor": "white"
          },
          "hoverlabel": {
           "align": "left"
          },
          "hovermode": "closest",
          "mapbox": {
           "style": "light"
          },
          "paper_bgcolor": "white",
          "plot_bgcolor": "#E5ECF6",
          "polar": {
           "angularaxis": {
            "gridcolor": "white",
            "linecolor": "white",
            "ticks": ""
           },
           "bgcolor": "#E5ECF6",
           "radialaxis": {
            "gridcolor": "white",
            "linecolor": "white",
            "ticks": ""
           }
          },
          "scene": {
           "xaxis": {
            "backgroundcolor": "#E5ECF6",
            "gridcolor": "white",
            "gridwidth": 2,
            "linecolor": "white",
            "showbackground": true,
            "ticks": "",
            "zerolinecolor": "white"
           },
           "yaxis": {
            "backgroundcolor": "#E5ECF6",
            "gridcolor": "white",
            "gridwidth": 2,
            "linecolor": "white",
            "showbackground": true,
            "ticks": "",
            "zerolinecolor": "white"
           },
           "zaxis": {
            "backgroundcolor": "#E5ECF6",
            "gridcolor": "white",
            "gridwidth": 2,
            "linecolor": "white",
            "showbackground": true,
            "ticks": "",
            "zerolinecolor": "white"
           }
          },
          "shapedefaults": {
           "line": {
            "color": "#2a3f5f"
           }
          },
          "ternary": {
           "aaxis": {
            "gridcolor": "white",
            "linecolor": "white",
            "ticks": ""
           },
           "baxis": {
            "gridcolor": "white",
            "linecolor": "white",
            "ticks": ""
           },
           "bgcolor": "#E5ECF6",
           "caxis": {
            "gridcolor": "white",
            "linecolor": "white",
            "ticks": ""
           }
          },
          "title": {
           "x": 0.05
          },
          "xaxis": {
           "automargin": true,
           "gridcolor": "white",
           "linecolor": "white",
           "ticks": "",
           "title": {
            "standoff": 15
           },
           "zerolinecolor": "white",
           "zerolinewidth": 2
          },
          "yaxis": {
           "automargin": true,
           "gridcolor": "white",
           "linecolor": "white",
           "ticks": "",
           "title": {
            "standoff": 15
           },
           "zerolinecolor": "white",
           "zerolinewidth": 2
          }
         }
        },
        "width": 650,
        "xaxis": {
         "anchor": "y2",
         "domain": [
          0,
          1
         ],
         "zeroline": false
        },
        "yaxis": {
         "anchor": "free",
         "domain": [
          0,
          1
         ],
         "position": 0
        }
       }
      },
      "text/html": [
       "<div>                            <div id=\"0b37a9a4-6a71-4213-b6fb-f459c685fecb\" class=\"plotly-graph-div\" style=\"height:420px; width:650px;\"></div>            <script type=\"text/javascript\">                require([\"plotly\"], function(Plotly) {                    window.PLOTLYENV=window.PLOTLYENV || {};                                    if (document.getElementById(\"0b37a9a4-6a71-4213-b6fb-f459c685fecb\")) {                    Plotly.newPlot(                        \"0b37a9a4-6a71-4213-b6fb-f459c685fecb\",                        [{\"autobinx\": false, \"histnorm\": \"probability density\", \"legendgroup\": \"PCE(%)\", \"marker\": {\"color\": \"rgb(31, 119, 180)\"}, \"name\": \"PCE(%)\", \"opacity\": 0.7, \"type\": \"histogram\", \"x\": [11.6, 12.2, 8.8, 8.0, 8.9, 4.4, 7.8, 10.9, 9.9, 7.8, 9.95, 13.42, 13.4, 9.5, 13.8, 14.3, 6.4, 6.2, 11.46, 13.82, 12.3, 13.6, 12.9, 12.7, 11.7, 16.5, 9.3, 10.4, 9.6, 5.5, 15.0, 9.41, 10.5, 6.4, 7.2, 10.5, 11.4, 10.19, 8.4, 7.0, 5.4, 9.83, 8.45, 11.48, 6.0, 7.2, 10.2, 14.9, 17.8, 16.9, 9.1, 7.59, 8.1, 7.0, 10.1, 9.12, 13.18, 13.68, 13.31, 16.64, 8.25, 13.7, 8.9, 10.52, 9.41, 11.1, 13.24, 14.16, 13.68, 9.66, 9.18, 4.93, 6.55, 6.71, 6.19, 12.03, 9.74, 13.32, 9.6, 13.4, 12.5, 8.2, 14.1, 15.3, 9.64, 9.82, 7.9, 7.57, 8.16, 8.49, 6.0, 4.1, 4.46, 4.11, 7.76, 10.18, 9.4, 8.72, 9.27, 7.72, 5.94, 4.5, 8.53, 8.48, 6.53, 5.75, 9.11, 7.08, 10.81, 8.97, 11.59, 15.12, 4.12, 13.9, 11.26, 12.21, 15.3, 5.75, 10.5, 16.21, 12.72, 14.0, 17.1, 16.7, 15.2, 12.87, 12.43, 8.31, 8.36, 11.05, 8.02, 10.35, 8.24, 9.92, 10.93, 5.51, 8.97, 9.53, 10.81, 8.13, 8.59, 6.68, 8.9, 11.34, 11.73, 10.68, 8.12, 5.6, 8.8, 9.5, 9.4, 8.9, 7.7, 10.1, 10.8, 11.5, 7.3, 9.3, 10.8, 9.7, 11.1, 12.97, 7.11, 6.9, 5.9, 10.9, 12.1, 9.94, 8.05, 9.62, 12.84, 18.32, 8.14, 18.22, 13.1, 7.4, 12.2, 7.03, 4.8, 6.54, 5.65, 9.81, 8.99, 11.2, 5.5, 6.9, 5.4, 5.24, 6.28, 6.94, 9.2, 8.06, 11.62, 12.05, 10.23, 10.71, 9.63, 8.03, 7.21, 13.37], \"xaxis\": \"x\", \"xbins\": {\"end\": 18.32, \"size\": 1.0, \"start\": 4.1}, \"yaxis\": \"y\"}, {\"legendgroup\": \"PCE(%)\", \"marker\": {\"color\": \"rgb(31, 119, 180)\"}, \"mode\": \"lines\", \"name\": \"PCE(%)\", \"showlegend\": false, \"type\": \"scatter\", \"x\": [4.1, 4.128439999999999, 4.156879999999999, 4.18532, 4.21376, 4.2421999999999995, 4.270639999999999, 4.29908, 4.32752, 4.35596, 4.384399999999999, 4.412839999999999, 4.44128, 4.46972, 4.4981599999999995, 4.526599999999999, 4.55504, 4.58348, 4.61192, 4.640359999999999, 4.6688, 4.69724, 4.72568, 4.7541199999999995, 4.78256, 4.811, 4.83944, 4.8678799999999995, 4.896319999999999, 4.924759999999999, 4.9532, 4.98164, 5.010079999999999, 5.03852, 5.06696, 5.0954, 5.1238399999999995, 5.152279999999999, 5.18072, 5.20916, 5.2376, 5.266039999999999, 5.29448, 5.32292, 5.35136, 5.3797999999999995, 5.408239999999999, 5.43668, 5.46512, 5.4935599999999996, 5.521999999999999, 5.55044, 5.57888, 5.60732, 5.635759999999999, 5.664199999999999, 5.69264, 5.72108, 5.7495199999999995, 5.77796, 5.8064, 5.83484, 5.86328, 5.891719999999999, 5.920159999999999, 5.9486, 5.97704, 6.0054799999999995, 6.03392, 6.06236, 6.0908, 6.11924, 6.147679999999999, 6.176119999999999, 6.204559999999999, 6.233, 6.26144, 6.28988, 6.31832, 6.34676, 6.3751999999999995, 6.403639999999999, 6.432079999999999, 6.46052, 6.48896, 6.5174, 6.54584, 6.57428, 6.60272, 6.6311599999999995, 6.659599999999999, 6.688039999999999, 6.71648, 6.74492, 6.77336, 6.8018, 6.83024, 6.85868, 6.8871199999999995, 6.915559999999999, 6.943999999999999, 6.97244, 7.0008799999999995, 7.02932, 7.05776, 7.0862, 7.11464, 7.143079999999999, 7.171519999999999, 7.199959999999999, 7.2284, 7.25684, 7.28528, 7.31372, 7.34216, 7.3706, 7.399039999999999, 7.427479999999999, 7.45592, 7.48436, 7.5128, 7.54124, 7.56968, 7.59812, 7.62656, 7.654999999999999, 7.683439999999999, 7.71188, 7.74032, 7.76876, 7.7972, 7.82564, 7.85408, 7.8825199999999995, 7.910959999999999, 7.939399999999999, 7.96784, 7.9962800000000005, 8.02472, 8.05316, 8.0816, 8.11004, 8.13848, 8.16692, 8.19536, 8.2238, 8.25224, 8.28068, 8.30912, 8.33756, 8.366, 8.39444, 8.42288, 8.451319999999999, 8.479759999999999, 8.508199999999999, 8.53664, 8.565079999999998, 8.59352, 8.62196, 8.650400000000001, 8.678840000000001, 8.70728, 8.73572, 8.76416, 8.7926, 8.82104, 8.84948, 8.87792, 8.90636, 8.9348, 8.963239999999999, 8.991679999999999, 9.020119999999999, 9.04856, 9.077, 9.10544, 9.13388, 9.162320000000001, 9.190760000000001, 9.2192, 9.24764, 9.27608, 9.30452, 9.33296, 9.3614, 9.38984, 9.41828, 9.44672, 9.475159999999999, 9.503599999999999, 9.532039999999999, 9.56048, 9.58892, 9.617360000000001, 9.6458, 9.674240000000001, 9.70268, 9.73112, 9.75956, 9.788, 9.81644, 9.84488, 9.87332, 9.90176, 9.9302, 9.958639999999999, 9.987079999999999, 10.01552, 10.043959999999998, 10.0724, 10.10084, 10.129280000000001, 10.157720000000001, 10.18616, 10.2146, 10.24304, 10.27148, 10.29992, 10.32836, 10.3568, 10.38524, 10.41368, 10.44212, 10.470559999999999, 10.498999999999999, 10.52744, 10.55588, 10.58432, 10.61276, 10.641200000000001, 10.669640000000001, 10.69808, 10.72652, 10.75496, 10.7834, 10.81184, 10.84028, 10.86872, 10.89716, 10.9256, 10.954039999999999, 10.982479999999999, 11.010919999999999, 11.03936, 11.0678, 11.096240000000002, 11.12468, 11.15312, 11.181560000000001, 11.21, 11.23844, 11.26688, 11.29532, 11.32376, 11.3522, 11.38064, 11.40908, 11.43752, 11.465959999999999, 11.4944, 11.522839999999999, 11.55128, 11.57972, 11.608160000000002, 11.6366, 11.66504, 11.693480000000001, 11.72192, 11.75036, 11.7788, 11.80724, 11.83568, 11.86412, 11.89256, 11.921, 11.94944, 11.977879999999999, 12.00632, 12.034759999999999, 12.0632, 12.09164, 12.12008, 12.14852, 12.17696, 12.205400000000001, 12.233839999999999, 12.26228, 12.29072, 12.31916, 12.3476, 12.37604, 12.40448, 12.43292, 12.46136, 12.4898, 12.518239999999999, 12.54668, 12.57512, 12.60356, 12.632, 12.66044, 12.688880000000001, 12.717319999999999, 12.74576, 12.7742, 12.80264, 12.83108, 12.85952, 12.887960000000001, 12.9164, 12.94484, 12.97328, 13.00172, 13.030159999999999, 13.0586, 13.08704, 13.11548, 13.14392, 13.17236, 13.200800000000001, 13.229239999999999, 13.25768, 13.28612, 13.31456, 13.343, 13.37144, 13.399880000000001, 13.42832, 13.45676, 13.4852, 13.51364, 13.54208, 13.57052, 13.59896, 13.6274, 13.65584, 13.684280000000001, 13.712720000000001, 13.741159999999999, 13.7696, 13.79804, 13.826479999999998, 13.85492, 13.88336, 13.911800000000001, 13.94024, 13.968679999999999, 13.99712, 14.02556, 14.054, 14.08244, 14.11088, 14.13932, 14.16776, 14.196200000000001, 14.22464, 14.253079999999999, 14.28152, 14.30996, 14.3384, 14.36684, 14.39528, 14.423720000000001, 14.45216, 14.4806, 14.50904, 14.537479999999999, 14.56592, 14.59436, 14.622800000000002, 14.65124, 14.67968, 14.708120000000001, 14.73656, 14.764999999999999, 14.79344, 14.82188, 14.85032, 14.87876, 14.9072, 14.935640000000001, 14.96408, 14.99252, 15.02096, 15.049399999999999, 15.07784, 15.10628, 15.134720000000002, 15.16316, 15.1916, 15.220040000000001, 15.24848, 15.27692, 15.30536, 15.3338, 15.36224, 15.39068, 15.419120000000001, 15.447560000000001, 15.475999999999999, 15.50444, 15.53288, 15.561319999999998, 15.58976, 15.6182, 15.646640000000001, 15.67508, 15.70352, 15.73196, 15.760399999999999, 15.78884, 15.81728, 15.84572, 15.87416, 15.9026, 15.931040000000001, 15.959480000000001, 15.987919999999999, 16.01636, 16.044800000000002, 16.07324, 16.10168, 16.130119999999998, 16.15856, 16.186999999999998, 16.21544, 16.24388, 16.27232, 16.30076, 16.3292, 16.357640000000004, 16.38608, 16.41452, 16.44296, 16.471400000000003, 16.49984, 16.528280000000002, 16.55672, 16.585160000000002, 16.613599999999998, 16.64204, 16.67048, 16.69892, 16.72736, 16.7558, 16.784239999999997, 16.81268, 16.84112, 16.86956, 16.898, 16.92644, 16.954880000000003, 16.98332, 17.011760000000002, 17.0402, 17.068640000000002, 17.09708, 17.12552, 17.15396, 17.1824, 17.210839999999997, 17.23928, 17.26772, 17.29616, 17.3246, 17.35304, 17.381480000000003, 17.40992, 17.43836, 17.4668, 17.49524, 17.52368, 17.552120000000002, 17.58056, 17.609, 17.637439999999998, 17.66588, 17.694319999999998, 17.72276, 17.7512, 17.77964, 17.80808, 17.83652, 17.86496, 17.8934, 17.92184, 17.95028, 17.978720000000003, 18.00716, 18.035600000000002, 18.06404, 18.092480000000002, 18.120919999999998, 18.14936, 18.1778, 18.20624, 18.234679999999997, 18.26312, 18.29156], \"xaxis\": \"x\", \"y\": [0.025459605494638476, 0.02605320343648555, 0.026652199607265142, 0.027256454426446326, 0.02786582680810642, 0.02848017426154618, 0.0290993529859978, 0.029723217959922964, 0.03035162302547688, 0.030984420968788316, 0.03162146359677134, 0.032262601811242964, 0.03290768568117067, 0.03355656451391367, 0.034209086926353965, 0.03486510091683246, 0.03552445393881713, 0.036186992977229125, 0.03685256462834206, 0.0375210151841486, 0.038192190722054084, 0.0388659372007165, 0.039542100562796424, 0.04022052684531912, 0.04090106229827757, 0.04158355351202366, 0.04226784755390635, 0.042953792114517074, 0.04364123566380011, 0.04433002761717588, 0.04502001851171098, 0.04571106019225076, 0.046403006007309316, 0.04709571101439014, 0.047789032194285715, 0.048482828673784055, 0.04917696195608711, 0.04987129615812931, 0.05056569825386852, 0.051260038322512545, 0.051954189800541305, 0.052648029736286336, 0.05334143904574035, 0.054034302768189664, 0.05472651032019092, 0.05541795574635034, 0.05610853796531686, 0.056798161009358125, 0.05748673425586227, 0.05817417264909378, 0.05886039691052712, 0.059545333736092734, 0.060228915978691, 0.0609110828143658, 0.061591779890574815, 0.06227095945505322, 0.06294858046383918, 0.06362460866711116, 0.06429901667157945, 0.0649717839782793, 0.06564289699472456, 0.06631234902050304, 0.06698014020552474, 0.06764627748027024, 0.06831077445752975, 0.0689736513052719, 0.069634934590434, 0.07029465709357914, 0.07095285759452614, 0.07160958062921421, 0.07226487621822517, 0.07291879956754097, 0.07357141074227348, 0.07422277431425084, 0.07487295898449706, 0.07552203718178142, 0.07617008463855172, 0.07681717994569613, 0.07746340408769739, 0.07810883995985984, 0.07875357186938958, 0.07939768502220565, 0.08004126499743998, 0.08068439721165856, 0.08132716637489434, 0.08196965594063499, 0.08261194755193967, 0.08325412048588984, 0.08389625109858631, 0.08453841227290582, 0.0851806728712207, 0.0858230971952556, 0.08646574445522265, 0.08710866825032713, 0.08775191606267735, 0.08839552876655976, 0.08903954015496561, 0.08968397648516102, 0.09032885604499824, 0.09097418874155565, 0.09161997571358571, 0.09226620896912523, 0.09291287104949932, 0.09355993472082115, 0.09420736269395344, 0.09485510737376247, 0.09550311063835686, 0.09615130364886386, 0.09679960669015672, 0.09744792904280905, 0.09809616888641469, 0.09874421323428142, 0.099391937899373, 0.10003920749125497, 0.10068587544367404, 0.10133178407229433, 0.10197676466200191, 0.10262063758309385, 0.1032632124355761, 0.10390428822071159, 0.10454365353888714, 0.10518108681280386, 0.10581635653493975, 0.10644922153818766, 0.10707943128853663, 0.10770672619863786, 0.10833083796107748, 0.10895148990017312, 0.10956839734110804, 0.11018126799523001, 0.1107898023603522, 0.11139369413492406, 0.11199263064496572, 0.11258629328269783, 0.11317435795583985, 0.11375649554659596, 0.11433237237939668, 0.11490165069651653, 0.11546398914074345, 0.1160190432443274, 0.11656646592349391, 0.11710590797786033, 0.11763701859414444, 0.11815944585360671, 0.11867283724271194, 0.11917684016653984, 0.11967110246450964, 0.12015527292801859, 0.12062900181961822, 0.12109194139337272, 0.12154374641605908, 0.12198407468886982, 0.12241258756928455, 0.12282895049276372, 0.12323283349390374, 0.12362391172667242, 0.12400186598331099, 0.12436638321145703, 0.12471715702899806, 0.12505388823612137, 0.12537628532397063, 0.12568406497926887, 0.12597695258420227, 0.12625468271080337, 0.12651699960900534, 0.12676365768747774, 0.1269944219862897, 0.12720906864038645, 0.12740738533280282, 0.12758917173648635, 0.1277542399435481, 0.1279024148807142, 0.12803353470971343, 0.1281474512113041, 0.12824403015161925, 0.12832315162949498, 0.12838471040344204, 0.1284286161969277, 0.12845479398064694, 0.12846318423049352, 0.12845374315997724, 0.12842644292588343, 0.12838127180603412, 0.12831823434807893, 0.12823735148833207, 0.12813866063976032, 0.1280222157483356, 0.12788808731707896, 0.12773636239723918, 0.12756714454618875, 0.12738055375175072, 0.12717672632281263, 0.12695581474623485, 0.12671798751020966, 0.12646342889438025, 0.12619233872718352, 0.12590493211103515, 0.125601439116124, 0.12528210444373822, 0.12494718706018018, 0.12459695980247422, 0.12423170895719761, 0.12385173381388805, 0.12345734619459615, 0.12304886996125271, 0.1226266405026084, 0.12219100420258822, 0.12174231789196255, 0.12128094828528736, 0.12080727140510915, 0.12032167199544097, 0.11982454292653541, 0.11931628459295783, 0.11879730430695404, 0.11826801568905183, 0.11772883805779948, 0.11718019582046174, 0.1166225178664249, 0.11605623696496054, 0.1154817891688982, 0.1148996132256402, 0.11431014999682244, 0.11371384188779922, 0.11311113228798104, 0.11250246502291363, 0.1118882838188353, 0.1112690317802935, 0.11064515088125174, 0.11001708146996009, 0.10938526178771472, 0.1087501275014804, 0.10811211125020746, 0.10747164220454229, 0.10682914563949251, 0.10618504251950066, 0.10553974909525866, 0.10489367651151037, 0.10424723042499459, 0.10360081063161737, 0.10295481070188246, 0.1023096176235694, 0.10166561145062203, 0.10102316495720226, 0.10038264329586817, 0.0997444036588633, 0.09910879494153871, 0.09847615740698595, 0.0978468223510346, 0.09722111176684599, 0.09659933800844414, 0.09598180345263072, 0.09536880015886365, 0.09476060952681309, 0.09415750195145824, 0.09355973647574423, 0.0929675604409841, 0.09238120913535985, 0.09180090544105043, 0.09122685948069492, 0.09065926826407253, 0.09009831533606241, 0.08954417042711825, 0.08899698910766538, 0.08845691244799135, 0.0879240666853566, 0.0873985629002025, 0.08688049670346684, 0.08636994793714343, 0.08586698039033137, 0.0853716415331124, 0.084883962270677, 0.08440395672017438, 0.0839316220128081, 0.0834669381237183, 0.08300986773219134, 0.08256035611472366, 0.08211833107341825, 0.0816837029021379, 0.08125636439274718, 0.08083619088367756, 0.08042304035291523, 0.08001675355737123, 0.07961715422041721, 0.07922404926919158, 0.07883722912306527, 0.07845646803444076, 0.07808152448281308, 0.07771214162276854, 0.0773480477863296, 0.07698895703977233, 0.07663456979475508, 0.07628457347329853, 0.07593864322585278, 0.0755964427013803, 0.07525762486807024, 0.07492183288299474, 0.07458870100870352, 0.07425785557445512, 0.0739289159794818, 0.07360149573539979, 0.07327520354459739, 0.07294964441116862, 0.07262442078071195, 0.0722991337050781, 0.07197338402793889, 0.07164677358685426, 0.0713189064273408, 0.07098939002430002, 0.0706578365060358, 0.0703238638759972, 0.0699870972273065, 0.0696471699450925, 0.06930372489163075, 0.06895641556930673, 0.06860490725645804, 0.06824887811122472, 0.06788802023863372, 0.06752204071627171, 0.0671506625740557, 0.06677362572379256, 0.06639068783442681, 0.06600162514910729, 0.06560623324046055, 0.06520432770073616, 0.06479574476378547, 0.06438034185615366, 0.06395799807489583, 0.06352861459007435, 0.06309211497025516, 0.06264844542968712, 0.06219757499622479, 0.06173949559943837, 0.06127422207873331, 0.06080179211169108, 0.06032226606321946, 0.059835726756479246, 0.05934227916692368, 0.05884205004114556, 0.05833518744257616, 0.057821860226413065, 0.05730225744647277, 0.05677658769696465, 0.05624507839246146, 0.05570797498960223, 0.055165540154300585, 0.054618052878440106, 0.05406580755023093, 0.05350911298255669, 0.052948291403781295, 0.052383677415587145, 0.05181561692249866, 0.051244466037795276, 0.05067058997054434, 0.0500943618984793, 0.049516161831420526, 0.048936375469880215, 0.04835539306341317, 0.04777360827316939, 0.0471914170429789, 0.04660921648315109, 0.046027403770999974, 0.04544637507192487, 0.04486652448466925, 0.04428824301416594, 0.04371191757514573, 0.04313793002944619, 0.04256665625970818, 0.041998465281891516, 0.041433718398780385, 0.04087276839638617, 0.04031595878489004, 0.03976362308550537, 0.03921608416438022, 0.038673653614402975, 0.0381366311855272, 0.037605304263987394, 0.03707994740054881, 0.03656082188770976, 0.036048175385565706, 0.03554224159584794, 0.03504323998346405, 0.03455137554469892, 0.034066838621079044, 0.03358980475776179, 0.033120434605189604, 0.03265887386263412, 0.03220525326216587, 0.03175968859150248, 0.03132228075412375, 0.030893115864992073, 0.030472265380178196, 0.03005978625866833, 0.029655721154615913, 0.02926009863829911, 0.028872933444055147, 0.028494226743479317, 0.028123966442202792, 0.027762127498597237, 0.027408672262792172, 0.027063550834436473, 0.026726701437682403, 0.026398050811922542, 0.026077514616862016, 0.025764997850563676, 0.025460395279155876, 0.02516359187694875, 0.024874463275753902, 0.024592876222255425, 0.02431868904232442, 0.02405175211121725, 0.023791908328634644, 0.02353899359765988, 0.023292837306624983, 0.023053262812984858, 0.02282008792830409, 0.022593125403483297, 0.022372183413370023, 0.022157066039913305, 0.02194757375303348, 0.0217435038883871, 0.021544651121213954, 0.02135080793545788, 0.021161765087356732, 0.020977312062700877, 0.0207972375269604, 0.02062132976748777, 0.02044937712700361, 0.02028116842758261, 0.020116493384361597, 0.019955143008205504, 0.019796909996578033, 0.01964158911188299, 0.01948897754656268, 0.0193388752742641, 0.019191085386415258, 0.019045414413585652, 0.01890167263104525, 0.018759674347978855, 0.018619238179861258, 0.01848018730354958, 0.01834234969470772, 0.01820555834723604, 0.018069651474445954, 0.017934472691784168, 0.017799871180983067, 0.017665701835585627, 0.017531825387866927, 0.017398108517249884, 0.017264423940389, 0.01713065048316985, 0.016996673134948688, 0.01686238308542822, 0.016727677744637244, 0.016592460746550065, 0.016456641936945994, 0.01632013734617076, 0.01618286914751638, 0.016044765601988895, 0.015905760990276623, 0.015765795532772926, 0.01562481529853843, 0.015482772104115689, 0.015339623403126995, 0.0151953321675996, 0.015049866761965786, 0.014903200810685559, 0.014755313060428012, 0.014606187237732791, 0.014455811903049084, 0.014304180302020547, 0.014151290214849012, 0.013997143804527682, 0.01384174746468868, 0.01368511166775762, 0.013527250814053069, 0.013368183082408294, 0.013207930282832259, 0.013046517711659699, 0.012883974009577321, 0.012720331022842323, 0.012555623667945662, 0.0123898897999022, 0.012223170084286857, 0.012055507873069724, 0.011886949084242353, 0.011717542085168115, 0.01154733757953468, 0.011376388497734714, 0.011204749890454776, 0.011032478825209519, 0.010859634285522295, 0.010686277072421977, 0.01051246970789908, 0.010338276339946752, 0.0101637626487956, 0.009988995753947008, 0.009814044121604368, 0.009638977472108812, 0.009463866686993278, 0.009288783715286575], \"yaxis\": \"y\"}],                        {\"barmode\": \"overlay\", \"font\": {\"family\": \"Times New Roman\", \"size\": 22}, \"height\": 420, \"hovermode\": \"closest\", \"legend\": {\"traceorder\": \"reversed\"}, \"template\": {\"data\": {\"bar\": [{\"error_x\": {\"color\": \"#2a3f5f\"}, \"error_y\": {\"color\": \"#2a3f5f\"}, \"marker\": {\"line\": {\"color\": \"#E5ECF6\", \"width\": 0.5}}, \"type\": \"bar\"}], \"barpolar\": [{\"marker\": {\"line\": {\"color\": \"#E5ECF6\", \"width\": 0.5}}, \"type\": \"barpolar\"}], \"carpet\": [{\"aaxis\": {\"endlinecolor\": \"#2a3f5f\", \"gridcolor\": \"white\", \"linecolor\": \"white\", \"minorgridcolor\": \"white\", \"startlinecolor\": \"#2a3f5f\"}, \"baxis\": {\"endlinecolor\": \"#2a3f5f\", \"gridcolor\": \"white\", \"linecolor\": \"white\", \"minorgridcolor\": \"white\", \"startlinecolor\": \"#2a3f5f\"}, \"type\": \"carpet\"}], \"choropleth\": [{\"colorbar\": {\"outlinewidth\": 0, \"ticks\": \"\"}, \"type\": \"choropleth\"}], \"contour\": [{\"colorbar\": {\"outlinewidth\": 0, \"ticks\": \"\"}, \"colorscale\": [[0.0, \"#0d0887\"], [0.1111111111111111, \"#46039f\"], [0.2222222222222222, \"#7201a8\"], [0.3333333333333333, \"#9c179e\"], [0.4444444444444444, \"#bd3786\"], [0.5555555555555556, \"#d8576b\"], [0.6666666666666666, \"#ed7953\"], [0.7777777777777778, \"#fb9f3a\"], [0.8888888888888888, \"#fdca26\"], [1.0, \"#f0f921\"]], \"type\": \"contour\"}], \"contourcarpet\": [{\"colorbar\": {\"outlinewidth\": 0, \"ticks\": \"\"}, \"type\": \"contourcarpet\"}], \"heatmap\": [{\"colorbar\": {\"outlinewidth\": 0, \"ticks\": \"\"}, \"colorscale\": [[0.0, \"#0d0887\"], [0.1111111111111111, \"#46039f\"], [0.2222222222222222, \"#7201a8\"], [0.3333333333333333, \"#9c179e\"], [0.4444444444444444, \"#bd3786\"], [0.5555555555555556, \"#d8576b\"], [0.6666666666666666, \"#ed7953\"], [0.7777777777777778, \"#fb9f3a\"], [0.8888888888888888, \"#fdca26\"], [1.0, \"#f0f921\"]], \"type\": \"heatmap\"}], \"heatmapgl\": [{\"colorbar\": {\"outlinewidth\": 0, \"ticks\": \"\"}, \"colorscale\": [[0.0, \"#0d0887\"], [0.1111111111111111, \"#46039f\"], [0.2222222222222222, \"#7201a8\"], [0.3333333333333333, \"#9c179e\"], [0.4444444444444444, \"#bd3786\"], [0.5555555555555556, \"#d8576b\"], [0.6666666666666666, \"#ed7953\"], [0.7777777777777778, \"#fb9f3a\"], [0.8888888888888888, \"#fdca26\"], [1.0, \"#f0f921\"]], \"type\": \"heatmapgl\"}], \"histogram\": [{\"marker\": {\"colorbar\": {\"outlinewidth\": 0, \"ticks\": \"\"}}, \"type\": \"histogram\"}], \"histogram2d\": [{\"colorbar\": {\"outlinewidth\": 0, \"ticks\": \"\"}, \"colorscale\": [[0.0, \"#0d0887\"], [0.1111111111111111, \"#46039f\"], [0.2222222222222222, \"#7201a8\"], [0.3333333333333333, \"#9c179e\"], [0.4444444444444444, \"#bd3786\"], [0.5555555555555556, \"#d8576b\"], [0.6666666666666666, \"#ed7953\"], [0.7777777777777778, \"#fb9f3a\"], [0.8888888888888888, \"#fdca26\"], [1.0, \"#f0f921\"]], \"type\": \"histogram2d\"}], \"histogram2dcontour\": [{\"colorbar\": {\"outlinewidth\": 0, \"ticks\": \"\"}, \"colorscale\": [[0.0, \"#0d0887\"], [0.1111111111111111, \"#46039f\"], [0.2222222222222222, \"#7201a8\"], [0.3333333333333333, \"#9c179e\"], [0.4444444444444444, \"#bd3786\"], [0.5555555555555556, \"#d8576b\"], [0.6666666666666666, \"#ed7953\"], [0.7777777777777778, \"#fb9f3a\"], [0.8888888888888888, \"#fdca26\"], [1.0, \"#f0f921\"]], \"type\": \"histogram2dcontour\"}], \"mesh3d\": [{\"colorbar\": {\"outlinewidth\": 0, \"ticks\": \"\"}, \"type\": \"mesh3d\"}], \"parcoords\": [{\"line\": {\"colorbar\": {\"outlinewidth\": 0, \"ticks\": \"\"}}, \"type\": \"parcoords\"}], \"pie\": [{\"automargin\": true, \"type\": \"pie\"}], \"scatter\": [{\"marker\": {\"colorbar\": {\"outlinewidth\": 0, \"ticks\": \"\"}}, \"type\": \"scatter\"}], \"scatter3d\": [{\"line\": {\"colorbar\": {\"outlinewidth\": 0, \"ticks\": \"\"}}, \"marker\": {\"colorbar\": {\"outlinewidth\": 0, \"ticks\": \"\"}}, \"type\": \"scatter3d\"}], \"scattercarpet\": [{\"marker\": {\"colorbar\": {\"outlinewidth\": 0, \"ticks\": \"\"}}, \"type\": \"scattercarpet\"}], \"scattergeo\": [{\"marker\": {\"colorbar\": {\"outlinewidth\": 0, \"ticks\": \"\"}}, \"type\": \"scattergeo\"}], \"scattergl\": [{\"marker\": {\"colorbar\": {\"outlinewidth\": 0, \"ticks\": \"\"}}, \"type\": \"scattergl\"}], \"scattermapbox\": [{\"marker\": {\"colorbar\": {\"outlinewidth\": 0, \"ticks\": \"\"}}, \"type\": \"scattermapbox\"}], \"scatterpolar\": [{\"marker\": {\"colorbar\": {\"outlinewidth\": 0, \"ticks\": \"\"}}, \"type\": \"scatterpolar\"}], \"scatterpolargl\": [{\"marker\": {\"colorbar\": {\"outlinewidth\": 0, \"ticks\": \"\"}}, \"type\": \"scatterpolargl\"}], \"scatterternary\": [{\"marker\": {\"colorbar\": {\"outlinewidth\": 0, \"ticks\": \"\"}}, \"type\": \"scatterternary\"}], \"surface\": [{\"colorbar\": {\"outlinewidth\": 0, \"ticks\": \"\"}, \"colorscale\": [[0.0, \"#0d0887\"], [0.1111111111111111, \"#46039f\"], [0.2222222222222222, \"#7201a8\"], [0.3333333333333333, \"#9c179e\"], [0.4444444444444444, \"#bd3786\"], [0.5555555555555556, \"#d8576b\"], [0.6666666666666666, \"#ed7953\"], [0.7777777777777778, \"#fb9f3a\"], [0.8888888888888888, \"#fdca26\"], [1.0, \"#f0f921\"]], \"type\": \"surface\"}], \"table\": [{\"cells\": {\"fill\": {\"color\": \"#EBF0F8\"}, \"line\": {\"color\": \"white\"}}, \"header\": {\"fill\": {\"color\": \"#C8D4E3\"}, \"line\": {\"color\": \"white\"}}, \"type\": \"table\"}]}, \"layout\": {\"annotationdefaults\": {\"arrowcolor\": \"#2a3f5f\", \"arrowhead\": 0, \"arrowwidth\": 1}, \"autotypenumbers\": \"strict\", \"coloraxis\": {\"colorbar\": {\"outlinewidth\": 0, \"ticks\": \"\"}}, \"colorscale\": {\"diverging\": [[0, \"#8e0152\"], [0.1, \"#c51b7d\"], [0.2, \"#de77ae\"], [0.3, \"#f1b6da\"], [0.4, \"#fde0ef\"], [0.5, \"#f7f7f7\"], [0.6, \"#e6f5d0\"], [0.7, \"#b8e186\"], [0.8, \"#7fbc41\"], [0.9, \"#4d9221\"], [1, \"#276419\"]], \"sequential\": [[0.0, \"#0d0887\"], [0.1111111111111111, \"#46039f\"], [0.2222222222222222, \"#7201a8\"], [0.3333333333333333, \"#9c179e\"], [0.4444444444444444, \"#bd3786\"], [0.5555555555555556, \"#d8576b\"], [0.6666666666666666, \"#ed7953\"], [0.7777777777777778, \"#fb9f3a\"], [0.8888888888888888, \"#fdca26\"], [1.0, \"#f0f921\"]], \"sequentialminus\": [[0.0, \"#0d0887\"], [0.1111111111111111, \"#46039f\"], [0.2222222222222222, \"#7201a8\"], [0.3333333333333333, \"#9c179e\"], [0.4444444444444444, \"#bd3786\"], [0.5555555555555556, \"#d8576b\"], [0.6666666666666666, \"#ed7953\"], [0.7777777777777778, \"#fb9f3a\"], [0.8888888888888888, \"#fdca26\"], [1.0, \"#f0f921\"]]}, \"colorway\": [\"#636efa\", \"#EF553B\", \"#00cc96\", \"#ab63fa\", \"#FFA15A\", \"#19d3f3\", \"#FF6692\", \"#B6E880\", \"#FF97FF\", \"#FECB52\"], \"font\": {\"color\": \"#2a3f5f\"}, \"geo\": {\"bgcolor\": \"white\", \"lakecolor\": \"white\", \"landcolor\": \"#E5ECF6\", \"showlakes\": true, \"showland\": true, \"subunitcolor\": \"white\"}, \"hoverlabel\": {\"align\": \"left\"}, \"hovermode\": \"closest\", \"mapbox\": {\"style\": \"light\"}, \"paper_bgcolor\": \"white\", \"plot_bgcolor\": \"#E5ECF6\", \"polar\": {\"angularaxis\": {\"gridcolor\": \"white\", \"linecolor\": \"white\", \"ticks\": \"\"}, \"bgcolor\": \"#E5ECF6\", \"radialaxis\": {\"gridcolor\": \"white\", \"linecolor\": \"white\", \"ticks\": \"\"}}, \"scene\": {\"xaxis\": {\"backgroundcolor\": \"#E5ECF6\", \"gridcolor\": \"white\", \"gridwidth\": 2, \"linecolor\": \"white\", \"showbackground\": true, \"ticks\": \"\", \"zerolinecolor\": \"white\"}, \"yaxis\": {\"backgroundcolor\": \"#E5ECF6\", \"gridcolor\": \"white\", \"gridwidth\": 2, \"linecolor\": \"white\", \"showbackground\": true, \"ticks\": \"\", \"zerolinecolor\": \"white\"}, \"zaxis\": {\"backgroundcolor\": \"#E5ECF6\", \"gridcolor\": \"white\", \"gridwidth\": 2, \"linecolor\": \"white\", \"showbackground\": true, \"ticks\": \"\", \"zerolinecolor\": \"white\"}}, \"shapedefaults\": {\"line\": {\"color\": \"#2a3f5f\"}}, \"ternary\": {\"aaxis\": {\"gridcolor\": \"white\", \"linecolor\": \"white\", \"ticks\": \"\"}, \"baxis\": {\"gridcolor\": \"white\", \"linecolor\": \"white\", \"ticks\": \"\"}, \"bgcolor\": \"#E5ECF6\", \"caxis\": {\"gridcolor\": \"white\", \"linecolor\": \"white\", \"ticks\": \"\"}}, \"title\": {\"x\": 0.05}, \"xaxis\": {\"automargin\": true, \"gridcolor\": \"white\", \"linecolor\": \"white\", \"ticks\": \"\", \"title\": {\"standoff\": 15}, \"zerolinecolor\": \"white\", \"zerolinewidth\": 2}, \"yaxis\": {\"automargin\": true, \"gridcolor\": \"white\", \"linecolor\": \"white\", \"ticks\": \"\", \"title\": {\"standoff\": 15}, \"zerolinecolor\": \"white\", \"zerolinewidth\": 2}}}, \"width\": 650, \"xaxis\": {\"anchor\": \"y2\", \"domain\": [0.0, 1.0], \"zeroline\": false}, \"yaxis\": {\"anchor\": \"free\", \"domain\": [0.0, 1], \"position\": 0.0}},                        {\"responsive\": true}                    ).then(function(){\n",
       "                            \n",
       "var gd = document.getElementById('0b37a9a4-6a71-4213-b6fb-f459c685fecb');\n",
       "var x = new MutationObserver(function (mutations, observer) {{\n",
       "        var display = window.getComputedStyle(gd).display;\n",
       "        if (!display || display === 'none') {{\n",
       "            console.log([gd, 'removed!']);\n",
       "            Plotly.purge(gd);\n",
       "            observer.disconnect();\n",
       "        }}\n",
       "}});\n",
       "\n",
       "// Listen for the removal of the full notebook cells\n",
       "var notebookContainer = gd.closest('#notebook-container');\n",
       "if (notebookContainer) {{\n",
       "    x.observe(notebookContainer, {childList: true});\n",
       "}}\n",
       "\n",
       "// Listen for the clearing of the current output cell\n",
       "var outputEl = gd.closest('.output');\n",
       "if (outputEl) {{\n",
       "    x.observe(outputEl, {childList: true});\n",
       "}}\n",
       "\n",
       "                        })                };                });            </script>        </div>"
      ]
     },
     "metadata": {},
     "output_type": "display_data"
    }
   ],
   "source": [
    "import plotly.figure_factory as ff\n",
    "\n",
    "hist_data = [df['PCE']]\n",
    "group_labels = ['PCE(%)'] # name of the dataset\n",
    "\n",
    "fig = ff.create_distplot(hist_data, group_labels,show_rug=False)\n",
    "fig.update_layout(width = 650, height = 420,font = dict(family='Times New Roman',size=22),)\n",
    "fig.show()"
   ]
  },
  {
   "cell_type": "code",
   "execution_count": 21,
   "metadata": {},
   "outputs": [],
   "source": [
    "# indexNames = df[ df['PCE'] <= 10 ].index    # To select the data with PCE < 10%\n",
    "# indexNames=np.array(indexNames)\n",
    "# print(indexNames)\n",
    "# len(indexNames)"
   ]
  },
  {
   "cell_type": "code",
   "execution_count": 22,
   "metadata": {},
   "outputs": [
    {
     "data": {
      "text/html": [
       "<div>\n",
       "<style scoped>\n",
       "    .dataframe tbody tr th:only-of-type {\n",
       "        vertical-align: middle;\n",
       "    }\n",
       "\n",
       "    .dataframe tbody tr th {\n",
       "        vertical-align: top;\n",
       "    }\n",
       "\n",
       "    .dataframe thead th {\n",
       "        text-align: right;\n",
       "    }\n",
       "</style>\n",
       "<table border=\"1\" class=\"dataframe\">\n",
       "  <thead>\n",
       "    <tr style=\"text-align: right;\">\n",
       "      <th></th>\n",
       "      <th>PCE</th>\n",
       "      <th>Donor</th>\n",
       "      <th>Acceptor</th>\n",
       "      <th>Donor_can_smiles</th>\n",
       "      <th>Acceptor_can_smiles</th>\n",
       "      <th>D:A</th>\n",
       "      <th>Unnamed: 0</th>\n",
       "      <th>Donor_MaxEStateIndex</th>\n",
       "      <th>Donor_MinEStateIndex</th>\n",
       "      <th>Donor_MinAbsEStateIndex</th>\n",
       "      <th>...</th>\n",
       "      <th>Acceptor_NHOHCount</th>\n",
       "      <th>Acceptor_NumAliphaticCarbocycles</th>\n",
       "      <th>Acceptor_NumAliphaticRings</th>\n",
       "      <th>Acceptor_NumAromaticHeterocycles</th>\n",
       "      <th>Acceptor_NumSaturatedHeterocycles</th>\n",
       "      <th>Acceptor_fr_alkyl_halide</th>\n",
       "      <th>Acceptor_fr_allylic_oxid</th>\n",
       "      <th>Acceptor_fr_aniline</th>\n",
       "      <th>Acceptor_fr_bicyclic</th>\n",
       "      <th>Acceptor_fr_unbrch_alkane</th>\n",
       "    </tr>\n",
       "  </thead>\n",
       "  <tbody>\n",
       "    <tr>\n",
       "      <th>0</th>\n",
       "      <td>11.60</td>\n",
       "      <td>D-0F</td>\n",
       "      <td>C8-ITIC</td>\n",
       "      <td>CCCCC(Cc1ccc(s1)c1c2cc(sc2c(c2c1scc2)c1ccc(s1)...</td>\n",
       "      <td>CCCCCCCCC1(CCCCCCCC)c2cc3c4sc5c(c4C(c3cc2c2c1c...</td>\n",
       "      <td>D-0F:C8-ITIC</td>\n",
       "      <td>0</td>\n",
       "      <td>15.826616</td>\n",
       "      <td>0.070509</td>\n",
       "      <td>0.070509</td>\n",
       "      <td>...</td>\n",
       "      <td>0</td>\n",
       "      <td>4</td>\n",
       "      <td>4</td>\n",
       "      <td>4</td>\n",
       "      <td>0</td>\n",
       "      <td>0</td>\n",
       "      <td>6</td>\n",
       "      <td>0</td>\n",
       "      <td>12</td>\n",
       "      <td>16</td>\n",
       "    </tr>\n",
       "    <tr>\n",
       "      <th>1</th>\n",
       "      <td>12.20</td>\n",
       "      <td>D-2F</td>\n",
       "      <td>C8-ITIC</td>\n",
       "      <td>CCCCC(Cc1ccc(s1)c1c2cc(sc2c(c2c1scc2)c1ccc(s1)...</td>\n",
       "      <td>CCCCCCCCC1(CCCCCCCC)c2cc3c4sc5c(c4C(c3cc2c2c1c...</td>\n",
       "      <td>D-2F:C8-ITIC</td>\n",
       "      <td>1</td>\n",
       "      <td>17.472290</td>\n",
       "      <td>-0.373608</td>\n",
       "      <td>0.140776</td>\n",
       "      <td>...</td>\n",
       "      <td>0</td>\n",
       "      <td>4</td>\n",
       "      <td>4</td>\n",
       "      <td>4</td>\n",
       "      <td>0</td>\n",
       "      <td>0</td>\n",
       "      <td>6</td>\n",
       "      <td>0</td>\n",
       "      <td>12</td>\n",
       "      <td>16</td>\n",
       "    </tr>\n",
       "    <tr>\n",
       "      <th>2</th>\n",
       "      <td>8.80</td>\n",
       "      <td>D-4F</td>\n",
       "      <td>C8-ITIC</td>\n",
       "      <td>CCCCC(Cc1ccc(s1)c1c2sc(c(c2c(c2c1c(F)cs2)c1ccc...</td>\n",
       "      <td>CCCCCCCCC1(CCCCCCCC)c2cc3c4sc5c(c4C(c3cc2c2c1c...</td>\n",
       "      <td>D-4F:C8-ITIC</td>\n",
       "      <td>2</td>\n",
       "      <td>18.497612</td>\n",
       "      <td>-0.645564</td>\n",
       "      <td>0.079293</td>\n",
       "      <td>...</td>\n",
       "      <td>0</td>\n",
       "      <td>4</td>\n",
       "      <td>4</td>\n",
       "      <td>4</td>\n",
       "      <td>0</td>\n",
       "      <td>0</td>\n",
       "      <td>6</td>\n",
       "      <td>0</td>\n",
       "      <td>12</td>\n",
       "      <td>16</td>\n",
       "    </tr>\n",
       "    <tr>\n",
       "      <th>3</th>\n",
       "      <td>8.00</td>\n",
       "      <td>D-0F</td>\n",
       "      <td>ITIC</td>\n",
       "      <td>CCCCC(Cc1ccc(s1)c1c2cc(sc2c(c2c1scc2)c1ccc(s1)...</td>\n",
       "      <td>CCCCCCc1ccc(cc1)C1(c2ccc(cc2)CCCCCC)c2cc3c4sc5...</td>\n",
       "      <td>D-0F:ITIC</td>\n",
       "      <td>3</td>\n",
       "      <td>15.826616</td>\n",
       "      <td>0.070509</td>\n",
       "      <td>0.070509</td>\n",
       "      <td>...</td>\n",
       "      <td>0</td>\n",
       "      <td>4</td>\n",
       "      <td>4</td>\n",
       "      <td>4</td>\n",
       "      <td>0</td>\n",
       "      <td>0</td>\n",
       "      <td>6</td>\n",
       "      <td>0</td>\n",
       "      <td>12</td>\n",
       "      <td>8</td>\n",
       "    </tr>\n",
       "    <tr>\n",
       "      <th>4</th>\n",
       "      <td>8.90</td>\n",
       "      <td>D-2F</td>\n",
       "      <td>ITIC</td>\n",
       "      <td>CCCCC(Cc1ccc(s1)c1c2cc(sc2c(c2c1scc2)c1ccc(s1)...</td>\n",
       "      <td>CCCCCCc1ccc(cc1)C1(c2ccc(cc2)CCCCCC)c2cc3c4sc5...</td>\n",
       "      <td>D-2F:ITIC</td>\n",
       "      <td>4</td>\n",
       "      <td>17.472290</td>\n",
       "      <td>-0.373608</td>\n",
       "      <td>0.140776</td>\n",
       "      <td>...</td>\n",
       "      <td>0</td>\n",
       "      <td>4</td>\n",
       "      <td>4</td>\n",
       "      <td>4</td>\n",
       "      <td>0</td>\n",
       "      <td>0</td>\n",
       "      <td>6</td>\n",
       "      <td>0</td>\n",
       "      <td>12</td>\n",
       "      <td>8</td>\n",
       "    </tr>\n",
       "    <tr>\n",
       "      <th>5</th>\n",
       "      <td>4.40</td>\n",
       "      <td>D-4F</td>\n",
       "      <td>ITIC</td>\n",
       "      <td>CCCCC(Cc1ccc(s1)c1c2sc(c(c2c(c2c1c(F)cs2)c1ccc...</td>\n",
       "      <td>CCCCCCc1ccc(cc1)C1(c2ccc(cc2)CCCCCC)c2cc3c4sc5...</td>\n",
       "      <td>D-4F:ITIC</td>\n",
       "      <td>5</td>\n",
       "      <td>18.497612</td>\n",
       "      <td>-0.645564</td>\n",
       "      <td>0.079293</td>\n",
       "      <td>...</td>\n",
       "      <td>0</td>\n",
       "      <td>4</td>\n",
       "      <td>4</td>\n",
       "      <td>4</td>\n",
       "      <td>0</td>\n",
       "      <td>0</td>\n",
       "      <td>6</td>\n",
       "      <td>0</td>\n",
       "      <td>12</td>\n",
       "      <td>8</td>\n",
       "    </tr>\n",
       "    <tr>\n",
       "      <th>6</th>\n",
       "      <td>7.80</td>\n",
       "      <td>D-0F</td>\n",
       "      <td>IT-4F</td>\n",
       "      <td>CCCCC(Cc1ccc(s1)c1c2cc(sc2c(c2c1scc2)c1ccc(s1)...</td>\n",
       "      <td>CCCCCCc1ccc(cc1)C1(c2ccc(cc2)CCCCCC)c2cc3c4sc5...</td>\n",
       "      <td>D-0F:IT-4F</td>\n",
       "      <td>6</td>\n",
       "      <td>15.826616</td>\n",
       "      <td>0.070509</td>\n",
       "      <td>0.070509</td>\n",
       "      <td>...</td>\n",
       "      <td>0</td>\n",
       "      <td>4</td>\n",
       "      <td>4</td>\n",
       "      <td>4</td>\n",
       "      <td>0</td>\n",
       "      <td>0</td>\n",
       "      <td>6</td>\n",
       "      <td>0</td>\n",
       "      <td>12</td>\n",
       "      <td>8</td>\n",
       "    </tr>\n",
       "    <tr>\n",
       "      <th>7</th>\n",
       "      <td>10.90</td>\n",
       "      <td>D-2F</td>\n",
       "      <td>IT-4F</td>\n",
       "      <td>CCCCC(Cc1ccc(s1)c1c2cc(sc2c(c2c1scc2)c1ccc(s1)...</td>\n",
       "      <td>CCCCCCc1ccc(cc1)C1(c2ccc(cc2)CCCCCC)c2cc3c4sc5...</td>\n",
       "      <td>D-2F:IT-4F</td>\n",
       "      <td>7</td>\n",
       "      <td>17.472290</td>\n",
       "      <td>-0.373608</td>\n",
       "      <td>0.140776</td>\n",
       "      <td>...</td>\n",
       "      <td>0</td>\n",
       "      <td>4</td>\n",
       "      <td>4</td>\n",
       "      <td>4</td>\n",
       "      <td>0</td>\n",
       "      <td>0</td>\n",
       "      <td>6</td>\n",
       "      <td>0</td>\n",
       "      <td>12</td>\n",
       "      <td>8</td>\n",
       "    </tr>\n",
       "    <tr>\n",
       "      <th>8</th>\n",
       "      <td>9.90</td>\n",
       "      <td>D-4F</td>\n",
       "      <td>IT-4F</td>\n",
       "      <td>CCCCC(Cc1ccc(s1)c1c2sc(c(c2c(c2c1c(F)cs2)c1ccc...</td>\n",
       "      <td>CCCCCCc1ccc(cc1)C1(c2ccc(cc2)CCCCCC)c2cc3c4sc5...</td>\n",
       "      <td>D-4F:IT-4F</td>\n",
       "      <td>8</td>\n",
       "      <td>18.497612</td>\n",
       "      <td>-0.645564</td>\n",
       "      <td>0.079293</td>\n",
       "      <td>...</td>\n",
       "      <td>0</td>\n",
       "      <td>4</td>\n",
       "      <td>4</td>\n",
       "      <td>4</td>\n",
       "      <td>0</td>\n",
       "      <td>0</td>\n",
       "      <td>6</td>\n",
       "      <td>0</td>\n",
       "      <td>12</td>\n",
       "      <td>8</td>\n",
       "    </tr>\n",
       "    <tr>\n",
       "      <th>9</th>\n",
       "      <td>7.80</td>\n",
       "      <td>PffBT4T-2DT</td>\n",
       "      <td>FBR</td>\n",
       "      <td>CCCCCCCCCCCCC(Cc1cc(sc1C)c1c(F)c(F)c(c2c1nsn2)...</td>\n",
       "      <td>CCCCCCCCCC1(CCCCCCCCC)c2cc(ccc2c2c1cc(cc2)c1cc...</td>\n",
       "      <td>PffBT4T-2DT:FBR</td>\n",
       "      <td>9</td>\n",
       "      <td>17.421622</td>\n",
       "      <td>-0.778406</td>\n",
       "      <td>0.293011</td>\n",
       "      <td>...</td>\n",
       "      <td>0</td>\n",
       "      <td>1</td>\n",
       "      <td>3</td>\n",
       "      <td>2</td>\n",
       "      <td>2</td>\n",
       "      <td>0</td>\n",
       "      <td>0</td>\n",
       "      <td>0</td>\n",
       "      <td>5</td>\n",
       "      <td>10</td>\n",
       "    </tr>\n",
       "    <tr>\n",
       "      <th>10</th>\n",
       "      <td>9.95</td>\n",
       "      <td>PffBT4T-2DT</td>\n",
       "      <td>IDTBR</td>\n",
       "      <td>CCCCCCCCCCCCC(Cc1cc(sc1C)c1c(F)c(F)c(c2c1nsn2)...</td>\n",
       "      <td>CCCCCCCCCC1(CCCCCCCCC)c2cc3c4sc(cc4C(c3cc2c2c1...</td>\n",
       "      <td>PffBT4T-2DT:IDTBR</td>\n",
       "      <td>10</td>\n",
       "      <td>17.421622</td>\n",
       "      <td>-0.778406</td>\n",
       "      <td>0.293011</td>\n",
       "      <td>...</td>\n",
       "      <td>0</td>\n",
       "      <td>2</td>\n",
       "      <td>4</td>\n",
       "      <td>4</td>\n",
       "      <td>2</td>\n",
       "      <td>0</td>\n",
       "      <td>0</td>\n",
       "      <td>0</td>\n",
       "      <td>8</td>\n",
       "      <td>20</td>\n",
       "    </tr>\n",
       "    <tr>\n",
       "      <th>11</th>\n",
       "      <td>13.42</td>\n",
       "      <td>PBDB-T</td>\n",
       "      <td>Y1</td>\n",
       "      <td>CCCCC(Cc1ccc(s1)c1c2cc(sc2c(c2c1sc(c2)C)c1ccc(...</td>\n",
       "      <td>CCCCC(Cn1c2c(c3c1c1sc(cc1s3)/C=C/1\\C(=O)c3c(C1...</td>\n",
       "      <td>PBDB-T:Y1</td>\n",
       "      <td>11</td>\n",
       "      <td>15.917476</td>\n",
       "      <td>0.072375</td>\n",
       "      <td>0.072375</td>\n",
       "      <td>...</td>\n",
       "      <td>0</td>\n",
       "      <td>2</td>\n",
       "      <td>2</td>\n",
       "      <td>7</td>\n",
       "      <td>0</td>\n",
       "      <td>0</td>\n",
       "      <td>6</td>\n",
       "      <td>0</td>\n",
       "      <td>16</td>\n",
       "      <td>0</td>\n",
       "    </tr>\n",
       "    <tr>\n",
       "      <th>12</th>\n",
       "      <td>13.40</td>\n",
       "      <td>PBDB-T</td>\n",
       "      <td>Y2</td>\n",
       "      <td>CCCCC(Cc1ccc(s1)c1c2cc(sc2c(c2c1sc(c2)C)c1ccc(...</td>\n",
       "      <td>CCCCC(Cn1c2c(c3c1c1c(c4c3nn(n4)CC(CCCC)CC)c3c(...</td>\n",
       "      <td>PBDB-T:Y2</td>\n",
       "      <td>12</td>\n",
       "      <td>15.917476</td>\n",
       "      <td>0.072375</td>\n",
       "      <td>0.072375</td>\n",
       "      <td>...</td>\n",
       "      <td>0</td>\n",
       "      <td>2</td>\n",
       "      <td>2</td>\n",
       "      <td>9</td>\n",
       "      <td>0</td>\n",
       "      <td>0</td>\n",
       "      <td>6</td>\n",
       "      <td>0</td>\n",
       "      <td>16</td>\n",
       "      <td>0</td>\n",
       "    </tr>\n",
       "    <tr>\n",
       "      <th>13</th>\n",
       "      <td>9.50</td>\n",
       "      <td>P3TEA</td>\n",
       "      <td>SF-PDI2</td>\n",
       "      <td>CCCCCCCCCCC(OC(=O)c1cc(sc1c1cc(c(s1)c1ccc(s1)c...</td>\n",
       "      <td>CCCCCCC(n1c(=O)c2cc(c3ccc4c(c3)C3(c5c4ccc(c5)c...</td>\n",
       "      <td>P3TEA:SF-PDI2</td>\n",
       "      <td>13</td>\n",
       "      <td>18.888897</td>\n",
       "      <td>-1.114240</td>\n",
       "      <td>0.053132</td>\n",
       "      <td>...</td>\n",
       "      <td>0</td>\n",
       "      <td>2</td>\n",
       "      <td>6</td>\n",
       "      <td>0</td>\n",
       "      <td>0</td>\n",
       "      <td>0</td>\n",
       "      <td>0</td>\n",
       "      <td>0</td>\n",
       "      <td>14</td>\n",
       "      <td>16</td>\n",
       "    </tr>\n",
       "    <tr>\n",
       "      <th>14</th>\n",
       "      <td>13.80</td>\n",
       "      <td>PM6</td>\n",
       "      <td>Y11</td>\n",
       "      <td>CCCCC(Cc1sc(c2c1C(=O)c1c(sc(c1C2=O)c1ccc(s1)C)...</td>\n",
       "      <td>CCCCC(Cn1c2c(c3c1c1c(c4c3nn(n4)CC(CCCC)CC)c3c(...</td>\n",
       "      <td>PM6:Y11</td>\n",
       "      <td>14</td>\n",
       "      <td>16.502447</td>\n",
       "      <td>-0.118906</td>\n",
       "      <td>0.011694</td>\n",
       "      <td>...</td>\n",
       "      <td>0</td>\n",
       "      <td>2</td>\n",
       "      <td>2</td>\n",
       "      <td>7</td>\n",
       "      <td>0</td>\n",
       "      <td>0</td>\n",
       "      <td>6</td>\n",
       "      <td>0</td>\n",
       "      <td>16</td>\n",
       "      <td>0</td>\n",
       "    </tr>\n",
       "    <tr>\n",
       "      <th>15</th>\n",
       "      <td>14.30</td>\n",
       "      <td>PM6</td>\n",
       "      <td>IDST-4F</td>\n",
       "      <td>CCCCC(Cc1sc(c2c1C(=O)c1c(sc(c1C2=O)c1ccc(s1)C)...</td>\n",
       "      <td>CCCCCCC1(CCCCCC)c2cc3c4sc(cc4C(c3cc2c2c1cc(s2)...</td>\n",
       "      <td>PM6:IDST-4F</td>\n",
       "      <td>15</td>\n",
       "      <td>16.502447</td>\n",
       "      <td>-0.118906</td>\n",
       "      <td>0.011694</td>\n",
       "      <td>...</td>\n",
       "      <td>0</td>\n",
       "      <td>4</td>\n",
       "      <td>4</td>\n",
       "      <td>3</td>\n",
       "      <td>0</td>\n",
       "      <td>0</td>\n",
       "      <td>6</td>\n",
       "      <td>0</td>\n",
       "      <td>8</td>\n",
       "      <td>8</td>\n",
       "    </tr>\n",
       "    <tr>\n",
       "      <th>16</th>\n",
       "      <td>6.40</td>\n",
       "      <td>PM6</td>\n",
       "      <td>ID-4F</td>\n",
       "      <td>CCCCC(Cc1sc(c2c1C(=O)c1c(sc(c1C2=O)c1ccc(s1)C)...</td>\n",
       "      <td>CCCCCCC1(CCCCCC)c2cc3c4sc(cc4C(c3cc2c2c1cc(s2)...</td>\n",
       "      <td>PM6:ID-4F</td>\n",
       "      <td>16</td>\n",
       "      <td>16.502447</td>\n",
       "      <td>-0.118906</td>\n",
       "      <td>0.011694</td>\n",
       "      <td>...</td>\n",
       "      <td>0</td>\n",
       "      <td>4</td>\n",
       "      <td>4</td>\n",
       "      <td>2</td>\n",
       "      <td>0</td>\n",
       "      <td>0</td>\n",
       "      <td>6</td>\n",
       "      <td>0</td>\n",
       "      <td>8</td>\n",
       "      <td>8</td>\n",
       "    </tr>\n",
       "    <tr>\n",
       "      <th>17</th>\n",
       "      <td>6.20</td>\n",
       "      <td>BDT-ffBX-DT</td>\n",
       "      <td>SFPDI</td>\n",
       "      <td>CCCCCCCCCCCCC(Cc1csc(c1)c1c(F)c(F)c(c2c1non2)c...</td>\n",
       "      <td>CCCCCC(n1c(=O)c2cc(c3ccc4c(c3)C3(c5c4ccc(c5)c4...</td>\n",
       "      <td>BDT-ffBX-DT:SFPDI</td>\n",
       "      <td>17</td>\n",
       "      <td>17.436360</td>\n",
       "      <td>-0.852937</td>\n",
       "      <td>0.180664</td>\n",
       "      <td>...</td>\n",
       "      <td>0</td>\n",
       "      <td>2</td>\n",
       "      <td>6</td>\n",
       "      <td>0</td>\n",
       "      <td>0</td>\n",
       "      <td>0</td>\n",
       "      <td>0</td>\n",
       "      <td>0</td>\n",
       "      <td>14</td>\n",
       "      <td>8</td>\n",
       "    </tr>\n",
       "    <tr>\n",
       "      <th>18</th>\n",
       "      <td>11.46</td>\n",
       "      <td>PM6</td>\n",
       "      <td>a-IT</td>\n",
       "      <td>CCCCC(Cc1sc(c2c1C(=O)c1c(sc(c1C2=O)c1ccc(s1)C)...</td>\n",
       "      <td>CCCCCCc1ccc(cc1)C1(c2ccc(cc2)CCCCCC)c2cc3c4sc(...</td>\n",
       "      <td>PM6:a-IT</td>\n",
       "      <td>18</td>\n",
       "      <td>16.502447</td>\n",
       "      <td>-0.118906</td>\n",
       "      <td>0.011694</td>\n",
       "      <td>...</td>\n",
       "      <td>0</td>\n",
       "      <td>4</td>\n",
       "      <td>4</td>\n",
       "      <td>4</td>\n",
       "      <td>0</td>\n",
       "      <td>0</td>\n",
       "      <td>6</td>\n",
       "      <td>0</td>\n",
       "      <td>12</td>\n",
       "      <td>8</td>\n",
       "    </tr>\n",
       "    <tr>\n",
       "      <th>19</th>\n",
       "      <td>13.82</td>\n",
       "      <td>PM6</td>\n",
       "      <td>N7IT</td>\n",
       "      <td>CCCCC(Cc1sc(c2c1C(=O)c1c(sc(c1C2=O)c1ccc(s1)C)...</td>\n",
       "      <td>CCCCCCCCn1c2cc(sc2c2c1c1c(s2)c2c(C1(c1ccc(cc1)...</td>\n",
       "      <td>PM6:N7IT</td>\n",
       "      <td>19</td>\n",
       "      <td>16.502447</td>\n",
       "      <td>-0.118906</td>\n",
       "      <td>0.011694</td>\n",
       "      <td>...</td>\n",
       "      <td>0</td>\n",
       "      <td>4</td>\n",
       "      <td>4</td>\n",
       "      <td>5</td>\n",
       "      <td>0</td>\n",
       "      <td>0</td>\n",
       "      <td>7</td>\n",
       "      <td>0</td>\n",
       "      <td>14</td>\n",
       "      <td>12</td>\n",
       "    </tr>\n",
       "    <tr>\n",
       "      <th>20</th>\n",
       "      <td>12.30</td>\n",
       "      <td>PM6</td>\n",
       "      <td>ITCPTC</td>\n",
       "      <td>CCCCC(Cc1sc(c2c1C(=O)c1c(sc(c1C2=O)c1ccc(s1)C)...</td>\n",
       "      <td>CCCCCCc1ccc(cc1)C1(c2ccc(cc2)CCCCCC)c2cc3c4sc5...</td>\n",
       "      <td>PM6:ITCPTC</td>\n",
       "      <td>20</td>\n",
       "      <td>16.502447</td>\n",
       "      <td>-0.118906</td>\n",
       "      <td>0.011694</td>\n",
       "      <td>...</td>\n",
       "      <td>0</td>\n",
       "      <td>4</td>\n",
       "      <td>4</td>\n",
       "      <td>6</td>\n",
       "      <td>0</td>\n",
       "      <td>0</td>\n",
       "      <td>6</td>\n",
       "      <td>0</td>\n",
       "      <td>12</td>\n",
       "      <td>8</td>\n",
       "    </tr>\n",
       "    <tr>\n",
       "      <th>21</th>\n",
       "      <td>13.60</td>\n",
       "      <td>PM6</td>\n",
       "      <td>ITC-2Cl</td>\n",
       "      <td>CCCCC(Cc1sc(c2c1C(=O)c1c(sc(c1C2=O)c1ccc(s1)C)...</td>\n",
       "      <td>CCCCCCc1ccc(cc1)C1(c2ccc(cc2)CCCCCC)c2cc3c4sc5...</td>\n",
       "      <td>PM6:ITC-2Cl</td>\n",
       "      <td>21</td>\n",
       "      <td>16.502447</td>\n",
       "      <td>-0.118906</td>\n",
       "      <td>0.011694</td>\n",
       "      <td>...</td>\n",
       "      <td>0</td>\n",
       "      <td>4</td>\n",
       "      <td>4</td>\n",
       "      <td>6</td>\n",
       "      <td>0</td>\n",
       "      <td>0</td>\n",
       "      <td>6</td>\n",
       "      <td>0</td>\n",
       "      <td>12</td>\n",
       "      <td>8</td>\n",
       "    </tr>\n",
       "    <tr>\n",
       "      <th>22</th>\n",
       "      <td>12.90</td>\n",
       "      <td>PM6</td>\n",
       "      <td>IT-4F</td>\n",
       "      <td>CCCCC(Cc1sc(c2c1C(=O)c1c(sc(c1C2=O)c1ccc(s1)C)...</td>\n",
       "      <td>CCCCCCc1ccc(cc1)C1(c2ccc(cc2)CCCCCC)c2cc3c4sc5...</td>\n",
       "      <td>PM6:IT-4F</td>\n",
       "      <td>22</td>\n",
       "      <td>16.502447</td>\n",
       "      <td>-0.118906</td>\n",
       "      <td>0.011694</td>\n",
       "      <td>...</td>\n",
       "      <td>0</td>\n",
       "      <td>4</td>\n",
       "      <td>4</td>\n",
       "      <td>4</td>\n",
       "      <td>0</td>\n",
       "      <td>0</td>\n",
       "      <td>6</td>\n",
       "      <td>0</td>\n",
       "      <td>12</td>\n",
       "      <td>8</td>\n",
       "    </tr>\n",
       "    <tr>\n",
       "      <th>23</th>\n",
       "      <td>12.70</td>\n",
       "      <td>PM6</td>\n",
       "      <td>IT-4Cl</td>\n",
       "      <td>CCCCC(Cc1sc(c2c1C(=O)c1c(sc(c1C2=O)c1ccc(s1)C)...</td>\n",
       "      <td>CCCCCCc1ccc(cc1)C1(c2ccc(cc2)CCCCCC)c2cc3c4sc5...</td>\n",
       "      <td>PM6:IT-4Cl</td>\n",
       "      <td>23</td>\n",
       "      <td>16.502447</td>\n",
       "      <td>-0.118906</td>\n",
       "      <td>0.011694</td>\n",
       "      <td>...</td>\n",
       "      <td>0</td>\n",
       "      <td>4</td>\n",
       "      <td>4</td>\n",
       "      <td>4</td>\n",
       "      <td>0</td>\n",
       "      <td>0</td>\n",
       "      <td>6</td>\n",
       "      <td>0</td>\n",
       "      <td>12</td>\n",
       "      <td>8</td>\n",
       "    </tr>\n",
       "    <tr>\n",
       "      <th>24</th>\n",
       "      <td>11.70</td>\n",
       "      <td>PTB7-Th</td>\n",
       "      <td>FOIC</td>\n",
       "      <td>CCCCC(COC(=O)c1sc2c(c1F)c(sc2c1sc2c(c1)c(c1ccc...</td>\n",
       "      <td>CCCCCCc1cccc(c1)C1(c2ccc(cc2)CCCCCC)c2c3sc4c(c...</td>\n",
       "      <td>PTB7-Th:FOIC</td>\n",
       "      <td>24</td>\n",
       "      <td>16.336769</td>\n",
       "      <td>-0.530065</td>\n",
       "      <td>0.103558</td>\n",
       "      <td>...</td>\n",
       "      <td>0</td>\n",
       "      <td>4</td>\n",
       "      <td>4</td>\n",
       "      <td>6</td>\n",
       "      <td>0</td>\n",
       "      <td>0</td>\n",
       "      <td>6</td>\n",
       "      <td>0</td>\n",
       "      <td>15</td>\n",
       "      <td>8</td>\n",
       "    </tr>\n",
       "    <tr>\n",
       "      <th>25</th>\n",
       "      <td>16.50</td>\n",
       "      <td>PBDB-TF</td>\n",
       "      <td>BTP-4Cl (Y7)</td>\n",
       "      <td>CCCCC(Cc1sc(c2c1C(=O)c1c(sc(c1C2=O)c1ccc(s1)C)...</td>\n",
       "      <td>CCCCCCCCCCCc1c(/C=C\\2/C(=C(C#N)C#N)c3c(C2=O)cc...</td>\n",
       "      <td>PBDB-TF:BTP-4Cl (Y7)</td>\n",
       "      <td>25</td>\n",
       "      <td>16.502447</td>\n",
       "      <td>-0.118906</td>\n",
       "      <td>0.011694</td>\n",
       "      <td>...</td>\n",
       "      <td>0</td>\n",
       "      <td>2</td>\n",
       "      <td>2</td>\n",
       "      <td>7</td>\n",
       "      <td>0</td>\n",
       "      <td>0</td>\n",
       "      <td>6</td>\n",
       "      <td>0</td>\n",
       "      <td>16</td>\n",
       "      <td>14</td>\n",
       "    </tr>\n",
       "    <tr>\n",
       "      <th>26</th>\n",
       "      <td>9.30</td>\n",
       "      <td>PBDB-T</td>\n",
       "      <td>IT-4F</td>\n",
       "      <td>CCCCC(Cc1ccc(s1)c1c2cc(sc2c(c2c1sc(c2)C)c1ccc(...</td>\n",
       "      <td>CCCCCCc1ccc(cc1)C1(c2ccc(cc2)CCCCCC)c2cc3c4sc5...</td>\n",
       "      <td>PBDB-T:IT-4F</td>\n",
       "      <td>26</td>\n",
       "      <td>15.917476</td>\n",
       "      <td>0.072375</td>\n",
       "      <td>0.072375</td>\n",
       "      <td>...</td>\n",
       "      <td>0</td>\n",
       "      <td>4</td>\n",
       "      <td>4</td>\n",
       "      <td>4</td>\n",
       "      <td>0</td>\n",
       "      <td>0</td>\n",
       "      <td>6</td>\n",
       "      <td>0</td>\n",
       "      <td>12</td>\n",
       "      <td>8</td>\n",
       "    </tr>\n",
       "    <tr>\n",
       "      <th>27</th>\n",
       "      <td>10.40</td>\n",
       "      <td>PBDBTz-2</td>\n",
       "      <td>IT-4F</td>\n",
       "      <td>CCCCC(Cc1ccc(s1)c1c2cc(sc2c(c2c1c(C)cs2)c1ccc(...</td>\n",
       "      <td>CCCCCCc1ccc(cc1)C1(c2ccc(cc2)CCCCCC)c2cc3c4sc5...</td>\n",
       "      <td>PBDBTz-2:IT-4F</td>\n",
       "      <td>27</td>\n",
       "      <td>15.872849</td>\n",
       "      <td>0.004668</td>\n",
       "      <td>0.004668</td>\n",
       "      <td>...</td>\n",
       "      <td>0</td>\n",
       "      <td>4</td>\n",
       "      <td>4</td>\n",
       "      <td>4</td>\n",
       "      <td>0</td>\n",
       "      <td>0</td>\n",
       "      <td>6</td>\n",
       "      <td>0</td>\n",
       "      <td>12</td>\n",
       "      <td>8</td>\n",
       "    </tr>\n",
       "    <tr>\n",
       "      <th>28</th>\n",
       "      <td>9.60</td>\n",
       "      <td>PBDBTz-5</td>\n",
       "      <td>IT-4F</td>\n",
       "      <td>CCCCC(Cc1ccc(s1)c1c2cc(sc2c(c2c1c(C)cs2)c1ccc(...</td>\n",
       "      <td>CCCCCCc1ccc(cc1)C1(c2ccc(cc2)CCCCCC)c2cc3c4sc5...</td>\n",
       "      <td>PBDBTz-5:IT-4F</td>\n",
       "      <td>28</td>\n",
       "      <td>15.885002</td>\n",
       "      <td>0.024260</td>\n",
       "      <td>0.024260</td>\n",
       "      <td>...</td>\n",
       "      <td>0</td>\n",
       "      <td>4</td>\n",
       "      <td>4</td>\n",
       "      <td>4</td>\n",
       "      <td>0</td>\n",
       "      <td>0</td>\n",
       "      <td>6</td>\n",
       "      <td>0</td>\n",
       "      <td>12</td>\n",
       "      <td>8</td>\n",
       "    </tr>\n",
       "    <tr>\n",
       "      <th>29</th>\n",
       "      <td>5.50</td>\n",
       "      <td>J52</td>\n",
       "      <td>ITCCM-O</td>\n",
       "      <td>CCCCCCCCC(Cn1nc2c(n1)c(c1ccc(s1)c1sc3c(c1)c(c1...</td>\n",
       "      <td>CCCCCCc1ccc(cc1)C1(c2ccc(cc2)CCCCCC)c2cc3c4sc5...</td>\n",
       "      <td>J52:ITCCM-O</td>\n",
       "      <td>29</td>\n",
       "      <td>17.287492</td>\n",
       "      <td>-0.846547</td>\n",
       "      <td>0.219256</td>\n",
       "      <td>...</td>\n",
       "      <td>0</td>\n",
       "      <td>4</td>\n",
       "      <td>4</td>\n",
       "      <td>6</td>\n",
       "      <td>0</td>\n",
       "      <td>0</td>\n",
       "      <td>4</td>\n",
       "      <td>0</td>\n",
       "      <td>12</td>\n",
       "      <td>8</td>\n",
       "    </tr>\n",
       "    <tr>\n",
       "      <th>...</th>\n",
       "      <td>...</td>\n",
       "      <td>...</td>\n",
       "      <td>...</td>\n",
       "      <td>...</td>\n",
       "      <td>...</td>\n",
       "      <td>...</td>\n",
       "      <td>...</td>\n",
       "      <td>...</td>\n",
       "      <td>...</td>\n",
       "      <td>...</td>\n",
       "      <td>...</td>\n",
       "      <td>...</td>\n",
       "      <td>...</td>\n",
       "      <td>...</td>\n",
       "      <td>...</td>\n",
       "      <td>...</td>\n",
       "      <td>...</td>\n",
       "      <td>...</td>\n",
       "      <td>...</td>\n",
       "      <td>...</td>\n",
       "      <td>...</td>\n",
       "    </tr>\n",
       "    <tr>\n",
       "      <th>170</th>\n",
       "      <td>12.84</td>\n",
       "      <td>P2</td>\n",
       "      <td>ITIC-m</td>\n",
       "      <td>CCCCCCCCCCC(Cn1c2cc3c4CC(Sc4c4c(c3cc2n(c1=O)CC...</td>\n",
       "      <td>CCCCCCc1ccc(cc1)C1(c2ccc(cc2)CCCCCC)c2cc3c4sc5...</td>\n",
       "      <td>P2:ITIC-m</td>\n",
       "      <td>170</td>\n",
       "      <td>16.017441</td>\n",
       "      <td>0.290256</td>\n",
       "      <td>0.290256</td>\n",
       "      <td>...</td>\n",
       "      <td>0</td>\n",
       "      <td>4</td>\n",
       "      <td>4</td>\n",
       "      <td>4</td>\n",
       "      <td>0</td>\n",
       "      <td>0</td>\n",
       "      <td>6</td>\n",
       "      <td>0</td>\n",
       "      <td>12</td>\n",
       "      <td>8</td>\n",
       "    </tr>\n",
       "    <tr>\n",
       "      <th>171</th>\n",
       "      <td>18.32</td>\n",
       "      <td>PM6</td>\n",
       "      <td>L8-BO</td>\n",
       "      <td>CCCCC(Cc1sc(c2c1C(=O)c1c(sc(c1C2=O)c1ccc(s1)C)...</td>\n",
       "      <td>CCCCCCC(Cc1c(/C=C\\2/C(=C(C#N)C#N)c3c(C2=O)cc(c...</td>\n",
       "      <td>PM6:L8-BO</td>\n",
       "      <td>171</td>\n",
       "      <td>16.502447</td>\n",
       "      <td>-0.118906</td>\n",
       "      <td>0.011694</td>\n",
       "      <td>...</td>\n",
       "      <td>0</td>\n",
       "      <td>2</td>\n",
       "      <td>2</td>\n",
       "      <td>7</td>\n",
       "      <td>0</td>\n",
       "      <td>0</td>\n",
       "      <td>6</td>\n",
       "      <td>0</td>\n",
       "      <td>16</td>\n",
       "      <td>4</td>\n",
       "    </tr>\n",
       "    <tr>\n",
       "      <th>172</th>\n",
       "      <td>8.14</td>\n",
       "      <td>PBDTT-DPP</td>\n",
       "      <td>IEICO-4F</td>\n",
       "      <td>CCCCCCC(Cn1c(=O)c2c(c1c1ccc(s1)c1sc3c(c1)c(c1c...</td>\n",
       "      <td>CCCCCCc1cccc(c1)C1(c2ccc(cc2)CCCCCC)c2cc3c4sc5...</td>\n",
       "      <td>PBDTT-DPP:IEICO-4F</td>\n",
       "      <td>172</td>\n",
       "      <td>15.901873</td>\n",
       "      <td>0.026249</td>\n",
       "      <td>0.026249</td>\n",
       "      <td>...</td>\n",
       "      <td>0</td>\n",
       "      <td>4</td>\n",
       "      <td>4</td>\n",
       "      <td>4</td>\n",
       "      <td>0</td>\n",
       "      <td>0</td>\n",
       "      <td>6</td>\n",
       "      <td>0</td>\n",
       "      <td>12</td>\n",
       "      <td>8</td>\n",
       "    </tr>\n",
       "    <tr>\n",
       "      <th>173</th>\n",
       "      <td>18.22</td>\n",
       "      <td>D18</td>\n",
       "      <td>Y6</td>\n",
       "      <td>CCCCCCC(Cc1cc(sc1c1sc2c(c1)c(c1cc(c(s1)CC(CCCC...</td>\n",
       "      <td>CCCCCCCCCCCc1c(/C=C\\2/C(=C(C#N)C#N)c3c(C2=O)cc...</td>\n",
       "      <td>D18:Y6</td>\n",
       "      <td>173</td>\n",
       "      <td>16.767269</td>\n",
       "      <td>-0.069142</td>\n",
       "      <td>0.069142</td>\n",
       "      <td>...</td>\n",
       "      <td>0</td>\n",
       "      <td>2</td>\n",
       "      <td>2</td>\n",
       "      <td>7</td>\n",
       "      <td>0</td>\n",
       "      <td>0</td>\n",
       "      <td>6</td>\n",
       "      <td>0</td>\n",
       "      <td>16</td>\n",
       "      <td>14</td>\n",
       "    </tr>\n",
       "    <tr>\n",
       "      <th>174</th>\n",
       "      <td>13.10</td>\n",
       "      <td>PBDB-T-SF</td>\n",
       "      <td>IT-4F</td>\n",
       "      <td>CCCCC(CSc1sc(cc1F)c1c2sc(cc2c(c2c1cc(s2)C)c1sc...</td>\n",
       "      <td>CCCCCCc1ccc(cc1)C1(c2ccc(cc2)CCCCCC)c2cc3c4sc5...</td>\n",
       "      <td>PBDB-T-SF:IT-4F</td>\n",
       "      <td>174</td>\n",
       "      <td>16.479443</td>\n",
       "      <td>-0.157619</td>\n",
       "      <td>0.009317</td>\n",
       "      <td>...</td>\n",
       "      <td>0</td>\n",
       "      <td>4</td>\n",
       "      <td>4</td>\n",
       "      <td>4</td>\n",
       "      <td>0</td>\n",
       "      <td>0</td>\n",
       "      <td>6</td>\n",
       "      <td>0</td>\n",
       "      <td>12</td>\n",
       "      <td>8</td>\n",
       "    </tr>\n",
       "    <tr>\n",
       "      <th>175</th>\n",
       "      <td>7.40</td>\n",
       "      <td>PTQ10</td>\n",
       "      <td>IDTCN</td>\n",
       "      <td>CCCCCCCCC(COc1cnc2c(n1)c(C)c(c(c2c1ccc(s1)C)F)...</td>\n",
       "      <td>CCCCCCc1ccc(cc1)C1(c2ccc(cc2)CCCCCC)c2cc3c4sc(...</td>\n",
       "      <td>PTQ10:IDTCN</td>\n",
       "      <td>175</td>\n",
       "      <td>14.963897</td>\n",
       "      <td>-0.868633</td>\n",
       "      <td>0.167290</td>\n",
       "      <td>...</td>\n",
       "      <td>0</td>\n",
       "      <td>4</td>\n",
       "      <td>4</td>\n",
       "      <td>4</td>\n",
       "      <td>0</td>\n",
       "      <td>0</td>\n",
       "      <td>6</td>\n",
       "      <td>0</td>\n",
       "      <td>8</td>\n",
       "      <td>8</td>\n",
       "    </tr>\n",
       "    <tr>\n",
       "      <th>176</th>\n",
       "      <td>12.20</td>\n",
       "      <td>PTQ10</td>\n",
       "      <td>IDTPC</td>\n",
       "      <td>CCCCCCCCC(COc1cnc2c(n1)c(C)c(c(c2c1ccc(s1)C)F)...</td>\n",
       "      <td>CCCCCCC1(CCCCCC)c2cc3c4sc(cc4C(c3cc2c2c1cc(s2)...</td>\n",
       "      <td>PTQ10:IDTPC</td>\n",
       "      <td>176</td>\n",
       "      <td>14.963897</td>\n",
       "      <td>-0.868633</td>\n",
       "      <td>0.167290</td>\n",
       "      <td>...</td>\n",
       "      <td>0</td>\n",
       "      <td>4</td>\n",
       "      <td>4</td>\n",
       "      <td>4</td>\n",
       "      <td>0</td>\n",
       "      <td>0</td>\n",
       "      <td>6</td>\n",
       "      <td>0</td>\n",
       "      <td>8</td>\n",
       "      <td>8</td>\n",
       "    </tr>\n",
       "    <tr>\n",
       "      <th>177</th>\n",
       "      <td>7.03</td>\n",
       "      <td>J51</td>\n",
       "      <td>ITIC</td>\n",
       "      <td>CCCCCCCCC(Cc1ccc(s1)c1c2cc(sc2c(c2c1sc(c2)C)c1...</td>\n",
       "      <td>CCCCCCc1ccc(cc1)C1(c2ccc(cc2)CCCCCC)c2cc3c4sc5...</td>\n",
       "      <td>J51:ITIC</td>\n",
       "      <td>177</td>\n",
       "      <td>17.170430</td>\n",
       "      <td>-0.849599</td>\n",
       "      <td>0.213892</td>\n",
       "      <td>...</td>\n",
       "      <td>0</td>\n",
       "      <td>4</td>\n",
       "      <td>4</td>\n",
       "      <td>4</td>\n",
       "      <td>0</td>\n",
       "      <td>0</td>\n",
       "      <td>6</td>\n",
       "      <td>0</td>\n",
       "      <td>12</td>\n",
       "      <td>8</td>\n",
       "    </tr>\n",
       "    <tr>\n",
       "      <th>178</th>\n",
       "      <td>4.80</td>\n",
       "      <td>J50</td>\n",
       "      <td>ITIC</td>\n",
       "      <td>CCCCCCCCC(Cc1ccc(s1)c1c2cc(sc2c(c2c1sc(c2)C)c1...</td>\n",
       "      <td>CCCCCCc1ccc(cc1)C1(c2ccc(cc2)CCCCCC)c2cc3c4sc5...</td>\n",
       "      <td>J50:ITIC</td>\n",
       "      <td>178</td>\n",
       "      <td>5.317942</td>\n",
       "      <td>0.771898</td>\n",
       "      <td>0.771898</td>\n",
       "      <td>...</td>\n",
       "      <td>0</td>\n",
       "      <td>4</td>\n",
       "      <td>4</td>\n",
       "      <td>4</td>\n",
       "      <td>0</td>\n",
       "      <td>0</td>\n",
       "      <td>6</td>\n",
       "      <td>0</td>\n",
       "      <td>12</td>\n",
       "      <td>8</td>\n",
       "    </tr>\n",
       "    <tr>\n",
       "      <th>179</th>\n",
       "      <td>6.54</td>\n",
       "      <td>PTB7-Th</td>\n",
       "      <td>DICTF</td>\n",
       "      <td>CCCCC(COC(=O)c1sc2c(c1F)c(sc2c1sc2c(c1)c(c1ccc...</td>\n",
       "      <td>CCCCCCCCC1(CCCCCCCC)c2cc(ccc2c2c1cc(cc2)c1ccc(...</td>\n",
       "      <td>PTB7-Th:DICTF</td>\n",
       "      <td>179</td>\n",
       "      <td>16.336769</td>\n",
       "      <td>-0.530065</td>\n",
       "      <td>0.103558</td>\n",
       "      <td>...</td>\n",
       "      <td>0</td>\n",
       "      <td>3</td>\n",
       "      <td>3</td>\n",
       "      <td>2</td>\n",
       "      <td>0</td>\n",
       "      <td>0</td>\n",
       "      <td>6</td>\n",
       "      <td>0</td>\n",
       "      <td>5</td>\n",
       "      <td>8</td>\n",
       "    </tr>\n",
       "    <tr>\n",
       "      <th>180</th>\n",
       "      <td>5.65</td>\n",
       "      <td>PBDB-T</td>\n",
       "      <td>DICTF</td>\n",
       "      <td>CCCCC(Cc1ccc(s1)c1c2cc(sc2c(c2c1sc(c2)C)c1ccc(...</td>\n",
       "      <td>CCCCCCCCC1(CCCCCCCC)c2cc(ccc2c2c1cc(cc2)c1ccc(...</td>\n",
       "      <td>PBDB-T:DICTF</td>\n",
       "      <td>180</td>\n",
       "      <td>15.917476</td>\n",
       "      <td>0.072375</td>\n",
       "      <td>0.072375</td>\n",
       "      <td>...</td>\n",
       "      <td>0</td>\n",
       "      <td>3</td>\n",
       "      <td>3</td>\n",
       "      <td>2</td>\n",
       "      <td>0</td>\n",
       "      <td>0</td>\n",
       "      <td>6</td>\n",
       "      <td>0</td>\n",
       "      <td>5</td>\n",
       "      <td>8</td>\n",
       "    </tr>\n",
       "    <tr>\n",
       "      <th>181</th>\n",
       "      <td>9.81</td>\n",
       "      <td>PBDB-T</td>\n",
       "      <td>FDICTF</td>\n",
       "      <td>CCCCC(Cc1ccc(s1)c1c2cc(sc2c(c2c1sc(c2)C)c1ccc(...</td>\n",
       "      <td>CCCCCCCCC1(CCCCCCCC)c2cc3c4sc(cc4C(c3cc2c2c1cc...</td>\n",
       "      <td>PBDB-T:FDICTF</td>\n",
       "      <td>181</td>\n",
       "      <td>15.917476</td>\n",
       "      <td>0.072375</td>\n",
       "      <td>0.072375</td>\n",
       "      <td>...</td>\n",
       "      <td>0</td>\n",
       "      <td>5</td>\n",
       "      <td>5</td>\n",
       "      <td>2</td>\n",
       "      <td>0</td>\n",
       "      <td>0</td>\n",
       "      <td>6</td>\n",
       "      <td>0</td>\n",
       "      <td>11</td>\n",
       "      <td>24</td>\n",
       "    </tr>\n",
       "    <tr>\n",
       "      <th>182</th>\n",
       "      <td>8.99</td>\n",
       "      <td>PBDB-T</td>\n",
       "      <td>NFBDT</td>\n",
       "      <td>CCCCC(Cc1ccc(s1)c1c2cc(sc2c(c2c1sc(c2)C)c1ccc(...</td>\n",
       "      <td>CCCCCCc1ccc(cc1)C1(c2ccc(cc2)CCCCCC)c2cc(sc2c2...</td>\n",
       "      <td>PBDB-T:NFBDT</td>\n",
       "      <td>182</td>\n",
       "      <td>15.917476</td>\n",
       "      <td>0.072375</td>\n",
       "      <td>0.072375</td>\n",
       "      <td>...</td>\n",
       "      <td>0</td>\n",
       "      <td>4</td>\n",
       "      <td>4</td>\n",
       "      <td>4</td>\n",
       "      <td>0</td>\n",
       "      <td>0</td>\n",
       "      <td>6</td>\n",
       "      <td>0</td>\n",
       "      <td>12</td>\n",
       "      <td>8</td>\n",
       "    </tr>\n",
       "    <tr>\n",
       "      <th>183</th>\n",
       "      <td>11.20</td>\n",
       "      <td>PBDB-T</td>\n",
       "      <td>FDNCTF</td>\n",
       "      <td>CCCCC(Cc1ccc(s1)c1c2cc(sc2c(c2c1sc(c2)C)c1ccc(...</td>\n",
       "      <td>CCCCCCCCC1(CCCCCCCC)c2cc3c4sc(cc4C(c3cc2c2c1cc...</td>\n",
       "      <td>PBDB-T:FDNCTF</td>\n",
       "      <td>183</td>\n",
       "      <td>15.917476</td>\n",
       "      <td>0.072375</td>\n",
       "      <td>0.072375</td>\n",
       "      <td>...</td>\n",
       "      <td>0</td>\n",
       "      <td>5</td>\n",
       "      <td>5</td>\n",
       "      <td>2</td>\n",
       "      <td>0</td>\n",
       "      <td>0</td>\n",
       "      <td>6</td>\n",
       "      <td>0</td>\n",
       "      <td>13</td>\n",
       "      <td>24</td>\n",
       "    </tr>\n",
       "    <tr>\n",
       "      <th>184</th>\n",
       "      <td>5.50</td>\n",
       "      <td>PTB7-Th</td>\n",
       "      <td>IDT-N</td>\n",
       "      <td>CCCCC(COC(=O)c1sc2c(c1F)c(sc2c1sc2c(c1)c(c1ccc...</td>\n",
       "      <td>CCCCCCc1ccc(cc1)C1(c2ccc(cc2)CCCCCC)c2cc(sc2c2...</td>\n",
       "      <td>PTB7-Th:IDT-N</td>\n",
       "      <td>184</td>\n",
       "      <td>16.336769</td>\n",
       "      <td>-0.530065</td>\n",
       "      <td>0.103558</td>\n",
       "      <td>...</td>\n",
       "      <td>0</td>\n",
       "      <td>4</td>\n",
       "      <td>4</td>\n",
       "      <td>2</td>\n",
       "      <td>0</td>\n",
       "      <td>0</td>\n",
       "      <td>6</td>\n",
       "      <td>0</td>\n",
       "      <td>10</td>\n",
       "      <td>8</td>\n",
       "    </tr>\n",
       "    <tr>\n",
       "      <th>185</th>\n",
       "      <td>6.90</td>\n",
       "      <td>PBDB-T</td>\n",
       "      <td>IDT-N</td>\n",
       "      <td>CCCCC(Cc1ccc(s1)c1c2cc(sc2c(c2c1sc(c2)C)c1ccc(...</td>\n",
       "      <td>CCCCCCc1ccc(cc1)C1(c2ccc(cc2)CCCCCC)c2cc(sc2c2...</td>\n",
       "      <td>PBDB-T:IDT-N</td>\n",
       "      <td>185</td>\n",
       "      <td>15.917476</td>\n",
       "      <td>0.072375</td>\n",
       "      <td>0.072375</td>\n",
       "      <td>...</td>\n",
       "      <td>0</td>\n",
       "      <td>4</td>\n",
       "      <td>4</td>\n",
       "      <td>2</td>\n",
       "      <td>0</td>\n",
       "      <td>0</td>\n",
       "      <td>6</td>\n",
       "      <td>0</td>\n",
       "      <td>10</td>\n",
       "      <td>8</td>\n",
       "    </tr>\n",
       "    <tr>\n",
       "      <th>186</th>\n",
       "      <td>5.40</td>\n",
       "      <td>PBDB-T</td>\n",
       "      <td>IDT-T-N</td>\n",
       "      <td>CCCCC(Cc1ccc(s1)c1c2cc(sc2c(c2c1sc(c2)C)c1ccc(...</td>\n",
       "      <td>CCCCCCc1ccc(cc1)C1(c2ccc(cc2)CCCCCC)c2cc(sc2c2...</td>\n",
       "      <td>PBDB-T:IDT-T-N</td>\n",
       "      <td>186</td>\n",
       "      <td>15.917476</td>\n",
       "      <td>0.072375</td>\n",
       "      <td>0.072375</td>\n",
       "      <td>...</td>\n",
       "      <td>0</td>\n",
       "      <td>4</td>\n",
       "      <td>4</td>\n",
       "      <td>4</td>\n",
       "      <td>0</td>\n",
       "      <td>0</td>\n",
       "      <td>6</td>\n",
       "      <td>0</td>\n",
       "      <td>10</td>\n",
       "      <td>8</td>\n",
       "    </tr>\n",
       "    <tr>\n",
       "      <th>187</th>\n",
       "      <td>5.24</td>\n",
       "      <td>PTB7-Th</td>\n",
       "      <td>IDIC</td>\n",
       "      <td>CCCCC(COC(=O)c1sc2c(c1F)c(sc2c1sc2c(c1)c(c1ccc...</td>\n",
       "      <td>CCCCCCC1(CCCCCC)c2cc(sc2c2c1cc1c3sc(cc3C(c1c2)...</td>\n",
       "      <td>PTB7-Th:IDIC</td>\n",
       "      <td>187</td>\n",
       "      <td>16.336769</td>\n",
       "      <td>-0.530065</td>\n",
       "      <td>0.103558</td>\n",
       "      <td>...</td>\n",
       "      <td>0</td>\n",
       "      <td>4</td>\n",
       "      <td>4</td>\n",
       "      <td>2</td>\n",
       "      <td>0</td>\n",
       "      <td>0</td>\n",
       "      <td>6</td>\n",
       "      <td>0</td>\n",
       "      <td>8</td>\n",
       "      <td>8</td>\n",
       "    </tr>\n",
       "    <tr>\n",
       "      <th>188</th>\n",
       "      <td>6.28</td>\n",
       "      <td>PDCBT</td>\n",
       "      <td>IDIC</td>\n",
       "      <td>CCCCCCC(COC(=O)c1cc(sc1c1ccc(s1)C)c1cc(c(s1)c1...</td>\n",
       "      <td>CCCCCCC1(CCCCCC)c2cc(sc2c2c1cc1c3sc(cc3C(c1c2)...</td>\n",
       "      <td>PDCBT:IDIC</td>\n",
       "      <td>188</td>\n",
       "      <td>13.904846</td>\n",
       "      <td>-0.249109</td>\n",
       "      <td>0.249109</td>\n",
       "      <td>...</td>\n",
       "      <td>0</td>\n",
       "      <td>4</td>\n",
       "      <td>4</td>\n",
       "      <td>2</td>\n",
       "      <td>0</td>\n",
       "      <td>0</td>\n",
       "      <td>6</td>\n",
       "      <td>0</td>\n",
       "      <td>8</td>\n",
       "      <td>8</td>\n",
       "    </tr>\n",
       "    <tr>\n",
       "      <th>189</th>\n",
       "      <td>6.94</td>\n",
       "      <td>J51</td>\n",
       "      <td>IDIC</td>\n",
       "      <td>CCCCCCCCC(Cc1ccc(s1)c1c2cc(sc2c(c2c1sc(c2)C)c1...</td>\n",
       "      <td>CCCCCCC1(CCCCCC)c2cc(sc2c2c1cc1c3sc(cc3C(c1c2)...</td>\n",
       "      <td>J51:IDIC</td>\n",
       "      <td>189</td>\n",
       "      <td>17.170430</td>\n",
       "      <td>-0.849599</td>\n",
       "      <td>0.213892</td>\n",
       "      <td>...</td>\n",
       "      <td>0</td>\n",
       "      <td>4</td>\n",
       "      <td>4</td>\n",
       "      <td>2</td>\n",
       "      <td>0</td>\n",
       "      <td>0</td>\n",
       "      <td>6</td>\n",
       "      <td>0</td>\n",
       "      <td>8</td>\n",
       "      <td>8</td>\n",
       "    </tr>\n",
       "    <tr>\n",
       "      <th>190</th>\n",
       "      <td>9.20</td>\n",
       "      <td>PDBT-T1</td>\n",
       "      <td>IDIC</td>\n",
       "      <td>CCCCCCCCc1ccc(s1)c1c2c3sc(cc3sc2c(c2c1sc1c2sc(...</td>\n",
       "      <td>CCCCCCC1(CCCCCC)c2cc(sc2c2c1cc1c3sc(cc3C(c1c2)...</td>\n",
       "      <td>PDBT-T1:IDIC</td>\n",
       "      <td>190</td>\n",
       "      <td>15.924584</td>\n",
       "      <td>0.074183</td>\n",
       "      <td>0.074183</td>\n",
       "      <td>...</td>\n",
       "      <td>0</td>\n",
       "      <td>4</td>\n",
       "      <td>4</td>\n",
       "      <td>2</td>\n",
       "      <td>0</td>\n",
       "      <td>0</td>\n",
       "      <td>6</td>\n",
       "      <td>0</td>\n",
       "      <td>8</td>\n",
       "      <td>8</td>\n",
       "    </tr>\n",
       "    <tr>\n",
       "      <th>191</th>\n",
       "      <td>8.06</td>\n",
       "      <td>PTFBDT-BZS</td>\n",
       "      <td>IDIC</td>\n",
       "      <td>CCCCCCCCCCCCOc1c(OCCCCCCCCCCCC)c(c2ccc(s2)C)c2...</td>\n",
       "      <td>CCCCCCC1(CCCCCC)c2cc(sc2c2c1cc1c3sc(cc3C(c1c2)...</td>\n",
       "      <td>PTFBDT-BZS:IDIC</td>\n",
       "      <td>191</td>\n",
       "      <td>16.827528</td>\n",
       "      <td>-0.548965</td>\n",
       "      <td>0.128243</td>\n",
       "      <td>...</td>\n",
       "      <td>0</td>\n",
       "      <td>4</td>\n",
       "      <td>4</td>\n",
       "      <td>2</td>\n",
       "      <td>0</td>\n",
       "      <td>0</td>\n",
       "      <td>6</td>\n",
       "      <td>0</td>\n",
       "      <td>8</td>\n",
       "      <td>8</td>\n",
       "    </tr>\n",
       "    <tr>\n",
       "      <th>192</th>\n",
       "      <td>11.62</td>\n",
       "      <td>J70</td>\n",
       "      <td>m-ITIC</td>\n",
       "      <td>CCCCCCCCC(Cn1nc2c(n1)c(c1ccc(s1)C)c(c(c2c1ccc(...</td>\n",
       "      <td>CCCCCCc1cccc(c1)C1(c2cccc(c2)CCCCCC)c2cc3c4sc5...</td>\n",
       "      <td>J70:m-ITIC</td>\n",
       "      <td>192</td>\n",
       "      <td>17.288979</td>\n",
       "      <td>-1.615348</td>\n",
       "      <td>0.221297</td>\n",
       "      <td>...</td>\n",
       "      <td>0</td>\n",
       "      <td>4</td>\n",
       "      <td>4</td>\n",
       "      <td>4</td>\n",
       "      <td>0</td>\n",
       "      <td>0</td>\n",
       "      <td>6</td>\n",
       "      <td>0</td>\n",
       "      <td>12</td>\n",
       "      <td>8</td>\n",
       "    </tr>\n",
       "    <tr>\n",
       "      <th>193</th>\n",
       "      <td>12.05</td>\n",
       "      <td>J71</td>\n",
       "      <td>m-ITIC</td>\n",
       "      <td>CCCCCCCCC(Cn1nc2c(n1)c(c1ccc(s1)c1sc3c(c1)c(c1...</td>\n",
       "      <td>CCCCCCc1cccc(c1)C1(c2cccc(c2)CCCCCC)c2cc3c4sc5...</td>\n",
       "      <td>J71:m-ITIC</td>\n",
       "      <td>193</td>\n",
       "      <td>17.425265</td>\n",
       "      <td>-1.703228</td>\n",
       "      <td>0.227715</td>\n",
       "      <td>...</td>\n",
       "      <td>0</td>\n",
       "      <td>4</td>\n",
       "      <td>4</td>\n",
       "      <td>4</td>\n",
       "      <td>0</td>\n",
       "      <td>0</td>\n",
       "      <td>6</td>\n",
       "      <td>0</td>\n",
       "      <td>12</td>\n",
       "      <td>8</td>\n",
       "    </tr>\n",
       "    <tr>\n",
       "      <th>194</th>\n",
       "      <td>10.23</td>\n",
       "      <td>J72</td>\n",
       "      <td>m-ITIC</td>\n",
       "      <td>CCCCCCCCC(Cn1nc2c(n1)c(c1ccc(s1)C)c(c(c2c1ccc(...</td>\n",
       "      <td>CCCCCCc1cccc(c1)C1(c2cccc(c2)CCCCCC)c2cc3c4sc5...</td>\n",
       "      <td>J72:m-ITIC</td>\n",
       "      <td>194</td>\n",
       "      <td>17.434048</td>\n",
       "      <td>-1.942558</td>\n",
       "      <td>0.217010</td>\n",
       "      <td>...</td>\n",
       "      <td>0</td>\n",
       "      <td>4</td>\n",
       "      <td>4</td>\n",
       "      <td>4</td>\n",
       "      <td>0</td>\n",
       "      <td>0</td>\n",
       "      <td>6</td>\n",
       "      <td>0</td>\n",
       "      <td>12</td>\n",
       "      <td>8</td>\n",
       "    </tr>\n",
       "    <tr>\n",
       "      <th>195</th>\n",
       "      <td>10.71</td>\n",
       "      <td>J73</td>\n",
       "      <td>m-ITIC</td>\n",
       "      <td>CCCCCCCCC(Cn1nc2c(n1)c(c1ccc(s1)C)c(c(c2c1ccc(...</td>\n",
       "      <td>CCCCCCc1cccc(c1)C1(c2cccc(c2)CCCCCC)c2cc3c4sc5...</td>\n",
       "      <td>J73:m-ITIC</td>\n",
       "      <td>195</td>\n",
       "      <td>17.546757</td>\n",
       "      <td>-1.774777</td>\n",
       "      <td>0.233235</td>\n",
       "      <td>...</td>\n",
       "      <td>0</td>\n",
       "      <td>4</td>\n",
       "      <td>4</td>\n",
       "      <td>4</td>\n",
       "      <td>0</td>\n",
       "      <td>0</td>\n",
       "      <td>6</td>\n",
       "      <td>0</td>\n",
       "      <td>12</td>\n",
       "      <td>8</td>\n",
       "    </tr>\n",
       "    <tr>\n",
       "      <th>196</th>\n",
       "      <td>9.63</td>\n",
       "      <td>J74</td>\n",
       "      <td>m-ITIC</td>\n",
       "      <td>CCCCCCCCC(Cn1nc2c(n1)c(c1ccc(s1)C)c(c(c2c1ccc(...</td>\n",
       "      <td>CCCCCCc1cccc(c1)C1(c2cccc(c2)CCCCCC)c2cc3c4sc5...</td>\n",
       "      <td>J74:m-ITIC</td>\n",
       "      <td>196</td>\n",
       "      <td>17.398135</td>\n",
       "      <td>-1.677300</td>\n",
       "      <td>0.225590</td>\n",
       "      <td>...</td>\n",
       "      <td>0</td>\n",
       "      <td>4</td>\n",
       "      <td>4</td>\n",
       "      <td>4</td>\n",
       "      <td>0</td>\n",
       "      <td>0</td>\n",
       "      <td>6</td>\n",
       "      <td>0</td>\n",
       "      <td>12</td>\n",
       "      <td>8</td>\n",
       "    </tr>\n",
       "    <tr>\n",
       "      <th>197</th>\n",
       "      <td>8.03</td>\n",
       "      <td>J81</td>\n",
       "      <td>ITIC</td>\n",
       "      <td>Cc1oc2c(c1)c(c1c(c2c2ccc([Si](CCC)(CCC)CCC)s2)...</td>\n",
       "      <td>CCCCCCc1ccc(cc1)C1(c2ccc(cc2)CCCCCC)c2cc3c4sc5...</td>\n",
       "      <td>J81:ITIC</td>\n",
       "      <td>197</td>\n",
       "      <td>17.387649</td>\n",
       "      <td>-1.763283</td>\n",
       "      <td>0.164752</td>\n",
       "      <td>...</td>\n",
       "      <td>0</td>\n",
       "      <td>4</td>\n",
       "      <td>4</td>\n",
       "      <td>4</td>\n",
       "      <td>0</td>\n",
       "      <td>0</td>\n",
       "      <td>6</td>\n",
       "      <td>0</td>\n",
       "      <td>12</td>\n",
       "      <td>8</td>\n",
       "    </tr>\n",
       "    <tr>\n",
       "      <th>198</th>\n",
       "      <td>7.21</td>\n",
       "      <td>J81</td>\n",
       "      <td>m-ITIC</td>\n",
       "      <td>Cc1oc2c(c1)c(c1c(c2c2ccc([Si](CCC)(CCC)CCC)s2)...</td>\n",
       "      <td>CCCCCCc1cccc(c1)C1(c2cccc(c2)CCCCCC)c2cc3c4sc5...</td>\n",
       "      <td>J81:m-ITIC</td>\n",
       "      <td>198</td>\n",
       "      <td>17.387649</td>\n",
       "      <td>-1.763283</td>\n",
       "      <td>0.164752</td>\n",
       "      <td>...</td>\n",
       "      <td>0</td>\n",
       "      <td>4</td>\n",
       "      <td>4</td>\n",
       "      <td>4</td>\n",
       "      <td>0</td>\n",
       "      <td>0</td>\n",
       "      <td>6</td>\n",
       "      <td>0</td>\n",
       "      <td>12</td>\n",
       "      <td>8</td>\n",
       "    </tr>\n",
       "    <tr>\n",
       "      <th>199</th>\n",
       "      <td>13.37</td>\n",
       "      <td>PM6</td>\n",
       "      <td>DTC-4F</td>\n",
       "      <td>CCCCC(Cc1sc(c2c1C(=O)c1c(sc(c1C2=O)c1ccc(s1)C)...</td>\n",
       "      <td>CCCCCCCCC(n1c2cc3c4sc(cc4C(c3cc2c2c1cc1c3sc(cc...</td>\n",
       "      <td>PM6:DTC-4F</td>\n",
       "      <td>199</td>\n",
       "      <td>16.502447</td>\n",
       "      <td>-0.118906</td>\n",
       "      <td>0.011694</td>\n",
       "      <td>...</td>\n",
       "      <td>0</td>\n",
       "      <td>4</td>\n",
       "      <td>4</td>\n",
       "      <td>3</td>\n",
       "      <td>0</td>\n",
       "      <td>0</td>\n",
       "      <td>6</td>\n",
       "      <td>0</td>\n",
       "      <td>11</td>\n",
       "      <td>24</td>\n",
       "    </tr>\n",
       "  </tbody>\n",
       "</table>\n",
       "<p>200 rows × 132 columns</p>\n",
       "</div>"
      ],
      "text/plain": [
       "       PCE        Donor      Acceptor  \\\n",
       "0    11.60         D-0F       C8-ITIC   \n",
       "1    12.20         D-2F       C8-ITIC   \n",
       "2     8.80         D-4F       C8-ITIC   \n",
       "3     8.00         D-0F          ITIC   \n",
       "4     8.90         D-2F          ITIC   \n",
       "5     4.40         D-4F          ITIC   \n",
       "6     7.80         D-0F         IT-4F   \n",
       "7    10.90         D-2F         IT-4F   \n",
       "8     9.90         D-4F         IT-4F   \n",
       "9     7.80  PffBT4T-2DT           FBR   \n",
       "10    9.95  PffBT4T-2DT         IDTBR   \n",
       "11   13.42       PBDB-T            Y1   \n",
       "12   13.40       PBDB-T            Y2   \n",
       "13    9.50        P3TEA       SF-PDI2   \n",
       "14   13.80          PM6           Y11   \n",
       "15   14.30          PM6       IDST-4F   \n",
       "16    6.40          PM6         ID-4F   \n",
       "17    6.20  BDT-ffBX-DT         SFPDI   \n",
       "18   11.46          PM6          a-IT   \n",
       "19   13.82          PM6          N7IT   \n",
       "20   12.30          PM6        ITCPTC   \n",
       "21   13.60          PM6       ITC-2Cl   \n",
       "22   12.90          PM6         IT-4F   \n",
       "23   12.70          PM6        IT-4Cl   \n",
       "24   11.70      PTB7-Th          FOIC   \n",
       "25   16.50      PBDB-TF  BTP-4Cl (Y7)   \n",
       "26    9.30       PBDB-T         IT-4F   \n",
       "27   10.40     PBDBTz-2         IT-4F   \n",
       "28    9.60     PBDBTz-5         IT-4F   \n",
       "29    5.50          J52       ITCCM-O   \n",
       "..     ...          ...           ...   \n",
       "170  12.84           P2        ITIC-m   \n",
       "171  18.32          PM6         L8-BO   \n",
       "172   8.14    PBDTT-DPP      IEICO-4F   \n",
       "173  18.22          D18            Y6   \n",
       "174  13.10    PBDB-T-SF         IT-4F   \n",
       "175   7.40        PTQ10         IDTCN   \n",
       "176  12.20        PTQ10         IDTPC   \n",
       "177   7.03          J51          ITIC   \n",
       "178   4.80          J50          ITIC   \n",
       "179   6.54      PTB7-Th         DICTF   \n",
       "180   5.65       PBDB-T         DICTF   \n",
       "181   9.81       PBDB-T        FDICTF   \n",
       "182   8.99       PBDB-T         NFBDT   \n",
       "183  11.20       PBDB-T        FDNCTF   \n",
       "184   5.50      PTB7-Th         IDT-N   \n",
       "185   6.90       PBDB-T         IDT-N   \n",
       "186   5.40       PBDB-T       IDT-T-N   \n",
       "187   5.24      PTB7-Th          IDIC   \n",
       "188   6.28        PDCBT          IDIC   \n",
       "189   6.94          J51          IDIC   \n",
       "190   9.20      PDBT-T1          IDIC   \n",
       "191   8.06   PTFBDT-BZS          IDIC   \n",
       "192  11.62          J70        m-ITIC   \n",
       "193  12.05          J71        m-ITIC   \n",
       "194  10.23          J72        m-ITIC   \n",
       "195  10.71          J73        m-ITIC   \n",
       "196   9.63          J74        m-ITIC   \n",
       "197   8.03          J81          ITIC   \n",
       "198   7.21          J81        m-ITIC   \n",
       "199  13.37          PM6        DTC-4F   \n",
       "\n",
       "                                      Donor_can_smiles  \\\n",
       "0    CCCCC(Cc1ccc(s1)c1c2cc(sc2c(c2c1scc2)c1ccc(s1)...   \n",
       "1    CCCCC(Cc1ccc(s1)c1c2cc(sc2c(c2c1scc2)c1ccc(s1)...   \n",
       "2    CCCCC(Cc1ccc(s1)c1c2sc(c(c2c(c2c1c(F)cs2)c1ccc...   \n",
       "3    CCCCC(Cc1ccc(s1)c1c2cc(sc2c(c2c1scc2)c1ccc(s1)...   \n",
       "4    CCCCC(Cc1ccc(s1)c1c2cc(sc2c(c2c1scc2)c1ccc(s1)...   \n",
       "5    CCCCC(Cc1ccc(s1)c1c2sc(c(c2c(c2c1c(F)cs2)c1ccc...   \n",
       "6    CCCCC(Cc1ccc(s1)c1c2cc(sc2c(c2c1scc2)c1ccc(s1)...   \n",
       "7    CCCCC(Cc1ccc(s1)c1c2cc(sc2c(c2c1scc2)c1ccc(s1)...   \n",
       "8    CCCCC(Cc1ccc(s1)c1c2sc(c(c2c(c2c1c(F)cs2)c1ccc...   \n",
       "9    CCCCCCCCCCCCC(Cc1cc(sc1C)c1c(F)c(F)c(c2c1nsn2)...   \n",
       "10   CCCCCCCCCCCCC(Cc1cc(sc1C)c1c(F)c(F)c(c2c1nsn2)...   \n",
       "11   CCCCC(Cc1ccc(s1)c1c2cc(sc2c(c2c1sc(c2)C)c1ccc(...   \n",
       "12   CCCCC(Cc1ccc(s1)c1c2cc(sc2c(c2c1sc(c2)C)c1ccc(...   \n",
       "13   CCCCCCCCCCC(OC(=O)c1cc(sc1c1cc(c(s1)c1ccc(s1)c...   \n",
       "14   CCCCC(Cc1sc(c2c1C(=O)c1c(sc(c1C2=O)c1ccc(s1)C)...   \n",
       "15   CCCCC(Cc1sc(c2c1C(=O)c1c(sc(c1C2=O)c1ccc(s1)C)...   \n",
       "16   CCCCC(Cc1sc(c2c1C(=O)c1c(sc(c1C2=O)c1ccc(s1)C)...   \n",
       "17   CCCCCCCCCCCCC(Cc1csc(c1)c1c(F)c(F)c(c2c1non2)c...   \n",
       "18   CCCCC(Cc1sc(c2c1C(=O)c1c(sc(c1C2=O)c1ccc(s1)C)...   \n",
       "19   CCCCC(Cc1sc(c2c1C(=O)c1c(sc(c1C2=O)c1ccc(s1)C)...   \n",
       "20   CCCCC(Cc1sc(c2c1C(=O)c1c(sc(c1C2=O)c1ccc(s1)C)...   \n",
       "21   CCCCC(Cc1sc(c2c1C(=O)c1c(sc(c1C2=O)c1ccc(s1)C)...   \n",
       "22   CCCCC(Cc1sc(c2c1C(=O)c1c(sc(c1C2=O)c1ccc(s1)C)...   \n",
       "23   CCCCC(Cc1sc(c2c1C(=O)c1c(sc(c1C2=O)c1ccc(s1)C)...   \n",
       "24   CCCCC(COC(=O)c1sc2c(c1F)c(sc2c1sc2c(c1)c(c1ccc...   \n",
       "25   CCCCC(Cc1sc(c2c1C(=O)c1c(sc(c1C2=O)c1ccc(s1)C)...   \n",
       "26   CCCCC(Cc1ccc(s1)c1c2cc(sc2c(c2c1sc(c2)C)c1ccc(...   \n",
       "27   CCCCC(Cc1ccc(s1)c1c2cc(sc2c(c2c1c(C)cs2)c1ccc(...   \n",
       "28   CCCCC(Cc1ccc(s1)c1c2cc(sc2c(c2c1c(C)cs2)c1ccc(...   \n",
       "29   CCCCCCCCC(Cn1nc2c(n1)c(c1ccc(s1)c1sc3c(c1)c(c1...   \n",
       "..                                                 ...   \n",
       "170  CCCCCCCCCCC(Cn1c2cc3c4CC(Sc4c4c(c3cc2n(c1=O)CC...   \n",
       "171  CCCCC(Cc1sc(c2c1C(=O)c1c(sc(c1C2=O)c1ccc(s1)C)...   \n",
       "172  CCCCCCC(Cn1c(=O)c2c(c1c1ccc(s1)c1sc3c(c1)c(c1c...   \n",
       "173  CCCCCCC(Cc1cc(sc1c1sc2c(c1)c(c1cc(c(s1)CC(CCCC...   \n",
       "174  CCCCC(CSc1sc(cc1F)c1c2sc(cc2c(c2c1cc(s2)C)c1sc...   \n",
       "175  CCCCCCCCC(COc1cnc2c(n1)c(C)c(c(c2c1ccc(s1)C)F)...   \n",
       "176  CCCCCCCCC(COc1cnc2c(n1)c(C)c(c(c2c1ccc(s1)C)F)...   \n",
       "177  CCCCCCCCC(Cc1ccc(s1)c1c2cc(sc2c(c2c1sc(c2)C)c1...   \n",
       "178  CCCCCCCCC(Cc1ccc(s1)c1c2cc(sc2c(c2c1sc(c2)C)c1...   \n",
       "179  CCCCC(COC(=O)c1sc2c(c1F)c(sc2c1sc2c(c1)c(c1ccc...   \n",
       "180  CCCCC(Cc1ccc(s1)c1c2cc(sc2c(c2c1sc(c2)C)c1ccc(...   \n",
       "181  CCCCC(Cc1ccc(s1)c1c2cc(sc2c(c2c1sc(c2)C)c1ccc(...   \n",
       "182  CCCCC(Cc1ccc(s1)c1c2cc(sc2c(c2c1sc(c2)C)c1ccc(...   \n",
       "183  CCCCC(Cc1ccc(s1)c1c2cc(sc2c(c2c1sc(c2)C)c1ccc(...   \n",
       "184  CCCCC(COC(=O)c1sc2c(c1F)c(sc2c1sc2c(c1)c(c1ccc...   \n",
       "185  CCCCC(Cc1ccc(s1)c1c2cc(sc2c(c2c1sc(c2)C)c1ccc(...   \n",
       "186  CCCCC(Cc1ccc(s1)c1c2cc(sc2c(c2c1sc(c2)C)c1ccc(...   \n",
       "187  CCCCC(COC(=O)c1sc2c(c1F)c(sc2c1sc2c(c1)c(c1ccc...   \n",
       "188  CCCCCCC(COC(=O)c1cc(sc1c1ccc(s1)C)c1cc(c(s1)c1...   \n",
       "189  CCCCCCCCC(Cc1ccc(s1)c1c2cc(sc2c(c2c1sc(c2)C)c1...   \n",
       "190  CCCCCCCCc1ccc(s1)c1c2c3sc(cc3sc2c(c2c1sc1c2sc(...   \n",
       "191  CCCCCCCCCCCCOc1c(OCCCCCCCCCCCC)c(c2ccc(s2)C)c2...   \n",
       "192  CCCCCCCCC(Cn1nc2c(n1)c(c1ccc(s1)C)c(c(c2c1ccc(...   \n",
       "193  CCCCCCCCC(Cn1nc2c(n1)c(c1ccc(s1)c1sc3c(c1)c(c1...   \n",
       "194  CCCCCCCCC(Cn1nc2c(n1)c(c1ccc(s1)C)c(c(c2c1ccc(...   \n",
       "195  CCCCCCCCC(Cn1nc2c(n1)c(c1ccc(s1)C)c(c(c2c1ccc(...   \n",
       "196  CCCCCCCCC(Cn1nc2c(n1)c(c1ccc(s1)C)c(c(c2c1ccc(...   \n",
       "197  Cc1oc2c(c1)c(c1c(c2c2ccc([Si](CCC)(CCC)CCC)s2)...   \n",
       "198  Cc1oc2c(c1)c(c1c(c2c2ccc([Si](CCC)(CCC)CCC)s2)...   \n",
       "199  CCCCC(Cc1sc(c2c1C(=O)c1c(sc(c1C2=O)c1ccc(s1)C)...   \n",
       "\n",
       "                                   Acceptor_can_smiles                   D:A  \\\n",
       "0    CCCCCCCCC1(CCCCCCCC)c2cc3c4sc5c(c4C(c3cc2c2c1c...          D-0F:C8-ITIC   \n",
       "1    CCCCCCCCC1(CCCCCCCC)c2cc3c4sc5c(c4C(c3cc2c2c1c...          D-2F:C8-ITIC   \n",
       "2    CCCCCCCCC1(CCCCCCCC)c2cc3c4sc5c(c4C(c3cc2c2c1c...          D-4F:C8-ITIC   \n",
       "3    CCCCCCc1ccc(cc1)C1(c2ccc(cc2)CCCCCC)c2cc3c4sc5...             D-0F:ITIC   \n",
       "4    CCCCCCc1ccc(cc1)C1(c2ccc(cc2)CCCCCC)c2cc3c4sc5...             D-2F:ITIC   \n",
       "5    CCCCCCc1ccc(cc1)C1(c2ccc(cc2)CCCCCC)c2cc3c4sc5...             D-4F:ITIC   \n",
       "6    CCCCCCc1ccc(cc1)C1(c2ccc(cc2)CCCCCC)c2cc3c4sc5...            D-0F:IT-4F   \n",
       "7    CCCCCCc1ccc(cc1)C1(c2ccc(cc2)CCCCCC)c2cc3c4sc5...            D-2F:IT-4F   \n",
       "8    CCCCCCc1ccc(cc1)C1(c2ccc(cc2)CCCCCC)c2cc3c4sc5...            D-4F:IT-4F   \n",
       "9    CCCCCCCCCC1(CCCCCCCCC)c2cc(ccc2c2c1cc(cc2)c1cc...       PffBT4T-2DT:FBR   \n",
       "10   CCCCCCCCCC1(CCCCCCCCC)c2cc3c4sc(cc4C(c3cc2c2c1...     PffBT4T-2DT:IDTBR   \n",
       "11   CCCCC(Cn1c2c(c3c1c1sc(cc1s3)/C=C/1\\C(=O)c3c(C1...             PBDB-T:Y1   \n",
       "12   CCCCC(Cn1c2c(c3c1c1c(c4c3nn(n4)CC(CCCC)CC)c3c(...             PBDB-T:Y2   \n",
       "13   CCCCCCC(n1c(=O)c2cc(c3ccc4c(c3)C3(c5c4ccc(c5)c...         P3TEA:SF-PDI2   \n",
       "14   CCCCC(Cn1c2c(c3c1c1c(c4c3nn(n4)CC(CCCC)CC)c3c(...               PM6:Y11   \n",
       "15   CCCCCCC1(CCCCCC)c2cc3c4sc(cc4C(c3cc2c2c1cc(s2)...           PM6:IDST-4F   \n",
       "16   CCCCCCC1(CCCCCC)c2cc3c4sc(cc4C(c3cc2c2c1cc(s2)...             PM6:ID-4F   \n",
       "17   CCCCCC(n1c(=O)c2cc(c3ccc4c(c3)C3(c5c4ccc(c5)c4...     BDT-ffBX-DT:SFPDI   \n",
       "18   CCCCCCc1ccc(cc1)C1(c2ccc(cc2)CCCCCC)c2cc3c4sc(...              PM6:a-IT   \n",
       "19   CCCCCCCCn1c2cc(sc2c2c1c1c(s2)c2c(C1(c1ccc(cc1)...              PM6:N7IT   \n",
       "20   CCCCCCc1ccc(cc1)C1(c2ccc(cc2)CCCCCC)c2cc3c4sc5...            PM6:ITCPTC   \n",
       "21   CCCCCCc1ccc(cc1)C1(c2ccc(cc2)CCCCCC)c2cc3c4sc5...           PM6:ITC-2Cl   \n",
       "22   CCCCCCc1ccc(cc1)C1(c2ccc(cc2)CCCCCC)c2cc3c4sc5...             PM6:IT-4F   \n",
       "23   CCCCCCc1ccc(cc1)C1(c2ccc(cc2)CCCCCC)c2cc3c4sc5...            PM6:IT-4Cl   \n",
       "24   CCCCCCc1cccc(c1)C1(c2ccc(cc2)CCCCCC)c2c3sc4c(c...          PTB7-Th:FOIC   \n",
       "25   CCCCCCCCCCCc1c(/C=C\\2/C(=C(C#N)C#N)c3c(C2=O)cc...  PBDB-TF:BTP-4Cl (Y7)   \n",
       "26   CCCCCCc1ccc(cc1)C1(c2ccc(cc2)CCCCCC)c2cc3c4sc5...          PBDB-T:IT-4F   \n",
       "27   CCCCCCc1ccc(cc1)C1(c2ccc(cc2)CCCCCC)c2cc3c4sc5...        PBDBTz-2:IT-4F   \n",
       "28   CCCCCCc1ccc(cc1)C1(c2ccc(cc2)CCCCCC)c2cc3c4sc5...        PBDBTz-5:IT-4F   \n",
       "29   CCCCCCc1ccc(cc1)C1(c2ccc(cc2)CCCCCC)c2cc3c4sc5...           J52:ITCCM-O   \n",
       "..                                                 ...                   ...   \n",
       "170  CCCCCCc1ccc(cc1)C1(c2ccc(cc2)CCCCCC)c2cc3c4sc5...             P2:ITIC-m   \n",
       "171  CCCCCCC(Cc1c(/C=C\\2/C(=C(C#N)C#N)c3c(C2=O)cc(c...             PM6:L8-BO   \n",
       "172  CCCCCCc1cccc(c1)C1(c2ccc(cc2)CCCCCC)c2cc3c4sc5...    PBDTT-DPP:IEICO-4F   \n",
       "173  CCCCCCCCCCCc1c(/C=C\\2/C(=C(C#N)C#N)c3c(C2=O)cc...                D18:Y6   \n",
       "174  CCCCCCc1ccc(cc1)C1(c2ccc(cc2)CCCCCC)c2cc3c4sc5...       PBDB-T-SF:IT-4F   \n",
       "175  CCCCCCc1ccc(cc1)C1(c2ccc(cc2)CCCCCC)c2cc3c4sc(...           PTQ10:IDTCN   \n",
       "176  CCCCCCC1(CCCCCC)c2cc3c4sc(cc4C(c3cc2c2c1cc(s2)...           PTQ10:IDTPC   \n",
       "177  CCCCCCc1ccc(cc1)C1(c2ccc(cc2)CCCCCC)c2cc3c4sc5...              J51:ITIC   \n",
       "178  CCCCCCc1ccc(cc1)C1(c2ccc(cc2)CCCCCC)c2cc3c4sc5...              J50:ITIC   \n",
       "179  CCCCCCCCC1(CCCCCCCC)c2cc(ccc2c2c1cc(cc2)c1ccc(...         PTB7-Th:DICTF   \n",
       "180  CCCCCCCCC1(CCCCCCCC)c2cc(ccc2c2c1cc(cc2)c1ccc(...          PBDB-T:DICTF   \n",
       "181  CCCCCCCCC1(CCCCCCCC)c2cc3c4sc(cc4C(c3cc2c2c1cc...         PBDB-T:FDICTF   \n",
       "182  CCCCCCc1ccc(cc1)C1(c2ccc(cc2)CCCCCC)c2cc(sc2c2...          PBDB-T:NFBDT   \n",
       "183  CCCCCCCCC1(CCCCCCCC)c2cc3c4sc(cc4C(c3cc2c2c1cc...         PBDB-T:FDNCTF   \n",
       "184  CCCCCCc1ccc(cc1)C1(c2ccc(cc2)CCCCCC)c2cc(sc2c2...         PTB7-Th:IDT-N   \n",
       "185  CCCCCCc1ccc(cc1)C1(c2ccc(cc2)CCCCCC)c2cc(sc2c2...          PBDB-T:IDT-N   \n",
       "186  CCCCCCc1ccc(cc1)C1(c2ccc(cc2)CCCCCC)c2cc(sc2c2...        PBDB-T:IDT-T-N   \n",
       "187  CCCCCCC1(CCCCCC)c2cc(sc2c2c1cc1c3sc(cc3C(c1c2)...          PTB7-Th:IDIC   \n",
       "188  CCCCCCC1(CCCCCC)c2cc(sc2c2c1cc1c3sc(cc3C(c1c2)...            PDCBT:IDIC   \n",
       "189  CCCCCCC1(CCCCCC)c2cc(sc2c2c1cc1c3sc(cc3C(c1c2)...              J51:IDIC   \n",
       "190  CCCCCCC1(CCCCCC)c2cc(sc2c2c1cc1c3sc(cc3C(c1c2)...          PDBT-T1:IDIC   \n",
       "191  CCCCCCC1(CCCCCC)c2cc(sc2c2c1cc1c3sc(cc3C(c1c2)...       PTFBDT-BZS:IDIC   \n",
       "192  CCCCCCc1cccc(c1)C1(c2cccc(c2)CCCCCC)c2cc3c4sc5...            J70:m-ITIC   \n",
       "193  CCCCCCc1cccc(c1)C1(c2cccc(c2)CCCCCC)c2cc3c4sc5...            J71:m-ITIC   \n",
       "194  CCCCCCc1cccc(c1)C1(c2cccc(c2)CCCCCC)c2cc3c4sc5...            J72:m-ITIC   \n",
       "195  CCCCCCc1cccc(c1)C1(c2cccc(c2)CCCCCC)c2cc3c4sc5...            J73:m-ITIC   \n",
       "196  CCCCCCc1cccc(c1)C1(c2cccc(c2)CCCCCC)c2cc3c4sc5...            J74:m-ITIC   \n",
       "197  CCCCCCc1ccc(cc1)C1(c2ccc(cc2)CCCCCC)c2cc3c4sc5...              J81:ITIC   \n",
       "198  CCCCCCc1cccc(c1)C1(c2cccc(c2)CCCCCC)c2cc3c4sc5...            J81:m-ITIC   \n",
       "199  CCCCCCCCC(n1c2cc3c4sc(cc4C(c3cc2c2c1cc1c3sc(cc...            PM6:DTC-4F   \n",
       "\n",
       "     Unnamed: 0  Donor_MaxEStateIndex  Donor_MinEStateIndex  \\\n",
       "0             0             15.826616              0.070509   \n",
       "1             1             17.472290             -0.373608   \n",
       "2             2             18.497612             -0.645564   \n",
       "3             3             15.826616              0.070509   \n",
       "4             4             17.472290             -0.373608   \n",
       "5             5             18.497612             -0.645564   \n",
       "6             6             15.826616              0.070509   \n",
       "7             7             17.472290             -0.373608   \n",
       "8             8             18.497612             -0.645564   \n",
       "9             9             17.421622             -0.778406   \n",
       "10           10             17.421622             -0.778406   \n",
       "11           11             15.917476              0.072375   \n",
       "12           12             15.917476              0.072375   \n",
       "13           13             18.888897             -1.114240   \n",
       "14           14             16.502447             -0.118906   \n",
       "15           15             16.502447             -0.118906   \n",
       "16           16             16.502447             -0.118906   \n",
       "17           17             17.436360             -0.852937   \n",
       "18           18             16.502447             -0.118906   \n",
       "19           19             16.502447             -0.118906   \n",
       "20           20             16.502447             -0.118906   \n",
       "21           21             16.502447             -0.118906   \n",
       "22           22             16.502447             -0.118906   \n",
       "23           23             16.502447             -0.118906   \n",
       "24           24             16.336769             -0.530065   \n",
       "25           25             16.502447             -0.118906   \n",
       "26           26             15.917476              0.072375   \n",
       "27           27             15.872849              0.004668   \n",
       "28           28             15.885002              0.024260   \n",
       "29           29             17.287492             -0.846547   \n",
       "..          ...                   ...                   ...   \n",
       "170         170             16.017441              0.290256   \n",
       "171         171             16.502447             -0.118906   \n",
       "172         172             15.901873              0.026249   \n",
       "173         173             16.767269             -0.069142   \n",
       "174         174             16.479443             -0.157619   \n",
       "175         175             14.963897             -0.868633   \n",
       "176         176             14.963897             -0.868633   \n",
       "177         177             17.170430             -0.849599   \n",
       "178         178              5.317942              0.771898   \n",
       "179         179             16.336769             -0.530065   \n",
       "180         180             15.917476              0.072375   \n",
       "181         181             15.917476              0.072375   \n",
       "182         182             15.917476              0.072375   \n",
       "183         183             15.917476              0.072375   \n",
       "184         184             16.336769             -0.530065   \n",
       "185         185             15.917476              0.072375   \n",
       "186         186             15.917476              0.072375   \n",
       "187         187             16.336769             -0.530065   \n",
       "188         188             13.904846             -0.249109   \n",
       "189         189             17.170430             -0.849599   \n",
       "190         190             15.924584              0.074183   \n",
       "191         191             16.827528             -0.548965   \n",
       "192         192             17.288979             -1.615348   \n",
       "193         193             17.425265             -1.703228   \n",
       "194         194             17.434048             -1.942558   \n",
       "195         195             17.546757             -1.774777   \n",
       "196         196             17.398135             -1.677300   \n",
       "197         197             17.387649             -1.763283   \n",
       "198         198             17.387649             -1.763283   \n",
       "199         199             16.502447             -0.118906   \n",
       "\n",
       "     Donor_MinAbsEStateIndex  ...  Acceptor_NHOHCount  \\\n",
       "0                   0.070509  ...                   0   \n",
       "1                   0.140776  ...                   0   \n",
       "2                   0.079293  ...                   0   \n",
       "3                   0.070509  ...                   0   \n",
       "4                   0.140776  ...                   0   \n",
       "5                   0.079293  ...                   0   \n",
       "6                   0.070509  ...                   0   \n",
       "7                   0.140776  ...                   0   \n",
       "8                   0.079293  ...                   0   \n",
       "9                   0.293011  ...                   0   \n",
       "10                  0.293011  ...                   0   \n",
       "11                  0.072375  ...                   0   \n",
       "12                  0.072375  ...                   0   \n",
       "13                  0.053132  ...                   0   \n",
       "14                  0.011694  ...                   0   \n",
       "15                  0.011694  ...                   0   \n",
       "16                  0.011694  ...                   0   \n",
       "17                  0.180664  ...                   0   \n",
       "18                  0.011694  ...                   0   \n",
       "19                  0.011694  ...                   0   \n",
       "20                  0.011694  ...                   0   \n",
       "21                  0.011694  ...                   0   \n",
       "22                  0.011694  ...                   0   \n",
       "23                  0.011694  ...                   0   \n",
       "24                  0.103558  ...                   0   \n",
       "25                  0.011694  ...                   0   \n",
       "26                  0.072375  ...                   0   \n",
       "27                  0.004668  ...                   0   \n",
       "28                  0.024260  ...                   0   \n",
       "29                  0.219256  ...                   0   \n",
       "..                       ...  ...                 ...   \n",
       "170                 0.290256  ...                   0   \n",
       "171                 0.011694  ...                   0   \n",
       "172                 0.026249  ...                   0   \n",
       "173                 0.069142  ...                   0   \n",
       "174                 0.009317  ...                   0   \n",
       "175                 0.167290  ...                   0   \n",
       "176                 0.167290  ...                   0   \n",
       "177                 0.213892  ...                   0   \n",
       "178                 0.771898  ...                   0   \n",
       "179                 0.103558  ...                   0   \n",
       "180                 0.072375  ...                   0   \n",
       "181                 0.072375  ...                   0   \n",
       "182                 0.072375  ...                   0   \n",
       "183                 0.072375  ...                   0   \n",
       "184                 0.103558  ...                   0   \n",
       "185                 0.072375  ...                   0   \n",
       "186                 0.072375  ...                   0   \n",
       "187                 0.103558  ...                   0   \n",
       "188                 0.249109  ...                   0   \n",
       "189                 0.213892  ...                   0   \n",
       "190                 0.074183  ...                   0   \n",
       "191                 0.128243  ...                   0   \n",
       "192                 0.221297  ...                   0   \n",
       "193                 0.227715  ...                   0   \n",
       "194                 0.217010  ...                   0   \n",
       "195                 0.233235  ...                   0   \n",
       "196                 0.225590  ...                   0   \n",
       "197                 0.164752  ...                   0   \n",
       "198                 0.164752  ...                   0   \n",
       "199                 0.011694  ...                   0   \n",
       "\n",
       "     Acceptor_NumAliphaticCarbocycles  Acceptor_NumAliphaticRings  \\\n",
       "0                                   4                           4   \n",
       "1                                   4                           4   \n",
       "2                                   4                           4   \n",
       "3                                   4                           4   \n",
       "4                                   4                           4   \n",
       "5                                   4                           4   \n",
       "6                                   4                           4   \n",
       "7                                   4                           4   \n",
       "8                                   4                           4   \n",
       "9                                   1                           3   \n",
       "10                                  2                           4   \n",
       "11                                  2                           2   \n",
       "12                                  2                           2   \n",
       "13                                  2                           6   \n",
       "14                                  2                           2   \n",
       "15                                  4                           4   \n",
       "16                                  4                           4   \n",
       "17                                  2                           6   \n",
       "18                                  4                           4   \n",
       "19                                  4                           4   \n",
       "20                                  4                           4   \n",
       "21                                  4                           4   \n",
       "22                                  4                           4   \n",
       "23                                  4                           4   \n",
       "24                                  4                           4   \n",
       "25                                  2                           2   \n",
       "26                                  4                           4   \n",
       "27                                  4                           4   \n",
       "28                                  4                           4   \n",
       "29                                  4                           4   \n",
       "..                                ...                         ...   \n",
       "170                                 4                           4   \n",
       "171                                 2                           2   \n",
       "172                                 4                           4   \n",
       "173                                 2                           2   \n",
       "174                                 4                           4   \n",
       "175                                 4                           4   \n",
       "176                                 4                           4   \n",
       "177                                 4                           4   \n",
       "178                                 4                           4   \n",
       "179                                 3                           3   \n",
       "180                                 3                           3   \n",
       "181                                 5                           5   \n",
       "182                                 4                           4   \n",
       "183                                 5                           5   \n",
       "184                                 4                           4   \n",
       "185                                 4                           4   \n",
       "186                                 4                           4   \n",
       "187                                 4                           4   \n",
       "188                                 4                           4   \n",
       "189                                 4                           4   \n",
       "190                                 4                           4   \n",
       "191                                 4                           4   \n",
       "192                                 4                           4   \n",
       "193                                 4                           4   \n",
       "194                                 4                           4   \n",
       "195                                 4                           4   \n",
       "196                                 4                           4   \n",
       "197                                 4                           4   \n",
       "198                                 4                           4   \n",
       "199                                 4                           4   \n",
       "\n",
       "     Acceptor_NumAromaticHeterocycles  Acceptor_NumSaturatedHeterocycles  \\\n",
       "0                                   4                                  0   \n",
       "1                                   4                                  0   \n",
       "2                                   4                                  0   \n",
       "3                                   4                                  0   \n",
       "4                                   4                                  0   \n",
       "5                                   4                                  0   \n",
       "6                                   4                                  0   \n",
       "7                                   4                                  0   \n",
       "8                                   4                                  0   \n",
       "9                                   2                                  2   \n",
       "10                                  4                                  2   \n",
       "11                                  7                                  0   \n",
       "12                                  9                                  0   \n",
       "13                                  0                                  0   \n",
       "14                                  7                                  0   \n",
       "15                                  3                                  0   \n",
       "16                                  2                                  0   \n",
       "17                                  0                                  0   \n",
       "18                                  4                                  0   \n",
       "19                                  5                                  0   \n",
       "20                                  6                                  0   \n",
       "21                                  6                                  0   \n",
       "22                                  4                                  0   \n",
       "23                                  4                                  0   \n",
       "24                                  6                                  0   \n",
       "25                                  7                                  0   \n",
       "26                                  4                                  0   \n",
       "27                                  4                                  0   \n",
       "28                                  4                                  0   \n",
       "29                                  6                                  0   \n",
       "..                                ...                                ...   \n",
       "170                                 4                                  0   \n",
       "171                                 7                                  0   \n",
       "172                                 4                                  0   \n",
       "173                                 7                                  0   \n",
       "174                                 4                                  0   \n",
       "175                                 4                                  0   \n",
       "176                                 4                                  0   \n",
       "177                                 4                                  0   \n",
       "178                                 4                                  0   \n",
       "179                                 2                                  0   \n",
       "180                                 2                                  0   \n",
       "181                                 2                                  0   \n",
       "182                                 4                                  0   \n",
       "183                                 2                                  0   \n",
       "184                                 2                                  0   \n",
       "185                                 2                                  0   \n",
       "186                                 4                                  0   \n",
       "187                                 2                                  0   \n",
       "188                                 2                                  0   \n",
       "189                                 2                                  0   \n",
       "190                                 2                                  0   \n",
       "191                                 2                                  0   \n",
       "192                                 4                                  0   \n",
       "193                                 4                                  0   \n",
       "194                                 4                                  0   \n",
       "195                                 4                                  0   \n",
       "196                                 4                                  0   \n",
       "197                                 4                                  0   \n",
       "198                                 4                                  0   \n",
       "199                                 3                                  0   \n",
       "\n",
       "     Acceptor_fr_alkyl_halide  Acceptor_fr_allylic_oxid  Acceptor_fr_aniline  \\\n",
       "0                           0                         6                    0   \n",
       "1                           0                         6                    0   \n",
       "2                           0                         6                    0   \n",
       "3                           0                         6                    0   \n",
       "4                           0                         6                    0   \n",
       "5                           0                         6                    0   \n",
       "6                           0                         6                    0   \n",
       "7                           0                         6                    0   \n",
       "8                           0                         6                    0   \n",
       "9                           0                         0                    0   \n",
       "10                          0                         0                    0   \n",
       "11                          0                         6                    0   \n",
       "12                          0                         6                    0   \n",
       "13                          0                         0                    0   \n",
       "14                          0                         6                    0   \n",
       "15                          0                         6                    0   \n",
       "16                          0                         6                    0   \n",
       "17                          0                         0                    0   \n",
       "18                          0                         6                    0   \n",
       "19                          0                         7                    0   \n",
       "20                          0                         6                    0   \n",
       "21                          0                         6                    0   \n",
       "22                          0                         6                    0   \n",
       "23                          0                         6                    0   \n",
       "24                          0                         6                    0   \n",
       "25                          0                         6                    0   \n",
       "26                          0                         6                    0   \n",
       "27                          0                         6                    0   \n",
       "28                          0                         6                    0   \n",
       "29                          0                         4                    0   \n",
       "..                        ...                       ...                  ...   \n",
       "170                         0                         6                    0   \n",
       "171                         0                         6                    0   \n",
       "172                         0                         6                    0   \n",
       "173                         0                         6                    0   \n",
       "174                         0                         6                    0   \n",
       "175                         0                         6                    0   \n",
       "176                         0                         6                    0   \n",
       "177                         0                         6                    0   \n",
       "178                         0                         6                    0   \n",
       "179                         0                         6                    0   \n",
       "180                         0                         6                    0   \n",
       "181                         0                         6                    0   \n",
       "182                         0                         6                    0   \n",
       "183                         0                         6                    0   \n",
       "184                         0                         6                    0   \n",
       "185                         0                         6                    0   \n",
       "186                         0                         6                    0   \n",
       "187                         0                         6                    0   \n",
       "188                         0                         6                    0   \n",
       "189                         0                         6                    0   \n",
       "190                         0                         6                    0   \n",
       "191                         0                         6                    0   \n",
       "192                         0                         6                    0   \n",
       "193                         0                         6                    0   \n",
       "194                         0                         6                    0   \n",
       "195                         0                         6                    0   \n",
       "196                         0                         6                    0   \n",
       "197                         0                         6                    0   \n",
       "198                         0                         6                    0   \n",
       "199                         0                         6                    0   \n",
       "\n",
       "     Acceptor_fr_bicyclic  Acceptor_fr_unbrch_alkane  \n",
       "0                      12                         16  \n",
       "1                      12                         16  \n",
       "2                      12                         16  \n",
       "3                      12                          8  \n",
       "4                      12                          8  \n",
       "5                      12                          8  \n",
       "6                      12                          8  \n",
       "7                      12                          8  \n",
       "8                      12                          8  \n",
       "9                       5                         10  \n",
       "10                      8                         20  \n",
       "11                     16                          0  \n",
       "12                     16                          0  \n",
       "13                     14                         16  \n",
       "14                     16                          0  \n",
       "15                      8                          8  \n",
       "16                      8                          8  \n",
       "17                     14                          8  \n",
       "18                     12                          8  \n",
       "19                     14                         12  \n",
       "20                     12                          8  \n",
       "21                     12                          8  \n",
       "22                     12                          8  \n",
       "23                     12                          8  \n",
       "24                     15                          8  \n",
       "25                     16                         14  \n",
       "26                     12                          8  \n",
       "27                     12                          8  \n",
       "28                     12                          8  \n",
       "29                     12                          8  \n",
       "..                    ...                        ...  \n",
       "170                    12                          8  \n",
       "171                    16                          4  \n",
       "172                    12                          8  \n",
       "173                    16                         14  \n",
       "174                    12                          8  \n",
       "175                     8                          8  \n",
       "176                     8                          8  \n",
       "177                    12                          8  \n",
       "178                    12                          8  \n",
       "179                     5                          8  \n",
       "180                     5                          8  \n",
       "181                    11                         24  \n",
       "182                    12                          8  \n",
       "183                    13                         24  \n",
       "184                    10                          8  \n",
       "185                    10                          8  \n",
       "186                    10                          8  \n",
       "187                     8                          8  \n",
       "188                     8                          8  \n",
       "189                     8                          8  \n",
       "190                     8                          8  \n",
       "191                     8                          8  \n",
       "192                    12                          8  \n",
       "193                    12                          8  \n",
       "194                    12                          8  \n",
       "195                    12                          8  \n",
       "196                    12                          8  \n",
       "197                    12                          8  \n",
       "198                    12                          8  \n",
       "199                    11                         24  \n",
       "\n",
       "[200 rows x 132 columns]"
      ]
     },
     "execution_count": 22,
     "metadata": {},
     "output_type": "execute_result"
    }
   ],
   "source": [
    "dropped_data = df[['PCE','Donor','Acceptor','Donor_can_smiles','Acceptor_can_smiles','D:A']]\n",
    "al_dataset =pd.concat([dropped_data,inputs], axis =1)\n",
    "al_dataset"
   ]
  },
  {
   "cell_type": "code",
   "execution_count": 23,
   "metadata": {},
   "outputs": [
    {
     "name": "stdout",
     "output_type": "stream",
     "text": [
      "[  9  10  13  17  90 147 148 149 150 151 163 164 189 190 191]\n"
     ]
    },
    {
     "data": {
      "text/plain": [
       "15"
      ]
     },
     "execution_count": 23,
     "metadata": {},
     "output_type": "execute_result"
    }
   ],
   "source": [
    "filtered_set = al_dataset[al_dataset['PCE']>=10]          # to select data in which none of the donor or acceptor is involved in getting PCE of greater than 10%\n",
    "unique_d =filtered_set[\"Donor_can_smiles\"].unique()   \n",
    "unique_a =filtered_set[\"Acceptor_can_smiles\"].unique()  \n",
    "initial_set=df[~df['Donor_can_smiles'].isin(unique_d)]\n",
    "initial_set=initial_set[~initial_set['Acceptor_can_smiles'].isin(unique_a)]\n",
    "\n",
    "indexNames=initial_set.index\n",
    "indexNames=np.array(indexNames)\n",
    "print(indexNames)\n",
    "len(indexNames)"
   ]
  },
  {
   "cell_type": "code",
   "execution_count": 24,
   "metadata": {},
   "outputs": [
    {
     "name": "stdout",
     "output_type": "stream",
     "text": [
      "Picked 10 training entries\n"
     ]
    }
   ],
   "source": [
    "X = all_values.copy()\n",
    "y = all_labels.copy()\n",
    "\n",
    "np.random.seed(seed=1)\n",
    "entry_number_init = int(0.05*len(all_values))\n",
    "\n",
    "in_train = np.zeros(len(inputs), dtype=np.bool)               \n",
    "in_train[np.random.choice(indexNames, entry_number_init, replace=False)] = True       # indexNames represent the index values where PCE is less than 10%\n",
    "print('Picked {} training entries'.format(in_train.sum()))\n",
    "assert not np.isclose(max(y), max(y[in_train]))"
   ]
  },
  {
   "cell_type": "markdown",
   "metadata": {},
   "source": [
    "We will then train the model with this initial set and make predictions:"
   ]
  },
  {
   "cell_type": "markdown",
   "metadata": {},
   "source": [
    "Then, we will query the next material to sample using the four different acquisition functions we described before.\n",
    "\n",
    "Just as a reminder, the NumPy function <b>argmax</b> returns the index of the maximum value of an array."
   ]
  },
  {
   "cell_type": "markdown",
   "metadata": {},
   "source": [
    "# dataset with PCE less 10%"
   ]
  },
  {
   "cell_type": "code",
   "execution_count": 25,
   "metadata": {
    "scrolled": true
   },
   "outputs": [
    {
     "data": {
      "text/html": [
       "<div>\n",
       "<style scoped>\n",
       "    .dataframe tbody tr th:only-of-type {\n",
       "        vertical-align: middle;\n",
       "    }\n",
       "\n",
       "    .dataframe tbody tr th {\n",
       "        vertical-align: top;\n",
       "    }\n",
       "\n",
       "    .dataframe thead th {\n",
       "        text-align: right;\n",
       "    }\n",
       "</style>\n",
       "<table border=\"1\" class=\"dataframe\">\n",
       "  <thead>\n",
       "    <tr style=\"text-align: right;\">\n",
       "      <th></th>\n",
       "      <th>Donor</th>\n",
       "      <th>Acceptor</th>\n",
       "      <th>PCE</th>\n",
       "    </tr>\n",
       "  </thead>\n",
       "  <tbody>\n",
       "    <tr>\n",
       "      <th>9</th>\n",
       "      <td>PffBT4T-2DT</td>\n",
       "      <td>FBR</td>\n",
       "      <td>7.80</td>\n",
       "    </tr>\n",
       "    <tr>\n",
       "      <th>10</th>\n",
       "      <td>PffBT4T-2DT</td>\n",
       "      <td>IDTBR</td>\n",
       "      <td>9.95</td>\n",
       "    </tr>\n",
       "    <tr>\n",
       "      <th>13</th>\n",
       "      <td>P3TEA</td>\n",
       "      <td>SF-PDI2</td>\n",
       "      <td>9.50</td>\n",
       "    </tr>\n",
       "    <tr>\n",
       "      <th>17</th>\n",
       "      <td>BDT-ffBX-DT</td>\n",
       "      <td>SFPDI</td>\n",
       "      <td>6.20</td>\n",
       "    </tr>\n",
       "    <tr>\n",
       "      <th>90</th>\n",
       "      <td>PMOT39</td>\n",
       "      <td>i-IEICO-2F</td>\n",
       "      <td>6.00</td>\n",
       "    </tr>\n",
       "    <tr>\n",
       "      <th>147</th>\n",
       "      <td>PTPDBDT</td>\n",
       "      <td>H-ITIC</td>\n",
       "      <td>5.60</td>\n",
       "    </tr>\n",
       "    <tr>\n",
       "      <th>148</th>\n",
       "      <td>PTPDBDT</td>\n",
       "      <td>F-ITIC</td>\n",
       "      <td>8.80</td>\n",
       "    </tr>\n",
       "    <tr>\n",
       "      <th>149</th>\n",
       "      <td>PTPDBDT</td>\n",
       "      <td>Cl-ITIC</td>\n",
       "      <td>9.50</td>\n",
       "    </tr>\n",
       "    <tr>\n",
       "      <th>150</th>\n",
       "      <td>PTPDBDT</td>\n",
       "      <td>Br-ITIC</td>\n",
       "      <td>9.40</td>\n",
       "    </tr>\n",
       "    <tr>\n",
       "      <th>151</th>\n",
       "      <td>PTPDBDT</td>\n",
       "      <td>I-ITIC</td>\n",
       "      <td>8.90</td>\n",
       "    </tr>\n",
       "    <tr>\n",
       "      <th>163</th>\n",
       "      <td>PffBT-T3</td>\n",
       "      <td>TPPz-PDI4</td>\n",
       "      <td>6.90</td>\n",
       "    </tr>\n",
       "    <tr>\n",
       "      <th>164</th>\n",
       "      <td>PffBT-T3</td>\n",
       "      <td>TPE-PDI4</td>\n",
       "      <td>5.90</td>\n",
       "    </tr>\n",
       "    <tr>\n",
       "      <th>189</th>\n",
       "      <td>J51</td>\n",
       "      <td>IDIC</td>\n",
       "      <td>6.94</td>\n",
       "    </tr>\n",
       "    <tr>\n",
       "      <th>190</th>\n",
       "      <td>PDBT-T1</td>\n",
       "      <td>IDIC</td>\n",
       "      <td>9.20</td>\n",
       "    </tr>\n",
       "    <tr>\n",
       "      <th>191</th>\n",
       "      <td>PTFBDT-BZS</td>\n",
       "      <td>IDIC</td>\n",
       "      <td>8.06</td>\n",
       "    </tr>\n",
       "  </tbody>\n",
       "</table>\n",
       "</div>"
      ],
      "text/plain": [
       "           Donor    Acceptor   PCE\n",
       "9    PffBT4T-2DT         FBR  7.80\n",
       "10   PffBT4T-2DT       IDTBR  9.95\n",
       "13         P3TEA     SF-PDI2  9.50\n",
       "17   BDT-ffBX-DT       SFPDI  6.20\n",
       "90        PMOT39  i-IEICO-2F  6.00\n",
       "147      PTPDBDT      H-ITIC  5.60\n",
       "148      PTPDBDT      F-ITIC  8.80\n",
       "149      PTPDBDT     Cl-ITIC  9.50\n",
       "150      PTPDBDT     Br-ITIC  9.40\n",
       "151      PTPDBDT      I-ITIC  8.90\n",
       "163     PffBT-T3   TPPz-PDI4  6.90\n",
       "164     PffBT-T3    TPE-PDI4  5.90\n",
       "189          J51        IDIC  6.94\n",
       "190      PDBT-T1        IDIC  9.20\n",
       "191   PTFBDT-BZS        IDIC  8.06"
      ]
     },
     "execution_count": 25,
     "metadata": {},
     "output_type": "execute_result"
    }
   ],
   "source": [
    "initial_set[['Donor','Acceptor','PCE']]"
   ]
  },
  {
   "cell_type": "markdown",
   "metadata": {},
   "source": [
    "# 10 data selected for initial training set"
   ]
  },
  {
   "cell_type": "code",
   "execution_count": 26,
   "metadata": {
    "scrolled": true
   },
   "outputs": [
    {
     "data": {
      "text/html": [
       "<div>\n",
       "<style scoped>\n",
       "    .dataframe tbody tr th:only-of-type {\n",
       "        vertical-align: middle;\n",
       "    }\n",
       "\n",
       "    .dataframe tbody tr th {\n",
       "        vertical-align: top;\n",
       "    }\n",
       "\n",
       "    .dataframe thead th {\n",
       "        text-align: right;\n",
       "    }\n",
       "</style>\n",
       "<table border=\"1\" class=\"dataframe\">\n",
       "  <thead>\n",
       "    <tr style=\"text-align: right;\">\n",
       "      <th></th>\n",
       "      <th>Donor</th>\n",
       "      <th>Acceptor</th>\n",
       "      <th>PCE</th>\n",
       "    </tr>\n",
       "  </thead>\n",
       "  <tbody>\n",
       "    <tr>\n",
       "      <th>9</th>\n",
       "      <td>PffBT4T-2DT</td>\n",
       "      <td>FBR</td>\n",
       "      <td>7.80</td>\n",
       "    </tr>\n",
       "    <tr>\n",
       "      <th>10</th>\n",
       "      <td>PffBT4T-2DT</td>\n",
       "      <td>IDTBR</td>\n",
       "      <td>9.95</td>\n",
       "    </tr>\n",
       "    <tr>\n",
       "      <th>13</th>\n",
       "      <td>P3TEA</td>\n",
       "      <td>SF-PDI2</td>\n",
       "      <td>9.50</td>\n",
       "    </tr>\n",
       "    <tr>\n",
       "      <th>17</th>\n",
       "      <td>BDT-ffBX-DT</td>\n",
       "      <td>SFPDI</td>\n",
       "      <td>6.20</td>\n",
       "    </tr>\n",
       "    <tr>\n",
       "      <th>90</th>\n",
       "      <td>PMOT39</td>\n",
       "      <td>i-IEICO-2F</td>\n",
       "      <td>6.00</td>\n",
       "    </tr>\n",
       "    <tr>\n",
       "      <th>148</th>\n",
       "      <td>PTPDBDT</td>\n",
       "      <td>F-ITIC</td>\n",
       "      <td>8.80</td>\n",
       "    </tr>\n",
       "    <tr>\n",
       "      <th>149</th>\n",
       "      <td>PTPDBDT</td>\n",
       "      <td>Cl-ITIC</td>\n",
       "      <td>9.50</td>\n",
       "    </tr>\n",
       "    <tr>\n",
       "      <th>163</th>\n",
       "      <td>PffBT-T3</td>\n",
       "      <td>TPPz-PDI4</td>\n",
       "      <td>6.90</td>\n",
       "    </tr>\n",
       "    <tr>\n",
       "      <th>190</th>\n",
       "      <td>PDBT-T1</td>\n",
       "      <td>IDIC</td>\n",
       "      <td>9.20</td>\n",
       "    </tr>\n",
       "    <tr>\n",
       "      <th>191</th>\n",
       "      <td>PTFBDT-BZS</td>\n",
       "      <td>IDIC</td>\n",
       "      <td>8.06</td>\n",
       "    </tr>\n",
       "  </tbody>\n",
       "</table>\n",
       "</div>"
      ],
      "text/plain": [
       "           Donor    Acceptor   PCE\n",
       "9    PffBT4T-2DT         FBR  7.80\n",
       "10   PffBT4T-2DT       IDTBR  9.95\n",
       "13         P3TEA     SF-PDI2  9.50\n",
       "17   BDT-ffBX-DT       SFPDI  6.20\n",
       "90        PMOT39  i-IEICO-2F  6.00\n",
       "148      PTPDBDT      F-ITIC  8.80\n",
       "149      PTPDBDT     Cl-ITIC  9.50\n",
       "163     PffBT-T3   TPPz-PDI4  6.90\n",
       "190      PDBT-T1        IDIC  9.20\n",
       "191   PTFBDT-BZS        IDIC  8.06"
      ]
     },
     "execution_count": 26,
     "metadata": {},
     "output_type": "execute_result"
    }
   ],
   "source": [
    "df[in_train][['Donor','Acceptor','PCE']]"
   ]
  },
  {
   "cell_type": "code",
   "execution_count": 27,
   "metadata": {},
   "outputs": [],
   "source": [
    "PCE_train_max = df[in_train]['PCE'].max()"
   ]
  },
  {
   "cell_type": "code",
   "execution_count": 28,
   "metadata": {},
   "outputs": [],
   "source": [
    "model.fit(X[in_train],y[in_train])                                      # Fitting the model on randomly selected small dataset and prediction on remaining dataset\n",
    "y_pred,y_std = model.predict(X[~in_train], return_std=True)"
   ]
  },
  {
   "cell_type": "code",
   "execution_count": 29,
   "metadata": {},
   "outputs": [],
   "source": [
    "mm_selection = np.argmax(y_pred)    \n",
    "\n",
    "from scipy.stats import norm\n",
    "def piecewise(m,s): # argument of the function, m is the prediction - top training point, s is the uncertainty of that point\n",
    "    if s > 0:\n",
    "        return s*norm.pdf(m/s)+m*norm.cdf(m/s)\n",
    "    else:\n",
    "        return max(np.max(m), 0) \n",
    "cons = np.max(y[in_train])\n",
    "mei_selection = np.argmax([piecewise(mn-cons, sd) for mn,sd in zip(y_pred, y_std )])\n",
    "\n",
    "mli_selection = np.argmax(np.divide(y_pred - np.max(y[in_train]), y_std))\n",
    "mu_selection = np.argmax(y_std)\n",
    "ucb_selection = np.argmax([sum(x) for x in zip(y_pred, y_std)])"
   ]
  },
  {
   "cell_type": "code",
   "execution_count": 30,
   "metadata": {},
   "outputs": [
    {
     "name": "stdout",
     "output_type": "stream",
     "text": [
      "Predicted PCE of material 143 selected based on MM: 9.088314 +/- 0.912916\n",
      "Predicted PCE of material 50 selected based on MEI: 9.062229 +/- 1.301854\n",
      "Predicted PCE of material 50 selected based on MLI: 9.062229 +/- 1.301854\n",
      "Predicted PCE of material 87 selected based on MU: 7.512114 +/- 1.587380\n",
      "Predicted PCE of material 50 selected based on UCB: 9.062229 +/- 1.301854\n"
     ]
    }
   ],
   "source": [
    "print('Predicted ' + property_interest + ' of material {} selected based on MM: {:.6f} +/- {:.6f}'.format(inputs.index[mm_selection], y_pred[mm_selection], y_std[mm_selection]))\n",
    "print('Predicted ' + property_interest + ' of material {} selected based on MEI: {:.6f} +/- {:.6f}'.format(inputs.index[mei_selection], y_pred[mei_selection], y_std[mei_selection]))\n",
    "print('Predicted ' + property_interest + ' of material {} selected based on MLI: {:.6f} +/- {:.6f}'.format(inputs.index[mli_selection], y_pred[mli_selection], y_std[mli_selection]))\n",
    "print('Predicted ' + property_interest + ' of material {} selected based on MU: {:.6f} +/- {:.6f}'.format(inputs.index[mu_selection], y_pred[mu_selection], y_std[mu_selection]))\n",
    "print('Predicted ' + property_interest + ' of material {} selected based on UCB: {:.6f} +/- {:.6f}'.format(inputs.index[ucb_selection], y_pred[ucb_selection], y_std[ucb_selection]))"
   ]
  },
  {
   "cell_type": "code",
   "execution_count": 32,
   "metadata": {},
   "outputs": [
    {
     "name": "stdout",
     "output_type": "stream",
     "text": [
      "Predicted PCE of material PTPDBDT:Br-ITIC selected based on MM: 9.088314 +/- 0.912916\n",
      "Predicted PCE of material PffBT2T-TT:O-IDTBR selected based on MEI: 9.062229 +/- 1.301854\n",
      "Predicted PCE of material PffBT2T-TT:O-IDTBR selected based on MLI: 9.062229 +/- 1.301854\n",
      "Predicted PCE of material PTH37:i-IEICO selected based on MU: 7.512114 +/- 1.587380\n",
      "Predicted PCE of material PffBT2T-TT:O-IDTBR selected based on UCB: 9.062229 +/- 1.301854\n"
     ]
    }
   ],
   "source": [
    "print('Predicted ' + property_interest + ' of material {} selected based on MM: {:.6f} +/- {:.6f}'.format(df[~in_train].iloc[mm_selection]['D:A'], y_pred[mm_selection], y_std[mm_selection]))\n",
    "print('Predicted ' + property_interest + ' of material {} selected based on MEI: {:.6f} +/- {:.6f}'.format(df[~in_train].iloc[mei_selection]['D:A'], y_pred[mei_selection], y_std[mei_selection]))\n",
    "print('Predicted ' + property_interest + ' of material {} selected based on MLI: {:.6f} +/- {:.6f}'.format(df[~in_train].iloc[mli_selection]['D:A'], y_pred[mli_selection], y_std[mli_selection]))\n",
    "print('Predicted ' + property_interest + ' of material {} selected based on MU: {:.6f} +/- {:.6f}'.format(df[~in_train].iloc[mu_selection]['D:A'], y_pred[mu_selection], y_std[mu_selection]))\n",
    "print('Predicted ' + property_interest + ' of material {} selected based on UCB: {:.6f} +/- {:.6f}'.format(df[~in_train].iloc[ucb_selection]['D:A'], y_pred[ucb_selection], y_std[ucb_selection]))"
   ]
  },
  {
   "cell_type": "code",
   "execution_count": 33,
   "metadata": {},
   "outputs": [
    {
     "data": {
      "text/html": [
       "        <script type=\"text/javascript\">\n",
       "        window.PlotlyConfig = {MathJaxConfig: 'local'};\n",
       "        if (window.MathJax) {MathJax.Hub.Config({SVG: {font: \"STIX-Web\"}});}\n",
       "        if (typeof require !== 'undefined') {\n",
       "        require.undef(\"plotly\");\n",
       "        requirejs.config({\n",
       "            paths: {\n",
       "                'plotly': ['https://cdn.plot.ly/plotly-latest.min']\n",
       "            }\n",
       "        });\n",
       "        require(['plotly'], function(Plotly) {\n",
       "            window._Plotly = Plotly;\n",
       "        });\n",
       "        }\n",
       "        </script>\n",
       "        "
      ]
     },
     "metadata": {},
     "output_type": "display_data"
    },
    {
     "data": {
      "application/vnd.plotly.v1+json": {
       "config": {
        "linkText": "Export to plot.ly",
        "plotlyServerURL": "https://plot.ly",
        "showLink": false
       },
       "data": [
        {
         "error_y": {
          "array": [
           1.2484360757701953,
           1.1921559500547387,
           1.0161284965848747,
           1.27178738919828,
           1.1962766632749282,
           1.0112413955377422,
           1.3197420318759092,
           1.2573378659731769,
           1.1233680095203689,
           1.33951351100791,
           1.3323345131814044,
           1.2551714877952145,
           1.2463851452955588,
           1.0741983773536101,
           1.2141229237632294,
           1.3589515064523325,
           1.1788798741496052,
           1.223625487478181,
           1.2118753581740505,
           1.2873906517196245,
           1.2073264014777791,
           1.2861046111473868,
           1.3339889004074024,
           1.393704835112911,
           1.3878798470739617,
           1.412678195483703,
           1.388152056147486,
           1.4399511248357268,
           1.3587958783608183,
           1.0247174149967493,
           1.3916908135457295,
           1.4471777562011499,
           1.53132791971796,
           1.3815957137789534,
           0.9633316556812062,
           0.9992183043818342,
           0.9037825914315357,
           1.4746718385860031,
           1.488471123849216,
           1.5624645498393568,
           1.4824851081153794,
           1.4981260402313141,
           1.47899250730902,
           1.3474411959355765,
           1.3701863962761858,
           1.3803240301328157,
           1.2971883852847756,
           1.5113286491409732,
           1.4930301295227457,
           1.4863003403068975,
           1.3018539367124735,
           1.445083661942198,
           1.4144812827401656,
           1.4499694115084898,
           1.4180467183039744,
           1.4001459417529039,
           1.4848320859184385,
           1.3385742269718879,
           1.2946844947924874,
           1.4466187250174172,
           1.4874006744219848,
           1.4512845944927655,
           1.5114149321122485,
           1.2339074256190978,
           1.2525587126734719,
           1.1677027122656267,
           1.17406609353012,
           1.0880909689041287,
           1.0957246741789584,
           1.172481825701572,
           1.3024868449127198,
           1.4603186324878945,
           1.4637117387081133,
           1.3675593876222576,
           1.2441939309702812,
           1.3106084540596548,
           1.3340428261390207,
           1.2687614031637333,
           1.2707567984353045,
           1.330261193302608,
           1.544275347453148,
           1.535405966708272,
           1.471371617908295,
           1.5403755486716726,
           1.5720001197793136,
           1.5567787740887016,
           1.5669222490043588,
           1.587380422524019,
           1.5784235416360328,
           1.5106425846043066,
           1.5040163079040259,
           1.5487661313693015,
           1.5161072265478117,
           1.450551269013274,
           1.4803123236404865,
           1.5331258566554404,
           1.5451936124773922,
           1.3614826126783466,
           1.3602364702559355,
           1.3706873721925699,
           1.2630903554413682,
           1.5205784559730993,
           1.5315247863162735,
           1.5127140881220045,
           1.4889620073022427,
           1.5264310373645162,
           1.405694473826158,
           1.5518991320594167,
           1.49541042737288,
           1.45436011955345,
           1.4547038468465996,
           1.2339509875620176,
           1.3566213528038475,
           1.3502353534178104,
           1.3683090918259797,
           1.1916108574237179,
           1.1973095996974348,
           1.2731193994756846,
           1.3667715413238388,
           1.3503012504803171,
           1.2415714063645018,
           1.3806711117381898,
           1.1164068074137605,
           1.3469316577718953,
           1.4521797595449164,
           1.5090887958831343,
           1.2841969112709013,
           1.4280021306500996,
           1.498865730511142,
           1.546430310118239,
           1.2607594265202064,
           1.2727795108251958,
           1.3504814650614125,
           1.2637554119772076,
           1.1201055970335716,
           1.3485640776890206,
           1.3174333513633587,
           1.3282833997352674,
           1.2140774629157263,
           1.2836321216218594,
           1.3239556589943717,
           1.0967262548606642,
           0.8902369174193516,
           0.9129163970117243,
           1.0073596618556933,
           1.2201131749308267,
           1.2339924485499003,
           1.2291355244788178,
           1.2825780771344748,
           1.4317596992047528,
           1.3253169019929325,
           1.4325901191364554,
           1.4038595198135975,
           1.5155357033988688,
           1.322136828349324,
           1.49751006986023,
           1.0927613683255737,
           1.4727753626848992,
           1.4746962553135958,
           1.482267156710997,
           1.479099098528044,
           1.500946899653415,
           1.48890486419977,
           1.3574928179244012,
           1.4557006986142338,
           1.4230467979345403,
           1.3333707393102001,
           1.0422164112562877,
           0.9327652106456102,
           1.3213488565306808,
           1.4113818661161968,
           0.9746405515195801,
           1.164728328585924,
           1.3096574124034448,
           1.2859790910730389,
           1.3354589231448826,
           1.1359407432095696,
           1.3232197304975704,
           1.518091809381438,
           0.8933541298443003,
           0.8530645034657522,
           1.1592030972664955,
           1.2349614006407041,
           1.2371960325359252,
           1.254832206861211,
           1.30971030221441,
           1.2491467479984892,
           1.2637989705266486,
           1.2524241907850266,
           1.3901625277135259
          ],
          "type": "data",
          "visible": true
         },
         "marker": {
          "color": "lightgray",
          "size": 12
         },
         "mode": "markers",
         "name": "Testing Data",
         "text": [
          58,
          40,
          34,
          102,
          184,
          198,
          95,
          4,
          29,
          168,
          171,
          18,
          11,
          89,
          110,
          118,
          159,
          35,
          136,
          59
         ],
         "type": "scatter",
         "x": [
          11.6,
          12.2,
          8.8,
          8,
          8.9,
          4.4,
          7.8,
          10.9,
          9.9,
          13.42,
          13.4,
          13.8,
          14.3,
          6.4,
          11.46,
          13.82,
          12.3,
          13.6,
          12.9,
          12.7,
          11.7,
          16.5,
          9.3,
          10.4,
          9.6,
          5.5,
          15,
          9.41,
          10.5,
          6.4,
          7.2,
          10.5,
          11.4,
          10.19,
          8.4,
          7,
          5.4,
          9.83,
          8.45,
          11.48,
          6,
          7.2,
          10.2,
          14.9,
          17.8,
          16.9,
          9.1,
          7.59,
          8.1,
          7,
          10.1,
          9.12,
          13.18,
          13.68,
          13.31,
          16.64,
          8.25,
          13.7,
          8.9,
          10.52,
          9.41,
          11.1,
          13.24,
          14.16,
          13.68,
          9.66,
          9.18,
          4.93,
          6.55,
          6.71,
          6.19,
          12.03,
          9.74,
          13.32,
          9.6,
          13.4,
          12.5,
          8.2,
          14.1,
          15.3,
          9.64,
          9.82,
          7.9,
          7.57,
          8.16,
          8.49,
          4.1,
          4.46,
          4.11,
          7.76,
          10.18,
          9.4,
          8.72,
          9.27,
          7.72,
          5.94,
          4.5,
          8.53,
          8.48,
          6.53,
          5.75,
          9.11,
          7.08,
          10.81,
          8.97,
          11.59,
          15.12,
          4.12,
          13.9,
          11.26,
          12.21,
          15.3,
          5.75,
          10.5,
          16.21,
          12.72,
          14,
          17.1,
          16.7,
          15.2,
          12.87,
          12.43,
          8.31,
          8.36,
          11.05,
          8.02,
          10.35,
          8.24,
          9.92,
          10.93,
          5.51,
          8.97,
          9.53,
          10.81,
          8.13,
          8.59,
          6.68,
          8.9,
          11.34,
          11.73,
          10.68,
          8.12,
          5.6,
          9.4,
          8.9,
          7.7,
          10.1,
          10.8,
          11.5,
          7.3,
          9.3,
          10.8,
          9.7,
          11.1,
          12.97,
          7.11,
          5.9,
          10.9,
          12.1,
          9.94,
          8.05,
          9.62,
          12.84,
          18.32,
          8.14,
          18.22,
          13.1,
          7.4,
          12.2,
          7.03,
          4.8,
          6.54,
          5.65,
          9.81,
          8.99,
          11.2,
          5.5,
          6.9,
          5.4,
          5.24,
          6.28,
          6.94,
          11.62,
          12.05,
          10.23,
          10.71,
          9.63,
          8.03,
          7.21,
          13.37
         ],
         "y": [
          8.631828571428551,
          8.638485714285695,
          8.805885714285695,
          8.536399999999984,
          8.562285714285704,
          8.740542857142849,
          8.338628571428563,
          8.356828571428562,
          8.547399999999993,
          8.169171428571419,
          8.184399999999991,
          8.171457142857138,
          8.452828571428558,
          8.540371428571412,
          8.708285714285706,
          8.563828571428562,
          8.655914285714276,
          8.699085714285706,
          8.411914285714277,
          8.597257142857137,
          8.624742857142852,
          8.47297142857142,
          8.291057142857134,
          8.118685714285705,
          8.126599999999993,
          8.451028571428562,
          8.166028571428562,
          8.037314285714286,
          8.245914285714287,
          8.706485714285716,
          8.38965714285714,
          7.582457142857136,
          8.55339999999999,
          8.349599999999995,
          8.89782857142857,
          8.80982857142857,
          8.91048571428572,
          8.121599999999992,
          8.066599999999994,
          8.003657142857136,
          8.251714285714284,
          8.11302857142857,
          8.119399999999999,
          8.304399999999989,
          8.373314285714274,
          8.356685714285701,
          8.479971428571416,
          7.916571428571421,
          8.072828571428566,
          8.088542857142853,
          9.062228571428552,
          8.23582857142856,
          8.259914285714276,
          8.25577142857142,
          8.11774285714285,
          8.143771428571423,
          7.943257142857145,
          8.413314285714275,
          8.625714285714274,
          8.345371428571411,
          8.179485714285702,
          8.251399999999986,
          7.998942857142849,
          8.424171428571421,
          8.720628571428561,
          8.615942857142846,
          8.63019999999999,
          8.704857142857138,
          8.722399999999999,
          8.715514285714283,
          8.81471428571428,
          7.815085714285716,
          7.597257142857144,
          8.162057142857131,
          8.539028571428554,
          8.587485714285696,
          8.582714285714268,
          8.497057142857134,
          8.383714285714278,
          8.271999999999993,
          7.370428571428568,
          7.334914285714281,
          7.103657142857142,
          7.3325999999999985,
          7.314914285714285,
          7.274142857142857,
          7.273371428571429,
          7.512114285714281,
          7.470199999999995,
          8.034685714285711,
          7.7516,
          7.678942857142854,
          7.832771428571426,
          8.17368571428571,
          7.8897428571428545,
          7.82248571428571,
          7.484771428571421,
          8.320228571428562,
          8.37119999999999,
          8.385714285714275,
          8.535942857142846,
          7.927885714285704,
          7.936371428571422,
          7.600314285714283,
          7.390857142857142,
          7.610514285714285,
          8.174257142857135,
          8.398171428571423,
          7.687057142857142,
          7.964371428571423,
          7.934314285714282,
          8.273057142857136,
          8.265371428571425,
          8.271857142857138,
          8.220999999999997,
          8.436799999999995,
          8.384457142857137,
          8.393657142857133,
          8.266371428571421,
          8.225999999999994,
          8.69631428571427,
          8.550057142857137,
          8.606371428571432,
          8.202457142857142,
          8.306142857142849,
          7.935657142857137,
          8.619571428571422,
          8.234828571428567,
          8.228657142857132,
          7.867171428571423,
          8.39177142857142,
          8.363285714285709,
          8.291114285714281,
          8.487628571428566,
          8.64811428571428,
          8.238999999999994,
          8.160771428571415,
          8.108028571428559,
          8.326199999999991,
          8.497542857142852,
          8.518742857142849,
          8.786057142857139,
          8.91848571428572,
          9.088314285714286,
          9.024914285714283,
          8.68397142857142,
          8.584828571428563,
          8.669399999999992,
          8.439742857142846,
          8.319257142857133,
          8.321257142857133,
          8.179142857142844,
          8.424714285714279,
          8.263885714285708,
          8.17977142857142,
          7.996457142857146,
          7.301114285714316,
          8.065457142857134,
          8.017457142857136,
          8.025514285714278,
          8.013199999999992,
          8.046542857142848,
          8.001885714285704,
          8.159199999999988,
          7.996342857142853,
          7.758399999999997,
          8.164485714285709,
          8.646771428571425,
          8.586485714285704,
          8.290485714285705,
          8.064285714285704,
          8.375085714285703,
          8.275571428571416,
          8.61457142857141,
          8.48642857142856,
          8.582542857142837,
          8.617942857142852,
          8.40505714285713,
          8.094257142857135,
          8.651942857142839,
          8.656514285714271,
          8.242885714285695,
          8.36677142857142,
          8.38659999999999,
          8.31217142857142,
          8.212114285714279,
          8.336371428571422,
          8.391885714285706,
          8.354485714285707,
          8.37625714285713
         ]
        },
        {
         "error_y": {
          "array": [
           0.9129163970117243
          ],
          "type": "data",
          "visible": true
         },
         "marker": {
          "color": "green",
          "opacity": 0.9,
          "size": 28,
          "symbol": "triangle-up"
         },
         "mode": "markers+text",
         "name": "Selected by MM",
         "textfont": {
          "color": "#008000"
         },
         "type": "scatter",
         "x": [
          9.4
         ],
         "y": [
          9.088314285714286
         ]
        },
        {
         "error_y": {
          "array": [
           1.3018539367124735
          ],
          "type": "data",
          "visible": true
         },
         "marker": {
          "color": "blue",
          "opacity": 1,
          "size": 25,
          "symbol": "diamond"
         },
         "mode": "markers+text",
         "name": "Selected by MEI",
         "textfont": {
          "color": "#0000ff"
         },
         "type": "scatter",
         "x": [
          10.1
         ],
         "y": [
          9.062228571428552
         ]
        },
        {
         "error_y": {
          "array": [
           1.3018539367124735
          ],
          "type": "data",
          "visible": true
         },
         "marker": {
          "color": "red",
          "opacity": 1,
          "size": 25,
          "symbol": "star"
         },
         "mode": "markers+text",
         "name": "Selected by MLI",
         "textfont": {
          "color": "#ff0000"
         },
         "type": "scatter",
         "x": [
          10.1
         ],
         "y": [
          9.062228571428552
         ]
        },
        {
         "error_y": {
          "array": [
           1.587380422524019
          ],
          "type": "data",
          "visible": true
         },
         "marker": {
          "color": "purple",
          "opacity": 0.9,
          "size": 20,
          "symbol": "square"
         },
         "mode": "markers+text",
         "name": "Selected by MU",
         "textfont": {
          "color": "#800080"
         },
         "type": "scatter",
         "x": [
          4.46
         ],
         "y": [
          7.512114285714281
         ]
        },
        {
         "error_y": {
          "array": [
           1.3018539367124735
          ],
          "type": "data",
          "visible": true
         },
         "marker": {
          "color": "darkorange",
          "opacity": 1,
          "size": 12,
          "symbol": "circle"
         },
         "mode": "markers+text",
         "name": "Selected by UCB",
         "textfont": {
          "color": "#ff8c00"
         },
         "type": "scatter",
         "x": [
          10.1
         ],
         "y": [
          9.062228571428552
         ]
        },
        {
         "line": {
          "color": "black",
          "dash": "dash",
          "width": 3
         },
         "mode": "lines",
         "name": "Max PCE in training set",
         "type": "scatter",
         "x": [
          3,
          20
         ],
         "y": [
          9.95,
          9.95
         ]
        }
       ],
       "layout": {
        "font": {
         "family": "Times New Roman",
         "size": 22
        },
        "height": 600,
        "hovermode": "closest",
        "showlegend": true,
        "template": {
         "data": {
          "bar": [
           {
            "error_x": {
             "color": "#2a3f5f"
            },
            "error_y": {
             "color": "#2a3f5f"
            },
            "marker": {
             "line": {
              "color": "#E5ECF6",
              "width": 0.5
             }
            },
            "type": "bar"
           }
          ],
          "barpolar": [
           {
            "marker": {
             "line": {
              "color": "#E5ECF6",
              "width": 0.5
             }
            },
            "type": "barpolar"
           }
          ],
          "carpet": [
           {
            "aaxis": {
             "endlinecolor": "#2a3f5f",
             "gridcolor": "white",
             "linecolor": "white",
             "minorgridcolor": "white",
             "startlinecolor": "#2a3f5f"
            },
            "baxis": {
             "endlinecolor": "#2a3f5f",
             "gridcolor": "white",
             "linecolor": "white",
             "minorgridcolor": "white",
             "startlinecolor": "#2a3f5f"
            },
            "type": "carpet"
           }
          ],
          "choropleth": [
           {
            "colorbar": {
             "outlinewidth": 0,
             "ticks": ""
            },
            "type": "choropleth"
           }
          ],
          "contour": [
           {
            "colorbar": {
             "outlinewidth": 0,
             "ticks": ""
            },
            "colorscale": [
             [
              0,
              "#0d0887"
             ],
             [
              0.1111111111111111,
              "#46039f"
             ],
             [
              0.2222222222222222,
              "#7201a8"
             ],
             [
              0.3333333333333333,
              "#9c179e"
             ],
             [
              0.4444444444444444,
              "#bd3786"
             ],
             [
              0.5555555555555556,
              "#d8576b"
             ],
             [
              0.6666666666666666,
              "#ed7953"
             ],
             [
              0.7777777777777778,
              "#fb9f3a"
             ],
             [
              0.8888888888888888,
              "#fdca26"
             ],
             [
              1,
              "#f0f921"
             ]
            ],
            "type": "contour"
           }
          ],
          "contourcarpet": [
           {
            "colorbar": {
             "outlinewidth": 0,
             "ticks": ""
            },
            "type": "contourcarpet"
           }
          ],
          "heatmap": [
           {
            "colorbar": {
             "outlinewidth": 0,
             "ticks": ""
            },
            "colorscale": [
             [
              0,
              "#0d0887"
             ],
             [
              0.1111111111111111,
              "#46039f"
             ],
             [
              0.2222222222222222,
              "#7201a8"
             ],
             [
              0.3333333333333333,
              "#9c179e"
             ],
             [
              0.4444444444444444,
              "#bd3786"
             ],
             [
              0.5555555555555556,
              "#d8576b"
             ],
             [
              0.6666666666666666,
              "#ed7953"
             ],
             [
              0.7777777777777778,
              "#fb9f3a"
             ],
             [
              0.8888888888888888,
              "#fdca26"
             ],
             [
              1,
              "#f0f921"
             ]
            ],
            "type": "heatmap"
           }
          ],
          "heatmapgl": [
           {
            "colorbar": {
             "outlinewidth": 0,
             "ticks": ""
            },
            "colorscale": [
             [
              0,
              "#0d0887"
             ],
             [
              0.1111111111111111,
              "#46039f"
             ],
             [
              0.2222222222222222,
              "#7201a8"
             ],
             [
              0.3333333333333333,
              "#9c179e"
             ],
             [
              0.4444444444444444,
              "#bd3786"
             ],
             [
              0.5555555555555556,
              "#d8576b"
             ],
             [
              0.6666666666666666,
              "#ed7953"
             ],
             [
              0.7777777777777778,
              "#fb9f3a"
             ],
             [
              0.8888888888888888,
              "#fdca26"
             ],
             [
              1,
              "#f0f921"
             ]
            ],
            "type": "heatmapgl"
           }
          ],
          "histogram": [
           {
            "marker": {
             "colorbar": {
              "outlinewidth": 0,
              "ticks": ""
             }
            },
            "type": "histogram"
           }
          ],
          "histogram2d": [
           {
            "colorbar": {
             "outlinewidth": 0,
             "ticks": ""
            },
            "colorscale": [
             [
              0,
              "#0d0887"
             ],
             [
              0.1111111111111111,
              "#46039f"
             ],
             [
              0.2222222222222222,
              "#7201a8"
             ],
             [
              0.3333333333333333,
              "#9c179e"
             ],
             [
              0.4444444444444444,
              "#bd3786"
             ],
             [
              0.5555555555555556,
              "#d8576b"
             ],
             [
              0.6666666666666666,
              "#ed7953"
             ],
             [
              0.7777777777777778,
              "#fb9f3a"
             ],
             [
              0.8888888888888888,
              "#fdca26"
             ],
             [
              1,
              "#f0f921"
             ]
            ],
            "type": "histogram2d"
           }
          ],
          "histogram2dcontour": [
           {
            "colorbar": {
             "outlinewidth": 0,
             "ticks": ""
            },
            "colorscale": [
             [
              0,
              "#0d0887"
             ],
             [
              0.1111111111111111,
              "#46039f"
             ],
             [
              0.2222222222222222,
              "#7201a8"
             ],
             [
              0.3333333333333333,
              "#9c179e"
             ],
             [
              0.4444444444444444,
              "#bd3786"
             ],
             [
              0.5555555555555556,
              "#d8576b"
             ],
             [
              0.6666666666666666,
              "#ed7953"
             ],
             [
              0.7777777777777778,
              "#fb9f3a"
             ],
             [
              0.8888888888888888,
              "#fdca26"
             ],
             [
              1,
              "#f0f921"
             ]
            ],
            "type": "histogram2dcontour"
           }
          ],
          "mesh3d": [
           {
            "colorbar": {
             "outlinewidth": 0,
             "ticks": ""
            },
            "type": "mesh3d"
           }
          ],
          "parcoords": [
           {
            "line": {
             "colorbar": {
              "outlinewidth": 0,
              "ticks": ""
             }
            },
            "type": "parcoords"
           }
          ],
          "pie": [
           {
            "automargin": true,
            "type": "pie"
           }
          ],
          "scatter": [
           {
            "marker": {
             "colorbar": {
              "outlinewidth": 0,
              "ticks": ""
             }
            },
            "type": "scatter"
           }
          ],
          "scatter3d": [
           {
            "line": {
             "colorbar": {
              "outlinewidth": 0,
              "ticks": ""
             }
            },
            "marker": {
             "colorbar": {
              "outlinewidth": 0,
              "ticks": ""
             }
            },
            "type": "scatter3d"
           }
          ],
          "scattercarpet": [
           {
            "marker": {
             "colorbar": {
              "outlinewidth": 0,
              "ticks": ""
             }
            },
            "type": "scattercarpet"
           }
          ],
          "scattergeo": [
           {
            "marker": {
             "colorbar": {
              "outlinewidth": 0,
              "ticks": ""
             }
            },
            "type": "scattergeo"
           }
          ],
          "scattergl": [
           {
            "marker": {
             "colorbar": {
              "outlinewidth": 0,
              "ticks": ""
             }
            },
            "type": "scattergl"
           }
          ],
          "scattermapbox": [
           {
            "marker": {
             "colorbar": {
              "outlinewidth": 0,
              "ticks": ""
             }
            },
            "type": "scattermapbox"
           }
          ],
          "scatterpolar": [
           {
            "marker": {
             "colorbar": {
              "outlinewidth": 0,
              "ticks": ""
             }
            },
            "type": "scatterpolar"
           }
          ],
          "scatterpolargl": [
           {
            "marker": {
             "colorbar": {
              "outlinewidth": 0,
              "ticks": ""
             }
            },
            "type": "scatterpolargl"
           }
          ],
          "scatterternary": [
           {
            "marker": {
             "colorbar": {
              "outlinewidth": 0,
              "ticks": ""
             }
            },
            "type": "scatterternary"
           }
          ],
          "surface": [
           {
            "colorbar": {
             "outlinewidth": 0,
             "ticks": ""
            },
            "colorscale": [
             [
              0,
              "#0d0887"
             ],
             [
              0.1111111111111111,
              "#46039f"
             ],
             [
              0.2222222222222222,
              "#7201a8"
             ],
             [
              0.3333333333333333,
              "#9c179e"
             ],
             [
              0.4444444444444444,
              "#bd3786"
             ],
             [
              0.5555555555555556,
              "#d8576b"
             ],
             [
              0.6666666666666666,
              "#ed7953"
             ],
             [
              0.7777777777777778,
              "#fb9f3a"
             ],
             [
              0.8888888888888888,
              "#fdca26"
             ],
             [
              1,
              "#f0f921"
             ]
            ],
            "type": "surface"
           }
          ],
          "table": [
           {
            "cells": {
             "fill": {
              "color": "#EBF0F8"
             },
             "line": {
              "color": "white"
             }
            },
            "header": {
             "fill": {
              "color": "#C8D4E3"
             },
             "line": {
              "color": "white"
             }
            },
            "type": "table"
           }
          ]
         },
         "layout": {
          "annotationdefaults": {
           "arrowcolor": "#2a3f5f",
           "arrowhead": 0,
           "arrowwidth": 1
          },
          "autotypenumbers": "strict",
          "coloraxis": {
           "colorbar": {
            "outlinewidth": 0,
            "ticks": ""
           }
          },
          "colorscale": {
           "diverging": [
            [
             0,
             "#8e0152"
            ],
            [
             0.1,
             "#c51b7d"
            ],
            [
             0.2,
             "#de77ae"
            ],
            [
             0.3,
             "#f1b6da"
            ],
            [
             0.4,
             "#fde0ef"
            ],
            [
             0.5,
             "#f7f7f7"
            ],
            [
             0.6,
             "#e6f5d0"
            ],
            [
             0.7,
             "#b8e186"
            ],
            [
             0.8,
             "#7fbc41"
            ],
            [
             0.9,
             "#4d9221"
            ],
            [
             1,
             "#276419"
            ]
           ],
           "sequential": [
            [
             0,
             "#0d0887"
            ],
            [
             0.1111111111111111,
             "#46039f"
            ],
            [
             0.2222222222222222,
             "#7201a8"
            ],
            [
             0.3333333333333333,
             "#9c179e"
            ],
            [
             0.4444444444444444,
             "#bd3786"
            ],
            [
             0.5555555555555556,
             "#d8576b"
            ],
            [
             0.6666666666666666,
             "#ed7953"
            ],
            [
             0.7777777777777778,
             "#fb9f3a"
            ],
            [
             0.8888888888888888,
             "#fdca26"
            ],
            [
             1,
             "#f0f921"
            ]
           ],
           "sequentialminus": [
            [
             0,
             "#0d0887"
            ],
            [
             0.1111111111111111,
             "#46039f"
            ],
            [
             0.2222222222222222,
             "#7201a8"
            ],
            [
             0.3333333333333333,
             "#9c179e"
            ],
            [
             0.4444444444444444,
             "#bd3786"
            ],
            [
             0.5555555555555556,
             "#d8576b"
            ],
            [
             0.6666666666666666,
             "#ed7953"
            ],
            [
             0.7777777777777778,
             "#fb9f3a"
            ],
            [
             0.8888888888888888,
             "#fdca26"
            ],
            [
             1,
             "#f0f921"
            ]
           ]
          },
          "colorway": [
           "#636efa",
           "#EF553B",
           "#00cc96",
           "#ab63fa",
           "#FFA15A",
           "#19d3f3",
           "#FF6692",
           "#B6E880",
           "#FF97FF",
           "#FECB52"
          ],
          "font": {
           "color": "#2a3f5f"
          },
          "geo": {
           "bgcolor": "white",
           "lakecolor": "white",
           "landcolor": "#E5ECF6",
           "showlakes": true,
           "showland": true,
           "subunitcolor": "white"
          },
          "hoverlabel": {
           "align": "left"
          },
          "hovermode": "closest",
          "mapbox": {
           "style": "light"
          },
          "paper_bgcolor": "white",
          "plot_bgcolor": "#E5ECF6",
          "polar": {
           "angularaxis": {
            "gridcolor": "white",
            "linecolor": "white",
            "ticks": ""
           },
           "bgcolor": "#E5ECF6",
           "radialaxis": {
            "gridcolor": "white",
            "linecolor": "white",
            "ticks": ""
           }
          },
          "scene": {
           "xaxis": {
            "backgroundcolor": "#E5ECF6",
            "gridcolor": "white",
            "gridwidth": 2,
            "linecolor": "white",
            "showbackground": true,
            "ticks": "",
            "zerolinecolor": "white"
           },
           "yaxis": {
            "backgroundcolor": "#E5ECF6",
            "gridcolor": "white",
            "gridwidth": 2,
            "linecolor": "white",
            "showbackground": true,
            "ticks": "",
            "zerolinecolor": "white"
           },
           "zaxis": {
            "backgroundcolor": "#E5ECF6",
            "gridcolor": "white",
            "gridwidth": 2,
            "linecolor": "white",
            "showbackground": true,
            "ticks": "",
            "zerolinecolor": "white"
           }
          },
          "shapedefaults": {
           "line": {
            "color": "#2a3f5f"
           }
          },
          "ternary": {
           "aaxis": {
            "gridcolor": "white",
            "linecolor": "white",
            "ticks": ""
           },
           "baxis": {
            "gridcolor": "white",
            "linecolor": "white",
            "ticks": ""
           },
           "bgcolor": "#E5ECF6",
           "caxis": {
            "gridcolor": "white",
            "linecolor": "white",
            "ticks": ""
           }
          },
          "title": {
           "x": 0.05
          },
          "xaxis": {
           "automargin": true,
           "gridcolor": "white",
           "linecolor": "white",
           "ticks": "",
           "title": {
            "standoff": 15
           },
           "zerolinecolor": "white",
           "zerolinewidth": 2
          },
          "yaxis": {
           "automargin": true,
           "gridcolor": "white",
           "linecolor": "white",
           "ticks": "",
           "title": {
            "standoff": 15
           },
           "zerolinecolor": "white",
           "zerolinewidth": 2
          }
         }
        },
        "title": {
         "text": "PCE - MAE: 1.666 HV"
        },
        "width": 800,
        "xaxis": {
         "gridwidth": 2,
         "title": {
          "text": "Reported PCE (%)"
         },
         "zeroline": false
        },
        "yaxis": {
         "gridwidth": 2,
         "title": {
          "text": "Predicted PCE (%)"
         },
         "zeroline": false
        }
       }
      },
      "text/html": [
       "<div>                            <div id=\"22a15b75-d53d-4e6a-9fe2-58fc59a63307\" class=\"plotly-graph-div\" style=\"height:600px; width:800px;\"></div>            <script type=\"text/javascript\">                require([\"plotly\"], function(Plotly) {                    window.PLOTLYENV=window.PLOTLYENV || {};                                    if (document.getElementById(\"22a15b75-d53d-4e6a-9fe2-58fc59a63307\")) {                    Plotly.newPlot(                        \"22a15b75-d53d-4e6a-9fe2-58fc59a63307\",                        [{\"error_y\": {\"array\": [1.2484360757701953, 1.1921559500547387, 1.0161284965848747, 1.27178738919828, 1.1962766632749282, 1.0112413955377422, 1.3197420318759092, 1.2573378659731769, 1.1233680095203689, 1.33951351100791, 1.3323345131814044, 1.2551714877952145, 1.2463851452955588, 1.0741983773536101, 1.2141229237632294, 1.3589515064523325, 1.1788798741496052, 1.223625487478181, 1.2118753581740505, 1.2873906517196245, 1.2073264014777791, 1.2861046111473868, 1.3339889004074024, 1.393704835112911, 1.3878798470739617, 1.412678195483703, 1.388152056147486, 1.4399511248357268, 1.3587958783608183, 1.0247174149967493, 1.3916908135457295, 1.4471777562011499, 1.53132791971796, 1.3815957137789534, 0.9633316556812062, 0.9992183043818342, 0.9037825914315357, 1.4746718385860031, 1.488471123849216, 1.5624645498393568, 1.4824851081153794, 1.4981260402313141, 1.47899250730902, 1.3474411959355765, 1.3701863962761858, 1.3803240301328157, 1.2971883852847756, 1.5113286491409732, 1.4930301295227457, 1.4863003403068975, 1.3018539367124735, 1.445083661942198, 1.4144812827401656, 1.4499694115084898, 1.4180467183039744, 1.4001459417529039, 1.4848320859184385, 1.3385742269718879, 1.2946844947924874, 1.4466187250174172, 1.4874006744219848, 1.4512845944927655, 1.5114149321122485, 1.2339074256190978, 1.2525587126734719, 1.1677027122656267, 1.17406609353012, 1.0880909689041287, 1.0957246741789584, 1.172481825701572, 1.3024868449127198, 1.4603186324878945, 1.4637117387081133, 1.3675593876222576, 1.2441939309702812, 1.3106084540596548, 1.3340428261390207, 1.2687614031637333, 1.2707567984353045, 1.330261193302608, 1.544275347453148, 1.535405966708272, 1.471371617908295, 1.5403755486716726, 1.5720001197793136, 1.5567787740887016, 1.5669222490043588, 1.587380422524019, 1.5784235416360328, 1.5106425846043066, 1.5040163079040259, 1.5487661313693015, 1.5161072265478117, 1.450551269013274, 1.4803123236404865, 1.5331258566554404, 1.5451936124773922, 1.3614826126783466, 1.3602364702559355, 1.3706873721925699, 1.2630903554413682, 1.5205784559730993, 1.5315247863162735, 1.5127140881220045, 1.4889620073022427, 1.5264310373645162, 1.405694473826158, 1.5518991320594167, 1.49541042737288, 1.45436011955345, 1.4547038468465996, 1.2339509875620176, 1.3566213528038475, 1.3502353534178104, 1.3683090918259797, 1.1916108574237179, 1.1973095996974348, 1.2731193994756846, 1.3667715413238388, 1.3503012504803171, 1.2415714063645018, 1.3806711117381898, 1.1164068074137605, 1.3469316577718953, 1.4521797595449164, 1.5090887958831343, 1.2841969112709013, 1.4280021306500996, 1.498865730511142, 1.546430310118239, 1.2607594265202064, 1.2727795108251958, 1.3504814650614125, 1.2637554119772076, 1.1201055970335716, 1.3485640776890206, 1.3174333513633587, 1.3282833997352674, 1.2140774629157263, 1.2836321216218594, 1.3239556589943717, 1.0967262548606642, 0.8902369174193516, 0.9129163970117243, 1.0073596618556933, 1.2201131749308267, 1.2339924485499003, 1.2291355244788178, 1.2825780771344748, 1.4317596992047528, 1.3253169019929325, 1.4325901191364554, 1.4038595198135975, 1.5155357033988688, 1.322136828349324, 1.49751006986023, 1.0927613683255737, 1.4727753626848992, 1.4746962553135958, 1.482267156710997, 1.479099098528044, 1.500946899653415, 1.48890486419977, 1.3574928179244012, 1.4557006986142338, 1.4230467979345403, 1.3333707393102001, 1.0422164112562877, 0.9327652106456102, 1.3213488565306808, 1.4113818661161968, 0.9746405515195801, 1.164728328585924, 1.3096574124034448, 1.2859790910730389, 1.3354589231448826, 1.1359407432095696, 1.3232197304975704, 1.518091809381438, 0.8933541298443003, 0.8530645034657522, 1.1592030972664955, 1.2349614006407041, 1.2371960325359252, 1.254832206861211, 1.30971030221441, 1.2491467479984892, 1.2637989705266486, 1.2524241907850266, 1.3901625277135259], \"type\": \"data\", \"visible\": true}, \"marker\": {\"color\": \"lightgray\", \"size\": 12}, \"mode\": \"markers\", \"name\": \"Testing Data\", \"text\": [58.0, 40.0, 34.0, 102.0, 184.0, 198.0, 95.0, 4.0, 29.0, 168.0, 171.0, 18.0, 11.0, 89.0, 110.0, 118.0, 159.0, 35.0, 136.0, 59.0], \"type\": \"scatter\", \"x\": [11.6, 12.2, 8.8, 8.0, 8.9, 4.4, 7.8, 10.9, 9.9, 13.42, 13.4, 13.8, 14.3, 6.4, 11.46, 13.82, 12.3, 13.6, 12.9, 12.7, 11.7, 16.5, 9.3, 10.4, 9.6, 5.5, 15.0, 9.41, 10.5, 6.4, 7.2, 10.5, 11.4, 10.19, 8.4, 7.0, 5.4, 9.83, 8.45, 11.48, 6.0, 7.2, 10.2, 14.9, 17.8, 16.9, 9.1, 7.59, 8.1, 7.0, 10.1, 9.12, 13.18, 13.68, 13.31, 16.64, 8.25, 13.7, 8.9, 10.52, 9.41, 11.1, 13.24, 14.16, 13.68, 9.66, 9.18, 4.93, 6.55, 6.71, 6.19, 12.03, 9.74, 13.32, 9.6, 13.4, 12.5, 8.2, 14.1, 15.3, 9.64, 9.82, 7.9, 7.57, 8.16, 8.49, 4.1, 4.46, 4.11, 7.76, 10.18, 9.4, 8.72, 9.27, 7.72, 5.94, 4.5, 8.53, 8.48, 6.53, 5.75, 9.11, 7.08, 10.81, 8.97, 11.59, 15.12, 4.12, 13.9, 11.26, 12.21, 15.3, 5.75, 10.5, 16.21, 12.72, 14.0, 17.1, 16.7, 15.2, 12.87, 12.43, 8.31, 8.36, 11.05, 8.02, 10.35, 8.24, 9.92, 10.93, 5.51, 8.97, 9.53, 10.81, 8.13, 8.59, 6.68, 8.9, 11.34, 11.73, 10.68, 8.12, 5.6, 9.4, 8.9, 7.7, 10.1, 10.8, 11.5, 7.3, 9.3, 10.8, 9.7, 11.1, 12.97, 7.11, 5.9, 10.9, 12.1, 9.94, 8.05, 9.62, 12.84, 18.32, 8.14, 18.22, 13.1, 7.4, 12.2, 7.03, 4.8, 6.54, 5.65, 9.81, 8.99, 11.2, 5.5, 6.9, 5.4, 5.24, 6.28, 6.94, 11.62, 12.05, 10.23, 10.71, 9.63, 8.03, 7.21, 13.37], \"y\": [8.631828571428551, 8.638485714285695, 8.805885714285695, 8.536399999999984, 8.562285714285704, 8.740542857142849, 8.338628571428563, 8.356828571428562, 8.547399999999993, 8.169171428571419, 8.184399999999991, 8.171457142857138, 8.452828571428558, 8.540371428571412, 8.708285714285706, 8.563828571428562, 8.655914285714276, 8.699085714285706, 8.411914285714277, 8.597257142857137, 8.624742857142852, 8.47297142857142, 8.291057142857134, 8.118685714285705, 8.126599999999993, 8.451028571428562, 8.166028571428562, 8.037314285714286, 8.245914285714287, 8.706485714285716, 8.38965714285714, 7.582457142857136, 8.55339999999999, 8.349599999999995, 8.89782857142857, 8.80982857142857, 8.91048571428572, 8.121599999999992, 8.066599999999994, 8.003657142857136, 8.251714285714284, 8.11302857142857, 8.119399999999999, 8.304399999999989, 8.373314285714274, 8.356685714285701, 8.479971428571416, 7.916571428571421, 8.072828571428566, 8.088542857142853, 9.062228571428552, 8.23582857142856, 8.259914285714276, 8.25577142857142, 8.11774285714285, 8.143771428571423, 7.943257142857145, 8.413314285714275, 8.625714285714274, 8.345371428571411, 8.179485714285702, 8.251399999999986, 7.998942857142849, 8.424171428571421, 8.720628571428561, 8.615942857142846, 8.63019999999999, 8.704857142857138, 8.722399999999999, 8.715514285714283, 8.81471428571428, 7.815085714285716, 7.597257142857144, 8.162057142857131, 8.539028571428554, 8.587485714285696, 8.582714285714268, 8.497057142857134, 8.383714285714278, 8.271999999999993, 7.370428571428568, 7.334914285714281, 7.103657142857142, 7.3325999999999985, 7.314914285714285, 7.274142857142857, 7.273371428571429, 7.512114285714281, 7.470199999999995, 8.034685714285711, 7.7516, 7.678942857142854, 7.832771428571426, 8.17368571428571, 7.8897428571428545, 7.82248571428571, 7.484771428571421, 8.320228571428562, 8.37119999999999, 8.385714285714275, 8.535942857142846, 7.927885714285704, 7.936371428571422, 7.600314285714283, 7.390857142857142, 7.610514285714285, 8.174257142857135, 8.398171428571423, 7.687057142857142, 7.964371428571423, 7.934314285714282, 8.273057142857136, 8.265371428571425, 8.271857142857138, 8.220999999999997, 8.436799999999995, 8.384457142857137, 8.393657142857133, 8.266371428571421, 8.225999999999994, 8.69631428571427, 8.550057142857137, 8.606371428571432, 8.202457142857142, 8.306142857142849, 7.935657142857137, 8.619571428571422, 8.234828571428567, 8.228657142857132, 7.867171428571423, 8.39177142857142, 8.363285714285709, 8.291114285714281, 8.487628571428566, 8.64811428571428, 8.238999999999994, 8.160771428571415, 8.108028571428559, 8.326199999999991, 8.497542857142852, 8.518742857142849, 8.786057142857139, 8.91848571428572, 9.088314285714286, 9.024914285714283, 8.68397142857142, 8.584828571428563, 8.669399999999992, 8.439742857142846, 8.319257142857133, 8.321257142857133, 8.179142857142844, 8.424714285714279, 8.263885714285708, 8.17977142857142, 7.996457142857146, 7.301114285714316, 8.065457142857134, 8.017457142857136, 8.025514285714278, 8.013199999999992, 8.046542857142848, 8.001885714285704, 8.159199999999988, 7.996342857142853, 7.758399999999997, 8.164485714285709, 8.646771428571425, 8.586485714285704, 8.290485714285705, 8.064285714285704, 8.375085714285703, 8.275571428571416, 8.61457142857141, 8.48642857142856, 8.582542857142837, 8.617942857142852, 8.40505714285713, 8.094257142857135, 8.651942857142839, 8.656514285714271, 8.242885714285695, 8.36677142857142, 8.38659999999999, 8.31217142857142, 8.212114285714279, 8.336371428571422, 8.391885714285706, 8.354485714285707, 8.37625714285713]}, {\"error_y\": {\"array\": [0.9129163970117243], \"type\": \"data\", \"visible\": true}, \"marker\": {\"color\": \"green\", \"opacity\": 0.9, \"size\": 28, \"symbol\": \"triangle-up\"}, \"mode\": \"markers+text\", \"name\": \"Selected by MM\", \"textfont\": {\"color\": \"#008000\"}, \"type\": \"scatter\", \"x\": [9.4], \"y\": [9.088314285714286]}, {\"error_y\": {\"array\": [1.3018539367124735], \"type\": \"data\", \"visible\": true}, \"marker\": {\"color\": \"blue\", \"opacity\": 1, \"size\": 25, \"symbol\": \"diamond\"}, \"mode\": \"markers+text\", \"name\": \"Selected by MEI\", \"textfont\": {\"color\": \"#0000ff\"}, \"type\": \"scatter\", \"x\": [10.1], \"y\": [9.062228571428552]}, {\"error_y\": {\"array\": [1.3018539367124735], \"type\": \"data\", \"visible\": true}, \"marker\": {\"color\": \"red\", \"opacity\": 1, \"size\": 25, \"symbol\": \"star\"}, \"mode\": \"markers+text\", \"name\": \"Selected by MLI\", \"textfont\": {\"color\": \"#ff0000\"}, \"type\": \"scatter\", \"x\": [10.1], \"y\": [9.062228571428552]}, {\"error_y\": {\"array\": [1.587380422524019], \"type\": \"data\", \"visible\": true}, \"marker\": {\"color\": \"purple\", \"opacity\": 0.9, \"size\": 20, \"symbol\": \"square\"}, \"mode\": \"markers+text\", \"name\": \"Selected by MU\", \"textfont\": {\"color\": \"#800080\"}, \"type\": \"scatter\", \"x\": [4.46], \"y\": [7.512114285714281]}, {\"error_y\": {\"array\": [1.3018539367124735], \"type\": \"data\", \"visible\": true}, \"marker\": {\"color\": \"darkorange\", \"opacity\": 1, \"size\": 12, \"symbol\": \"circle\"}, \"mode\": \"markers+text\", \"name\": \"Selected by UCB\", \"textfont\": {\"color\": \"#ff8c00\"}, \"type\": \"scatter\", \"x\": [10.1], \"y\": [9.062228571428552]}, {\"line\": {\"color\": \"black\", \"dash\": \"dash\", \"width\": 3}, \"mode\": \"lines\", \"name\": \"Max PCE in training set\", \"type\": \"scatter\", \"x\": [3, 20], \"y\": [9.95, 9.95]}],                        {\"font\": {\"family\": \"Times New Roman\", \"size\": 22}, \"height\": 600, \"hovermode\": \"closest\", \"showlegend\": true, \"template\": {\"data\": {\"bar\": [{\"error_x\": {\"color\": \"#2a3f5f\"}, \"error_y\": {\"color\": \"#2a3f5f\"}, \"marker\": {\"line\": {\"color\": \"#E5ECF6\", \"width\": 0.5}}, \"type\": \"bar\"}], \"barpolar\": [{\"marker\": {\"line\": {\"color\": \"#E5ECF6\", \"width\": 0.5}}, \"type\": \"barpolar\"}], \"carpet\": [{\"aaxis\": {\"endlinecolor\": \"#2a3f5f\", \"gridcolor\": \"white\", \"linecolor\": \"white\", \"minorgridcolor\": \"white\", \"startlinecolor\": \"#2a3f5f\"}, \"baxis\": {\"endlinecolor\": \"#2a3f5f\", \"gridcolor\": \"white\", \"linecolor\": \"white\", \"minorgridcolor\": \"white\", \"startlinecolor\": \"#2a3f5f\"}, \"type\": \"carpet\"}], \"choropleth\": [{\"colorbar\": {\"outlinewidth\": 0, \"ticks\": \"\"}, \"type\": \"choropleth\"}], \"contour\": [{\"colorbar\": {\"outlinewidth\": 0, \"ticks\": \"\"}, \"colorscale\": [[0.0, \"#0d0887\"], [0.1111111111111111, \"#46039f\"], [0.2222222222222222, \"#7201a8\"], [0.3333333333333333, \"#9c179e\"], [0.4444444444444444, \"#bd3786\"], [0.5555555555555556, \"#d8576b\"], [0.6666666666666666, \"#ed7953\"], [0.7777777777777778, \"#fb9f3a\"], [0.8888888888888888, \"#fdca26\"], [1.0, \"#f0f921\"]], \"type\": \"contour\"}], \"contourcarpet\": [{\"colorbar\": {\"outlinewidth\": 0, \"ticks\": \"\"}, \"type\": \"contourcarpet\"}], \"heatmap\": [{\"colorbar\": {\"outlinewidth\": 0, \"ticks\": \"\"}, \"colorscale\": [[0.0, \"#0d0887\"], [0.1111111111111111, \"#46039f\"], [0.2222222222222222, \"#7201a8\"], [0.3333333333333333, \"#9c179e\"], [0.4444444444444444, \"#bd3786\"], [0.5555555555555556, \"#d8576b\"], [0.6666666666666666, \"#ed7953\"], [0.7777777777777778, \"#fb9f3a\"], [0.8888888888888888, \"#fdca26\"], [1.0, \"#f0f921\"]], \"type\": \"heatmap\"}], \"heatmapgl\": [{\"colorbar\": {\"outlinewidth\": 0, \"ticks\": \"\"}, \"colorscale\": [[0.0, \"#0d0887\"], [0.1111111111111111, \"#46039f\"], [0.2222222222222222, \"#7201a8\"], [0.3333333333333333, \"#9c179e\"], [0.4444444444444444, \"#bd3786\"], [0.5555555555555556, \"#d8576b\"], [0.6666666666666666, \"#ed7953\"], [0.7777777777777778, \"#fb9f3a\"], [0.8888888888888888, \"#fdca26\"], [1.0, \"#f0f921\"]], \"type\": \"heatmapgl\"}], \"histogram\": [{\"marker\": {\"colorbar\": {\"outlinewidth\": 0, \"ticks\": \"\"}}, \"type\": \"histogram\"}], \"histogram2d\": [{\"colorbar\": {\"outlinewidth\": 0, \"ticks\": \"\"}, \"colorscale\": [[0.0, \"#0d0887\"], [0.1111111111111111, \"#46039f\"], [0.2222222222222222, \"#7201a8\"], [0.3333333333333333, \"#9c179e\"], [0.4444444444444444, \"#bd3786\"], [0.5555555555555556, \"#d8576b\"], [0.6666666666666666, \"#ed7953\"], [0.7777777777777778, \"#fb9f3a\"], [0.8888888888888888, \"#fdca26\"], [1.0, \"#f0f921\"]], \"type\": \"histogram2d\"}], \"histogram2dcontour\": [{\"colorbar\": {\"outlinewidth\": 0, \"ticks\": \"\"}, \"colorscale\": [[0.0, \"#0d0887\"], [0.1111111111111111, \"#46039f\"], [0.2222222222222222, \"#7201a8\"], [0.3333333333333333, \"#9c179e\"], [0.4444444444444444, \"#bd3786\"], [0.5555555555555556, \"#d8576b\"], [0.6666666666666666, \"#ed7953\"], [0.7777777777777778, \"#fb9f3a\"], [0.8888888888888888, \"#fdca26\"], [1.0, \"#f0f921\"]], \"type\": \"histogram2dcontour\"}], \"mesh3d\": [{\"colorbar\": {\"outlinewidth\": 0, \"ticks\": \"\"}, \"type\": \"mesh3d\"}], \"parcoords\": [{\"line\": {\"colorbar\": {\"outlinewidth\": 0, \"ticks\": \"\"}}, \"type\": \"parcoords\"}], \"pie\": [{\"automargin\": true, \"type\": \"pie\"}], \"scatter\": [{\"marker\": {\"colorbar\": {\"outlinewidth\": 0, \"ticks\": \"\"}}, \"type\": \"scatter\"}], \"scatter3d\": [{\"line\": {\"colorbar\": {\"outlinewidth\": 0, \"ticks\": \"\"}}, \"marker\": {\"colorbar\": {\"outlinewidth\": 0, \"ticks\": \"\"}}, \"type\": \"scatter3d\"}], \"scattercarpet\": [{\"marker\": {\"colorbar\": {\"outlinewidth\": 0, \"ticks\": \"\"}}, \"type\": \"scattercarpet\"}], \"scattergeo\": [{\"marker\": {\"colorbar\": {\"outlinewidth\": 0, \"ticks\": \"\"}}, \"type\": \"scattergeo\"}], \"scattergl\": [{\"marker\": {\"colorbar\": {\"outlinewidth\": 0, \"ticks\": \"\"}}, \"type\": \"scattergl\"}], \"scattermapbox\": [{\"marker\": {\"colorbar\": {\"outlinewidth\": 0, \"ticks\": \"\"}}, \"type\": \"scattermapbox\"}], \"scatterpolar\": [{\"marker\": {\"colorbar\": {\"outlinewidth\": 0, \"ticks\": \"\"}}, \"type\": \"scatterpolar\"}], \"scatterpolargl\": [{\"marker\": {\"colorbar\": {\"outlinewidth\": 0, \"ticks\": \"\"}}, \"type\": \"scatterpolargl\"}], \"scatterternary\": [{\"marker\": {\"colorbar\": {\"outlinewidth\": 0, \"ticks\": \"\"}}, \"type\": \"scatterternary\"}], \"surface\": [{\"colorbar\": {\"outlinewidth\": 0, \"ticks\": \"\"}, \"colorscale\": [[0.0, \"#0d0887\"], [0.1111111111111111, \"#46039f\"], [0.2222222222222222, \"#7201a8\"], [0.3333333333333333, \"#9c179e\"], [0.4444444444444444, \"#bd3786\"], [0.5555555555555556, \"#d8576b\"], [0.6666666666666666, \"#ed7953\"], [0.7777777777777778, \"#fb9f3a\"], [0.8888888888888888, \"#fdca26\"], [1.0, \"#f0f921\"]], \"type\": \"surface\"}], \"table\": [{\"cells\": {\"fill\": {\"color\": \"#EBF0F8\"}, \"line\": {\"color\": \"white\"}}, \"header\": {\"fill\": {\"color\": \"#C8D4E3\"}, \"line\": {\"color\": \"white\"}}, \"type\": \"table\"}]}, \"layout\": {\"annotationdefaults\": {\"arrowcolor\": \"#2a3f5f\", \"arrowhead\": 0, \"arrowwidth\": 1}, \"autotypenumbers\": \"strict\", \"coloraxis\": {\"colorbar\": {\"outlinewidth\": 0, \"ticks\": \"\"}}, \"colorscale\": {\"diverging\": [[0, \"#8e0152\"], [0.1, \"#c51b7d\"], [0.2, \"#de77ae\"], [0.3, \"#f1b6da\"], [0.4, \"#fde0ef\"], [0.5, \"#f7f7f7\"], [0.6, \"#e6f5d0\"], [0.7, \"#b8e186\"], [0.8, \"#7fbc41\"], [0.9, \"#4d9221\"], [1, \"#276419\"]], \"sequential\": [[0.0, \"#0d0887\"], [0.1111111111111111, \"#46039f\"], [0.2222222222222222, \"#7201a8\"], [0.3333333333333333, \"#9c179e\"], [0.4444444444444444, \"#bd3786\"], [0.5555555555555556, \"#d8576b\"], [0.6666666666666666, \"#ed7953\"], [0.7777777777777778, \"#fb9f3a\"], [0.8888888888888888, \"#fdca26\"], [1.0, \"#f0f921\"]], \"sequentialminus\": [[0.0, \"#0d0887\"], [0.1111111111111111, \"#46039f\"], [0.2222222222222222, \"#7201a8\"], [0.3333333333333333, \"#9c179e\"], [0.4444444444444444, \"#bd3786\"], [0.5555555555555556, \"#d8576b\"], [0.6666666666666666, \"#ed7953\"], [0.7777777777777778, \"#fb9f3a\"], [0.8888888888888888, \"#fdca26\"], [1.0, \"#f0f921\"]]}, \"colorway\": [\"#636efa\", \"#EF553B\", \"#00cc96\", \"#ab63fa\", \"#FFA15A\", \"#19d3f3\", \"#FF6692\", \"#B6E880\", \"#FF97FF\", \"#FECB52\"], \"font\": {\"color\": \"#2a3f5f\"}, \"geo\": {\"bgcolor\": \"white\", \"lakecolor\": \"white\", \"landcolor\": \"#E5ECF6\", \"showlakes\": true, \"showland\": true, \"subunitcolor\": \"white\"}, \"hoverlabel\": {\"align\": \"left\"}, \"hovermode\": \"closest\", \"mapbox\": {\"style\": \"light\"}, \"paper_bgcolor\": \"white\", \"plot_bgcolor\": \"#E5ECF6\", \"polar\": {\"angularaxis\": {\"gridcolor\": \"white\", \"linecolor\": \"white\", \"ticks\": \"\"}, \"bgcolor\": \"#E5ECF6\", \"radialaxis\": {\"gridcolor\": \"white\", \"linecolor\": \"white\", \"ticks\": \"\"}}, \"scene\": {\"xaxis\": {\"backgroundcolor\": \"#E5ECF6\", \"gridcolor\": \"white\", \"gridwidth\": 2, \"linecolor\": \"white\", \"showbackground\": true, \"ticks\": \"\", \"zerolinecolor\": \"white\"}, \"yaxis\": {\"backgroundcolor\": \"#E5ECF6\", \"gridcolor\": \"white\", \"gridwidth\": 2, \"linecolor\": \"white\", \"showbackground\": true, \"ticks\": \"\", \"zerolinecolor\": \"white\"}, \"zaxis\": {\"backgroundcolor\": \"#E5ECF6\", \"gridcolor\": \"white\", \"gridwidth\": 2, \"linecolor\": \"white\", \"showbackground\": true, \"ticks\": \"\", \"zerolinecolor\": \"white\"}}, \"shapedefaults\": {\"line\": {\"color\": \"#2a3f5f\"}}, \"ternary\": {\"aaxis\": {\"gridcolor\": \"white\", \"linecolor\": \"white\", \"ticks\": \"\"}, \"baxis\": {\"gridcolor\": \"white\", \"linecolor\": \"white\", \"ticks\": \"\"}, \"bgcolor\": \"#E5ECF6\", \"caxis\": {\"gridcolor\": \"white\", \"linecolor\": \"white\", \"ticks\": \"\"}}, \"title\": {\"x\": 0.05}, \"xaxis\": {\"automargin\": true, \"gridcolor\": \"white\", \"linecolor\": \"white\", \"ticks\": \"\", \"title\": {\"standoff\": 15}, \"zerolinecolor\": \"white\", \"zerolinewidth\": 2}, \"yaxis\": {\"automargin\": true, \"gridcolor\": \"white\", \"linecolor\": \"white\", \"ticks\": \"\", \"title\": {\"standoff\": 15}, \"zerolinecolor\": \"white\", \"zerolinewidth\": 2}}}, \"title\": {\"text\": \"PCE - MAE: 1.666 HV\"}, \"width\": 800, \"xaxis\": {\"gridwidth\": 2, \"title\": {\"text\": \"Reported PCE (%)\"}, \"zeroline\": false}, \"yaxis\": {\"gridwidth\": 2, \"title\": {\"text\": \"Predicted PCE (%)\"}, \"zeroline\": false}},                        {\"responsive\": true}                    ).then(function(){\n",
       "                            \n",
       "var gd = document.getElementById('22a15b75-d53d-4e6a-9fe2-58fc59a63307');\n",
       "var x = new MutationObserver(function (mutations, observer) {{\n",
       "        var display = window.getComputedStyle(gd).display;\n",
       "        if (!display || display === 'none') {{\n",
       "            console.log([gd, 'removed!']);\n",
       "            Plotly.purge(gd);\n",
       "            observer.disconnect();\n",
       "        }}\n",
       "}});\n",
       "\n",
       "// Listen for the removal of the full notebook cells\n",
       "var notebookContainer = gd.closest('#notebook-container');\n",
       "if (notebookContainer) {{\n",
       "    x.observe(notebookContainer, {childList: true});\n",
       "}}\n",
       "\n",
       "// Listen for the clearing of the current output cell\n",
       "var outputEl = gd.closest('.output');\n",
       "if (outputEl) {{\n",
       "    x.observe(outputEl, {childList: true});\n",
       "}}\n",
       "\n",
       "                        })                };                });            </script>        </div>"
      ]
     },
     "metadata": {},
     "output_type": "display_data"
    }
   ],
   "source": [
    "plotly.offline.init_notebook_mode(connected=True)\n",
    "\n",
    "layout0= go.Layout(title= \"PCE - MAE: %.3f HV\" %MAE_testing, hovermode= 'closest',\n",
    "                   font = dict(family='Times New Roman',size=22),\n",
    "                   xaxis= dict(title= 'Reported PCE (%)',zeroline= False, gridwidth= 2),\n",
    "                   yaxis= dict(title= 'Predicted PCE (%)',zeroline= False, gridwidth= 2),#range=[-350,3750]),\n",
    "                   height=600,\n",
    "                   width=800,\n",
    "     showlegend= True                 \n",
    ")\n",
    "\n",
    "# fit  = np.linspace(min(df['PCE']), max(df['PCE']))\n",
    "# trace0 = go.Scatter(x = train_outputs, y = y_train, mode = 'markers', text=train_inputs.index, marker= dict(size= 12, color= 'blue'),name='Training Data')\n",
    "trace1 = go.Scatter(x = y[~in_train] ,y = y_pred, mode = 'markers', text=test_inputs.index,marker= dict(size= 12, color= 'lightgray'), \n",
    "                    error_y = dict(type='data',array=y_std,visible=True),name='Testing Data')\n",
    "# trace2 = go.Scatter(x = fit ,y = fit, mode = 'lines', marker= dict(size= 12, color= 'black'), text = 'Fit',name='Linear Fit')\n",
    "\n",
    "trace_mm = go.Scatter(x = [y[~in_train][y[~in_train].index[mm_selection]]] ,y = [y_pred[mm_selection]], mode = 'markers+text',textfont=dict(color='#008000'),marker= dict(symbol = 'triangle-up',size= 28, color= 'green',opacity=0.9), \n",
    "                    error_y = dict(type='data',array=[y_std[mm_selection]],visible=True),name='Selected by MM')\n",
    "\n",
    "trace_mei = go.Scatter(x = [y[~in_train][y[~in_train].index[mei_selection]]] ,y = [y_pred[mei_selection]], mode = 'markers+text',textfont=dict(color='#0000ff'),marker= dict(symbol = 'diamond',size= 25, color= 'blue',opacity=1), \n",
    "                    error_y = dict(type='data',array=[y_std[mei_selection]],visible=True),name='Selected by MEI')\n",
    "\n",
    "trace_mli = go.Scatter(x = [y[~in_train][y[~in_train].index[mli_selection]]] ,y = [y_pred[mli_selection]], mode = 'markers+text',textfont=dict(color='#ff0000'),marker= dict(symbol = 'star',size= 25, color= 'red',opacity=1), \n",
    "                    error_y = dict(type='data',array=[y_std[mli_selection]],visible=True),name='Selected by MLI')\n",
    "\n",
    "trace_mu = go.Scatter(x = [y[~in_train][y[~in_train].index[mu_selection]]] ,y = [y_pred[mu_selection]], mode = 'markers+text',textfont=dict(color='#800080'),marker= dict(symbol = 'square',size= 20, color= 'purple',opacity=0.9), \n",
    "                    error_y = dict(type='data',array=[y_std[mu_selection]],visible=True),name='Selected by MU')\n",
    "\n",
    "trace_ucb = go.Scatter(x = [y[~in_train][y[~in_train].index[ucb_selection]]] ,y = [y_pred[ucb_selection]], mode = 'markers+text',textfont=dict(color='#ff8c00'),marker= dict(symbol = 'circle',size= 12, color= 'darkorange',opacity=1), \n",
    "                    error_y = dict(type='data',array=[y_std[ucb_selection]],visible=True),name='Selected by UCB')\n",
    "\n",
    "x_line=[3,20]\n",
    "y_line=[PCE_train_max,PCE_train_max]\n",
    "line=go.Scatter(x=x_line, y=y_line,mode='lines',name='Max PCE in training set',line = dict(color='black', width=3, dash='dash'))\n",
    "\n",
    "data1 = [trace1, trace_mm, trace_mei, trace_mli ,trace_mu, trace_ucb, line]\n",
    "fig1= go.Figure(data1, layout=layout0)\n",
    "iplot(fig1)"
   ]
  },
  {
   "cell_type": "code",
   "execution_count": 36,
   "metadata": {},
   "outputs": [
    {
     "data": {
      "text/html": [
       "        <script type=\"text/javascript\">\n",
       "        window.PlotlyConfig = {MathJaxConfig: 'local'};\n",
       "        if (window.MathJax) {MathJax.Hub.Config({SVG: {font: \"STIX-Web\"}});}\n",
       "        if (typeof require !== 'undefined') {\n",
       "        require.undef(\"plotly\");\n",
       "        requirejs.config({\n",
       "            paths: {\n",
       "                'plotly': ['https://cdn.plot.ly/plotly-latest.min']\n",
       "            }\n",
       "        });\n",
       "        require(['plotly'], function(Plotly) {\n",
       "            window._Plotly = Plotly;\n",
       "        });\n",
       "        }\n",
       "        </script>\n",
       "        "
      ]
     },
     "metadata": {},
     "output_type": "display_data"
    },
    {
     "data": {
      "application/vnd.plotly.v1+json": {
       "config": {
        "linkText": "Export to plot.ly",
        "plotlyServerURL": "https://plot.ly",
        "showLink": false
       },
       "data": [
        {
         "error_y": {
          "array": [
           1.2484360757701953,
           1.1921559500547387,
           1.0161284965848747,
           1.27178738919828,
           1.1962766632749282,
           1.0112413955377422,
           1.3197420318759092,
           1.2573378659731769,
           1.1233680095203689,
           1.33951351100791,
           1.3323345131814044,
           1.2551714877952145,
           1.2463851452955588,
           1.0741983773536101,
           1.2141229237632294,
           1.3589515064523325,
           1.1788798741496052,
           1.223625487478181,
           1.2118753581740505,
           1.2873906517196245,
           1.2073264014777791,
           1.2861046111473868,
           1.3339889004074024,
           1.393704835112911,
           1.3878798470739617,
           1.412678195483703,
           1.388152056147486,
           1.4399511248357268,
           1.3587958783608183,
           1.0247174149967493,
           1.3916908135457295,
           1.4471777562011499,
           1.53132791971796,
           1.3815957137789534,
           0.9633316556812062,
           0.9992183043818342,
           0.9037825914315357,
           1.4746718385860031,
           1.488471123849216,
           1.5624645498393568,
           1.4824851081153794,
           1.4981260402313141,
           1.47899250730902,
           1.3474411959355765,
           1.3701863962761858,
           1.3803240301328157,
           1.2971883852847756,
           1.5113286491409732,
           1.4930301295227457,
           1.4863003403068975,
           1.3018539367124735,
           1.445083661942198,
           1.4144812827401656,
           1.4499694115084898,
           1.4180467183039744,
           1.4001459417529039,
           1.4848320859184385,
           1.3385742269718879,
           1.2946844947924874,
           1.4466187250174172,
           1.4874006744219848,
           1.4512845944927655,
           1.5114149321122485,
           1.2339074256190978,
           1.2525587126734719,
           1.1677027122656267,
           1.17406609353012,
           1.0880909689041287,
           1.0957246741789584,
           1.172481825701572,
           1.3024868449127198,
           1.4603186324878945,
           1.4637117387081133,
           1.3675593876222576,
           1.2441939309702812,
           1.3106084540596548,
           1.3340428261390207,
           1.2687614031637333,
           1.2707567984353045,
           1.330261193302608,
           1.544275347453148,
           1.535405966708272,
           1.471371617908295,
           1.5403755486716726,
           1.5720001197793136,
           1.5567787740887016,
           1.5669222490043588,
           1.587380422524019,
           1.5784235416360328,
           1.5106425846043066,
           1.5040163079040259,
           1.5487661313693015,
           1.5161072265478117,
           1.450551269013274,
           1.4803123236404865,
           1.5331258566554404,
           1.5451936124773922,
           1.3614826126783466,
           1.3602364702559355,
           1.3706873721925699,
           1.2630903554413682,
           1.5205784559730993,
           1.5315247863162735,
           1.5127140881220045,
           1.4889620073022427,
           1.5264310373645162,
           1.405694473826158,
           1.5518991320594167,
           1.49541042737288,
           1.45436011955345,
           1.4547038468465996,
           1.2339509875620176,
           1.3566213528038475,
           1.3502353534178104,
           1.3683090918259797,
           1.1916108574237179,
           1.1973095996974348,
           1.2731193994756846,
           1.3667715413238388,
           1.3503012504803171,
           1.2415714063645018,
           1.3806711117381898,
           1.1164068074137605,
           1.3469316577718953,
           1.4521797595449164,
           1.5090887958831343,
           1.2841969112709013,
           1.4280021306500996,
           1.498865730511142,
           1.546430310118239,
           1.2607594265202064,
           1.2727795108251958,
           1.3504814650614125,
           1.2637554119772076,
           1.1201055970335716,
           1.3485640776890206,
           1.3174333513633587,
           1.3282833997352674,
           1.2140774629157263,
           1.2836321216218594,
           1.3239556589943717,
           1.0967262548606642,
           0.8902369174193516,
           0.9129163970117243,
           1.0073596618556933,
           1.2201131749308267,
           1.2339924485499003,
           1.2291355244788178,
           1.2825780771344748,
           1.4317596992047528,
           1.3253169019929325,
           1.4325901191364554,
           1.4038595198135975,
           1.5155357033988688,
           1.322136828349324,
           1.49751006986023,
           1.0927613683255737,
           1.4727753626848992,
           1.4746962553135958,
           1.482267156710997,
           1.479099098528044,
           1.500946899653415,
           1.48890486419977,
           1.3574928179244012,
           1.4557006986142338,
           1.4230467979345403,
           1.3333707393102001,
           1.0422164112562877,
           0.9327652106456102,
           1.3213488565306808,
           1.4113818661161968,
           0.9746405515195801,
           1.164728328585924,
           1.3096574124034448,
           1.2859790910730389,
           1.3354589231448826,
           1.1359407432095696,
           1.3232197304975704,
           1.518091809381438,
           0.8933541298443003,
           0.8530645034657522,
           1.1592030972664955,
           1.2349614006407041,
           1.2371960325359252,
           1.254832206861211,
           1.30971030221441,
           1.2491467479984892,
           1.2637989705266486,
           1.2524241907850266,
           1.3901625277135259
          ],
          "type": "data",
          "visible": true
         },
         "marker": {
          "color": "lightgray",
          "size": 12
         },
         "mode": "markers",
         "name": "Testing Data",
         "text": [
          58,
          40,
          34,
          102,
          184,
          198,
          95,
          4,
          29,
          168,
          171,
          18,
          11,
          89,
          110,
          118,
          159,
          35,
          136,
          59
         ],
         "type": "scatter",
         "x": [
          11.6,
          12.2,
          8.8,
          8,
          8.9,
          4.4,
          7.8,
          10.9,
          9.9,
          13.42,
          13.4,
          13.8,
          14.3,
          6.4,
          11.46,
          13.82,
          12.3,
          13.6,
          12.9,
          12.7,
          11.7,
          16.5,
          9.3,
          10.4,
          9.6,
          5.5,
          15,
          9.41,
          10.5,
          6.4,
          7.2,
          10.5,
          11.4,
          10.19,
          8.4,
          7,
          5.4,
          9.83,
          8.45,
          11.48,
          6,
          7.2,
          10.2,
          14.9,
          17.8,
          16.9,
          9.1,
          7.59,
          8.1,
          7,
          10.1,
          9.12,
          13.18,
          13.68,
          13.31,
          16.64,
          8.25,
          13.7,
          8.9,
          10.52,
          9.41,
          11.1,
          13.24,
          14.16,
          13.68,
          9.66,
          9.18,
          4.93,
          6.55,
          6.71,
          6.19,
          12.03,
          9.74,
          13.32,
          9.6,
          13.4,
          12.5,
          8.2,
          14.1,
          15.3,
          9.64,
          9.82,
          7.9,
          7.57,
          8.16,
          8.49,
          4.1,
          4.46,
          4.11,
          7.76,
          10.18,
          9.4,
          8.72,
          9.27,
          7.72,
          5.94,
          4.5,
          8.53,
          8.48,
          6.53,
          5.75,
          9.11,
          7.08,
          10.81,
          8.97,
          11.59,
          15.12,
          4.12,
          13.9,
          11.26,
          12.21,
          15.3,
          5.75,
          10.5,
          16.21,
          12.72,
          14,
          17.1,
          16.7,
          15.2,
          12.87,
          12.43,
          8.31,
          8.36,
          11.05,
          8.02,
          10.35,
          8.24,
          9.92,
          10.93,
          5.51,
          8.97,
          9.53,
          10.81,
          8.13,
          8.59,
          6.68,
          8.9,
          11.34,
          11.73,
          10.68,
          8.12,
          5.6,
          9.4,
          8.9,
          7.7,
          10.1,
          10.8,
          11.5,
          7.3,
          9.3,
          10.8,
          9.7,
          11.1,
          12.97,
          7.11,
          5.9,
          10.9,
          12.1,
          9.94,
          8.05,
          9.62,
          12.84,
          18.32,
          8.14,
          18.22,
          13.1,
          7.4,
          12.2,
          7.03,
          4.8,
          6.54,
          5.65,
          9.81,
          8.99,
          11.2,
          5.5,
          6.9,
          5.4,
          5.24,
          6.28,
          6.94,
          11.62,
          12.05,
          10.23,
          10.71,
          9.63,
          8.03,
          7.21,
          13.37
         ],
         "y": [
          8.631828571428551,
          8.638485714285695,
          8.805885714285695,
          8.536399999999984,
          8.562285714285704,
          8.740542857142849,
          8.338628571428563,
          8.356828571428562,
          8.547399999999993,
          8.169171428571419,
          8.184399999999991,
          8.171457142857138,
          8.452828571428558,
          8.540371428571412,
          8.708285714285706,
          8.563828571428562,
          8.655914285714276,
          8.699085714285706,
          8.411914285714277,
          8.597257142857137,
          8.624742857142852,
          8.47297142857142,
          8.291057142857134,
          8.118685714285705,
          8.126599999999993,
          8.451028571428562,
          8.166028571428562,
          8.037314285714286,
          8.245914285714287,
          8.706485714285716,
          8.38965714285714,
          7.582457142857136,
          8.55339999999999,
          8.349599999999995,
          8.89782857142857,
          8.80982857142857,
          8.91048571428572,
          8.121599999999992,
          8.066599999999994,
          8.003657142857136,
          8.251714285714284,
          8.11302857142857,
          8.119399999999999,
          8.304399999999989,
          8.373314285714274,
          8.356685714285701,
          8.479971428571416,
          7.916571428571421,
          8.072828571428566,
          8.088542857142853,
          9.062228571428552,
          8.23582857142856,
          8.259914285714276,
          8.25577142857142,
          8.11774285714285,
          8.143771428571423,
          7.943257142857145,
          8.413314285714275,
          8.625714285714274,
          8.345371428571411,
          8.179485714285702,
          8.251399999999986,
          7.998942857142849,
          8.424171428571421,
          8.720628571428561,
          8.615942857142846,
          8.63019999999999,
          8.704857142857138,
          8.722399999999999,
          8.715514285714283,
          8.81471428571428,
          7.815085714285716,
          7.597257142857144,
          8.162057142857131,
          8.539028571428554,
          8.587485714285696,
          8.582714285714268,
          8.497057142857134,
          8.383714285714278,
          8.271999999999993,
          7.370428571428568,
          7.334914285714281,
          7.103657142857142,
          7.3325999999999985,
          7.314914285714285,
          7.274142857142857,
          7.273371428571429,
          7.512114285714281,
          7.470199999999995,
          8.034685714285711,
          7.7516,
          7.678942857142854,
          7.832771428571426,
          8.17368571428571,
          7.8897428571428545,
          7.82248571428571,
          7.484771428571421,
          8.320228571428562,
          8.37119999999999,
          8.385714285714275,
          8.535942857142846,
          7.927885714285704,
          7.936371428571422,
          7.600314285714283,
          7.390857142857142,
          7.610514285714285,
          8.174257142857135,
          8.398171428571423,
          7.687057142857142,
          7.964371428571423,
          7.934314285714282,
          8.273057142857136,
          8.265371428571425,
          8.271857142857138,
          8.220999999999997,
          8.436799999999995,
          8.384457142857137,
          8.393657142857133,
          8.266371428571421,
          8.225999999999994,
          8.69631428571427,
          8.550057142857137,
          8.606371428571432,
          8.202457142857142,
          8.306142857142849,
          7.935657142857137,
          8.619571428571422,
          8.234828571428567,
          8.228657142857132,
          7.867171428571423,
          8.39177142857142,
          8.363285714285709,
          8.291114285714281,
          8.487628571428566,
          8.64811428571428,
          8.238999999999994,
          8.160771428571415,
          8.108028571428559,
          8.326199999999991,
          8.497542857142852,
          8.518742857142849,
          8.786057142857139,
          8.91848571428572,
          9.088314285714286,
          9.024914285714283,
          8.68397142857142,
          8.584828571428563,
          8.669399999999992,
          8.439742857142846,
          8.319257142857133,
          8.321257142857133,
          8.179142857142844,
          8.424714285714279,
          8.263885714285708,
          8.17977142857142,
          7.996457142857146,
          7.301114285714316,
          8.065457142857134,
          8.017457142857136,
          8.025514285714278,
          8.013199999999992,
          8.046542857142848,
          8.001885714285704,
          8.159199999999988,
          7.996342857142853,
          7.758399999999997,
          8.164485714285709,
          8.646771428571425,
          8.586485714285704,
          8.290485714285705,
          8.064285714285704,
          8.375085714285703,
          8.275571428571416,
          8.61457142857141,
          8.48642857142856,
          8.582542857142837,
          8.617942857142852,
          8.40505714285713,
          8.094257142857135,
          8.651942857142839,
          8.656514285714271,
          8.242885714285695,
          8.36677142857142,
          8.38659999999999,
          8.31217142857142,
          8.212114285714279,
          8.336371428571422,
          8.391885714285706,
          8.354485714285707,
          8.37625714285713
         ]
        },
        {
         "error_y": {
          "array": [
           0.9129163970117243
          ],
          "type": "data",
          "visible": true
         },
         "marker": {
          "color": "green",
          "opacity": 0.9,
          "size": 28,
          "symbol": "triangle-up"
         },
         "mode": "markers+text",
         "name": "Selected by MM",
         "text": "PTPDBDT:Br-ITIC",
         "textfont": {
          "color": "#008000"
         },
         "textposition": "top left",
         "type": "scatter",
         "x": [
          9.4
         ],
         "y": [
          9.088314285714286
         ]
        },
        {
         "error_y": {
          "array": [
           1.3018539367124735
          ],
          "type": "data",
          "visible": true
         },
         "marker": {
          "color": "blue",
          "opacity": 1,
          "size": 25,
          "symbol": "diamond"
         },
         "mode": "markers+text",
         "name": "Selected by MEI",
         "text": "PffBT2T-TT:O-IDTBR",
         "textfont": {
          "color": "#0000ff"
         },
         "textposition": "top right",
         "type": "scatter",
         "x": [
          10.1
         ],
         "y": [
          9.062228571428552
         ]
        },
        {
         "error_y": {
          "array": [
           1.3018539367124735
          ],
          "type": "data",
          "visible": true
         },
         "marker": {
          "color": "red",
          "opacity": 1,
          "size": 25,
          "symbol": "star"
         },
         "mode": "markers+text",
         "name": "Selected by MLI",
         "text": "PffBT2T-TT:O-IDTBR",
         "textfont": {
          "color": "#ff0000"
         },
         "textposition": "middle right",
         "type": "scatter",
         "x": [
          10.1
         ],
         "y": [
          9.062228571428552
         ]
        },
        {
         "error_y": {
          "array": [
           1.587380422524019
          ],
          "type": "data",
          "visible": true
         },
         "marker": {
          "color": "purple",
          "opacity": 0.9,
          "size": 20,
          "symbol": "square"
         },
         "mode": "markers+text",
         "name": "Selected by MU",
         "text": "PTH37:i-IEICO",
         "textfont": {
          "color": "#800080"
         },
         "textposition": "bottom right",
         "type": "scatter",
         "x": [
          4.46
         ],
         "y": [
          7.512114285714281
         ]
        },
        {
         "error_y": {
          "array": [
           1.3018539367124735
          ],
          "type": "data",
          "visible": true
         },
         "marker": {
          "color": "darkorange",
          "opacity": 1,
          "size": 12,
          "symbol": "circle"
         },
         "mode": "markers+text",
         "name": "Selected by UCB",
         "text": "PffBT2T-TT:O-IDTBR",
         "textfont": {
          "color": "#ff8c00"
         },
         "textposition": "bottom right",
         "type": "scatter",
         "x": [
          10.1
         ],
         "y": [
          9.062228571428552
         ]
        },
        {
         "line": {
          "color": "black",
          "dash": "dash",
          "width": 3
         },
         "mode": "lines",
         "name": "Max PCE in training set",
         "type": "scatter",
         "x": [
          3,
          20
         ],
         "y": [
          9.95,
          9.95
         ]
        }
       ],
       "layout": {
        "font": {
         "family": "Times New Roman",
         "size": 22
        },
        "height": 600,
        "hovermode": "closest",
        "showlegend": true,
        "template": {
         "data": {
          "bar": [
           {
            "error_x": {
             "color": "#2a3f5f"
            },
            "error_y": {
             "color": "#2a3f5f"
            },
            "marker": {
             "line": {
              "color": "#E5ECF6",
              "width": 0.5
             }
            },
            "type": "bar"
           }
          ],
          "barpolar": [
           {
            "marker": {
             "line": {
              "color": "#E5ECF6",
              "width": 0.5
             }
            },
            "type": "barpolar"
           }
          ],
          "carpet": [
           {
            "aaxis": {
             "endlinecolor": "#2a3f5f",
             "gridcolor": "white",
             "linecolor": "white",
             "minorgridcolor": "white",
             "startlinecolor": "#2a3f5f"
            },
            "baxis": {
             "endlinecolor": "#2a3f5f",
             "gridcolor": "white",
             "linecolor": "white",
             "minorgridcolor": "white",
             "startlinecolor": "#2a3f5f"
            },
            "type": "carpet"
           }
          ],
          "choropleth": [
           {
            "colorbar": {
             "outlinewidth": 0,
             "ticks": ""
            },
            "type": "choropleth"
           }
          ],
          "contour": [
           {
            "colorbar": {
             "outlinewidth": 0,
             "ticks": ""
            },
            "colorscale": [
             [
              0,
              "#0d0887"
             ],
             [
              0.1111111111111111,
              "#46039f"
             ],
             [
              0.2222222222222222,
              "#7201a8"
             ],
             [
              0.3333333333333333,
              "#9c179e"
             ],
             [
              0.4444444444444444,
              "#bd3786"
             ],
             [
              0.5555555555555556,
              "#d8576b"
             ],
             [
              0.6666666666666666,
              "#ed7953"
             ],
             [
              0.7777777777777778,
              "#fb9f3a"
             ],
             [
              0.8888888888888888,
              "#fdca26"
             ],
             [
              1,
              "#f0f921"
             ]
            ],
            "type": "contour"
           }
          ],
          "contourcarpet": [
           {
            "colorbar": {
             "outlinewidth": 0,
             "ticks": ""
            },
            "type": "contourcarpet"
           }
          ],
          "heatmap": [
           {
            "colorbar": {
             "outlinewidth": 0,
             "ticks": ""
            },
            "colorscale": [
             [
              0,
              "#0d0887"
             ],
             [
              0.1111111111111111,
              "#46039f"
             ],
             [
              0.2222222222222222,
              "#7201a8"
             ],
             [
              0.3333333333333333,
              "#9c179e"
             ],
             [
              0.4444444444444444,
              "#bd3786"
             ],
             [
              0.5555555555555556,
              "#d8576b"
             ],
             [
              0.6666666666666666,
              "#ed7953"
             ],
             [
              0.7777777777777778,
              "#fb9f3a"
             ],
             [
              0.8888888888888888,
              "#fdca26"
             ],
             [
              1,
              "#f0f921"
             ]
            ],
            "type": "heatmap"
           }
          ],
          "heatmapgl": [
           {
            "colorbar": {
             "outlinewidth": 0,
             "ticks": ""
            },
            "colorscale": [
             [
              0,
              "#0d0887"
             ],
             [
              0.1111111111111111,
              "#46039f"
             ],
             [
              0.2222222222222222,
              "#7201a8"
             ],
             [
              0.3333333333333333,
              "#9c179e"
             ],
             [
              0.4444444444444444,
              "#bd3786"
             ],
             [
              0.5555555555555556,
              "#d8576b"
             ],
             [
              0.6666666666666666,
              "#ed7953"
             ],
             [
              0.7777777777777778,
              "#fb9f3a"
             ],
             [
              0.8888888888888888,
              "#fdca26"
             ],
             [
              1,
              "#f0f921"
             ]
            ],
            "type": "heatmapgl"
           }
          ],
          "histogram": [
           {
            "marker": {
             "colorbar": {
              "outlinewidth": 0,
              "ticks": ""
             }
            },
            "type": "histogram"
           }
          ],
          "histogram2d": [
           {
            "colorbar": {
             "outlinewidth": 0,
             "ticks": ""
            },
            "colorscale": [
             [
              0,
              "#0d0887"
             ],
             [
              0.1111111111111111,
              "#46039f"
             ],
             [
              0.2222222222222222,
              "#7201a8"
             ],
             [
              0.3333333333333333,
              "#9c179e"
             ],
             [
              0.4444444444444444,
              "#bd3786"
             ],
             [
              0.5555555555555556,
              "#d8576b"
             ],
             [
              0.6666666666666666,
              "#ed7953"
             ],
             [
              0.7777777777777778,
              "#fb9f3a"
             ],
             [
              0.8888888888888888,
              "#fdca26"
             ],
             [
              1,
              "#f0f921"
             ]
            ],
            "type": "histogram2d"
           }
          ],
          "histogram2dcontour": [
           {
            "colorbar": {
             "outlinewidth": 0,
             "ticks": ""
            },
            "colorscale": [
             [
              0,
              "#0d0887"
             ],
             [
              0.1111111111111111,
              "#46039f"
             ],
             [
              0.2222222222222222,
              "#7201a8"
             ],
             [
              0.3333333333333333,
              "#9c179e"
             ],
             [
              0.4444444444444444,
              "#bd3786"
             ],
             [
              0.5555555555555556,
              "#d8576b"
             ],
             [
              0.6666666666666666,
              "#ed7953"
             ],
             [
              0.7777777777777778,
              "#fb9f3a"
             ],
             [
              0.8888888888888888,
              "#fdca26"
             ],
             [
              1,
              "#f0f921"
             ]
            ],
            "type": "histogram2dcontour"
           }
          ],
          "mesh3d": [
           {
            "colorbar": {
             "outlinewidth": 0,
             "ticks": ""
            },
            "type": "mesh3d"
           }
          ],
          "parcoords": [
           {
            "line": {
             "colorbar": {
              "outlinewidth": 0,
              "ticks": ""
             }
            },
            "type": "parcoords"
           }
          ],
          "pie": [
           {
            "automargin": true,
            "type": "pie"
           }
          ],
          "scatter": [
           {
            "marker": {
             "colorbar": {
              "outlinewidth": 0,
              "ticks": ""
             }
            },
            "type": "scatter"
           }
          ],
          "scatter3d": [
           {
            "line": {
             "colorbar": {
              "outlinewidth": 0,
              "ticks": ""
             }
            },
            "marker": {
             "colorbar": {
              "outlinewidth": 0,
              "ticks": ""
             }
            },
            "type": "scatter3d"
           }
          ],
          "scattercarpet": [
           {
            "marker": {
             "colorbar": {
              "outlinewidth": 0,
              "ticks": ""
             }
            },
            "type": "scattercarpet"
           }
          ],
          "scattergeo": [
           {
            "marker": {
             "colorbar": {
              "outlinewidth": 0,
              "ticks": ""
             }
            },
            "type": "scattergeo"
           }
          ],
          "scattergl": [
           {
            "marker": {
             "colorbar": {
              "outlinewidth": 0,
              "ticks": ""
             }
            },
            "type": "scattergl"
           }
          ],
          "scattermapbox": [
           {
            "marker": {
             "colorbar": {
              "outlinewidth": 0,
              "ticks": ""
             }
            },
            "type": "scattermapbox"
           }
          ],
          "scatterpolar": [
           {
            "marker": {
             "colorbar": {
              "outlinewidth": 0,
              "ticks": ""
             }
            },
            "type": "scatterpolar"
           }
          ],
          "scatterpolargl": [
           {
            "marker": {
             "colorbar": {
              "outlinewidth": 0,
              "ticks": ""
             }
            },
            "type": "scatterpolargl"
           }
          ],
          "scatterternary": [
           {
            "marker": {
             "colorbar": {
              "outlinewidth": 0,
              "ticks": ""
             }
            },
            "type": "scatterternary"
           }
          ],
          "surface": [
           {
            "colorbar": {
             "outlinewidth": 0,
             "ticks": ""
            },
            "colorscale": [
             [
              0,
              "#0d0887"
             ],
             [
              0.1111111111111111,
              "#46039f"
             ],
             [
              0.2222222222222222,
              "#7201a8"
             ],
             [
              0.3333333333333333,
              "#9c179e"
             ],
             [
              0.4444444444444444,
              "#bd3786"
             ],
             [
              0.5555555555555556,
              "#d8576b"
             ],
             [
              0.6666666666666666,
              "#ed7953"
             ],
             [
              0.7777777777777778,
              "#fb9f3a"
             ],
             [
              0.8888888888888888,
              "#fdca26"
             ],
             [
              1,
              "#f0f921"
             ]
            ],
            "type": "surface"
           }
          ],
          "table": [
           {
            "cells": {
             "fill": {
              "color": "#EBF0F8"
             },
             "line": {
              "color": "white"
             }
            },
            "header": {
             "fill": {
              "color": "#C8D4E3"
             },
             "line": {
              "color": "white"
             }
            },
            "type": "table"
           }
          ]
         },
         "layout": {
          "annotationdefaults": {
           "arrowcolor": "#2a3f5f",
           "arrowhead": 0,
           "arrowwidth": 1
          },
          "autotypenumbers": "strict",
          "coloraxis": {
           "colorbar": {
            "outlinewidth": 0,
            "ticks": ""
           }
          },
          "colorscale": {
           "diverging": [
            [
             0,
             "#8e0152"
            ],
            [
             0.1,
             "#c51b7d"
            ],
            [
             0.2,
             "#de77ae"
            ],
            [
             0.3,
             "#f1b6da"
            ],
            [
             0.4,
             "#fde0ef"
            ],
            [
             0.5,
             "#f7f7f7"
            ],
            [
             0.6,
             "#e6f5d0"
            ],
            [
             0.7,
             "#b8e186"
            ],
            [
             0.8,
             "#7fbc41"
            ],
            [
             0.9,
             "#4d9221"
            ],
            [
             1,
             "#276419"
            ]
           ],
           "sequential": [
            [
             0,
             "#0d0887"
            ],
            [
             0.1111111111111111,
             "#46039f"
            ],
            [
             0.2222222222222222,
             "#7201a8"
            ],
            [
             0.3333333333333333,
             "#9c179e"
            ],
            [
             0.4444444444444444,
             "#bd3786"
            ],
            [
             0.5555555555555556,
             "#d8576b"
            ],
            [
             0.6666666666666666,
             "#ed7953"
            ],
            [
             0.7777777777777778,
             "#fb9f3a"
            ],
            [
             0.8888888888888888,
             "#fdca26"
            ],
            [
             1,
             "#f0f921"
            ]
           ],
           "sequentialminus": [
            [
             0,
             "#0d0887"
            ],
            [
             0.1111111111111111,
             "#46039f"
            ],
            [
             0.2222222222222222,
             "#7201a8"
            ],
            [
             0.3333333333333333,
             "#9c179e"
            ],
            [
             0.4444444444444444,
             "#bd3786"
            ],
            [
             0.5555555555555556,
             "#d8576b"
            ],
            [
             0.6666666666666666,
             "#ed7953"
            ],
            [
             0.7777777777777778,
             "#fb9f3a"
            ],
            [
             0.8888888888888888,
             "#fdca26"
            ],
            [
             1,
             "#f0f921"
            ]
           ]
          },
          "colorway": [
           "#636efa",
           "#EF553B",
           "#00cc96",
           "#ab63fa",
           "#FFA15A",
           "#19d3f3",
           "#FF6692",
           "#B6E880",
           "#FF97FF",
           "#FECB52"
          ],
          "font": {
           "color": "#2a3f5f"
          },
          "geo": {
           "bgcolor": "white",
           "lakecolor": "white",
           "landcolor": "#E5ECF6",
           "showlakes": true,
           "showland": true,
           "subunitcolor": "white"
          },
          "hoverlabel": {
           "align": "left"
          },
          "hovermode": "closest",
          "mapbox": {
           "style": "light"
          },
          "paper_bgcolor": "white",
          "plot_bgcolor": "#E5ECF6",
          "polar": {
           "angularaxis": {
            "gridcolor": "white",
            "linecolor": "white",
            "ticks": ""
           },
           "bgcolor": "#E5ECF6",
           "radialaxis": {
            "gridcolor": "white",
            "linecolor": "white",
            "ticks": ""
           }
          },
          "scene": {
           "xaxis": {
            "backgroundcolor": "#E5ECF6",
            "gridcolor": "white",
            "gridwidth": 2,
            "linecolor": "white",
            "showbackground": true,
            "ticks": "",
            "zerolinecolor": "white"
           },
           "yaxis": {
            "backgroundcolor": "#E5ECF6",
            "gridcolor": "white",
            "gridwidth": 2,
            "linecolor": "white",
            "showbackground": true,
            "ticks": "",
            "zerolinecolor": "white"
           },
           "zaxis": {
            "backgroundcolor": "#E5ECF6",
            "gridcolor": "white",
            "gridwidth": 2,
            "linecolor": "white",
            "showbackground": true,
            "ticks": "",
            "zerolinecolor": "white"
           }
          },
          "shapedefaults": {
           "line": {
            "color": "#2a3f5f"
           }
          },
          "ternary": {
           "aaxis": {
            "gridcolor": "white",
            "linecolor": "white",
            "ticks": ""
           },
           "baxis": {
            "gridcolor": "white",
            "linecolor": "white",
            "ticks": ""
           },
           "bgcolor": "#E5ECF6",
           "caxis": {
            "gridcolor": "white",
            "linecolor": "white",
            "ticks": ""
           }
          },
          "title": {
           "x": 0.05
          },
          "xaxis": {
           "automargin": true,
           "gridcolor": "white",
           "linecolor": "white",
           "ticks": "",
           "title": {
            "standoff": 15
           },
           "zerolinecolor": "white",
           "zerolinewidth": 2
          },
          "yaxis": {
           "automargin": true,
           "gridcolor": "white",
           "linecolor": "white",
           "ticks": "",
           "title": {
            "standoff": 15
           },
           "zerolinecolor": "white",
           "zerolinewidth": 2
          }
         }
        },
        "title": {
         "text": "PCE - MAE: 1.666 HV"
        },
        "width": 900,
        "xaxis": {
         "gridwidth": 2,
         "title": {
          "text": "Reported PCE (%)"
         },
         "zeroline": false
        },
        "yaxis": {
         "gridwidth": 2,
         "title": {
          "text": "Predicted PCE (%)"
         },
         "zeroline": false
        }
       }
      },
      "text/html": [
       "<div>                            <div id=\"860844c1-d7d9-4920-8032-6537056168a8\" class=\"plotly-graph-div\" style=\"height:600px; width:900px;\"></div>            <script type=\"text/javascript\">                require([\"plotly\"], function(Plotly) {                    window.PLOTLYENV=window.PLOTLYENV || {};                                    if (document.getElementById(\"860844c1-d7d9-4920-8032-6537056168a8\")) {                    Plotly.newPlot(                        \"860844c1-d7d9-4920-8032-6537056168a8\",                        [{\"error_y\": {\"array\": [1.2484360757701953, 1.1921559500547387, 1.0161284965848747, 1.27178738919828, 1.1962766632749282, 1.0112413955377422, 1.3197420318759092, 1.2573378659731769, 1.1233680095203689, 1.33951351100791, 1.3323345131814044, 1.2551714877952145, 1.2463851452955588, 1.0741983773536101, 1.2141229237632294, 1.3589515064523325, 1.1788798741496052, 1.223625487478181, 1.2118753581740505, 1.2873906517196245, 1.2073264014777791, 1.2861046111473868, 1.3339889004074024, 1.393704835112911, 1.3878798470739617, 1.412678195483703, 1.388152056147486, 1.4399511248357268, 1.3587958783608183, 1.0247174149967493, 1.3916908135457295, 1.4471777562011499, 1.53132791971796, 1.3815957137789534, 0.9633316556812062, 0.9992183043818342, 0.9037825914315357, 1.4746718385860031, 1.488471123849216, 1.5624645498393568, 1.4824851081153794, 1.4981260402313141, 1.47899250730902, 1.3474411959355765, 1.3701863962761858, 1.3803240301328157, 1.2971883852847756, 1.5113286491409732, 1.4930301295227457, 1.4863003403068975, 1.3018539367124735, 1.445083661942198, 1.4144812827401656, 1.4499694115084898, 1.4180467183039744, 1.4001459417529039, 1.4848320859184385, 1.3385742269718879, 1.2946844947924874, 1.4466187250174172, 1.4874006744219848, 1.4512845944927655, 1.5114149321122485, 1.2339074256190978, 1.2525587126734719, 1.1677027122656267, 1.17406609353012, 1.0880909689041287, 1.0957246741789584, 1.172481825701572, 1.3024868449127198, 1.4603186324878945, 1.4637117387081133, 1.3675593876222576, 1.2441939309702812, 1.3106084540596548, 1.3340428261390207, 1.2687614031637333, 1.2707567984353045, 1.330261193302608, 1.544275347453148, 1.535405966708272, 1.471371617908295, 1.5403755486716726, 1.5720001197793136, 1.5567787740887016, 1.5669222490043588, 1.587380422524019, 1.5784235416360328, 1.5106425846043066, 1.5040163079040259, 1.5487661313693015, 1.5161072265478117, 1.450551269013274, 1.4803123236404865, 1.5331258566554404, 1.5451936124773922, 1.3614826126783466, 1.3602364702559355, 1.3706873721925699, 1.2630903554413682, 1.5205784559730993, 1.5315247863162735, 1.5127140881220045, 1.4889620073022427, 1.5264310373645162, 1.405694473826158, 1.5518991320594167, 1.49541042737288, 1.45436011955345, 1.4547038468465996, 1.2339509875620176, 1.3566213528038475, 1.3502353534178104, 1.3683090918259797, 1.1916108574237179, 1.1973095996974348, 1.2731193994756846, 1.3667715413238388, 1.3503012504803171, 1.2415714063645018, 1.3806711117381898, 1.1164068074137605, 1.3469316577718953, 1.4521797595449164, 1.5090887958831343, 1.2841969112709013, 1.4280021306500996, 1.498865730511142, 1.546430310118239, 1.2607594265202064, 1.2727795108251958, 1.3504814650614125, 1.2637554119772076, 1.1201055970335716, 1.3485640776890206, 1.3174333513633587, 1.3282833997352674, 1.2140774629157263, 1.2836321216218594, 1.3239556589943717, 1.0967262548606642, 0.8902369174193516, 0.9129163970117243, 1.0073596618556933, 1.2201131749308267, 1.2339924485499003, 1.2291355244788178, 1.2825780771344748, 1.4317596992047528, 1.3253169019929325, 1.4325901191364554, 1.4038595198135975, 1.5155357033988688, 1.322136828349324, 1.49751006986023, 1.0927613683255737, 1.4727753626848992, 1.4746962553135958, 1.482267156710997, 1.479099098528044, 1.500946899653415, 1.48890486419977, 1.3574928179244012, 1.4557006986142338, 1.4230467979345403, 1.3333707393102001, 1.0422164112562877, 0.9327652106456102, 1.3213488565306808, 1.4113818661161968, 0.9746405515195801, 1.164728328585924, 1.3096574124034448, 1.2859790910730389, 1.3354589231448826, 1.1359407432095696, 1.3232197304975704, 1.518091809381438, 0.8933541298443003, 0.8530645034657522, 1.1592030972664955, 1.2349614006407041, 1.2371960325359252, 1.254832206861211, 1.30971030221441, 1.2491467479984892, 1.2637989705266486, 1.2524241907850266, 1.3901625277135259], \"type\": \"data\", \"visible\": true}, \"marker\": {\"color\": \"lightgray\", \"size\": 12}, \"mode\": \"markers\", \"name\": \"Testing Data\", \"text\": [58.0, 40.0, 34.0, 102.0, 184.0, 198.0, 95.0, 4.0, 29.0, 168.0, 171.0, 18.0, 11.0, 89.0, 110.0, 118.0, 159.0, 35.0, 136.0, 59.0], \"type\": \"scatter\", \"x\": [11.6, 12.2, 8.8, 8.0, 8.9, 4.4, 7.8, 10.9, 9.9, 13.42, 13.4, 13.8, 14.3, 6.4, 11.46, 13.82, 12.3, 13.6, 12.9, 12.7, 11.7, 16.5, 9.3, 10.4, 9.6, 5.5, 15.0, 9.41, 10.5, 6.4, 7.2, 10.5, 11.4, 10.19, 8.4, 7.0, 5.4, 9.83, 8.45, 11.48, 6.0, 7.2, 10.2, 14.9, 17.8, 16.9, 9.1, 7.59, 8.1, 7.0, 10.1, 9.12, 13.18, 13.68, 13.31, 16.64, 8.25, 13.7, 8.9, 10.52, 9.41, 11.1, 13.24, 14.16, 13.68, 9.66, 9.18, 4.93, 6.55, 6.71, 6.19, 12.03, 9.74, 13.32, 9.6, 13.4, 12.5, 8.2, 14.1, 15.3, 9.64, 9.82, 7.9, 7.57, 8.16, 8.49, 4.1, 4.46, 4.11, 7.76, 10.18, 9.4, 8.72, 9.27, 7.72, 5.94, 4.5, 8.53, 8.48, 6.53, 5.75, 9.11, 7.08, 10.81, 8.97, 11.59, 15.12, 4.12, 13.9, 11.26, 12.21, 15.3, 5.75, 10.5, 16.21, 12.72, 14.0, 17.1, 16.7, 15.2, 12.87, 12.43, 8.31, 8.36, 11.05, 8.02, 10.35, 8.24, 9.92, 10.93, 5.51, 8.97, 9.53, 10.81, 8.13, 8.59, 6.68, 8.9, 11.34, 11.73, 10.68, 8.12, 5.6, 9.4, 8.9, 7.7, 10.1, 10.8, 11.5, 7.3, 9.3, 10.8, 9.7, 11.1, 12.97, 7.11, 5.9, 10.9, 12.1, 9.94, 8.05, 9.62, 12.84, 18.32, 8.14, 18.22, 13.1, 7.4, 12.2, 7.03, 4.8, 6.54, 5.65, 9.81, 8.99, 11.2, 5.5, 6.9, 5.4, 5.24, 6.28, 6.94, 11.62, 12.05, 10.23, 10.71, 9.63, 8.03, 7.21, 13.37], \"y\": [8.631828571428551, 8.638485714285695, 8.805885714285695, 8.536399999999984, 8.562285714285704, 8.740542857142849, 8.338628571428563, 8.356828571428562, 8.547399999999993, 8.169171428571419, 8.184399999999991, 8.171457142857138, 8.452828571428558, 8.540371428571412, 8.708285714285706, 8.563828571428562, 8.655914285714276, 8.699085714285706, 8.411914285714277, 8.597257142857137, 8.624742857142852, 8.47297142857142, 8.291057142857134, 8.118685714285705, 8.126599999999993, 8.451028571428562, 8.166028571428562, 8.037314285714286, 8.245914285714287, 8.706485714285716, 8.38965714285714, 7.582457142857136, 8.55339999999999, 8.349599999999995, 8.89782857142857, 8.80982857142857, 8.91048571428572, 8.121599999999992, 8.066599999999994, 8.003657142857136, 8.251714285714284, 8.11302857142857, 8.119399999999999, 8.304399999999989, 8.373314285714274, 8.356685714285701, 8.479971428571416, 7.916571428571421, 8.072828571428566, 8.088542857142853, 9.062228571428552, 8.23582857142856, 8.259914285714276, 8.25577142857142, 8.11774285714285, 8.143771428571423, 7.943257142857145, 8.413314285714275, 8.625714285714274, 8.345371428571411, 8.179485714285702, 8.251399999999986, 7.998942857142849, 8.424171428571421, 8.720628571428561, 8.615942857142846, 8.63019999999999, 8.704857142857138, 8.722399999999999, 8.715514285714283, 8.81471428571428, 7.815085714285716, 7.597257142857144, 8.162057142857131, 8.539028571428554, 8.587485714285696, 8.582714285714268, 8.497057142857134, 8.383714285714278, 8.271999999999993, 7.370428571428568, 7.334914285714281, 7.103657142857142, 7.3325999999999985, 7.314914285714285, 7.274142857142857, 7.273371428571429, 7.512114285714281, 7.470199999999995, 8.034685714285711, 7.7516, 7.678942857142854, 7.832771428571426, 8.17368571428571, 7.8897428571428545, 7.82248571428571, 7.484771428571421, 8.320228571428562, 8.37119999999999, 8.385714285714275, 8.535942857142846, 7.927885714285704, 7.936371428571422, 7.600314285714283, 7.390857142857142, 7.610514285714285, 8.174257142857135, 8.398171428571423, 7.687057142857142, 7.964371428571423, 7.934314285714282, 8.273057142857136, 8.265371428571425, 8.271857142857138, 8.220999999999997, 8.436799999999995, 8.384457142857137, 8.393657142857133, 8.266371428571421, 8.225999999999994, 8.69631428571427, 8.550057142857137, 8.606371428571432, 8.202457142857142, 8.306142857142849, 7.935657142857137, 8.619571428571422, 8.234828571428567, 8.228657142857132, 7.867171428571423, 8.39177142857142, 8.363285714285709, 8.291114285714281, 8.487628571428566, 8.64811428571428, 8.238999999999994, 8.160771428571415, 8.108028571428559, 8.326199999999991, 8.497542857142852, 8.518742857142849, 8.786057142857139, 8.91848571428572, 9.088314285714286, 9.024914285714283, 8.68397142857142, 8.584828571428563, 8.669399999999992, 8.439742857142846, 8.319257142857133, 8.321257142857133, 8.179142857142844, 8.424714285714279, 8.263885714285708, 8.17977142857142, 7.996457142857146, 7.301114285714316, 8.065457142857134, 8.017457142857136, 8.025514285714278, 8.013199999999992, 8.046542857142848, 8.001885714285704, 8.159199999999988, 7.996342857142853, 7.758399999999997, 8.164485714285709, 8.646771428571425, 8.586485714285704, 8.290485714285705, 8.064285714285704, 8.375085714285703, 8.275571428571416, 8.61457142857141, 8.48642857142856, 8.582542857142837, 8.617942857142852, 8.40505714285713, 8.094257142857135, 8.651942857142839, 8.656514285714271, 8.242885714285695, 8.36677142857142, 8.38659999999999, 8.31217142857142, 8.212114285714279, 8.336371428571422, 8.391885714285706, 8.354485714285707, 8.37625714285713]}, {\"error_y\": {\"array\": [0.9129163970117243], \"type\": \"data\", \"visible\": true}, \"marker\": {\"color\": \"green\", \"opacity\": 0.9, \"size\": 28, \"symbol\": \"triangle-up\"}, \"mode\": \"markers+text\", \"name\": \"Selected by MM\", \"text\": \"PTPDBDT:Br-ITIC\", \"textfont\": {\"color\": \"#008000\"}, \"textposition\": \"top left\", \"type\": \"scatter\", \"x\": [9.4], \"y\": [9.088314285714286]}, {\"error_y\": {\"array\": [1.3018539367124735], \"type\": \"data\", \"visible\": true}, \"marker\": {\"color\": \"blue\", \"opacity\": 1, \"size\": 25, \"symbol\": \"diamond\"}, \"mode\": \"markers+text\", \"name\": \"Selected by MEI\", \"text\": \"PffBT2T-TT:O-IDTBR\", \"textfont\": {\"color\": \"#0000ff\"}, \"textposition\": \"top right\", \"type\": \"scatter\", \"x\": [10.1], \"y\": [9.062228571428552]}, {\"error_y\": {\"array\": [1.3018539367124735], \"type\": \"data\", \"visible\": true}, \"marker\": {\"color\": \"red\", \"opacity\": 1, \"size\": 25, \"symbol\": \"star\"}, \"mode\": \"markers+text\", \"name\": \"Selected by MLI\", \"text\": \"PffBT2T-TT:O-IDTBR\", \"textfont\": {\"color\": \"#ff0000\"}, \"textposition\": \"middle right\", \"type\": \"scatter\", \"x\": [10.1], \"y\": [9.062228571428552]}, {\"error_y\": {\"array\": [1.587380422524019], \"type\": \"data\", \"visible\": true}, \"marker\": {\"color\": \"purple\", \"opacity\": 0.9, \"size\": 20, \"symbol\": \"square\"}, \"mode\": \"markers+text\", \"name\": \"Selected by MU\", \"text\": \"PTH37:i-IEICO\", \"textfont\": {\"color\": \"#800080\"}, \"textposition\": \"bottom right\", \"type\": \"scatter\", \"x\": [4.46], \"y\": [7.512114285714281]}, {\"error_y\": {\"array\": [1.3018539367124735], \"type\": \"data\", \"visible\": true}, \"marker\": {\"color\": \"darkorange\", \"opacity\": 1, \"size\": 12, \"symbol\": \"circle\"}, \"mode\": \"markers+text\", \"name\": \"Selected by UCB\", \"text\": \"PffBT2T-TT:O-IDTBR\", \"textfont\": {\"color\": \"#ff8c00\"}, \"textposition\": \"bottom right\", \"type\": \"scatter\", \"x\": [10.1], \"y\": [9.062228571428552]}, {\"line\": {\"color\": \"black\", \"dash\": \"dash\", \"width\": 3}, \"mode\": \"lines\", \"name\": \"Max PCE in training set\", \"type\": \"scatter\", \"x\": [3, 20], \"y\": [9.95, 9.95]}],                        {\"font\": {\"family\": \"Times New Roman\", \"size\": 22}, \"height\": 600, \"hovermode\": \"closest\", \"showlegend\": true, \"template\": {\"data\": {\"bar\": [{\"error_x\": {\"color\": \"#2a3f5f\"}, \"error_y\": {\"color\": \"#2a3f5f\"}, \"marker\": {\"line\": {\"color\": \"#E5ECF6\", \"width\": 0.5}}, \"type\": \"bar\"}], \"barpolar\": [{\"marker\": {\"line\": {\"color\": \"#E5ECF6\", \"width\": 0.5}}, \"type\": \"barpolar\"}], \"carpet\": [{\"aaxis\": {\"endlinecolor\": \"#2a3f5f\", \"gridcolor\": \"white\", \"linecolor\": \"white\", \"minorgridcolor\": \"white\", \"startlinecolor\": \"#2a3f5f\"}, \"baxis\": {\"endlinecolor\": \"#2a3f5f\", \"gridcolor\": \"white\", \"linecolor\": \"white\", \"minorgridcolor\": \"white\", \"startlinecolor\": \"#2a3f5f\"}, \"type\": \"carpet\"}], \"choropleth\": [{\"colorbar\": {\"outlinewidth\": 0, \"ticks\": \"\"}, \"type\": \"choropleth\"}], \"contour\": [{\"colorbar\": {\"outlinewidth\": 0, \"ticks\": \"\"}, \"colorscale\": [[0.0, \"#0d0887\"], [0.1111111111111111, \"#46039f\"], [0.2222222222222222, \"#7201a8\"], [0.3333333333333333, \"#9c179e\"], [0.4444444444444444, \"#bd3786\"], [0.5555555555555556, \"#d8576b\"], [0.6666666666666666, \"#ed7953\"], [0.7777777777777778, \"#fb9f3a\"], [0.8888888888888888, \"#fdca26\"], [1.0, \"#f0f921\"]], \"type\": \"contour\"}], \"contourcarpet\": [{\"colorbar\": {\"outlinewidth\": 0, \"ticks\": \"\"}, \"type\": \"contourcarpet\"}], \"heatmap\": [{\"colorbar\": {\"outlinewidth\": 0, \"ticks\": \"\"}, \"colorscale\": [[0.0, \"#0d0887\"], [0.1111111111111111, \"#46039f\"], [0.2222222222222222, \"#7201a8\"], [0.3333333333333333, \"#9c179e\"], [0.4444444444444444, \"#bd3786\"], [0.5555555555555556, \"#d8576b\"], [0.6666666666666666, \"#ed7953\"], [0.7777777777777778, \"#fb9f3a\"], [0.8888888888888888, \"#fdca26\"], [1.0, \"#f0f921\"]], \"type\": \"heatmap\"}], \"heatmapgl\": [{\"colorbar\": {\"outlinewidth\": 0, \"ticks\": \"\"}, \"colorscale\": [[0.0, \"#0d0887\"], [0.1111111111111111, \"#46039f\"], [0.2222222222222222, \"#7201a8\"], [0.3333333333333333, \"#9c179e\"], [0.4444444444444444, \"#bd3786\"], [0.5555555555555556, \"#d8576b\"], [0.6666666666666666, \"#ed7953\"], [0.7777777777777778, \"#fb9f3a\"], [0.8888888888888888, \"#fdca26\"], [1.0, \"#f0f921\"]], \"type\": \"heatmapgl\"}], \"histogram\": [{\"marker\": {\"colorbar\": {\"outlinewidth\": 0, \"ticks\": \"\"}}, \"type\": \"histogram\"}], \"histogram2d\": [{\"colorbar\": {\"outlinewidth\": 0, \"ticks\": \"\"}, \"colorscale\": [[0.0, \"#0d0887\"], [0.1111111111111111, \"#46039f\"], [0.2222222222222222, \"#7201a8\"], [0.3333333333333333, \"#9c179e\"], [0.4444444444444444, \"#bd3786\"], [0.5555555555555556, \"#d8576b\"], [0.6666666666666666, \"#ed7953\"], [0.7777777777777778, \"#fb9f3a\"], [0.8888888888888888, \"#fdca26\"], [1.0, \"#f0f921\"]], \"type\": \"histogram2d\"}], \"histogram2dcontour\": [{\"colorbar\": {\"outlinewidth\": 0, \"ticks\": \"\"}, \"colorscale\": [[0.0, \"#0d0887\"], [0.1111111111111111, \"#46039f\"], [0.2222222222222222, \"#7201a8\"], [0.3333333333333333, \"#9c179e\"], [0.4444444444444444, \"#bd3786\"], [0.5555555555555556, \"#d8576b\"], [0.6666666666666666, \"#ed7953\"], [0.7777777777777778, \"#fb9f3a\"], [0.8888888888888888, \"#fdca26\"], [1.0, \"#f0f921\"]], \"type\": \"histogram2dcontour\"}], \"mesh3d\": [{\"colorbar\": {\"outlinewidth\": 0, \"ticks\": \"\"}, \"type\": \"mesh3d\"}], \"parcoords\": [{\"line\": {\"colorbar\": {\"outlinewidth\": 0, \"ticks\": \"\"}}, \"type\": \"parcoords\"}], \"pie\": [{\"automargin\": true, \"type\": \"pie\"}], \"scatter\": [{\"marker\": {\"colorbar\": {\"outlinewidth\": 0, \"ticks\": \"\"}}, \"type\": \"scatter\"}], \"scatter3d\": [{\"line\": {\"colorbar\": {\"outlinewidth\": 0, \"ticks\": \"\"}}, \"marker\": {\"colorbar\": {\"outlinewidth\": 0, \"ticks\": \"\"}}, \"type\": \"scatter3d\"}], \"scattercarpet\": [{\"marker\": {\"colorbar\": {\"outlinewidth\": 0, \"ticks\": \"\"}}, \"type\": \"scattercarpet\"}], \"scattergeo\": [{\"marker\": {\"colorbar\": {\"outlinewidth\": 0, \"ticks\": \"\"}}, \"type\": \"scattergeo\"}], \"scattergl\": [{\"marker\": {\"colorbar\": {\"outlinewidth\": 0, \"ticks\": \"\"}}, \"type\": \"scattergl\"}], \"scattermapbox\": [{\"marker\": {\"colorbar\": {\"outlinewidth\": 0, \"ticks\": \"\"}}, \"type\": \"scattermapbox\"}], \"scatterpolar\": [{\"marker\": {\"colorbar\": {\"outlinewidth\": 0, \"ticks\": \"\"}}, \"type\": \"scatterpolar\"}], \"scatterpolargl\": [{\"marker\": {\"colorbar\": {\"outlinewidth\": 0, \"ticks\": \"\"}}, \"type\": \"scatterpolargl\"}], \"scatterternary\": [{\"marker\": {\"colorbar\": {\"outlinewidth\": 0, \"ticks\": \"\"}}, \"type\": \"scatterternary\"}], \"surface\": [{\"colorbar\": {\"outlinewidth\": 0, \"ticks\": \"\"}, \"colorscale\": [[0.0, \"#0d0887\"], [0.1111111111111111, \"#46039f\"], [0.2222222222222222, \"#7201a8\"], [0.3333333333333333, \"#9c179e\"], [0.4444444444444444, \"#bd3786\"], [0.5555555555555556, \"#d8576b\"], [0.6666666666666666, \"#ed7953\"], [0.7777777777777778, \"#fb9f3a\"], [0.8888888888888888, \"#fdca26\"], [1.0, \"#f0f921\"]], \"type\": \"surface\"}], \"table\": [{\"cells\": {\"fill\": {\"color\": \"#EBF0F8\"}, \"line\": {\"color\": \"white\"}}, \"header\": {\"fill\": {\"color\": \"#C8D4E3\"}, \"line\": {\"color\": \"white\"}}, \"type\": \"table\"}]}, \"layout\": {\"annotationdefaults\": {\"arrowcolor\": \"#2a3f5f\", \"arrowhead\": 0, \"arrowwidth\": 1}, \"autotypenumbers\": \"strict\", \"coloraxis\": {\"colorbar\": {\"outlinewidth\": 0, \"ticks\": \"\"}}, \"colorscale\": {\"diverging\": [[0, \"#8e0152\"], [0.1, \"#c51b7d\"], [0.2, \"#de77ae\"], [0.3, \"#f1b6da\"], [0.4, \"#fde0ef\"], [0.5, \"#f7f7f7\"], [0.6, \"#e6f5d0\"], [0.7, \"#b8e186\"], [0.8, \"#7fbc41\"], [0.9, \"#4d9221\"], [1, \"#276419\"]], \"sequential\": [[0.0, \"#0d0887\"], [0.1111111111111111, \"#46039f\"], [0.2222222222222222, \"#7201a8\"], [0.3333333333333333, \"#9c179e\"], [0.4444444444444444, \"#bd3786\"], [0.5555555555555556, \"#d8576b\"], [0.6666666666666666, \"#ed7953\"], [0.7777777777777778, \"#fb9f3a\"], [0.8888888888888888, \"#fdca26\"], [1.0, \"#f0f921\"]], \"sequentialminus\": [[0.0, \"#0d0887\"], [0.1111111111111111, \"#46039f\"], [0.2222222222222222, \"#7201a8\"], [0.3333333333333333, \"#9c179e\"], [0.4444444444444444, \"#bd3786\"], [0.5555555555555556, \"#d8576b\"], [0.6666666666666666, \"#ed7953\"], [0.7777777777777778, \"#fb9f3a\"], [0.8888888888888888, \"#fdca26\"], [1.0, \"#f0f921\"]]}, \"colorway\": [\"#636efa\", \"#EF553B\", \"#00cc96\", \"#ab63fa\", \"#FFA15A\", \"#19d3f3\", \"#FF6692\", \"#B6E880\", \"#FF97FF\", \"#FECB52\"], \"font\": {\"color\": \"#2a3f5f\"}, \"geo\": {\"bgcolor\": \"white\", \"lakecolor\": \"white\", \"landcolor\": \"#E5ECF6\", \"showlakes\": true, \"showland\": true, \"subunitcolor\": \"white\"}, \"hoverlabel\": {\"align\": \"left\"}, \"hovermode\": \"closest\", \"mapbox\": {\"style\": \"light\"}, \"paper_bgcolor\": \"white\", \"plot_bgcolor\": \"#E5ECF6\", \"polar\": {\"angularaxis\": {\"gridcolor\": \"white\", \"linecolor\": \"white\", \"ticks\": \"\"}, \"bgcolor\": \"#E5ECF6\", \"radialaxis\": {\"gridcolor\": \"white\", \"linecolor\": \"white\", \"ticks\": \"\"}}, \"scene\": {\"xaxis\": {\"backgroundcolor\": \"#E5ECF6\", \"gridcolor\": \"white\", \"gridwidth\": 2, \"linecolor\": \"white\", \"showbackground\": true, \"ticks\": \"\", \"zerolinecolor\": \"white\"}, \"yaxis\": {\"backgroundcolor\": \"#E5ECF6\", \"gridcolor\": \"white\", \"gridwidth\": 2, \"linecolor\": \"white\", \"showbackground\": true, \"ticks\": \"\", \"zerolinecolor\": \"white\"}, \"zaxis\": {\"backgroundcolor\": \"#E5ECF6\", \"gridcolor\": \"white\", \"gridwidth\": 2, \"linecolor\": \"white\", \"showbackground\": true, \"ticks\": \"\", \"zerolinecolor\": \"white\"}}, \"shapedefaults\": {\"line\": {\"color\": \"#2a3f5f\"}}, \"ternary\": {\"aaxis\": {\"gridcolor\": \"white\", \"linecolor\": \"white\", \"ticks\": \"\"}, \"baxis\": {\"gridcolor\": \"white\", \"linecolor\": \"white\", \"ticks\": \"\"}, \"bgcolor\": \"#E5ECF6\", \"caxis\": {\"gridcolor\": \"white\", \"linecolor\": \"white\", \"ticks\": \"\"}}, \"title\": {\"x\": 0.05}, \"xaxis\": {\"automargin\": true, \"gridcolor\": \"white\", \"linecolor\": \"white\", \"ticks\": \"\", \"title\": {\"standoff\": 15}, \"zerolinecolor\": \"white\", \"zerolinewidth\": 2}, \"yaxis\": {\"automargin\": true, \"gridcolor\": \"white\", \"linecolor\": \"white\", \"ticks\": \"\", \"title\": {\"standoff\": 15}, \"zerolinecolor\": \"white\", \"zerolinewidth\": 2}}}, \"title\": {\"text\": \"PCE - MAE: 1.666 HV\"}, \"width\": 900, \"xaxis\": {\"gridwidth\": 2, \"title\": {\"text\": \"Reported PCE (%)\"}, \"zeroline\": false}, \"yaxis\": {\"gridwidth\": 2, \"title\": {\"text\": \"Predicted PCE (%)\"}, \"zeroline\": false}},                        {\"responsive\": true}                    ).then(function(){\n",
       "                            \n",
       "var gd = document.getElementById('860844c1-d7d9-4920-8032-6537056168a8');\n",
       "var x = new MutationObserver(function (mutations, observer) {{\n",
       "        var display = window.getComputedStyle(gd).display;\n",
       "        if (!display || display === 'none') {{\n",
       "            console.log([gd, 'removed!']);\n",
       "            Plotly.purge(gd);\n",
       "            observer.disconnect();\n",
       "        }}\n",
       "}});\n",
       "\n",
       "// Listen for the removal of the full notebook cells\n",
       "var notebookContainer = gd.closest('#notebook-container');\n",
       "if (notebookContainer) {{\n",
       "    x.observe(notebookContainer, {childList: true});\n",
       "}}\n",
       "\n",
       "// Listen for the clearing of the current output cell\n",
       "var outputEl = gd.closest('.output');\n",
       "if (outputEl) {{\n",
       "    x.observe(outputEl, {childList: true});\n",
       "}}\n",
       "\n",
       "                        })                };                });            </script>        </div>"
      ]
     },
     "metadata": {},
     "output_type": "display_data"
    }
   ],
   "source": [
    "plotly.offline.init_notebook_mode(connected=True)\n",
    "\n",
    "layout0= go.Layout(title= \"PCE - MAE: %.3f HV\" %MAE_testing, hovermode= 'closest',\n",
    "                   font = dict(family='Times New Roman',size=22),\n",
    "                   xaxis= dict(title= 'Reported PCE (%)',zeroline= False, gridwidth= 2),\n",
    "                   yaxis= dict(title= 'Predicted PCE (%)',zeroline= False, gridwidth= 2),#range=[-350,3750]),\n",
    "                   height=600,\n",
    "                   width=900,\n",
    "     showlegend= True                 \n",
    ")\n",
    "\n",
    "# fit  = np.linspace(min(df['PCE']), max(df['PCE']))\n",
    "# trace0 = go.Scatter(x = train_outputs, y = y_train, mode = 'markers', text=train_inputs.index, marker= dict(size= 12, color= 'blue'),name='Training Data')\n",
    "trace1 = go.Scatter(x = y[~in_train] ,y = y_pred, mode = 'markers', text=test_inputs.index,marker= dict(size= 12, color= 'lightgray'), \n",
    "                    error_y = dict(type='data',array=y_std,visible=True),name='Testing Data')\n",
    "# trace2 = go.Scatter(x = fit ,y = fit, mode = 'lines', marker= dict(size= 12, color= 'black'), text = 'Fit',name='Linear Fit')\n",
    "\n",
    "trace_mm = go.Scatter(x = [y[~in_train][y[~in_train].index[mm_selection]]] ,y = [y_pred[mm_selection]], mode = 'markers+text', text=df[~in_train].iloc[mm_selection]['D:A'],textposition='top left',textfont=dict(color='#008000'),marker= dict(symbol = 'triangle-up',size= 28, color= 'green',opacity=0.9), \n",
    "                    error_y = dict(type='data',array=[y_std[mm_selection]],visible=True),name='Selected by MM')\n",
    "\n",
    "trace_mei = go.Scatter(x = [y[~in_train][y[~in_train].index[mei_selection]]] ,y = [y_pred[mei_selection]], mode = 'markers+text', text=df[~in_train].iloc[mei_selection]['D:A'],textposition='top right',textfont=dict(color='#0000ff'),marker= dict(symbol = 'diamond',size= 25, color= 'blue',opacity=1), \n",
    "                    error_y = dict(type='data',array=[y_std[mei_selection]],visible=True),name='Selected by MEI')\n",
    "\n",
    "trace_mli = go.Scatter(x = [y[~in_train][y[~in_train].index[mli_selection]]] ,y = [y_pred[mli_selection]], mode = 'markers+text', text=df[~in_train].iloc[mli_selection]['D:A'],textposition='middle right',textfont=dict(color='#ff0000'),marker= dict(symbol = 'star',size= 25, color= 'red',opacity=1), \n",
    "                    error_y = dict(type='data',array=[y_std[mli_selection]],visible=True),name='Selected by MLI')\n",
    "\n",
    "trace_mu = go.Scatter(x = [y[~in_train][y[~in_train].index[mu_selection]]] ,y = [y_pred[mu_selection]], mode = 'markers+text', text=df[~in_train].iloc[mu_selection]['D:A'],textposition='bottom right',textfont=dict(color='#800080'),marker= dict(symbol = 'square',size= 20, color= 'purple',opacity=0.9), \n",
    "                    error_y = dict(type='data',array=[y_std[mu_selection]],visible=True),name='Selected by MU')\n",
    "\n",
    "trace_ucb = go.Scatter(x = [y[~in_train][y[~in_train].index[ucb_selection]]] ,y = [y_pred[ucb_selection]], mode = 'markers+text', text=df[~in_train].iloc[ucb_selection]['D:A'],textposition='bottom right',textfont=dict(color='#ff8c00'),marker= dict(symbol = 'circle',size= 12, color= 'darkorange',opacity=1), \n",
    "                    error_y = dict(type='data',array=[y_std[ucb_selection]],visible=True),name='Selected by UCB')\n",
    "\n",
    "x_line=[3,20]\n",
    "y_line=[PCE_train_max,PCE_train_max]\n",
    "line=go.Scatter(x=x_line, y=y_line,mode='lines',name='Max PCE in training set',line = dict(color='black', width=3, dash='dash'))\n",
    "\n",
    "data1 = [trace1, trace_mm, trace_mei, trace_mli ,trace_mu, trace_ucb, line]\n",
    "fig1= go.Figure(data1, layout=layout0)\n",
    "iplot(fig1)"
   ]
  },
  {
   "cell_type": "markdown",
   "metadata": {},
   "source": [
    "This is the algorithm that runs the queries. We start with the initial set and we run 50 experiments to test how long would it take for us to get to the sample with the highest value. Each of the approaches selects a different next point to query and include in the training set."
   ]
  },
  {
   "cell_type": "code",
   "execution_count": null,
   "metadata": {},
   "outputs": [],
   "source": [
    "n_steps =60\n",
    "all_inds = set(range(len(y)))\n",
    "\n",
    "random_train = [list(set(np.where(in_train)[0].tolist()))]\n",
    "mm_train = [list(set(np.where(in_train)[0].tolist()))]\n",
    "mei_train = [list(set(np.where(in_train)[0].tolist()))]\n",
    "mli_train = [list(set(np.where(in_train)[0].tolist()))]\n",
    "mu_train = [list(set(np.where(in_train)[0].tolist()))]\n",
    "ucb_train = [list(set(np.where(in_train)[0].tolist()))]\n",
    "random_train_inds = []\n",
    "mm_train_inds = []\n",
    "mei_train_inds = []\n",
    "mli_train_inds = []\n",
    "ucb_train_inds = []\n",
    "\n",
    "\n",
    "for i in range(n_steps):\n",
    "    print(i)\n",
    "    \n",
    "    # Maximum Mean\n",
    "    \n",
    "    mm_train_inds = mm_train[-1].copy()    # Initial Set (In the first run) / Current Set (From last iteration, after the first run)\n",
    "    mm_search_inds = list(all_inds.difference(mm_train_inds)) # All samples not in the current set\n",
    "    \n",
    "    \n",
    "    model.fit(X[mm_train_inds], y[mm_train_inds]) # Training of the random forest model\n",
    "    mm_y_pred = model.predict(X[mm_search_inds]) # Predictions for the unknown materials\n",
    "\n",
    "    mm_train_inds.append(mm_search_inds[np.argmax(mm_y_pred)]) # Information Acquisition Function choice and addition to current set\n",
    "    mm_train.append(mm_train_inds) # Storage of the current set per step    \n",
    "    \n",
    "    # Maximum Expected Improvement\n",
    "    \n",
    "    mei_train_inds = mei_train[-1].copy()    # Initial Set (In the first run) / Current Set (From last iteration, after the first run)\n",
    "    mei_search_inds = list(all_inds.difference(mei_train_inds)) # All samples not in the current set\n",
    "    \n",
    "    \n",
    "    model.fit(X[mei_train_inds], y[mei_train_inds]) # Training of the random forest model\n",
    "    mei_y_pred, mei_y_std = model.predict(X[mei_search_inds], return_std=True) # Predictions for the unknown materials\n",
    "\n",
    "    \n",
    "    def piecewise(m,s): # argument of the function, m is the prediction - top training point, s is the uncertainty of that point\n",
    "        if s > 0:\n",
    "            return s*norm.pdf(m/s)+m*norm.cdf(m/s)\n",
    "        else:\n",
    "            return max(np.max(m), 0) \n",
    "    cons = np.max(y[mei_train_inds])\n",
    "    mei_train_inds.append(mei_search_inds[np.argmax([piecewise(mn-cons, sd) for mn,sd in zip(mei_y_pred, mei_y_std )])]) # Information Acquisition Function choice and addition to current set\n",
    "    mei_train.append(mei_train_inds) # Storage of the current set per step    \n",
    "\n",
    "    # Maximum Likelihood of Improvement\n",
    "    \n",
    "    mli_train_inds = mli_train[-1].copy()  \n",
    "    mli_search_inds = list(all_inds.difference(mli_train_inds))\n",
    "    \n",
    "    model.fit(X[mli_train_inds], y[mli_train_inds])\n",
    "    mli_y_pred, mli_y_std = model.predict(X[mli_search_inds], return_std=True)\n",
    "    \n",
    "    mli_train_inds.append(mli_search_inds[np.argmax(np.divide(mli_y_pred - np.max(y[mli_train_inds]), mli_y_std))])\n",
    "    mli_train.append(mli_train_inds)\n",
    "    \n",
    "    # Maximum Uncertainty\n",
    "    \n",
    "    mu_train_inds = mu_train[-1].copy()  \n",
    "    mu_search_inds = list(all_inds.difference(mu_train_inds))\n",
    "    \n",
    "    model.fit(X[mu_train_inds], y[mu_train_inds])\n",
    "    mu_y_pred, mu_y_std = model.predict(X[mu_search_inds], return_std=True)\n",
    "    \n",
    "    mu_train_inds.append(mu_search_inds[np.argmax(mu_y_std)])\n",
    "    mu_train.append(mu_train_inds)\n",
    "    \n",
    "    # Upper Conf Bound\n",
    "    \n",
    "    ucb_train_inds = ucb_train[-1].copy()  \n",
    "    ucb_search_inds = list(all_inds.difference(ucb_train_inds))\n",
    "    \n",
    "    model.fit(X[ucb_train_inds], y[ucb_train_inds])\n",
    "    ucb_y_pred, ucb_y_std = model.predict(X[ucb_search_inds], return_std=True)\n",
    "    \n",
    "    ucb_train_inds.append(ucb_search_inds[np.argmax([sum(x) for x in zip(ucb_y_pred, ucb_y_std)])])\n",
    "    ucb_train.append(ucb_train_inds)\n",
    "    \n",
    "    # RANDOM\n",
    "    \n",
    "    random_train_inds = random_train[-1].copy()    # Initial Set (In the first run) / Current Set (From last iteration, after the first run)\n",
    "    random_search_inds = list(all_inds.difference(random_train_inds)) # All samples not in the current set\n",
    "\n",
    "    model.fit(X[random_train_inds], y[random_train_inds]) # Training\n",
    "    random_y_pred = model.predict(X[random_search_inds]) # Predictions\n",
    "    \n",
    "    random_train_inds.append(np.random.choice(random_search_inds)) # Information Acquisition Function choice and addition to current set\n",
    "    random_train.append(random_train_inds) # Storage of the current set per step "
   ]
  },
  {
   "cell_type": "markdown",
   "metadata": {},
   "source": [
    "## Animate results"
   ]
  },
  {
   "cell_type": "markdown",
   "metadata": {},
   "source": [
    "# Animation with MM, MEI, MLI, MU, UCB"
   ]
  },
  {
   "cell_type": "code",
   "execution_count": null,
   "metadata": {},
   "outputs": [],
   "source": [
    "fig, ax = plt.subplots(2,3,figsize=(20,13))\n",
    "plt.subplots_adjust(left=None, bottom=None, right=None, top=None, wspace=0.4, hspace=None)\n",
    "\n",
    "# FIRST PLOT, Approach lines\n",
    "\n",
    "mm_line, = ax[0][0].plot([], [], color='green', label='MM',linewidth=2)\n",
    "mei_line, = ax[0][0].plot([], [], color='blue', label='MEI',linewidth=2)\n",
    "mli_line, = ax[0][0].plot([], [], color='red', label='MLI',linewidth=2)\n",
    "mu_line, = ax[0][0].plot([], [], color='purple', label='MU',linewidth=2)\n",
    "ucb_line, = ax[0][0].plot([], [], color='darkorange', label='UCB',linewidth=2)\n",
    "max_line, = ax[0][0].plot(range(n_steps), [max(y) for m in range(n_steps)], '--', color='black', label='Max Value')\n",
    "\n",
    "mm_chk, = ax[0][0].plot([], [], markersize=16, marker='*', linestyle='None', color='green')\n",
    "mei_chk, = ax[0][0].plot([], [], markersize=16, marker='*', linestyle='None', color='blue')\n",
    "mli_chk, = ax[0][0].plot([], [], markersize=16, marker='*', linestyle='None', color='red')\n",
    "mu_chk, = ax[0][0].plot([], [], markersize=16, marker='*', linestyle='None', color='purple')\n",
    "ucb_chk, = ax[0][0].plot([], [], markersize=16, marker='*', linestyle='None', color='darkorange')\n",
    "\n",
    "ax[0][0].legend(loc=4, prop={'size': 12})\n",
    "ax[0][0].grid()\n",
    "ax[0][0].set_title(\"Number of Experiments\", fontsize=24)\n",
    "# ax[0][0].set_xlabel(\"Number of Experiments\", fontsize=20)\n",
    "ax[0][0].set_ylabel(\"Max\"+ property_interest, fontsize=20)\n",
    "# ax[0].annotate(\"Text you want from index\", xy=(0.30, 1.05), xycoords=ax[0].get_xaxis_transform())\n",
    "mli_line.axes.axis([0, n_steps-1, 0, 1.1*max(y)])\n",
    "mli_line.axes.get_yaxis().set_tick_params(labelsize=14)\n",
    "\n",
    "\n",
    "# SECOND PLOT, MM Prediction\n",
    "\n",
    "all_values_samples = ax[0][1].plot(list(all_inds), y, marker='o', alpha=0.2, color='gray', linestyle='None', markersize=10, label='Values')\n",
    "\n",
    "mm_reallabel = [y[index] for index in mm_train_inds]\n",
    "\n",
    "mm_initial_set = ax[0][1].plot(mm_train_inds[:entry_number_init], mm_reallabel[:entry_number_init], color='black', marker='o', linestyle= 'None',  markersize=10, label = 'Initial Set')\n",
    "\n",
    "mm_sample_real, = ax[0][1].plot([], [], color='green', marker='o', linestyle= 'None',  markersize=10, label = 'Tests')\n",
    "mm_sample_real.axes.axis([0, len(y), 0, 1.1*max(y)])\n",
    "mm_sample_real.axes.get_xaxis().set_ticks([])\n",
    "mm_sample_real.axes.get_yaxis().set_tick_params(labelsize=14)\n",
    "\n",
    "ax[0][1].legend(bbox_to_anchor=(1.01, 0.21), prop={'size': 12})\n",
    "ax[0][1].grid()\n",
    "ax[0][1].set_title(\"MM\", fontsize=24)\n",
    "ax[0][1].set_xlabel(\"Test Candidates\", fontsize=20)\n",
    "ax[0][1].set_ylabel(property_interest, fontsize=20)\n",
    "\n",
    "#THIRD PLOT, MEI Prediction\n",
    "\n",
    "all_values_samples = ax[0][2].plot(list(all_inds), y, marker='o', alpha=0.2, color='gray', linestyle='None', markersize=10, label='Values')\n",
    "\n",
    "mei_reallabel = [y[index] for index in mei_train_inds]\n",
    "\n",
    "mei_initial_set = ax[0][2].plot(mei_train_inds[:entry_number_init], mei_reallabel[:entry_number_init], color='black', marker='o',linestyle= 'None',   markersize=10, label = 'Initial Set')\n",
    "\n",
    "mei_sample_real, = ax[0][2].plot([], [], color='blue', marker='o', linestyle= 'None',  markersize=10, label = 'Tests')\n",
    "mei_sample_real.axes.axis([0, len(y), 0, 1.1*max(y)])\n",
    "mei_sample_real.axes.get_xaxis().set_ticks([])\n",
    "mei_sample_real.axes.get_yaxis().set_tick_params(labelsize=14)\n",
    "\n",
    "\n",
    "ax[0][2].legend(bbox_to_anchor=(1.01, 0.21), prop={'size': 12})\n",
    "ax[0][2].grid()\n",
    "ax[0][2].set_title(\"MEI\", fontsize=24)\n",
    "ax[0][2].set_xlabel(\"Test Candidates\", fontsize=20)\n",
    "ax[0][2].set_ylabel(property_interest, fontsize=20)\n",
    "\n",
    "# 4th PLOT, MLI Prediction\n",
    "\n",
    "all_values_samples = ax[1][0].plot(list(all_inds), y, marker='o', alpha=0.2, color='gray', linestyle='None', markersize=10, label='Values')\n",
    "\n",
    "mli_reallabel = [y[index] for index in mli_train_inds]\n",
    "\n",
    "mli_initial_set = ax[1][0].plot(mli_train_inds[:entry_number_init], mli_reallabel[:entry_number_init], color='black', marker='o', linestyle= 'None',  markersize=10, label = 'Initial Set')\n",
    "mli_sample_real, = ax[1][0].plot([], [], color='red', marker='o', linestyle= 'None',  markersize=10, label = 'Tests')\n",
    "mli_sample_real.axes.axis([0, len(y), 0, 1.1*max(y)])\n",
    "mli_sample_real.axes.get_xaxis().set_ticks([])\n",
    "mli_sample_real.axes.get_yaxis().set_tick_params(labelsize=14)\n",
    "\n",
    "\n",
    "ax[1][0].legend(bbox_to_anchor=(1.01, 0.21), prop={'size': 12})\n",
    "ax[1][0].grid()\n",
    "ax[1][0].set_title(\"MLI\", fontsize=24)\n",
    "ax[1][0].set_xlabel(\"Test Candidates\", fontsize=20)\n",
    "ax[1][0].set_ylabel(property_interest, fontsize=20)\n",
    "\n",
    "\n",
    "# 5th plot, MU Prediction\n",
    "\n",
    "all_values_samples = ax[1][1].plot(list(all_inds), y, marker='o', alpha=0.2, color='gray', linestyle='None', markersize=10, label='Values')\n",
    "\n",
    "mu_reallabel = [y[index] for index in mu_train_inds]\n",
    "\n",
    "mu_initial_set = ax[1][1].plot(mu_train_inds[:entry_number_init], mu_reallabel[:entry_number_init], color='black', marker='o', linestyle= 'None',  markersize=10, label = 'Initial Set')\n",
    "mu_sample_real, = ax[1][1].plot([], [], color='purple', marker='o', linestyle= 'None',  markersize=10, label = 'Tests')\n",
    "mu_sample_real.axes.axis([0, len(y), 0, 1.1*max(y)])\n",
    "mu_sample_real.axes.get_xaxis().set_ticks([])\n",
    "mu_sample_real.axes.get_yaxis().set_tick_params(labelsize=14)\n",
    "\n",
    "\n",
    "ax[1][1].legend(bbox_to_anchor=(1.01, 0.21), prop={'size': 12})\n",
    "ax[1][1].grid()\n",
    "ax[1][1].set_title(\"MU\", fontsize=24)\n",
    "ax[1][1].set_xlabel(\"Test Candidates\", fontsize=20)\n",
    "ax[1][1].set_ylabel(property_interest, fontsize=20)\n",
    "\n",
    "# 6th plot, UCB Prediction\n",
    "\n",
    "all_values_samples = ax[1][2].plot(list(all_inds), y, marker='o', alpha=0.2, color='gray', linestyle='None', markersize=10, label='Values')\n",
    "\n",
    "ucb_reallabel = [y[index] for index in ucb_train_inds]\n",
    "\n",
    "ucb_initial_set = ax[1][2].plot(ucb_train_inds[:entry_number_init], ucb_reallabel[:entry_number_init], color='black', marker='o', linestyle= 'None',  markersize=10, label = 'Initial Set')\n",
    "ucb_sample_real, = ax[1][2].plot([], [], color='darkorange', marker='o', linestyle= 'None',  markersize=10, label = 'Tests')\n",
    "ucb_sample_real.axes.axis([0, len(y), 0, 1.1*max(y)])\n",
    "ucb_sample_real.axes.get_xaxis().set_ticks([])\n",
    "ucb_sample_real.axes.get_yaxis().set_tick_params(labelsize=14)\n",
    "\n",
    "\n",
    "ax[1][2].legend(bbox_to_anchor=(1.01, 0.21), prop={'size': 12})\n",
    "ax[1][2].grid()\n",
    "ax[1][2].set_title(\"UCB\", fontsize=24)\n",
    "ax[1][2].set_xlabel(\"Test Candidates\", fontsize=20)\n",
    "ax[1][2].set_ylabel(property_interest, fontsize=20)\n",
    "\n",
    "#################################################\n",
    "\n",
    "def update(num):\n",
    "    \n",
    "    if num > 0:\n",
    "        \n",
    "        mm_graph = [max(y[list(t)]) for t in mm_train[:num]]\n",
    "        if max(y) in mm_graph:\n",
    "            chk_index = [i for i, j in enumerate(mm_graph) if j == max(y)][0]\n",
    "            mm_line.set_data(np.arange(len(mm_train))[:chk_index+1], [max(y[list(t)]) for t in mm_train[:chk_index+1]])\n",
    "            mm_chk.set_data(chk_index, max(mm_graph))\n",
    "        else:\n",
    "            mm_line.set_data(np.arange(len(mm_train))[:num], mm_graph)\n",
    "            mm_sample_real.set_data(mm_train_inds[entry_number_init:entry_number_init+num], mm_reallabel[entry_number_init:entry_number_init+num])\n",
    "        \n",
    "        mei_graph = [max(y[list(t)]) for t in mei_train[:num]]\n",
    "        if max(y) in mei_graph:\n",
    "            chk_index = [i for i, j in enumerate(mei_graph) if j == max(y)][0]\n",
    "            mei_line.set_data(np.arange(len(mei_train))[:chk_index+1], [max(y[list(t)]) for t in mei_train[:chk_index+1]])\n",
    "            mei_chk.set_data(chk_index, max(mei_graph))\n",
    "        else:\n",
    "            mei_line.set_data(np.arange(len(mei_train))[:num], mei_graph)\n",
    "            mei_sample_real.set_data(mei_train_inds[entry_number_init:entry_number_init+num], mei_reallabel[entry_number_init:entry_number_init+num])\n",
    "        \n",
    "        mli_graph = [max(y[list(t)]) for t in mli_train[:num]]\n",
    "        if max(y) in mli_graph:\n",
    "            chk_index = [i for i, j in enumerate(mli_graph) if j == max(y)][0]\n",
    "            mli_line.set_data(np.arange(len(mli_train))[:chk_index+1], [max(y[list(t)]) for t in mli_train[:chk_index+1]])\n",
    "            mli_chk.set_data(chk_index, max(mli_graph))\n",
    "        else:\n",
    "            mli_line.set_data(np.arange(len(mli_train))[:num], mli_graph)\n",
    "            mli_sample_real.set_data(mli_train_inds[entry_number_init:entry_number_init+num], mli_reallabel[entry_number_init:entry_number_init+num])          \n",
    "            \n",
    "        mu_graph = [max(y[list(t)]) for t in mu_train[:num]]\n",
    "        if max(y) in mu_graph:\n",
    "            chk_index = [i for i, j in enumerate(mu_graph) if j == max(y)][0]\n",
    "            mu_line.set_data(np.arange(len(mu_train))[:chk_index+1], [max(y[list(t)]) for t in mu_train[:chk_index+1]])\n",
    "            mu_chk.set_data(chk_index, max(mu_graph))\n",
    "        else:\n",
    "            mu_line.set_data(np.arange(len(mu_train))[:num], mu_graph)\n",
    "            mu_sample_real.set_data(mu_train_inds[entry_number_init:entry_number_init+num], mu_reallabel[entry_number_init:entry_number_init+num])   \n",
    "\n",
    "            \n",
    "        ucb_graph = [max(y[list(t)]) for t in ucb_train[:num]]\n",
    "        if max(y) in ucb_graph:\n",
    "            chk_index = [i for i, j in enumerate(ucb_graph) if j == max(y)][0]\n",
    "            ucb_line.set_data(np.arange(len(ucb_train))[:chk_index+1], [max(y[list(t)]) for t in ucb_train[:chk_index+1]])\n",
    "            ucb_chk.set_data(chk_index, max(ucb_graph))\n",
    "        else:\n",
    "            ucb_line.set_data(np.arange(len(ucb_train))[:num], ucb_graph)\n",
    "            ucb_sample_real.set_data(ucb_train_inds[entry_number_init:entry_number_init+num], ucb_reallabel[entry_number_init:entry_number_init+num])\n",
    "            \n",
    "        return mm_line, mei_line, mli_line, mu_line, ucb_line, mm_sample_real, mei_sample_real,mli_sample_real, mu_sample_real, ucb_sample_real, mli_chk, mei_chk, mm_chk, mu_chk, ucb_chk\n",
    "\n",
    "anim = animation.FuncAnimation(fig, update, frames=len(mm_train), interval=600, blit=False, repeat = False)\n",
    "\n",
    "plt.close(fig)\n",
    "\n",
    "HTML(anim.to_html5_video())"
   ]
  },
  {
   "cell_type": "code",
   "execution_count": null,
   "metadata": {},
   "outputs": [],
   "source": [
    "train = df.iloc[mli_train_inds][[\"Donor\", \"Acceptor\", \"D:A\", \"Donor_can_smiles\",\"Acceptor_can_smiles\", \"PCE\"]][:10]   # Randomly selected dataset\n",
    "train"
   ]
  },
  {
   "cell_type": "code",
   "execution_count": null,
   "metadata": {},
   "outputs": [],
   "source": [
    "from rdkit.Chem import PandasTools\n",
    "PandasTools.AddMoleculeColumnToFrame(train, smilesCol='Donor_can_smiles', molCol='Donor_structure')\n",
    "PandasTools.AddMoleculeColumnToFrame(train, smilesCol='Acceptor_can_smiles', molCol='Acceptor_structure')"
   ]
  },
  {
   "cell_type": "code",
   "execution_count": null,
   "metadata": {
    "scrolled": true
   },
   "outputs": [],
   "source": [
    "train=train[[ \"Donor\",\"Donor_structure\",\"Acceptor\", \"Acceptor_structure\", \"PCE\"]]\n",
    "train"
   ]
  },
  {
   "cell_type": "code",
   "execution_count": null,
   "metadata": {},
   "outputs": [],
   "source": [
    "# html = train.to_html()\n",
    "  \n",
    "# # write html to file\n",
    "# text_file = open(\"train_structures.html\", \"w\")\n",
    "# text_file.write(html)\n",
    "# text_file.close()"
   ]
  },
  {
   "cell_type": "code",
   "execution_count": null,
   "metadata": {},
   "outputs": [],
   "source": [
    "results_random = df.iloc[random_train_inds][[\"Donor\", \"Acceptor\", \"D:A\", \"Donor_can_smiles\",\"Acceptor_can_smiles\", \"PCE\"]][10:]       # Dataset chosen by MLI algorithm\n",
    "results_random['count_ID'] = range(1, 1+len(results_random))       # To get new index number\n",
    "PandasTools.AddMoleculeColumnToFrame(results_random, smilesCol='Donor_can_smiles', molCol='Donor_structure')\n",
    "PandasTools.AddMoleculeColumnToFrame(results_random, smilesCol='Acceptor_can_smiles', molCol='Acceptor_structure')\n",
    "results_random=results_random[[  \"Donor\",\"Donor_structure\",\"Acceptor\", \"Acceptor_structure\", \"PCE\",\"count_ID\"]]\n",
    "print(results_random['count_ID'].loc[results_random['PCE'].idxmax()])           # To display the iteration number in which max value is found\n",
    "results_random"
   ]
  },
  {
   "cell_type": "code",
   "execution_count": null,
   "metadata": {
    "scrolled": true
   },
   "outputs": [],
   "source": [
    "results_mm = df.iloc[mm_train_inds][[\"Donor\", \"Acceptor\", \"D:A\", \"Donor_can_smiles\",\"Acceptor_can_smiles\", \"PCE\"]][10:]       # Dataset chosen by MLI algorithm\n",
    "results_mm['count_ID'] = range(1, 1+len(results_mm))       # To get new index number\n",
    "PandasTools.AddMoleculeColumnToFrame(results_mm, smilesCol='Donor_can_smiles', molCol='Donor_structure')\n",
    "PandasTools.AddMoleculeColumnToFrame(results_mm, smilesCol='Acceptor_can_smiles', molCol='Acceptor_structure')\n",
    "results_mm=results_mm[[  \"Donor\",\"Donor_structure\",\"Acceptor\", \"Acceptor_structure\", \"PCE\",\"count_ID\"]]\n",
    "print(results_mm['count_ID'].loc[results_mm['PCE'].idxmax()])          # To display the iteration number in which max value is found\n",
    "results_mm"
   ]
  },
  {
   "cell_type": "code",
   "execution_count": null,
   "metadata": {},
   "outputs": [],
   "source": [
    "# html = results_mm.to_html()\n",
    "  \n",
    "# # write html to file\n",
    "# text_file = open(\"results_mm_structures.html\", \"w\")\n",
    "# text_file.write(html)\n",
    "# text_file.close()"
   ]
  },
  {
   "cell_type": "code",
   "execution_count": null,
   "metadata": {
    "scrolled": true
   },
   "outputs": [],
   "source": [
    "results_mei = df.iloc[mei_train_inds][[\"Donor\", \"Acceptor\", \"D:A\", \"Donor_can_smiles\",\"Acceptor_can_smiles\", \"PCE\"]][10:]       # Dataset chosen by MLI algorithm\n",
    "results_mei['count_ID'] = range(1, 1+len(results_mei))       # To get new index number\n",
    "PandasTools.AddMoleculeColumnToFrame(results_mei, smilesCol='Donor_can_smiles', molCol='Donor_structure')\n",
    "PandasTools.AddMoleculeColumnToFrame(results_mei, smilesCol='Acceptor_can_smiles', molCol='Acceptor_structure')\n",
    "results_mei=results_mei[[  \"Donor\",\"Donor_structure\",\"Acceptor\", \"Acceptor_structure\", \"PCE\",\"count_ID\"]]\n",
    "print(results_mei['count_ID'].loc[results_mei['PCE'].idxmax()])          # To display the iteration number in which max value is found\n",
    "results_mei"
   ]
  },
  {
   "cell_type": "code",
   "execution_count": null,
   "metadata": {},
   "outputs": [],
   "source": [
    "# html = results_mei.to_html()\n",
    "  \n",
    "# # write html to file\n",
    "# text_file = open(\"results_mei_structures.html\", \"w\")\n",
    "# text_file.write(html)\n",
    "# text_file.close()"
   ]
  },
  {
   "cell_type": "code",
   "execution_count": null,
   "metadata": {},
   "outputs": [],
   "source": [
    "results_mli = df.iloc[mli_train_inds][[\"Donor\", \"Acceptor\", \"D:A\", \"Donor_can_smiles\",\"Acceptor_can_smiles\", \"PCE\"]][10:]       # Dataset chosen by MLI algorithm\n",
    "results_mli['count_ID'] = range(1, 1+len(results_mli))       # To get new index number\n",
    "PandasTools.AddMoleculeColumnToFrame(results_mli, smilesCol='Donor_can_smiles', molCol='Donor_structure')\n",
    "PandasTools.AddMoleculeColumnToFrame(results_mli, smilesCol='Acceptor_can_smiles', molCol='Acceptor_structure')\n",
    "results_mli=results_mli[[  \"Donor\",\"Donor_structure\",\"Acceptor\", \"Acceptor_structure\", \"PCE\",\"count_ID\"]]\n",
    "print(results_mli['count_ID'].loc[results_mli['PCE'].idxmax()])          # To display the iteration number in which max value is found\n",
    "results_mli"
   ]
  },
  {
   "cell_type": "code",
   "execution_count": null,
   "metadata": {},
   "outputs": [],
   "source": [
    "# html = results_mli.to_html()\n",
    "  \n",
    "# # write html to file\n",
    "# text_file = open(\"results_mli_structures.html\", \"w\")\n",
    "# text_file.write(html)\n",
    "# text_file.close()"
   ]
  },
  {
   "cell_type": "code",
   "execution_count": null,
   "metadata": {
    "scrolled": true
   },
   "outputs": [],
   "source": [
    "results_mu = df.iloc[mu_train_inds][[\"Donor\", \"Acceptor\", \"D:A\", \"Donor_can_smiles\",\"Acceptor_can_smiles\", \"PCE\"]][10:]       # Dataset chosen by MLI algorithm\n",
    "results_mu['count_ID'] = range(1, 1+len(results_mu))       # To get new index number\n",
    "PandasTools.AddMoleculeColumnToFrame(results_mu, smilesCol='Donor_can_smiles', molCol='Donor_structure')\n",
    "PandasTools.AddMoleculeColumnToFrame(results_mu, smilesCol='Acceptor_can_smiles', molCol='Acceptor_structure')\n",
    "results_mu=results_mu[[  \"Donor\",\"Donor_structure\",\"Acceptor\", \"Acceptor_structure\", \"PCE\",\"count_ID\"]]\n",
    "print(results_mu['count_ID'].loc[results_mu['PCE'].idxmax()])          # To display the iteration number in which max value is found\n",
    "results_mu"
   ]
  },
  {
   "cell_type": "code",
   "execution_count": null,
   "metadata": {},
   "outputs": [],
   "source": [
    "# html = results_mu.to_html()\n",
    "  \n",
    "# # write html to file\n",
    "# text_file = open(\"results_mu_structures.html\", \"w\")\n",
    "# text_file.write(html)\n",
    "# text_file.close()"
   ]
  },
  {
   "cell_type": "code",
   "execution_count": null,
   "metadata": {},
   "outputs": [],
   "source": [
    "results_ucb = df.iloc[ucb_train_inds][[\"Donor\", \"Acceptor\", \"D:A\", \"Donor_can_smiles\",\"Acceptor_can_smiles\", \"PCE\"]][10:]       # Dataset chosen by MLI algorithm\n",
    "results_ucb['count_ID'] = range(1, 1+len(results_ucb))       # To get new index number\n",
    "PandasTools.AddMoleculeColumnToFrame(results_ucb, smilesCol='Donor_can_smiles', molCol='Donor_structure')\n",
    "PandasTools.AddMoleculeColumnToFrame(results_ucb, smilesCol='Acceptor_can_smiles', molCol='Acceptor_structure')\n",
    "results_ucb=results_ucb[[  \"Donor\",\"Donor_structure\",\"Acceptor\", \"Acceptor_structure\", \"PCE\",\"count_ID\"]]\n",
    "print(results_ucb['count_ID'].loc[results_ucb['PCE'].idxmax()])          # To display the iteration number in which max value is found\n",
    "results_ucb"
   ]
  },
  {
   "cell_type": "code",
   "execution_count": null,
   "metadata": {},
   "outputs": [],
   "source": [
    "# html = results_ucb.to_html()\n",
    "  \n",
    "# # write html to file\n",
    "# text_file = open(\"results_ucb_structures.html\", \"w\")\n",
    "# text_file.write(html)\n",
    "# text_file.close()"
   ]
  },
  {
   "cell_type": "markdown",
   "metadata": {},
   "source": [
    "# Results for finding the best candidate"
   ]
  },
  {
   "cell_type": "code",
   "execution_count": null,
   "metadata": {},
   "outputs": [],
   "source": [
    "# print('Random Results')\n",
    "# print(results_random[['count_ID','PCE']].loc[results_random['PCE'].idxmax()]) \n",
    "print('\\nMM Results')\n",
    "print(results_mm[['count_ID','PCE']].loc[results_mm['PCE'].idxmax()])  \n",
    "print('\\nMEI Results')\n",
    "print(results_mei[['count_ID','PCE']].loc[results_mei['PCE'].idxmax()])  \n",
    "print('\\nMLI Results')\n",
    "print(results_mli[['count_ID','PCE']].loc[results_mli['PCE'].idxmax()])  \n",
    "print('\\nMU Results')\n",
    "print(results_mu[['count_ID','PCE']].loc[results_mu['PCE'].idxmax()])  \n",
    "print('\\nUCB Results')\n",
    "print(results_ucb[['count_ID','PCE']].loc[results_ucb['PCE'].idxmax()])  "
   ]
  },
  {
   "cell_type": "code",
   "execution_count": null,
   "metadata": {},
   "outputs": [],
   "source": [
    "print(results_mm.index[0])\n",
    "print(results_mei.index[0])\n",
    "print(results_mli.index[0])\n",
    "print(results_mu.index[0])\n",
    "print(results_ucb.index[0])\n"
   ]
  },
  {
   "cell_type": "code",
   "execution_count": null,
   "metadata": {},
   "outputs": [],
   "source": [
    "plotly.offline.init_notebook_mode(connected=True)\n",
    "\n",
    "layout0= go.Layout(title= \"PCE - MAE: %.3f HV\" %MAE_testing, hovermode= 'closest',\n",
    "                   font = dict(family='Times New Roman',size=22),\n",
    "                   xaxis= dict(title= 'Reported PCE (%)',zeroline= False, gridwidth= 2),\n",
    "                   yaxis= dict(title= 'Predicted PCE (%)',zeroline= False, gridwidth= 2),#range=[-350,3750]),\n",
    "                   height=600,\n",
    "                   width=800,\n",
    "     showlegend= True                 \n",
    ")\n",
    "\n",
    "# fit  = np.linspace(min(df['PCE']), max(df['PCE']))\n",
    "# trace0 = go.Scatter(x = train_outputs, y = y_train, mode = 'markers', text=train_inputs.index, marker= dict(size= 12, color= 'blue'),name='Training Data')\n",
    "trace1 = go.Scatter(x = y[~in_train] ,y = y_pred, mode = 'markers', text=test_inputs.index,marker= dict(size= 12, color= 'lightgray'), \n",
    "                    error_y = dict(type='data',array=y_std,visible=True),name='Testing Data')\n",
    "# trace2 = go.Scatter(x = fit ,y = fit, mode = 'lines', marker= dict(size= 12, color= 'black'), text = 'Fit',name='Linear Fit')\n",
    "\n",
    "trace_mm = go.Scatter(x = [y[~in_train][y[~in_train].index[150]]] ,y = [y_pred[150]], mode = 'markers+text', text=df.iloc[150]['D:A'],textposition='top left',textfont=dict(color='#008000'),marker= dict(symbol = 'triangle-up',size= 28, color= 'green',opacity=0.9), \n",
    "                    error_y = dict(type='data',array=[y_std[150]],visible=True),name='Selected by MM')\n",
    "\n",
    "trace_mei = go.Scatter(x = [y[~in_train][y[~in_train].index[54]]] ,y = [y_pred[54]], mode = 'markers+text', text=df.iloc[54]['D:A'],textposition='top right',textfont=dict(color='#0000ff'),marker= dict(symbol = 'diamond',size= 25, color= 'blue',opacity=1), \n",
    "                    error_y = dict(type='data',array=[y_std[54]],visible=True),name='Selected by MEI')\n",
    "\n",
    "trace_mli = go.Scatter(x = [y[~in_train][y[~in_train].index[54]]] ,y = [y_pred[54]], mode = 'markers+text', text=df.iloc[54]['D:A'],textposition='middle right',textfont=dict(color='#ff0000'),marker= dict(symbol = 'star',size= 25, color= 'red',opacity=1), \n",
    "                    error_y = dict(type='data',array=[y_std[mli_selection]],visible=True),name='Selected by MLI')\n",
    "\n",
    "trace_mu = go.Scatter(x = [y[~in_train][y[~in_train].index[92]]] ,y = [y_pred[92]], mode = 'markers+text', text=df.iloc[92]['D:A'],textposition='bottom right',textfont=dict(color='#800080'),marker= dict(symbol = 'square',size= 20, color= 'purple',opacity=0.9), \n",
    "                    error_y = dict(type='data',array=[y_std[92]],visible=True),name='Selected by MU')\n",
    "\n",
    "trace_ucb = go.Scatter(x = [y[~in_train][y[~in_train].index[54]]] ,y = [y_pred[54]], mode = 'markers+text', text=df.iloc[54]['D:A'],textposition='bottom right',textfont=dict(color='#ff8c00'),marker= dict(symbol = 'circle',size= 12, color= 'darkorange',opacity=1), \n",
    "                    error_y = dict(type='data',array=[y_std[54]],visible=True),name='Selected by UCB')\n",
    "\n",
    "x_line=[3,20]\n",
    "y_line=[PCE_train_max,PCE_train_max]\n",
    "line=go.Scatter(x=x_line, y=y_line,mode='lines',name='Max PCE in training set',line = dict(color='black', width=3, dash='dash'))\n",
    "\n",
    "data1 = [trace1, trace_mm, trace_mei, trace_mli ,trace_mu, trace_ucb, line]\n",
    "fig1= go.Figure(data1, layout=layout0)\n",
    "iplot(fig1)"
   ]
  },
  {
   "cell_type": "markdown",
   "metadata": {},
   "source": [
    "# Results for crossing 15% efficiency mark"
   ]
  },
  {
   "cell_type": "code",
   "execution_count": null,
   "metadata": {},
   "outputs": [],
   "source": [
    "print(results_mm[['count_ID']].loc[results_mm['PCE']>=15]['count_ID'].head(1))"
   ]
  },
  {
   "cell_type": "code",
   "execution_count": null,
   "metadata": {},
   "outputs": [],
   "source": [
    "# print('Random Results')\n",
    "# print(results_random[['count_ID']].loc[results_random['PCE']>=15]['count_ID'].head(1)) \n",
    "print('\\nMM Results')\n",
    "print(results_mm[['count_ID']].loc[results_mm['PCE']>=15]['count_ID'].head(1))  \n",
    "print('\\nMEI Results')\n",
    "print(results_mei[['count_ID']].loc[results_mei['PCE']>=15]['count_ID'].head(1))  \n",
    "print('\\nMLI Results')\n",
    "print(results_mli[['count_ID']].loc[results_mli['PCE']>=15]['count_ID'].head(1))  \n",
    "print('\\nMU Results')\n",
    "print(results_mu[['count_ID']].loc[results_mu['PCE']>=15]['count_ID'].head(1))  \n",
    "print('\\nUCB Results')\n",
    "print(results_ucb[['count_ID']].loc[results_ucb['PCE']>=15]['count_ID'].head(1)) "
   ]
  },
  {
   "cell_type": "code",
   "execution_count": null,
   "metadata": {},
   "outputs": [],
   "source": [
    "float(results_mei[['PCE']].loc[results_mei['PCE']>=15]['PCE'].head(1)) "
   ]
  },
  {
   "cell_type": "code",
   "execution_count": null,
   "metadata": {},
   "outputs": [],
   "source": [
    "from rdkit import Chem, DataStructs\n",
    "from rdkit.Chem import AllChem\n",
    "from tqdm import tqdm"
   ]
  },
  {
   "cell_type": "code",
   "execution_count": null,
   "metadata": {},
   "outputs": [],
   "source": [
    "def fp_list_from_smiles_list(smiles_list,n_bits=2048):                        # This code snippet is taken from http://practicalcheminformatics.blogspot.com/2019/11/visualizing-chemical-space.html\n",
    "    fp_list = []\n",
    "    for smiles in tqdm(smiles_list):\n",
    "        mol = Chem.MolFromSmiles(smiles)\n",
    "        fp_list.append(fp_as_array(mol,n_bits))\n",
    "    return fp_list\n",
    "\n",
    "def fp_as_array(mol,n_bits=2048):\n",
    "    fp = AllChem.GetMorganFingerprintAsBitVect(mol, 2, nBits=n_bits)\n",
    "    arr = np.zeros((1,), np.int)\n",
    "    DataStructs.ConvertToNumpyArray(fp, arr)\n",
    "    return arr"
   ]
  },
  {
   "cell_type": "markdown",
   "metadata": {},
   "source": [
    "# TSNE plot for Donors"
   ]
  },
  {
   "cell_type": "code",
   "execution_count": null,
   "metadata": {},
   "outputs": [],
   "source": [
    "fp_list1 = fp_list_from_smiles_list(df.Donor_can_smiles)\n",
    "fp_df1=pd.DataFrame(fp_list1)\n",
    "from sklearn.decomposition import PCA\n",
    "pca1 = PCA(n_components=50,random_state=42)\n",
    "crds1 = pca1.fit_transform(fp_df1)\n",
    "print('Explained variance:',np.sum(pca1.explained_variance_ratio_))\n",
    "from sklearn.manifold import TSNE\n",
    "c_tsne1= TSNE(n_components=2,random_state=42).fit_transform(crds1)\n",
    "c1 = pd.DataFrame(data = c_tsne1\n",
    "             , columns = ['principal component 1', 'principal component 2'])\n",
    "c1['Donor']=df['Donor']\n",
    "c1['PCE']=df['PCE']\n",
    "c1['Type']='Values'\n",
    "c1.loc[c1.index[mei_train_inds[:10]], 'Type'] = \"Train_dataset\"\n",
    "# c1.loc[c1.index[random_train_inds[10:21]], 'Type'] = \"Random_results\"\n",
    "# c1.loc[c1.index[mei_train_inds[10:21]], 'Type'] = \"MEI_results\"\n",
    "c1.loc[c1.index[mli_train_inds[10:40]], 'Type'] = \"MLI_results\"\n",
    "# c1.loc[c1.index[mu_train_inds[10:21]], 'Type'] = \"MU_results\"\n",
    "# c1.loc[c1.index[ucb_train_inds[10:21]], 'Type'] = \"UCB_results\"\n",
    "import plotly.express as px\n",
    "fig1 = px.scatter(c1,x=c1['principal component 1'], y=c1['principal component 2'],color=c1['PCE'],color_continuous_scale='portland',hover_name=c1['Donor'],hover_data=['PCE'])\n",
    "fig1.show()\n",
    "fig = px.scatter(c1,x=c1['principal component 1'], y=c1['principal component 2'],color=c1['Type'],hover_name=c1['Donor'],hover_data=['PCE'])\n",
    "fig.show()\n",
    "\n"
   ]
  },
  {
   "cell_type": "markdown",
   "metadata": {},
   "source": [
    "# TSNE plot for Acceptors"
   ]
  },
  {
   "cell_type": "code",
   "execution_count": null,
   "metadata": {},
   "outputs": [],
   "source": [
    "fp_list2 = fp_list_from_smiles_list(df.Acceptor_can_smiles)\n",
    "fp_df2=pd.DataFrame(fp_list2)\n",
    "from sklearn.decomposition import PCA\n",
    "pca2 = PCA(n_components=50,random_state=42)\n",
    "crds2 = pca2.fit_transform(fp_df2)\n",
    "print('Explained variance:',np.sum(pca2.explained_variance_ratio_))\n",
    "from sklearn.manifold import TSNE\n",
    "c_tsne2= TSNE(n_components=2,random_state=42).fit_transform(crds2)\n",
    "c2 = pd.DataFrame(data = c_tsne2\n",
    "             , columns = ['principal component 1', 'principal component 2'])\n",
    "c2['Acceptor']=df['Acceptor']\n",
    "c2['PCE']=df['PCE']\n",
    "c2['Type']='Values'\n",
    "c2.loc[c2.index[mei_train_inds[:10]], 'Type'] = \"Train_dataset\"\n",
    "# c2.loc[c2.index[random_train_inds[10:21]], 'Type'] = \"Random_results\"\n",
    "# c2.loc[c2.index[mei_train_inds[10:21]], 'Type'] = \"MEI_results\"\n",
    "c2.loc[c2.index[mli_train_inds[10:40]], 'Type'] = \"MLI_results\"\n",
    "# c2.loc[c2.index[mu_train_inds[10:21]], 'Type'] = \"MU_results\"\n",
    "# c2.loc[c2.index[ucb_train_inds[10:21]], 'Type'] = \"UCB_results\"\n",
    "import plotly.express as px\n",
    "fig1 = px.scatter(c2,x=c2['principal component 1'], y=c2['principal component 2'],color=c2['PCE'],color_continuous_scale='portland',hover_name=c2['Acceptor'],hover_data=['PCE'])\n",
    "fig1.show()\n",
    "fig = px.scatter(c2,x=c2['principal component 1'], y=c2['principal component 2'],color=c2['Type'],hover_name=c2['Acceptor'],hover_data=['PCE'])\n",
    "fig.show()"
   ]
  },
  {
   "cell_type": "markdown",
   "metadata": {},
   "source": [
    "# TSNE plot for Donors:Acceptors"
   ]
  },
  {
   "cell_type": "code",
   "execution_count": null,
   "metadata": {},
   "outputs": [],
   "source": [
    "frames =[fp_df1, fp_df2]\n",
    "fp_df3 = pd.concat(frames, axis =1)\n",
    "from sklearn.decomposition import PCA\n",
    "pca3 = PCA(n_components=100,random_state=42)\n",
    "crds3 = pca3.fit_transform(fp_df3)\n",
    "print('Explained variance:',np.sum(pca3.explained_variance_ratio_))\n",
    "from sklearn.manifold import TSNE\n",
    "c_tsne3= TSNE(n_components=2,random_state=42).fit_transform(crds3)\n",
    "c3 = pd.DataFrame(data = c_tsne3\n",
    "             , columns = ['principal component 1', 'principal component 2'])\n",
    "c3['D:A']=df['D:A']\n",
    "c3['PCE']=df['PCE']\n",
    "c3['Type']='Values'\n",
    "c3.loc[c3.index[mei_train_inds[:10]], 'Type'] = \"Train_dataset\"\n",
    "# c3.loc[c3.index[random_train_inds[10:21]], 'Type'] = \"Random_results\"\n",
    "# c3.loc[c3.index[mei_train_inds[10:21]], 'Type'] = \"MEI_results\"\n",
    "c3.loc[c3.index[mli_train_inds[10:40]], 'Type'] = \"MLI_results\"\n",
    "# c3.loc[c3.index[mu_train_inds[10:21]], 'Type'] = \"MU_results\"\n",
    "# c3.loc[c3.index[ucb_train_inds[10:21]], 'Type'] = \"UCB_results\"\n",
    "import plotly.express as px\n",
    "fig1 = px.scatter(c3,x=c3['principal component 1'], y=c3['principal component 2'],color=c3['PCE'],color_continuous_scale='portland',hover_name=c3['D:A'],hover_data=['PCE'])\n",
    "fig1.show()\n",
    "fig2= px.scatter(c3,x=c3['principal component 1'], y=c3['principal component 2'],color=c3['Type'],hover_name=c3['D:A'],hover_data=['PCE'])\n",
    "fig2.show()"
   ]
  },
  {
   "cell_type": "markdown",
   "metadata": {},
   "source": [
    "# t-SNE results for different acquisition functions"
   ]
  },
  {
   "cell_type": "code",
   "execution_count": null,
   "metadata": {
    "scrolled": true
   },
   "outputs": [],
   "source": [
    "print(\"Complete dataset\")\n",
    "frames =[fp_df1, fp_df2]\n",
    "fp_df3 = pd.concat(frames, axis =1)\n",
    "from sklearn.decomposition import PCA\n",
    "pca3 = PCA(n_components=100,random_state=42)\n",
    "crds3 = pca3.fit_transform(fp_df3)\n",
    "print(np.sum(pca3.explained_variance_ratio_))\n",
    "from sklearn.manifold import TSNE\n",
    "c_tsne3= TSNE(n_components=2,random_state=42).fit_transform(crds3)\n",
    "c3 = pd.DataFrame(data = c_tsne3\n",
    "             , columns = ['principal component 1', 'principal component 2'])\n",
    "c3['D:A']=df['D:A']\n",
    "c3['PCE']=df['PCE']\n",
    "c3['Type']='Test_dataset'\n",
    "c3.loc[c3.index[mei_train_inds[:10]], 'Type'] = \"Train_dataset\"\n",
    "# c3.loc[c3.index[random_train_inds[10:40]], 'Type'] = \"Random_results\"\n",
    "# c3.loc[c3.index[mei_train_inds[10:21]], 'Type'] = \"MEI_results\"\n",
    "# c3.loc[c3.index[mli_train_inds[10:21]], 'Type'] = \"MLI_results\"\n",
    "# c3.loc[c3.index[mu_train_inds[10:21]], 'Type'] = \"MU_results\"\n",
    "# c3.loc[c3.index[ucb_train_inds[10:21]], 'Type'] = \"UCB_results\"\n",
    "c3=c3[c3.Type.isin(['Train_dataset','Test_dataset'])]\n",
    "# import plotly.express as px\n",
    "# fig2= px.scatter(c3,x=c3['principal component 1'], y=c3['principal component 2'],color=c3['PCE'],hover_name=c3['D:A'],hover_data=['PCE'])\n",
    "# fig2.update_traces(marker=dict(size=12))\n",
    "# fig2.update_layout(autosize=False,width=650,height=420,)\n",
    "# fig2.update_yaxes(range = [-14,20])\n",
    "# fig2.update_xaxes(range = [-20,18])\n",
    "# fig2.show()\n",
    "pce_fig = go.Figure()\n",
    "pce_trace = go.Scatter(x=c3['principal component 1'], y=c3['principal component 2'], mode='markers',\n",
    "                       marker=dict(color=c3['PCE'], size=20, line=dict(width=1), colorscale='Plasma', colorbar=dict(title={\"text\":\"<b>PCE(%)\"})),\n",
    "                    hovertemplate = '<b>D:A Pair:</b> <br>%{customdata} <br><br><b>PCE:</b> <br>%{text}<extra></extra>', text= c3['PCE'], customdata = c3['D:A'], name=\"<b>PCE(%)\")\n",
    "\n",
    "initial_filtered = c3[c3[\"Type\"]==\"Train_dataset\"]\n",
    "initial_trace = go.Scatter(x=initial_filtered['principal component 1'], y=initial_filtered['principal component 2'], mode='markers', marker=dict(symbol='x',color='red', size=14, line=dict(width=1)),\n",
    "                             hovertemplate = '<b>D:A Pair:</b> <br>%{customdata} <br><br><b>PCE:</b> <br>%{text}<extra></extra>', \n",
    "                           text= initial_filtered['PCE'], customdata = initial_filtered['D:A'], name=\"<b>Initial Dataset\")\n",
    "\n",
    "top = c3\n",
    "top=top[top['PCE']==top['PCE'].max()]\n",
    "top_trace=go.Scatter(x=top['principal component 1'], y=top['principal component 2'], mode='markers',marker=dict(symbol='star', size=14, color='red'), name='<b>Best')\n",
    "\n",
    "pce_fig.add_traces([pce_trace, initial_trace, top_trace])\n",
    "\n",
    "pce_fig.update_layout(width = 680, height = 350, font=dict(family=\"Arial\",size=18), legend=dict(y=1.25, x = 0.15, orientation='h')) # General layout attributes\n",
    "pce_fig.update_xaxes(title=\"<b>Component 1\")\n",
    "pce_fig.update_yaxes(title=\"<b>Component 2\")\n",
    "pce_fig.show()\n",
    "\n",
    "\n"
   ]
  },
  {
   "cell_type": "code",
   "execution_count": null,
   "metadata": {},
   "outputs": [],
   "source": [
    "print(\"MM Results\")\n",
    "frames =[fp_df1, fp_df2]\n",
    "fp_df3 = pd.concat(frames, axis =1)\n",
    "from sklearn.decomposition import PCA\n",
    "pca3 = PCA(n_components=100,random_state=42)\n",
    "crds3 = pca3.fit_transform(fp_df3)\n",
    "print(np.sum(pca3.explained_variance_ratio_))\n",
    "from sklearn.manifold import TSNE\n",
    "c_tsne3= TSNE(n_components=2,random_state=42).fit_transform(crds3)\n",
    "c3 = pd.DataFrame(data = c_tsne3\n",
    "             , columns = ['principal component 1', 'principal component 2'])\n",
    "c3['D:A']=df['D:A']\n",
    "c3['PCE']=df['PCE']\n",
    "c3['Type']='Values'\n",
    "c3.loc[c3.index[mm_train_inds[:10]], 'Type'] = \"Train_dataset\"\n",
    "# c3.loc[c3.index[random_train_inds[10:21]], 'Type'] = \"Random_results\"\n",
    "c3.loc[c3.index[mm_train_inds[10:50]], 'Type'] = \"MM_results\"\n",
    "# c3.loc[c3.index[mei_train_inds[10:35]], 'Type'] = \"MEI_results\"\n",
    "# c3.loc[c3.index[mli_train_inds[10:21]], 'Type'] = \"MLI_results\"\n",
    "# c3.loc[c3.index[mu_train_inds[10:21]], 'Type'] = \"MU_results\"\n",
    "# c3.loc[c3.index[ucb_train_inds[10:21]], 'Type'] = \"UCB_results\"\n",
    "c3['count']=0\n",
    "c3.loc[c3.index[mm_train_inds[10:50]], 'count'] = results_mm['count_ID']\n",
    "c3=c3[c3.Type.isin(['MM_results','Values','Train_dataset'])]\n",
    "\n",
    "tsne_fig = go.Figure()\n",
    "graypoint_trace = go.Scatter(x=c3['principal component 1'], y=c3['principal component 2'], mode='markers', marker=dict(color='rgba(210,215,211,1)', size=18,line=dict(width=1, color='lightgrey')),\n",
    "                             hovertemplate = '<b>D:A Pair:</b> <br>%{customdata} <br><br><b>PCE:</b> <br>%{text}<extra></extra>', text= c3['PCE'], customdata = c3['D:A'], name=\"<b>Values\")\n",
    "\n",
    "initial_filtered = c3[c3[\"Type\"]==\"Train_dataset\"]\n",
    "initial_trace = go.Scatter(x=initial_filtered['principal component 1'], y=initial_filtered['principal component 2'], mode='markers', marker=dict(color='black', size=18, line=dict(width=1)),\n",
    "                             hovertemplate = '<b>D:A Pair:</b> <br>%{customdata} <br><br><b>PCE:</b> <br>%{text}<extra></extra>', \n",
    "                           text= initial_filtered['PCE'], customdata = initial_filtered['D:A'], name=\"<b>Initial Dataset\")\n",
    "\n",
    "mm_filtered = c3[c3[\"Type\"]==\"MM_results\"]\n",
    "mm_trace = go.Scatter(x=mm_filtered['principal component 1'], y=mm_filtered['principal component 2'], mode='markers',\n",
    "                       marker=dict(color=mm_filtered['count'], size=20, line=dict(width=1), colorscale='Plasma', colorbar=dict(title={\"text\":\"<b>Test order\"})),\n",
    "                    hovertemplate = '<b>D:A Pair:</b> <br>%{customdata}<b>PCE:</b> <br>%{text}<extra></extra>', text= mm_filtered['PCE'], customdata = mm_filtered['D:A'], name=\"<b>MM Results\")\n",
    "\n",
    "top = c3[c3[\"Type\"]==\"MM_results\"]\n",
    "top=top[mm_filtered['PCE']==top['PCE'].max()]\n",
    "top_trace=go.Scatter(x=top['principal component 1'], y=top['principal component 2'], mode='markers',marker=dict(symbol='star', size=14, color='red'), name='<b>Best')\n",
    "\n",
    "tsne_fig.add_traces([graypoint_trace,initial_trace, mm_trace,top_trace])\n",
    "\n",
    "tsne_fig.update_layout(width = 700, height = 350, font=dict(family=\"Arial\",size=18), legend=dict(y=1.25, x = -0.013, orientation='h')) # General layout attributes\n",
    "tsne_fig.update_xaxes(title=\"<b>Component 1\")\n",
    "tsne_fig.update_yaxes(title=\"<b>Component 2\")\n",
    "tsne_fig.show()\n"
   ]
  },
  {
   "cell_type": "code",
   "execution_count": null,
   "metadata": {
    "scrolled": true
   },
   "outputs": [],
   "source": [
    "print(\"MEI Results\")\n",
    "frames =[fp_df1, fp_df2]\n",
    "fp_df3 = pd.concat(frames, axis =1)\n",
    "from sklearn.decomposition import PCA\n",
    "pca3 = PCA(n_components=100,random_state=42)\n",
    "crds3 = pca3.fit_transform(fp_df3)\n",
    "print(np.sum(pca3.explained_variance_ratio_))\n",
    "from sklearn.manifold import TSNE\n",
    "c_tsne3= TSNE(n_components=2,random_state=42).fit_transform(crds3)\n",
    "c3 = pd.DataFrame(data = c_tsne3\n",
    "             , columns = ['principal component 1', 'principal component 2'])\n",
    "c3['D:A']=df['D:A']\n",
    "c3['PCE']=df['PCE']\n",
    "c3['Type']='Values'\n",
    "c3.loc[c3.index[mei_train_inds[:10]], 'Type'] = \"Train_dataset\"\n",
    "# c3.loc[c3.index[random_train_inds[10:21]], 'Type'] = \"Random_results\"\n",
    "c3.loc[c3.index[mei_train_inds[10:34]], 'Type'] = \"MEI_results\"\n",
    "# c3.loc[c3.index[mli_train_inds[10:21]], 'Type'] = \"MLI_results\"\n",
    "# c3.loc[c3.index[mu_train_inds[10:21]], 'Type'] = \"MU_results\"\n",
    "# c3.loc[c3.index[ucb_train_inds[10:21]], 'Type'] = \"UCB_results\"\n",
    "c3['count']=0\n",
    "c3.loc[c3.index[mei_train_inds[10:34]], 'count'] = results_mei['count_ID']\n",
    "c3=c3[c3.Type.isin(['MEI_results','Values','Train_dataset'])]\n",
    "\n",
    "tsne_fig = go.Figure()\n",
    "graypoint_trace = go.Scatter(x=c3['principal component 1'], y=c3['principal component 2'], mode='markers', marker=dict(color='rgba(210,215,211,1)', size=18,line=dict(width=1, color='lightgrey')),\n",
    "                             hovertemplate = '<b>D:A Pair:</b> <br>%{customdata} <br><br><b>PCE:</b> <br>%{text}<extra></extra>', text= c3['PCE'], customdata = c3['D:A'], name=\"<b>Values\")\n",
    "\n",
    "initial_filtered = c3[c3[\"Type\"]==\"Train_dataset\"]\n",
    "initial_trace = go.Scatter(x=initial_filtered['principal component 1'], y=initial_filtered['principal component 2'], mode='markers', marker=dict(color='black', size=18, line=dict(width=1)),\n",
    "                             hovertemplate = '<b>D:A Pair:</b> <br>%{customdata} <br><br><b>PCE:</b> <br>%{text}<extra></extra>', \n",
    "                           text= initial_filtered['PCE'], customdata = initial_filtered['D:A'], name=\"<b>Initial Dataset\")\n",
    "\n",
    "mei_filtered = c3[c3[\"Type\"]==\"MEI_results\"]\n",
    "mei_trace = go.Scatter(x=mei_filtered['principal component 1'], y=mei_filtered['principal component 2'], mode='markers',\n",
    "                       marker=dict(color=mei_filtered['count'], size=20, line=dict(width=1), colorscale='Plasma', colorbar=dict(title={\"text\":\"<b>Test order\"})),\n",
    "                    hovertemplate = '<b>D:A Pair:</b> <br>%{customdata} <br><br><b>PCE:</b> <br>%{text}<extra></extra>', text= mei_filtered['PCE'], customdata = mei_filtered['D:A'], name=\"<b>MEI Results\")\n",
    "\n",
    "top = c3[c3[\"Type\"]==\"MEI_results\"]\n",
    "top=top[mei_filtered['PCE']==top['PCE'].max()]\n",
    "top_trace=go.Scatter(x=top['principal component 1'], y=top['principal component 2'], mode='markers',marker=dict(symbol='star', size=14, color='red'), name='<b>Best')\n",
    "\n",
    "tsne_fig.add_traces([graypoint_trace,initial_trace, mei_trace,top_trace])\n",
    "\n",
    "tsne_fig.update_layout(width = 700, height = 350, font=dict(family=\"Arial\",size=18), legend=dict(y=1.25, x = -0.01, orientation='h')) # General layout attributes\n",
    "tsne_fig.update_xaxes(title=\"<b>Component 1\")\n",
    "tsne_fig.update_yaxes(title=\"<b>Component 2\")\n",
    "tsne_fig.show()"
   ]
  },
  {
   "cell_type": "code",
   "execution_count": null,
   "metadata": {
    "scrolled": true
   },
   "outputs": [],
   "source": [
    "print(\"MLI Results\")\n",
    "frames =[fp_df1, fp_df2]\n",
    "fp_df3 = pd.concat(frames, axis =1)\n",
    "from sklearn.decomposition import PCA\n",
    "pca3 = PCA(n_components=100,random_state=42)\n",
    "crds3 = pca3.fit_transform(fp_df3)\n",
    "print(np.sum(pca3.explained_variance_ratio_))\n",
    "from sklearn.manifold import TSNE\n",
    "c_tsne3= TSNE(n_components=2,random_state=42).fit_transform(crds3)\n",
    "c3 = pd.DataFrame(data = c_tsne3\n",
    "             , columns = ['principal component 1', 'principal component 2'])\n",
    "c3['D:A']=df['D:A']\n",
    "c3['PCE']=df['PCE']\n",
    "c3['Type']='Values'\n",
    "c3.loc[c3.index[mli_train_inds[:10]], 'Type'] = \"Train_dataset\"\n",
    "# c3.loc[c3.index[random_train_inds[10:21]], 'Type'] = \"Random_results\"\n",
    "# c3.loc[c3.index[mei_train_inds[10:35]], 'Type'] = \"MEI_results\"\n",
    "c3.loc[c3.index[mli_train_inds[10:27]], 'Type'] = \"MLI_results\"\n",
    "# c3.loc[c3.index[mu_train_inds[10:21]], 'Type'] = \"MU_results\"\n",
    "# c3.loc[c3.index[ucb_train_inds[10:27]], 'Type'] = \"UCB_results\"\n",
    "c3['count']=0\n",
    "c3.loc[c3.index[mli_train_inds[10:27]], 'count'] = results_mli['count_ID']\n",
    "c3=c3[c3.Type.isin(['MLI_results','Values','Train_dataset'])]\n",
    "\n",
    "tsne_fig = go.Figure()\n",
    "graypoint_trace = go.Scatter(x=c3['principal component 1'], y=c3['principal component 2'], mode='markers', marker=dict(color='rgba(210,215,211,1)', size=18,line=dict(width=1, color='lightgrey')),\n",
    "                             hovertemplate = '<b>D:A Pair:</b> <br>%{customdata} <br><br><b>PCE:</b> <br>%{text}<extra></extra>', text= c3['PCE'], customdata = c3['D:A'], name=\"<b>Values\")\n",
    "\n",
    "initial_filtered = c3[c3[\"Type\"]==\"Train_dataset\"]\n",
    "initial_trace = go.Scatter(x=initial_filtered['principal component 1'], y=initial_filtered['principal component 2'], mode='markers', marker=dict(color='black', size=18, line=dict(width=1)),\n",
    "                             hovertemplate = '<b>D:A Pair:</b> <br>%{customdata} <br><br><b>PCE:</b> <br>%{text}<extra></extra>', \n",
    "                           text= initial_filtered['PCE'], customdata = initial_filtered['D:A'], name=\"<b>Initial Dataset\")\n",
    "\n",
    "mli_filtered = c3[c3[\"Type\"]==\"MLI_results\"]\n",
    "mli_trace = go.Scatter(x=mli_filtered['principal component 1'], y=mli_filtered['principal component 2'], mode='markers',\n",
    "                       marker=dict(color=mli_filtered['count'], size=20, line=dict(width=1), colorscale='Plasma', colorbar=dict(title={\"text\":\"<b>Test order\"})),\n",
    "                    hovertemplate = '<b>D:A Pair:</b> <br>%{customdata} <br><br><b>PCE:</b> <br>%{text}<extra></extra>', text= mli_filtered['PCE'], customdata = mli_filtered['D:A'], name=\"<b>MLI Results\")\n",
    "\n",
    "top = c3[c3[\"Type\"]==\"MLI_results\"]\n",
    "top=top[mli_filtered['PCE']==top['PCE'].max()]\n",
    "top_trace=go.Scatter(x=top['principal component 1'], y=top['principal component 2'], mode='markers',marker=dict(symbol='star', size=14, color='red'), name='<b>Best')\n",
    "\n",
    "tsne_fig.add_traces([graypoint_trace,initial_trace, mli_trace,top_trace])\n",
    "\n",
    "tsne_fig.update_layout(width = 700, height = 350, font=dict(family=\"Arial\",size=18), legend=dict(y=1.25, x = -0.01, orientation='h')) # General layout attributes\n",
    "tsne_fig.update_xaxes(title=\"<b>Component 1\")\n",
    "tsne_fig.update_yaxes(title=\"<b>Component 2\")\n",
    "tsne_fig.show()"
   ]
  },
  {
   "cell_type": "code",
   "execution_count": null,
   "metadata": {
    "scrolled": true
   },
   "outputs": [],
   "source": [
    "print(\"MU Results\")\n",
    "frames =[fp_df1, fp_df2]\n",
    "fp_df3 = pd.concat(frames, axis =1)\n",
    "from sklearn.decomposition import PCA\n",
    "pca3 = PCA(n_components=100,random_state=42)\n",
    "crds3 = pca3.fit_transform(fp_df3)\n",
    "print(np.sum(pca3.explained_variance_ratio_))\n",
    "from sklearn.manifold import TSNE\n",
    "c_tsne3= TSNE(n_components=2,random_state=42).fit_transform(crds3)\n",
    "c3 = pd.DataFrame(data = c_tsne3\n",
    "             , columns = ['principal component 1', 'principal component 2'])\n",
    "c3['D:A']=df['D:A']\n",
    "c3['PCE']=df['PCE']\n",
    "c3['Type']='Values'\n",
    "c3.loc[c3.index[mu_train_inds[:10]], 'Type'] = \"Train_dataset\"\n",
    "# c3.loc[c3.index[random_train_inds[10:21]], 'Type'] = \"Random_results\"\n",
    "# c3.loc[c3.index[mei_train_inds[10:35]], 'Type'] = \"MEI_results\"\n",
    "# c3.loc[c3.index[mli_train_inds[10:31]], 'Type'] = \"MLI_results\"\n",
    "c3.loc[c3.index[mu_train_inds[10:54]], 'Type'] = \"MU_results\"\n",
    "# c3.loc[c3.index[ucb_train_inds[10:21]], 'Type'] = \"UCB_results\"\n",
    "c3['count']=0\n",
    "c3.loc[c3.index[mu_train_inds[10:54]], 'count'] = results_mu['count_ID']\n",
    "c3=c3[c3.Type.isin(['MU_results','Values','Train_dataset'])]\n",
    "\n",
    "tsne_fig = go.Figure()\n",
    "graypoint_trace = go.Scatter(x=c3['principal component 1'], y=c3['principal component 2'], mode='markers', marker=dict(color='rgba(210,215,211,1)', size=18,line=dict(width=1, color='lightgray')),\n",
    "                             hovertemplate = '<b>D:A Pair:</b> <br>%{customdata} <br><br><b>PCE:</b> <br>%{text}<extra></extra>', text= c3['PCE'], customdata = c3['D:A'], name=\"<b>Values\")\n",
    "\n",
    "initial_filtered = c3[c3[\"Type\"]==\"Train_dataset\"]\n",
    "initial_trace = go.Scatter(x=initial_filtered['principal component 1'], y=initial_filtered['principal component 2'], mode='markers', marker=dict(color='black', size=18, line=dict(width=1)),\n",
    "                             hovertemplate = '<b>D:A Pair:</b> <br>%{customdata} <br><br><b>PCE:</b> <br>%{text}<extra></extra>', \n",
    "                           text= initial_filtered['PCE'], customdata = initial_filtered['D:A'], name=\"<b>Initial Dataset\")\n",
    "\n",
    "mu_filtered = c3[c3[\"Type\"]==\"MU_results\"]\n",
    "mu_trace = go.Scatter(x=mu_filtered['principal component 1'], y=mu_filtered['principal component 2'], mode='markers',\n",
    "                       marker=dict(color=mu_filtered['count'], size=20, line=dict(width=1), colorscale='Plasma', colorbar=dict(title={\"text\":\"<b>Test order\"})),\n",
    "                    hovertemplate = '<b>D:A Pair:</b> <br>%{customdata} <br><br><b>PCE:</b> <br>%{text}<extra></extra>', text= mu_filtered['PCE'], customdata = mu_filtered['D:A'], name=\"<b>MU Results\")\n",
    "\n",
    "top = c3[c3[\"Type\"]==\"MU_results\"]\n",
    "top=top[mu_filtered['PCE']==top['PCE'].max()]\n",
    "top_trace=go.Scatter(x=top['principal component 1'], y=top['principal component 2'], mode='markers',marker=dict(symbol='star', size=14, color='red'), name='<b>Best')\n",
    "\n",
    "tsne_fig.add_traces([graypoint_trace,initial_trace, mu_trace,top_trace])\n",
    "\n",
    "tsne_fig.update_layout(width = 700, height = 350, font=dict(family=\"Arial\",size=18), legend=dict(y=1.25, x = -0.01, orientation='h')) # General layout attributes\n",
    "tsne_fig.update_xaxes(title=\"<b>Component 1\")\n",
    "tsne_fig.update_yaxes(title=\"<b>Component 2\")\n",
    "tsne_fig.show()"
   ]
  },
  {
   "cell_type": "code",
   "execution_count": null,
   "metadata": {},
   "outputs": [],
   "source": [
    "print(\"UCB Results\")\n",
    "frames =[fp_df1, fp_df2]\n",
    "fp_df3 = pd.concat(frames, axis =1)\n",
    "from sklearn.decomposition import PCA\n",
    "pca3 = PCA(n_components=100,random_state=42)\n",
    "crds3 = pca3.fit_transform(fp_df3)\n",
    "print(np.sum(pca3.explained_variance_ratio_))\n",
    "from sklearn.manifold import TSNE\n",
    "c_tsne3= TSNE(n_components=2,random_state=42).fit_transform(crds3)\n",
    "c3 = pd.DataFrame(data = c_tsne3\n",
    "             , columns = ['principal component 1', 'principal component 2'])\n",
    "c3['D:A']=df['D:A']\n",
    "c3['PCE']=df['PCE']\n",
    "c3['Type']='Values'\n",
    "c3.loc[c3.index[ucb_train_inds[:10]], 'Type'] = \"Train_dataset\"\n",
    "# c3.loc[c3.index[random_train_inds[10:21]], 'Type'] = \"Random_results\"\n",
    "# c3.loc[c3.index[mei_train_inds[10:35]], 'Type'] = \"MEI_results\"\n",
    "# c3.loc[c3.index[mli_train_inds[10:31]], 'Type'] = \"MLI_results\"\n",
    "# c3.loc[c3.index[mu_train_inds[10:51]], 'Type'] = \"MU_results\"\n",
    "c3.loc[c3.index[ucb_train_inds[10:40]], 'Type'] = \"UCB_results\"\n",
    "c3['count']=0\n",
    "c3.loc[c3.index[ucb_train_inds[10:40]], 'count'] = results_ucb['count_ID']\n",
    "c3=c3[c3.Type.isin(['UCB_results','Values','Train_dataset'])]\n",
    "\n",
    "tsne_fig = go.Figure()\n",
    "graypoint_trace = go.Scatter(x=c3['principal component 1'], y=c3['principal component 2'], mode='markers', marker=dict(color='lightgray', size=18,line=dict(width=1, color='lightgray')),\n",
    "                             hovertemplate = '<b>D:A Pair:</b> <br>%{customdata} <br><br><b>PCE:</b> <br>%{text}<extra></extra>', text= c3['PCE'], customdata = c3['D:A'], name=\"<b>Values\")\n",
    "\n",
    "initial_filtered = c3[c3[\"Type\"]==\"Train_dataset\"]\n",
    "initial_trace = go.Scatter(x=initial_filtered['principal component 1'], y=initial_filtered['principal component 2'], mode='markers', marker=dict(color='black', size=18, line=dict(width=1)),\n",
    "                             hovertemplate = '<b>D:A Pair:</b> <br>%{customdata} <br><br><b>PCE:</b> <br>%{text}<extra></extra>', \n",
    "                           text= initial_filtered['PCE'], customdata = initial_filtered['D:A'], name=\"<b>Initial Dataset\")\n",
    "\n",
    "ucb_filtered = c3[c3[\"Type\"]==\"UCB_results\"]\n",
    "ucb_trace = go.Scatter(x=ucb_filtered['principal component 1'], y=ucb_filtered['principal component 2'], mode='markers',\n",
    "                       marker=dict(color=ucb_filtered['count'], size=20, line=dict(width=1), colorscale='Plasma', colorbar=dict(title={\"text\":\"<b>Test order\"})),\n",
    "                    hovertemplate = '<b>D:A Pair:</b> <br>%{customdata} <br><br><b>PCE:</b> <br>%{text}<extra></extra>', text= ucb_filtered['PCE'], customdata = ucb_filtered['D:A'], name=\"<b>UCB Results<b>\")\n",
    "\n",
    "top = c3[c3[\"Type\"]==\"UCB_results\"]\n",
    "top=top[ucb_filtered['PCE']==top['PCE'].max()]\n",
    "top_trace=go.Scatter(x=top['principal component 1'], y=top['principal component 2'], mode='markers',marker=dict(symbol='star', size=14, color='red'), name='<b>Best')\n",
    "\n",
    "tsne_fig.add_traces([graypoint_trace,initial_trace, ucb_trace,top_trace])\n",
    "\n",
    "tsne_fig.update_layout(width = 700, height = 350, font=dict(family=\"Arial\",size=18), legend=dict(y=1.25, x = -0.015, orientation='h')) # General layout attributes\n",
    "tsne_fig.update_xaxes(title=\"<b>Component 1\")\n",
    "tsne_fig.update_yaxes(title=\"<b>Component 2\")\n",
    "tsne_fig.show()"
   ]
  },
  {
   "cell_type": "code",
   "execution_count": null,
   "metadata": {},
   "outputs": [],
   "source": [
    "c3"
   ]
  },
  {
   "cell_type": "code",
   "execution_count": null,
   "metadata": {},
   "outputs": [],
   "source": [
    "# c3.to_csv('improve graph.csv')"
   ]
  },
  {
   "cell_type": "markdown",
   "metadata": {},
   "source": [
    "# Potential of active learning in lab based research"
   ]
  },
  {
   "cell_type": "code",
   "execution_count": null,
   "metadata": {},
   "outputs": [],
   "source": [
    "Donor=df[\"Donor_can_smiles\"].nunique()        # Number of distinct donors in our dataset\n",
    "Donor"
   ]
  },
  {
   "cell_type": "code",
   "execution_count": null,
   "metadata": {},
   "outputs": [],
   "source": [
    "Acceptor=df[\"Acceptor_can_smiles\"].nunique()    # Number of distinct acceptors in our dataset\n",
    "Acceptor"
   ]
  },
  {
   "cell_type": "markdown",
   "metadata": {},
   "source": [
    "# Total number of colmbinations that could be explored"
   ]
  },
  {
   "cell_type": "code",
   "execution_count": null,
   "metadata": {},
   "outputs": [],
   "source": [
    "Donor*Acceptor"
   ]
  },
  {
   "cell_type": "code",
   "execution_count": null,
   "metadata": {},
   "outputs": [],
   "source": []
  }
 ],
 "metadata": {
  "kernelspec": {
   "display_name": "Python 3",
   "language": "python",
   "name": "python3"
  },
  "language_info": {
   "codemirror_mode": {
    "name": "ipython",
    "version": 3
   },
   "file_extension": ".py",
   "mimetype": "text/x-python",
   "name": "python",
   "nbconvert_exporter": "python",
   "pygments_lexer": "ipython3",
   "version": "3.7.7"
  }
 },
 "nbformat": 4,
 "nbformat_minor": 2
}
